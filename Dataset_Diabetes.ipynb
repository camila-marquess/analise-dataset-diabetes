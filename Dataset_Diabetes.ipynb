{
  "nbformat": 4,
  "nbformat_minor": 0,
  "metadata": {
    "colab": {
      "name": "Dataset_Diabetes",
      "provenance": [],
      "collapsed_sections": [],
      "include_colab_link": true
    },
    "kernelspec": {
      "name": "python3",
      "display_name": "Python 3"
    }
  },
  "cells": [
    {
      "cell_type": "markdown",
      "metadata": {
        "id": "view-in-github",
        "colab_type": "text"
      },
      "source": [
        "<a href=\"https://colab.research.google.com/github/camila-marquess/analise-dataset-diabetes/blob/master/Dataset_Diabetes.ipynb\" target=\"_parent\"><img src=\"https://colab.research.google.com/assets/colab-badge.svg\" alt=\"Open In Colab\"/></a>"
      ]
    },
    {
      "cell_type": "markdown",
      "metadata": {
        "id": "BQJl8ml01Wra",
        "colab_type": "text"
      },
      "source": [
        "# **O dataset a ser analisado será o \"Pima Indians Diabetes Database\". O objetivo desta análise é classificar uma pessoa como diabética ou não a partir de algumas variáveis. Primeiramente, foi feita uma análise exploratória dos dados. Depois, foi feito o tratamento dos dados nulos e inserção de novas variáveis. Após isso, foi feito o modelo de árvore de decisão.**"
      ]
    },
    {
      "cell_type": "markdown",
      "metadata": {
        "id": "AYnwP98s_zgu",
        "colab_type": "text"
      },
      "source": [
        "# Importação das bibliotecas necessárias para a análise:"
      ]
    },
    {
      "cell_type": "code",
      "metadata": {
        "id": "4qTbv2oPCSBa",
        "colab_type": "code",
        "colab": {}
      },
      "source": [
        "import pandas as pd \n",
        "\n",
        "import matplotlib.pyplot as plt\n",
        "\n",
        "%matplotlib inline\n",
        "\n",
        "import seaborn as sns\n",
        "\n",
        "import numpy as np\n",
        "\n",
        "from scipy.stats import entropy"
      ],
      "execution_count": 0,
      "outputs": []
    },
    {
      "cell_type": "markdown",
      "metadata": {
        "id": "H3PgwKNO_40g",
        "colab_type": "text"
      },
      "source": [
        "# Leitura do dataset:"
      ]
    },
    {
      "cell_type": "code",
      "metadata": {
        "id": "1xGQG-4nFFT8",
        "colab_type": "code",
        "colab": {}
      },
      "source": [
        "df = pd.read_csv('/content/diabetes.csv')"
      ],
      "execution_count": 0,
      "outputs": []
    },
    {
      "cell_type": "markdown",
      "metadata": {
        "id": "6KAZb2Zv2Q3r",
        "colab_type": "text"
      },
      "source": [
        "# Explicação das variáveis:\n",
        "\n",
        "* Pregnancies: número de gestações.\n",
        "* Glucose: Concentração de glicose no plasma duas horas em um teste oral de tolerância à glicose.\n",
        "* Blood Pressure: Pressão Arterial.\n",
        "* Skin Thickness: Espessura da pele.\n",
        "* Insulin: Insulina.\n",
        "* BMI: Índice de Massa Corporal.\n",
        "* Diabetes Pedigree Function: Trata-se de uma função que pontua a probabilidade de diabetes com base no histórico familiar.\n",
        "* Age: Idade.\n",
        "* Outcome: Resultado, que está divido entre 0 - não tem diabetes e 1 - tem diabetes."
      ]
    },
    {
      "cell_type": "markdown",
      "metadata": {
        "id": "HrlPr_k_AWgX",
        "colab_type": "text"
      },
      "source": [
        "# **Análise Exploratória dos Dados**"
      ]
    },
    {
      "cell_type": "markdown",
      "metadata": {
        "id": "OAHuKcfq__cL",
        "colab_type": "text"
      },
      "source": [
        "# Verificando as 10 primeiras linhas do dataset:"
      ]
    },
    {
      "cell_type": "code",
      "metadata": {
        "id": "HDB11mWPFUTr",
        "colab_type": "code",
        "outputId": "c79349a1-08fa-492c-da48-64adc3a5e11c",
        "colab": {
          "base_uri": "https://localhost:8080/",
          "height": 363
        }
      },
      "source": [
        "df.head(10)"
      ],
      "execution_count": 0,
      "outputs": [
        {
          "output_type": "execute_result",
          "data": {
            "text/html": [
              "<div>\n",
              "<style scoped>\n",
              "    .dataframe tbody tr th:only-of-type {\n",
              "        vertical-align: middle;\n",
              "    }\n",
              "\n",
              "    .dataframe tbody tr th {\n",
              "        vertical-align: top;\n",
              "    }\n",
              "\n",
              "    .dataframe thead th {\n",
              "        text-align: right;\n",
              "    }\n",
              "</style>\n",
              "<table border=\"1\" class=\"dataframe\">\n",
              "  <thead>\n",
              "    <tr style=\"text-align: right;\">\n",
              "      <th></th>\n",
              "      <th>Pregnancies</th>\n",
              "      <th>Glucose</th>\n",
              "      <th>BloodPressure</th>\n",
              "      <th>SkinThickness</th>\n",
              "      <th>Insulin</th>\n",
              "      <th>BMI</th>\n",
              "      <th>DiabetesPedigreeFunction</th>\n",
              "      <th>Age</th>\n",
              "      <th>Outcome</th>\n",
              "    </tr>\n",
              "  </thead>\n",
              "  <tbody>\n",
              "    <tr>\n",
              "      <th>0</th>\n",
              "      <td>6</td>\n",
              "      <td>148</td>\n",
              "      <td>72</td>\n",
              "      <td>35</td>\n",
              "      <td>0</td>\n",
              "      <td>33.6</td>\n",
              "      <td>0.627</td>\n",
              "      <td>50</td>\n",
              "      <td>1</td>\n",
              "    </tr>\n",
              "    <tr>\n",
              "      <th>1</th>\n",
              "      <td>1</td>\n",
              "      <td>85</td>\n",
              "      <td>66</td>\n",
              "      <td>29</td>\n",
              "      <td>0</td>\n",
              "      <td>26.6</td>\n",
              "      <td>0.351</td>\n",
              "      <td>31</td>\n",
              "      <td>0</td>\n",
              "    </tr>\n",
              "    <tr>\n",
              "      <th>2</th>\n",
              "      <td>8</td>\n",
              "      <td>183</td>\n",
              "      <td>64</td>\n",
              "      <td>0</td>\n",
              "      <td>0</td>\n",
              "      <td>23.3</td>\n",
              "      <td>0.672</td>\n",
              "      <td>32</td>\n",
              "      <td>1</td>\n",
              "    </tr>\n",
              "    <tr>\n",
              "      <th>3</th>\n",
              "      <td>1</td>\n",
              "      <td>89</td>\n",
              "      <td>66</td>\n",
              "      <td>23</td>\n",
              "      <td>94</td>\n",
              "      <td>28.1</td>\n",
              "      <td>0.167</td>\n",
              "      <td>21</td>\n",
              "      <td>0</td>\n",
              "    </tr>\n",
              "    <tr>\n",
              "      <th>4</th>\n",
              "      <td>0</td>\n",
              "      <td>137</td>\n",
              "      <td>40</td>\n",
              "      <td>35</td>\n",
              "      <td>168</td>\n",
              "      <td>43.1</td>\n",
              "      <td>2.288</td>\n",
              "      <td>33</td>\n",
              "      <td>1</td>\n",
              "    </tr>\n",
              "    <tr>\n",
              "      <th>5</th>\n",
              "      <td>5</td>\n",
              "      <td>116</td>\n",
              "      <td>74</td>\n",
              "      <td>0</td>\n",
              "      <td>0</td>\n",
              "      <td>25.6</td>\n",
              "      <td>0.201</td>\n",
              "      <td>30</td>\n",
              "      <td>0</td>\n",
              "    </tr>\n",
              "    <tr>\n",
              "      <th>6</th>\n",
              "      <td>3</td>\n",
              "      <td>78</td>\n",
              "      <td>50</td>\n",
              "      <td>32</td>\n",
              "      <td>88</td>\n",
              "      <td>31.0</td>\n",
              "      <td>0.248</td>\n",
              "      <td>26</td>\n",
              "      <td>1</td>\n",
              "    </tr>\n",
              "    <tr>\n",
              "      <th>7</th>\n",
              "      <td>10</td>\n",
              "      <td>115</td>\n",
              "      <td>0</td>\n",
              "      <td>0</td>\n",
              "      <td>0</td>\n",
              "      <td>35.3</td>\n",
              "      <td>0.134</td>\n",
              "      <td>29</td>\n",
              "      <td>0</td>\n",
              "    </tr>\n",
              "    <tr>\n",
              "      <th>8</th>\n",
              "      <td>2</td>\n",
              "      <td>197</td>\n",
              "      <td>70</td>\n",
              "      <td>45</td>\n",
              "      <td>543</td>\n",
              "      <td>30.5</td>\n",
              "      <td>0.158</td>\n",
              "      <td>53</td>\n",
              "      <td>1</td>\n",
              "    </tr>\n",
              "    <tr>\n",
              "      <th>9</th>\n",
              "      <td>8</td>\n",
              "      <td>125</td>\n",
              "      <td>96</td>\n",
              "      <td>0</td>\n",
              "      <td>0</td>\n",
              "      <td>0.0</td>\n",
              "      <td>0.232</td>\n",
              "      <td>54</td>\n",
              "      <td>1</td>\n",
              "    </tr>\n",
              "  </tbody>\n",
              "</table>\n",
              "</div>"
            ],
            "text/plain": [
              "   Pregnancies  Glucose  BloodPressure  ...  DiabetesPedigreeFunction  Age  Outcome\n",
              "0            6      148             72  ...                     0.627   50        1\n",
              "1            1       85             66  ...                     0.351   31        0\n",
              "2            8      183             64  ...                     0.672   32        1\n",
              "3            1       89             66  ...                     0.167   21        0\n",
              "4            0      137             40  ...                     2.288   33        1\n",
              "5            5      116             74  ...                     0.201   30        0\n",
              "6            3       78             50  ...                     0.248   26        1\n",
              "7           10      115              0  ...                     0.134   29        0\n",
              "8            2      197             70  ...                     0.158   53        1\n",
              "9            8      125             96  ...                     0.232   54        1\n",
              "\n",
              "[10 rows x 9 columns]"
            ]
          },
          "metadata": {
            "tags": []
          },
          "execution_count": 197
        }
      ]
    },
    {
      "cell_type": "markdown",
      "metadata": {
        "id": "EnStR8S61sNK",
        "colab_type": "text"
      },
      "source": [
        "# Verificando o tamanho do dataset:"
      ]
    },
    {
      "cell_type": "code",
      "metadata": {
        "id": "DIDDLLjP1vJc",
        "colab_type": "code",
        "outputId": "741305b9-09b0-41dc-e4e0-bb25110d1c5b",
        "colab": {
          "base_uri": "https://localhost:8080/",
          "height": 35
        }
      },
      "source": [
        "df.shape"
      ],
      "execution_count": 0,
      "outputs": [
        {
          "output_type": "execute_result",
          "data": {
            "text/plain": [
              "(768, 9)"
            ]
          },
          "metadata": {
            "tags": []
          },
          "execution_count": 261
        }
      ]
    },
    {
      "cell_type": "markdown",
      "metadata": {
        "id": "hScc7IJ41x1k",
        "colab_type": "text"
      },
      "source": [
        "O dataset possui 768 linhas e 9 colunas."
      ]
    },
    {
      "cell_type": "markdown",
      "metadata": {
        "id": "Uw9iSvbHADs4",
        "colab_type": "text"
      },
      "source": [
        "# Verificando se o dataset possui valores nulos: "
      ]
    },
    {
      "cell_type": "code",
      "metadata": {
        "id": "7WZH09fdF5uM",
        "colab_type": "code",
        "outputId": "ac27fb39-0ee9-42d8-cfe1-5c54ae465c27",
        "colab": {
          "base_uri": "https://localhost:8080/",
          "height": 201
        }
      },
      "source": [
        "df.isna().sum()"
      ],
      "execution_count": 0,
      "outputs": [
        {
          "output_type": "execute_result",
          "data": {
            "text/plain": [
              "Pregnancies                 0\n",
              "Glucose                     0\n",
              "BloodPressure               0\n",
              "SkinThickness               0\n",
              "Insulin                     0\n",
              "BMI                         0\n",
              "DiabetesPedigreeFunction    0\n",
              "Age                         0\n",
              "Outcome                     0\n",
              "dtype: int64"
            ]
          },
          "metadata": {
            "tags": []
          },
          "execution_count": 199
        }
      ]
    },
    {
      "cell_type": "markdown",
      "metadata": {
        "id": "ocZtRsbXAJZ8",
        "colab_type": "text"
      },
      "source": [
        "Pode-se perceber que não há valores nulos no dataset."
      ]
    },
    {
      "cell_type": "markdown",
      "metadata": {
        "id": "agLklGMBq9qs",
        "colab_type": "text"
      },
      "source": [
        "# Verificando algumas informações do datatset:"
      ]
    },
    {
      "cell_type": "code",
      "metadata": {
        "id": "pI-9AhSPrAbj",
        "colab_type": "code",
        "outputId": "ee990d13-7787-4827-d810-606370f92c0b",
        "colab": {
          "base_uri": "https://localhost:8080/",
          "height": 311
        }
      },
      "source": [
        "df.info()"
      ],
      "execution_count": 0,
      "outputs": [
        {
          "output_type": "stream",
          "text": [
            "<class 'pandas.core.frame.DataFrame'>\n",
            "RangeIndex: 768 entries, 0 to 767\n",
            "Data columns (total 9 columns):\n",
            " #   Column                    Non-Null Count  Dtype  \n",
            "---  ------                    --------------  -----  \n",
            " 0   Pregnancies               768 non-null    int64  \n",
            " 1   Glucose                   768 non-null    int64  \n",
            " 2   BloodPressure             768 non-null    int64  \n",
            " 3   SkinThickness             768 non-null    int64  \n",
            " 4   Insulin                   768 non-null    int64  \n",
            " 5   BMI                       768 non-null    float64\n",
            " 6   DiabetesPedigreeFunction  768 non-null    float64\n",
            " 7   Age                       768 non-null    int64  \n",
            " 8   Outcome                   768 non-null    int64  \n",
            "dtypes: float64(2), int64(7)\n",
            "memory usage: 54.1 KB\n"
          ],
          "name": "stdout"
        }
      ]
    },
    {
      "cell_type": "markdown",
      "metadata": {
        "id": "qRUjJ-pkrIxj",
        "colab_type": "text"
      },
      "source": [
        "Os dados estão todos no formato certo, não havendo necessidade de transformá-los."
      ]
    },
    {
      "cell_type": "markdown",
      "metadata": {
        "id": "IqhuKDzrBUFR",
        "colab_type": "text"
      },
      "source": [
        "# Verificando algumas estatísticas descritivas do dataset:"
      ]
    },
    {
      "cell_type": "code",
      "metadata": {
        "id": "J6BEJpnfXI1p",
        "colab_type": "code",
        "outputId": "ced2db77-23a0-4512-be20-cdfe1af50e41",
        "colab": {
          "base_uri": "https://localhost:8080/",
          "height": 332
        }
      },
      "source": [
        "df.describe().transpose()"
      ],
      "execution_count": 0,
      "outputs": [
        {
          "output_type": "execute_result",
          "data": {
            "text/html": [
              "<div>\n",
              "<style scoped>\n",
              "    .dataframe tbody tr th:only-of-type {\n",
              "        vertical-align: middle;\n",
              "    }\n",
              "\n",
              "    .dataframe tbody tr th {\n",
              "        vertical-align: top;\n",
              "    }\n",
              "\n",
              "    .dataframe thead th {\n",
              "        text-align: right;\n",
              "    }\n",
              "</style>\n",
              "<table border=\"1\" class=\"dataframe\">\n",
              "  <thead>\n",
              "    <tr style=\"text-align: right;\">\n",
              "      <th></th>\n",
              "      <th>count</th>\n",
              "      <th>mean</th>\n",
              "      <th>std</th>\n",
              "      <th>min</th>\n",
              "      <th>25%</th>\n",
              "      <th>50%</th>\n",
              "      <th>75%</th>\n",
              "      <th>max</th>\n",
              "    </tr>\n",
              "  </thead>\n",
              "  <tbody>\n",
              "    <tr>\n",
              "      <th>Pregnancies</th>\n",
              "      <td>768.0</td>\n",
              "      <td>3.845052</td>\n",
              "      <td>3.369578</td>\n",
              "      <td>0.000</td>\n",
              "      <td>1.00000</td>\n",
              "      <td>3.0000</td>\n",
              "      <td>6.00000</td>\n",
              "      <td>17.00</td>\n",
              "    </tr>\n",
              "    <tr>\n",
              "      <th>Glucose</th>\n",
              "      <td>768.0</td>\n",
              "      <td>120.894531</td>\n",
              "      <td>31.972618</td>\n",
              "      <td>0.000</td>\n",
              "      <td>99.00000</td>\n",
              "      <td>117.0000</td>\n",
              "      <td>140.25000</td>\n",
              "      <td>199.00</td>\n",
              "    </tr>\n",
              "    <tr>\n",
              "      <th>BloodPressure</th>\n",
              "      <td>768.0</td>\n",
              "      <td>69.105469</td>\n",
              "      <td>19.355807</td>\n",
              "      <td>0.000</td>\n",
              "      <td>62.00000</td>\n",
              "      <td>72.0000</td>\n",
              "      <td>80.00000</td>\n",
              "      <td>122.00</td>\n",
              "    </tr>\n",
              "    <tr>\n",
              "      <th>SkinThickness</th>\n",
              "      <td>768.0</td>\n",
              "      <td>20.536458</td>\n",
              "      <td>15.952218</td>\n",
              "      <td>0.000</td>\n",
              "      <td>0.00000</td>\n",
              "      <td>23.0000</td>\n",
              "      <td>32.00000</td>\n",
              "      <td>99.00</td>\n",
              "    </tr>\n",
              "    <tr>\n",
              "      <th>Insulin</th>\n",
              "      <td>768.0</td>\n",
              "      <td>79.799479</td>\n",
              "      <td>115.244002</td>\n",
              "      <td>0.000</td>\n",
              "      <td>0.00000</td>\n",
              "      <td>30.5000</td>\n",
              "      <td>127.25000</td>\n",
              "      <td>846.00</td>\n",
              "    </tr>\n",
              "    <tr>\n",
              "      <th>BMI</th>\n",
              "      <td>768.0</td>\n",
              "      <td>31.992578</td>\n",
              "      <td>7.884160</td>\n",
              "      <td>0.000</td>\n",
              "      <td>27.30000</td>\n",
              "      <td>32.0000</td>\n",
              "      <td>36.60000</td>\n",
              "      <td>67.10</td>\n",
              "    </tr>\n",
              "    <tr>\n",
              "      <th>DiabetesPedigreeFunction</th>\n",
              "      <td>768.0</td>\n",
              "      <td>0.471876</td>\n",
              "      <td>0.331329</td>\n",
              "      <td>0.078</td>\n",
              "      <td>0.24375</td>\n",
              "      <td>0.3725</td>\n",
              "      <td>0.62625</td>\n",
              "      <td>2.42</td>\n",
              "    </tr>\n",
              "    <tr>\n",
              "      <th>Age</th>\n",
              "      <td>768.0</td>\n",
              "      <td>33.240885</td>\n",
              "      <td>11.760232</td>\n",
              "      <td>21.000</td>\n",
              "      <td>24.00000</td>\n",
              "      <td>29.0000</td>\n",
              "      <td>41.00000</td>\n",
              "      <td>81.00</td>\n",
              "    </tr>\n",
              "    <tr>\n",
              "      <th>Outcome</th>\n",
              "      <td>768.0</td>\n",
              "      <td>0.348958</td>\n",
              "      <td>0.476951</td>\n",
              "      <td>0.000</td>\n",
              "      <td>0.00000</td>\n",
              "      <td>0.0000</td>\n",
              "      <td>1.00000</td>\n",
              "      <td>1.00</td>\n",
              "    </tr>\n",
              "  </tbody>\n",
              "</table>\n",
              "</div>"
            ],
            "text/plain": [
              "                          count        mean  ...        75%     max\n",
              "Pregnancies               768.0    3.845052  ...    6.00000   17.00\n",
              "Glucose                   768.0  120.894531  ...  140.25000  199.00\n",
              "BloodPressure             768.0   69.105469  ...   80.00000  122.00\n",
              "SkinThickness             768.0   20.536458  ...   32.00000   99.00\n",
              "Insulin                   768.0   79.799479  ...  127.25000  846.00\n",
              "BMI                       768.0   31.992578  ...   36.60000   67.10\n",
              "DiabetesPedigreeFunction  768.0    0.471876  ...    0.62625    2.42\n",
              "Age                       768.0   33.240885  ...   41.00000   81.00\n",
              "Outcome                   768.0    0.348958  ...    1.00000    1.00\n",
              "\n",
              "[9 rows x 8 columns]"
            ]
          },
          "metadata": {
            "tags": []
          },
          "execution_count": 201
        }
      ]
    },
    {
      "cell_type": "markdown",
      "metadata": {
        "id": "MBuv69T6BwRC",
        "colab_type": "text"
      },
      "source": [
        "Dentre as pessoas da base, o máximo de gestações são 17 no dataset, e a idade máxima é de 81 anos.\n",
        "\n",
        "Porém, é possível perceber que há alguns dados que o valor mínimo é zero, mas que não há como esses valores serem zero. Por exemplo, de acordo com um site, os níveis de glicose são:\n",
        "\n",
        "*    Normal: inferior a 99 mg/dL;\n",
        "*   Pré-diabetes: entre 100 e 125 mg/dL;\n",
        "*   Diabetes: superior a 126 mg/dL em dois dias diferentes.\n",
        "\n",
        "Portanto, decidiu-se por considerar esses valores como valores nulos.\n",
        "  \n",
        "Fonte: https://www.tuasaude.com/exame-da-glicose/"
      ]
    },
    {
      "cell_type": "code",
      "metadata": {
        "id": "WV5XWir1Qv-2",
        "colab_type": "code",
        "colab": {}
      },
      "source": [
        "df[['Glucose','BloodPressure','SkinThickness','Insulin','BMI']] = df[['Glucose','BloodPressure','SkinThickness','Insulin','BMI']].replace(0,np.NaN)"
      ],
      "execution_count": 0,
      "outputs": []
    },
    {
      "cell_type": "markdown",
      "metadata": {
        "id": "Sk3Ns_kzrZBH",
        "colab_type": "text"
      },
      "source": [
        "# Verificando novamente os valores nulos no dataset: "
      ]
    },
    {
      "cell_type": "code",
      "metadata": {
        "id": "YLWV5JY5qvfP",
        "colab_type": "code",
        "outputId": "54b49122-226e-48b0-c0d1-1bd6fc3b0783",
        "colab": {
          "base_uri": "https://localhost:8080/",
          "height": 201
        }
      },
      "source": [
        "df.isna().sum()"
      ],
      "execution_count": 0,
      "outputs": [
        {
          "output_type": "execute_result",
          "data": {
            "text/plain": [
              "Pregnancies                   0\n",
              "Glucose                       5\n",
              "BloodPressure                35\n",
              "SkinThickness               227\n",
              "Insulin                     374\n",
              "BMI                          11\n",
              "DiabetesPedigreeFunction      0\n",
              "Age                           0\n",
              "Outcome                       0\n",
              "dtype: int64"
            ]
          },
          "metadata": {
            "tags": []
          },
          "execution_count": 13
        }
      ]
    },
    {
      "cell_type": "markdown",
      "metadata": {
        "id": "B_qRn7Uhream",
        "colab_type": "text"
      },
      "source": [
        "Agora o dataset tem 5 valores nulos em Glicose, 35 em Blood Pressure, 227 em Skin Thickness, 374 em Insulin e 11 em BMI. "
      ]
    },
    {
      "cell_type": "markdown",
      "metadata": {
        "id": "FncVYDhWruQl",
        "colab_type": "text"
      },
      "source": [
        "# Tratamento dos valores nulos:"
      ]
    },
    {
      "cell_type": "code",
      "metadata": {
        "id": "s9LEiX62r1jw",
        "colab_type": "code",
        "outputId": "05f22245-ae86-4f3c-bf49-b5974d52bf00",
        "colab": {
          "base_uri": "https://localhost:8080/",
          "height": 467
        }
      },
      "source": [
        "# Verificando a média, a mediana e a distribuição dos dados da variável Glucose:\n",
        "\n",
        "print(df.Glucose.mean())\n",
        "print(df.Glucose.median())\n",
        "print(df.Glucose.skew())\n",
        "\n",
        "plt.figure()\n",
        "plt.hist(df.Glucose)"
      ],
      "execution_count": 0,
      "outputs": [
        {
          "output_type": "stream",
          "text": [
            "121.6867627785059\n",
            "117.0\n",
            "0.5309885349396285\n"
          ],
          "name": "stdout"
        },
        {
          "output_type": "stream",
          "text": [
            "/usr/local/lib/python3.6/dist-packages/numpy/lib/histograms.py:839: RuntimeWarning: invalid value encountered in greater_equal\n",
            "  keep = (tmp_a >= first_edge)\n",
            "/usr/local/lib/python3.6/dist-packages/numpy/lib/histograms.py:840: RuntimeWarning: invalid value encountered in less_equal\n",
            "  keep &= (tmp_a <= last_edge)\n"
          ],
          "name": "stderr"
        },
        {
          "output_type": "execute_result",
          "data": {
            "text/plain": [
              "(array([  4.,  19.,  87., 149., 161., 125.,  88.,  54.,  44.,  32.]),\n",
              " array([ 44. ,  59.5,  75. ,  90.5, 106. , 121.5, 137. , 152.5, 168. ,\n",
              "        183.5, 199. ]),\n",
              " <a list of 10 Patch objects>)"
            ]
          },
          "metadata": {
            "tags": []
          },
          "execution_count": 204
        },
        {
          "output_type": "display_data",
          "data": {
            "image/png": "[encoded data removed]",
            "text/plain": [
              "<Figure size 432x288 with 1 Axes>"
            ]
          },
          "metadata": {
            "tags": [],
            "needs_background": "light"
          }
        }
      ]
    },
    {
      "cell_type": "markdown",
      "metadata": {
        "id": "uG-dmkOa4Rn3",
        "colab_type": "text"
      },
      "source": [
        "Na Glucose, será imputado a média nos valores nulos."
      ]
    },
    {
      "cell_type": "code",
      "metadata": {
        "id": "oPLMNiTstGtg",
        "colab_type": "code",
        "outputId": "2cd29e93-1f18-4776-8f58-ddbb96519fe3",
        "colab": {
          "base_uri": "https://localhost:8080/",
          "height": 467
        }
      },
      "source": [
        "# Verificando a média, a mediana e a distribuição dos dados da variável Blood Pressure:\n",
        "\n",
        "print(df.BloodPressure.mean())\n",
        "print(df.BloodPressure.median())\n",
        "print(df.BloodPressure.skew())\n",
        "\n",
        "plt.figure()\n",
        "plt.hist(df.BloodPressure)"
      ],
      "execution_count": 0,
      "outputs": [
        {
          "output_type": "stream",
          "text": [
            "72.40518417462484\n",
            "72.0\n",
            "0.13415273171959252\n"
          ],
          "name": "stdout"
        },
        {
          "output_type": "stream",
          "text": [
            "/usr/local/lib/python3.6/dist-packages/numpy/lib/histograms.py:839: RuntimeWarning: invalid value encountered in greater_equal\n",
            "  keep = (tmp_a >= first_edge)\n",
            "/usr/local/lib/python3.6/dist-packages/numpy/lib/histograms.py:840: RuntimeWarning: invalid value encountered in less_equal\n",
            "  keep &= (tmp_a <= last_edge)\n"
          ],
          "name": "stderr"
        },
        {
          "output_type": "execute_result",
          "data": {
            "text/plain": [
              "(array([  3.,   2.,  35., 118., 226., 214., 105.,  18.,  10.,   2.]),\n",
              " array([ 24. ,  33.8,  43.6,  53.4,  63.2,  73. ,  82.8,  92.6, 102.4,\n",
              "        112.2, 122. ]),\n",
              " <a list of 10 Patch objects>)"
            ]
          },
          "metadata": {
            "tags": []
          },
          "execution_count": 205
        },
        {
          "output_type": "display_data",
          "data": {
            "image/png": "[encoded data removed]",
            "text/plain": [
              "<Figure size 432x288 with 1 Axes>"
            ]
          },
          "metadata": {
            "tags": [],
            "needs_background": "light"
          }
        }
      ]
    },
    {
      "cell_type": "markdown",
      "metadata": {
        "id": "2_RbOrFx4brR",
        "colab_type": "text"
      },
      "source": [
        "Na variável Blood Pressure será imputadoa média nos valores nulos."
      ]
    },
    {
      "cell_type": "code",
      "metadata": {
        "id": "YaZsuvdKtnMJ",
        "colab_type": "code",
        "outputId": "f44a782f-e1d5-4209-9a84-f2d2f1c0e133",
        "colab": {
          "base_uri": "https://localhost:8080/",
          "height": 449
        }
      },
      "source": [
        "# Verificando a média, a mediana e a distribuição da variável Skin Thickness:\n",
        "\n",
        "print(df.SkinThickness.mean())\n",
        "print(df.SkinThickness.median())\n",
        "print(df.SkinThickness.skew())\n",
        "\n",
        "plt.figure()\n",
        "plt.hist(df.SkinThickness)"
      ],
      "execution_count": 0,
      "outputs": [
        {
          "output_type": "stream",
          "text": [
            "29.153419593345657\n",
            "29.0\n",
            "0.690619013984192\n"
          ],
          "name": "stdout"
        },
        {
          "output_type": "stream",
          "text": [
            "/usr/local/lib/python3.6/dist-packages/numpy/lib/histograms.py:839: RuntimeWarning: invalid value encountered in greater_equal\n",
            "  keep = (tmp_a >= first_edge)\n",
            "/usr/local/lib/python3.6/dist-packages/numpy/lib/histograms.py:840: RuntimeWarning: invalid value encountered in less_equal\n",
            "  keep &= (tmp_a <= last_edge)\n"
          ],
          "name": "stderr"
        },
        {
          "output_type": "execute_result",
          "data": {
            "text/plain": [
              "(array([ 59., 141., 181., 118.,  36.,   4.,   1.,   0.,   0.,   1.]),\n",
              " array([ 7. , 16.2, 25.4, 34.6, 43.8, 53. , 62.2, 71.4, 80.6, 89.8, 99. ]),\n",
              " <a list of 10 Patch objects>)"
            ]
          },
          "metadata": {
            "tags": []
          },
          "execution_count": 206
        },
        {
          "output_type": "display_data",
          "data": {
            "image/png": "[encoded data removed]",
            "text/plain": [
              "<Figure size 432x288 with 1 Axes>"
            ]
          },
          "metadata": {
            "tags": [],
            "needs_background": "light"
          }
        }
      ]
    },
    {
      "cell_type": "markdown",
      "metadata": {
        "id": "mFp-nKEO4wMC",
        "colab_type": "text"
      },
      "source": [
        "Na variável SkinThickness será imputado a mediana, pois a distribuição dos dados está à direita."
      ]
    },
    {
      "cell_type": "code",
      "metadata": {
        "id": "XIm_tk4auGn3",
        "colab_type": "code",
        "outputId": "3d6647af-a470-4b93-f120-6bfce7666dd0",
        "colab": {
          "base_uri": "https://localhost:8080/",
          "height": 467
        }
      },
      "source": [
        "# Verificando a média, a mediana e a distribuição da variável Insulin: \n",
        "\n",
        "print(df.Insulin.mean())\n",
        "print(df.Insulin.median())\n",
        "print(df.Insulin.skew())\n",
        "\n",
        "plt.figure()\n",
        "plt.hist(df.Insulin)"
      ],
      "execution_count": 0,
      "outputs": [
        {
          "output_type": "stream",
          "text": [
            "155.5482233502538\n",
            "125.0\n",
            "2.166463843812443\n"
          ],
          "name": "stdout"
        },
        {
          "output_type": "stream",
          "text": [
            "/usr/local/lib/python3.6/dist-packages/numpy/lib/histograms.py:839: RuntimeWarning: invalid value encountered in greater_equal\n",
            "  keep = (tmp_a >= first_edge)\n",
            "/usr/local/lib/python3.6/dist-packages/numpy/lib/histograms.py:840: RuntimeWarning: invalid value encountered in less_equal\n",
            "  keep &= (tmp_a <= last_edge)\n"
          ],
          "name": "stderr"
        },
        {
          "output_type": "execute_result",
          "data": {
            "text/plain": [
              "(array([142., 143.,  55.,  29.,   7.,  10.,   4.,   1.,   2.,   1.]),\n",
              " array([ 14. ,  97.2, 180.4, 263.6, 346.8, 430. , 513.2, 596.4, 679.6,\n",
              "        762.8, 846. ]),\n",
              " <a list of 10 Patch objects>)"
            ]
          },
          "metadata": {
            "tags": []
          },
          "execution_count": 207
        },
        {
          "output_type": "display_data",
          "data": {
            "image/png": "[encoded data removed]",
            "text/plain": [
              "<Figure size 432x288 with 1 Axes>"
            ]
          },
          "metadata": {
            "tags": [],
            "needs_background": "light"
          }
        }
      ]
    },
    {
      "cell_type": "markdown",
      "metadata": {
        "id": "cOOQDD655HSf",
        "colab_type": "text"
      },
      "source": [
        "Na variável Insulin será imputado a mediana, pois os dados estão distribuidos à direita."
      ]
    },
    {
      "cell_type": "code",
      "metadata": {
        "id": "rn5InKUHuloP",
        "colab_type": "code",
        "outputId": "316c38aa-9a41-4f25-fb16-df572b53716a",
        "colab": {
          "base_uri": "https://localhost:8080/",
          "height": 467
        }
      },
      "source": [
        "# Verificando a média, a mediana e a distribuição da variável BMI:\n",
        "\n",
        "print(df.BMI.mean())\n",
        "print(df.BMI.median())\n",
        "print(df.BMI.skew())\n",
        "\n",
        "plt.figure()\n",
        "plt.hist(df.BMI)"
      ],
      "execution_count": 0,
      "outputs": [
        {
          "output_type": "stream",
          "text": [
            "32.45746367239099\n",
            "32.3\n",
            "0.5939697505712673\n"
          ],
          "name": "stdout"
        },
        {
          "output_type": "stream",
          "text": [
            "/usr/local/lib/python3.6/dist-packages/numpy/lib/histograms.py:839: RuntimeWarning: invalid value encountered in greater_equal\n",
            "  keep = (tmp_a >= first_edge)\n",
            "/usr/local/lib/python3.6/dist-packages/numpy/lib/histograms.py:840: RuntimeWarning: invalid value encountered in less_equal\n",
            "  keep &= (tmp_a <= last_edge)\n"
          ],
          "name": "stderr"
        },
        {
          "output_type": "execute_result",
          "data": {
            "text/plain": [
              "(array([ 52., 161., 196., 193.,  91.,  48.,  10.,   4.,   1.,   1.]),\n",
              " array([18.2 , 23.09, 27.98, 32.87, 37.76, 42.65, 47.54, 52.43, 57.32,\n",
              "        62.21, 67.1 ]),\n",
              " <a list of 10 Patch objects>)"
            ]
          },
          "metadata": {
            "tags": []
          },
          "execution_count": 208
        },
        {
          "output_type": "display_data",
          "data": {
            "image/png": "[encoded data removed]",
            "text/plain": [
              "<Figure size 432x288 with 1 Axes>"
            ]
          },
          "metadata": {
            "tags": [],
            "needs_background": "light"
          }
        }
      ]
    },
    {
      "cell_type": "markdown",
      "metadata": {
        "id": "FHctQHhS57lL",
        "colab_type": "text"
      },
      "source": [
        "Na variável BMI será imputado a mediana nos valores nulos."
      ]
    },
    {
      "cell_type": "markdown",
      "metadata": {
        "id": "yyVpcf9P6Dga",
        "colab_type": "text"
      },
      "source": [
        "# Imputação de valores nos valores nulos:"
      ]
    },
    {
      "cell_type": "code",
      "metadata": {
        "id": "jIbGtZSs6PI_",
        "colab_type": "code",
        "colab": {}
      },
      "source": [
        "df['Glucose'].fillna(df['Glucose'].mean(), inplace = True)\n",
        "\n",
        "df['BloodPressure'].fillna(df['BloodPressure'].mean(), inplace = True)\n",
        "\n",
        "df['SkinThickness'].fillna(df['SkinThickness'].median(), inplace = True)\n",
        "\n",
        "df['Insulin'].fillna(df['Insulin'].median(), inplace = True)\n",
        "\n",
        "df['BMI'].fillna(df['BMI'].median(), inplace = True)"
      ],
      "execution_count": 0,
      "outputs": []
    },
    {
      "cell_type": "markdown",
      "metadata": {
        "id": "f5g73-8I8DYA",
        "colab_type": "text"
      },
      "source": [
        "Verificando se ainda há valores nulos no dataset:"
      ]
    },
    {
      "cell_type": "code",
      "metadata": {
        "id": "HjovOUA-7vbz",
        "colab_type": "code",
        "outputId": "a9f2652c-290f-441e-8bf1-4429de77b78b",
        "colab": {
          "base_uri": "https://localhost:8080/",
          "height": 201
        }
      },
      "source": [
        "df.isna().sum()"
      ],
      "execution_count": 0,
      "outputs": [
        {
          "output_type": "execute_result",
          "data": {
            "text/plain": [
              "Pregnancies                 0\n",
              "Glucose                     0\n",
              "BloodPressure               0\n",
              "SkinThickness               0\n",
              "Insulin                     0\n",
              "BMI                         0\n",
              "DiabetesPedigreeFunction    0\n",
              "Age                         0\n",
              "Outcome                     0\n",
              "dtype: int64"
            ]
          },
          "metadata": {
            "tags": []
          },
          "execution_count": 15
        }
      ]
    },
    {
      "cell_type": "markdown",
      "metadata": {
        "id": "DIAw2QLjroCr",
        "colab_type": "text"
      },
      "source": [
        "# Histograma da quantidade de mulheres que têm diabtes e mulheres que não têm: "
      ]
    },
    {
      "cell_type": "code",
      "metadata": {
        "id": "Ep8cnUh3h0G9",
        "colab_type": "code",
        "outputId": "b79f8558-d643-40a7-dbc1-08f1a927665f",
        "colab": {
          "base_uri": "https://localhost:8080/",
          "height": 72
        }
      },
      "source": [
        "df.Outcome.value_counts()"
      ],
      "execution_count": 0,
      "outputs": [
        {
          "output_type": "execute_result",
          "data": {
            "text/plain": [
              "0    500\n",
              "1    268\n",
              "Name: Outcome, dtype: int64"
            ]
          },
          "metadata": {
            "tags": []
          },
          "execution_count": 211
        }
      ]
    },
    {
      "cell_type": "code",
      "metadata": {
        "id": "cd7c-7qhru_V",
        "colab_type": "code",
        "outputId": "ebeaddde-3841-4e6a-cd99-989d6501fe4e",
        "colab": {
          "base_uri": "https://localhost:8080/",
          "height": 279
        }
      },
      "source": [
        "sns.countplot(x = 'Outcome', data = df)\n",
        "plt.show()"
      ],
      "execution_count": 0,
      "outputs": [
        {
          "output_type": "display_data",
          "data": {
            "image/png": "[encoded data removed]",
            "text/plain": [
              "<Figure size 432x288 with 1 Axes>"
            ]
          },
          "metadata": {
            "tags": [],
            "needs_background": "light"
          }
        }
      ]
    },
    {
      "cell_type": "markdown",
      "metadata": {
        "id": "wfNfKvLzh2qe",
        "colab_type": "text"
      },
      "source": [
        "NO dataset, 500 mulheres não têm diabetes e 268 têm. Por meio do histograma também é possível perceber que há mais mulheres que não têm diabetes do que mulheres que têm a doença."
      ]
    },
    {
      "cell_type": "markdown",
      "metadata": {
        "id": "fXyfOwY3DK8i",
        "colab_type": "text"
      },
      "source": [
        "# Mulheres que tiveram mais gestações, são as que mais têm diabetes? "
      ]
    },
    {
      "cell_type": "code",
      "metadata": {
        "id": "TVpm_v-2CtMF",
        "colab_type": "code",
        "outputId": "b11f8a8a-e60d-4757-bffc-a9636bb27b88",
        "colab": {
          "base_uri": "https://localhost:8080/",
          "height": 551
        }
      },
      "source": [
        "(\n",
        "    df[(df['Outcome'] == 1) & (df['Pregnancies'] > 0)]\n",
        "    .groupby('Pregnancies').Outcome.count().reset_index()\n",
        "    .rename(columns={'Outcome':'Quantidade de Mulheres','Pregnancies':'Quantidade de Gestações'})\n",
        "\n",
        ")"
      ],
      "execution_count": 0,
      "outputs": [
        {
          "output_type": "execute_result",
          "data": {
            "text/html": [
              "<div>\n",
              "<style scoped>\n",
              "    .dataframe tbody tr th:only-of-type {\n",
              "        vertical-align: middle;\n",
              "    }\n",
              "\n",
              "    .dataframe tbody tr th {\n",
              "        vertical-align: top;\n",
              "    }\n",
              "\n",
              "    .dataframe thead th {\n",
              "        text-align: right;\n",
              "    }\n",
              "</style>\n",
              "<table border=\"1\" class=\"dataframe\">\n",
              "  <thead>\n",
              "    <tr style=\"text-align: right;\">\n",
              "      <th></th>\n",
              "      <th>Quantidade de Gestações</th>\n",
              "      <th>Quantidade de Mulheres</th>\n",
              "    </tr>\n",
              "  </thead>\n",
              "  <tbody>\n",
              "    <tr>\n",
              "      <th>0</th>\n",
              "      <td>1</td>\n",
              "      <td>29</td>\n",
              "    </tr>\n",
              "    <tr>\n",
              "      <th>1</th>\n",
              "      <td>2</td>\n",
              "      <td>19</td>\n",
              "    </tr>\n",
              "    <tr>\n",
              "      <th>2</th>\n",
              "      <td>3</td>\n",
              "      <td>27</td>\n",
              "    </tr>\n",
              "    <tr>\n",
              "      <th>3</th>\n",
              "      <td>4</td>\n",
              "      <td>23</td>\n",
              "    </tr>\n",
              "    <tr>\n",
              "      <th>4</th>\n",
              "      <td>5</td>\n",
              "      <td>21</td>\n",
              "    </tr>\n",
              "    <tr>\n",
              "      <th>5</th>\n",
              "      <td>6</td>\n",
              "      <td>16</td>\n",
              "    </tr>\n",
              "    <tr>\n",
              "      <th>6</th>\n",
              "      <td>7</td>\n",
              "      <td>25</td>\n",
              "    </tr>\n",
              "    <tr>\n",
              "      <th>7</th>\n",
              "      <td>8</td>\n",
              "      <td>22</td>\n",
              "    </tr>\n",
              "    <tr>\n",
              "      <th>8</th>\n",
              "      <td>9</td>\n",
              "      <td>18</td>\n",
              "    </tr>\n",
              "    <tr>\n",
              "      <th>9</th>\n",
              "      <td>10</td>\n",
              "      <td>10</td>\n",
              "    </tr>\n",
              "    <tr>\n",
              "      <th>10</th>\n",
              "      <td>11</td>\n",
              "      <td>7</td>\n",
              "    </tr>\n",
              "    <tr>\n",
              "      <th>11</th>\n",
              "      <td>12</td>\n",
              "      <td>4</td>\n",
              "    </tr>\n",
              "    <tr>\n",
              "      <th>12</th>\n",
              "      <td>13</td>\n",
              "      <td>5</td>\n",
              "    </tr>\n",
              "    <tr>\n",
              "      <th>13</th>\n",
              "      <td>14</td>\n",
              "      <td>2</td>\n",
              "    </tr>\n",
              "    <tr>\n",
              "      <th>14</th>\n",
              "      <td>15</td>\n",
              "      <td>1</td>\n",
              "    </tr>\n",
              "    <tr>\n",
              "      <th>15</th>\n",
              "      <td>17</td>\n",
              "      <td>1</td>\n",
              "    </tr>\n",
              "  </tbody>\n",
              "</table>\n",
              "</div>"
            ],
            "text/plain": [
              "    Quantidade de Gestações  Quantidade de Mulheres\n",
              "0                         1                      29\n",
              "1                         2                      19\n",
              "2                         3                      27\n",
              "3                         4                      23\n",
              "4                         5                      21\n",
              "5                         6                      16\n",
              "6                         7                      25\n",
              "7                         8                      22\n",
              "8                         9                      18\n",
              "9                        10                      10\n",
              "10                       11                       7\n",
              "11                       12                       4\n",
              "12                       13                       5\n",
              "13                       14                       2\n",
              "14                       15                       1\n",
              "15                       17                       1"
            ]
          },
          "metadata": {
            "tags": []
          },
          "execution_count": 213
        }
      ]
    },
    {
      "cell_type": "markdown",
      "metadata": {
        "id": "IPztj3jaFYhI",
        "colab_type": "text"
      },
      "source": [
        "De acordo com os dados do dataset, 230 mulheres que tiveram gestações apresentaram diabetes."
      ]
    },
    {
      "cell_type": "markdown",
      "metadata": {
        "id": "RBh_o9NeGvZ5",
        "colab_type": "text"
      },
      "source": [
        "# Verificando o número de mulheres que tiveram gestações e não apresentaram diabetes:"
      ]
    },
    {
      "cell_type": "code",
      "metadata": {
        "id": "QWyPysiaEKIy",
        "colab_type": "code",
        "outputId": "103e4b32-278a-4fcc-9098-8f000cbc12b8",
        "colab": {
          "base_uri": "https://localhost:8080/",
          "height": 457
        }
      },
      "source": [
        "(\n",
        "    df[(df['Outcome'] == 0) & (df['Pregnancies'] > 0)]\n",
        "    .groupby('Pregnancies').Outcome.count().reset_index()\n",
        "    .rename(columns={'Pregnancies':'Quantidade de Gestações','Outcome':'Quantidade de Mulheres'})\n",
        ")"
      ],
      "execution_count": 0,
      "outputs": [
        {
          "output_type": "execute_result",
          "data": {
            "text/html": [
              "<div>\n",
              "<style scoped>\n",
              "    .dataframe tbody tr th:only-of-type {\n",
              "        vertical-align: middle;\n",
              "    }\n",
              "\n",
              "    .dataframe tbody tr th {\n",
              "        vertical-align: top;\n",
              "    }\n",
              "\n",
              "    .dataframe thead th {\n",
              "        text-align: right;\n",
              "    }\n",
              "</style>\n",
              "<table border=\"1\" class=\"dataframe\">\n",
              "  <thead>\n",
              "    <tr style=\"text-align: right;\">\n",
              "      <th></th>\n",
              "      <th>Quantidade de Gestações</th>\n",
              "      <th>Quantidade de Mulheres</th>\n",
              "    </tr>\n",
              "  </thead>\n",
              "  <tbody>\n",
              "    <tr>\n",
              "      <th>0</th>\n",
              "      <td>1</td>\n",
              "      <td>106</td>\n",
              "    </tr>\n",
              "    <tr>\n",
              "      <th>1</th>\n",
              "      <td>2</td>\n",
              "      <td>84</td>\n",
              "    </tr>\n",
              "    <tr>\n",
              "      <th>2</th>\n",
              "      <td>3</td>\n",
              "      <td>48</td>\n",
              "    </tr>\n",
              "    <tr>\n",
              "      <th>3</th>\n",
              "      <td>4</td>\n",
              "      <td>45</td>\n",
              "    </tr>\n",
              "    <tr>\n",
              "      <th>4</th>\n",
              "      <td>5</td>\n",
              "      <td>36</td>\n",
              "    </tr>\n",
              "    <tr>\n",
              "      <th>5</th>\n",
              "      <td>6</td>\n",
              "      <td>34</td>\n",
              "    </tr>\n",
              "    <tr>\n",
              "      <th>6</th>\n",
              "      <td>7</td>\n",
              "      <td>20</td>\n",
              "    </tr>\n",
              "    <tr>\n",
              "      <th>7</th>\n",
              "      <td>8</td>\n",
              "      <td>16</td>\n",
              "    </tr>\n",
              "    <tr>\n",
              "      <th>8</th>\n",
              "      <td>9</td>\n",
              "      <td>10</td>\n",
              "    </tr>\n",
              "    <tr>\n",
              "      <th>9</th>\n",
              "      <td>10</td>\n",
              "      <td>14</td>\n",
              "    </tr>\n",
              "    <tr>\n",
              "      <th>10</th>\n",
              "      <td>11</td>\n",
              "      <td>4</td>\n",
              "    </tr>\n",
              "    <tr>\n",
              "      <th>11</th>\n",
              "      <td>12</td>\n",
              "      <td>5</td>\n",
              "    </tr>\n",
              "    <tr>\n",
              "      <th>12</th>\n",
              "      <td>13</td>\n",
              "      <td>5</td>\n",
              "    </tr>\n",
              "  </tbody>\n",
              "</table>\n",
              "</div>"
            ],
            "text/plain": [
              "    Quantidade de Gestações  Quantidade de Mulheres\n",
              "0                         1                     106\n",
              "1                         2                      84\n",
              "2                         3                      48\n",
              "3                         4                      45\n",
              "4                         5                      36\n",
              "5                         6                      34\n",
              "6                         7                      20\n",
              "7                         8                      16\n",
              "8                         9                      10\n",
              "9                        10                      14\n",
              "10                       11                       4\n",
              "11                       12                       5\n",
              "12                       13                       5"
            ]
          },
          "metadata": {
            "tags": []
          },
          "execution_count": 214
        }
      ]
    },
    {
      "cell_type": "markdown",
      "metadata": {
        "id": "Qx2o8OT2HL2Q",
        "colab_type": "text"
      },
      "source": [
        "O número de mulheres que tiveram gestações e não apresentaram diabetes é maior (427) que o número de mulheres que tiveram gestações e apresentaram diabetes."
      ]
    },
    {
      "cell_type": "markdown",
      "metadata": {
        "id": "lUiSmcTcQ13Q",
        "colab_type": "text"
      },
      "source": [
        "# Verificando a quantidade de mulheres que não tiveram gestações e apresentaram diabetes:"
      ]
    },
    {
      "cell_type": "code",
      "metadata": {
        "id": "6nA84JdDQ8tA",
        "colab_type": "code",
        "outputId": "811b6234-3a3d-4570-b0cb-a60d5d406401",
        "colab": {
          "base_uri": "https://localhost:8080/",
          "height": 81
        }
      },
      "source": [
        "(\n",
        "    df[(df.Pregnancies == 0) & (df.Outcome == 1)]\n",
        "    .groupby('Pregnancies').Outcome.count().reset_index()\n",
        "    .rename(columns={'Pregnancies':'Quantidade de Gestações','Outcome':'Quantidade de Mulheres'})\n",
        ")"
      ],
      "execution_count": 0,
      "outputs": [
        {
          "output_type": "execute_result",
          "data": {
            "text/html": [
              "<div>\n",
              "<style scoped>\n",
              "    .dataframe tbody tr th:only-of-type {\n",
              "        vertical-align: middle;\n",
              "    }\n",
              "\n",
              "    .dataframe tbody tr th {\n",
              "        vertical-align: top;\n",
              "    }\n",
              "\n",
              "    .dataframe thead th {\n",
              "        text-align: right;\n",
              "    }\n",
              "</style>\n",
              "<table border=\"1\" class=\"dataframe\">\n",
              "  <thead>\n",
              "    <tr style=\"text-align: right;\">\n",
              "      <th></th>\n",
              "      <th>Quantidade de Gestações</th>\n",
              "      <th>Quantidade de Mulheres</th>\n",
              "    </tr>\n",
              "  </thead>\n",
              "  <tbody>\n",
              "    <tr>\n",
              "      <th>0</th>\n",
              "      <td>0</td>\n",
              "      <td>38</td>\n",
              "    </tr>\n",
              "  </tbody>\n",
              "</table>\n",
              "</div>"
            ],
            "text/plain": [
              "   Quantidade de Gestações  Quantidade de Mulheres\n",
              "0                        0                      38"
            ]
          },
          "metadata": {
            "tags": []
          },
          "execution_count": 215
        }
      ]
    },
    {
      "cell_type": "markdown",
      "metadata": {
        "id": "7UK79IJtQ_UU",
        "colab_type": "text"
      },
      "source": [
        "Somente 38 mulheres que não tiveram gestações também não tiveram diabetes."
      ]
    },
    {
      "cell_type": "markdown",
      "metadata": {
        "id": "fX0C0az3RFcl",
        "colab_type": "text"
      },
      "source": [
        "# Verificando a quantidade de mulheres que não tiveram gestações e não apresentaram diabetes:"
      ]
    },
    {
      "cell_type": "code",
      "metadata": {
        "id": "MOdiTZb9RPgI",
        "colab_type": "code",
        "outputId": "83197743-0577-4e19-9f38-44b77757f74e",
        "colab": {
          "base_uri": "https://localhost:8080/",
          "height": 81
        }
      },
      "source": [
        "(\n",
        "    df[(df.Pregnancies == 0) & (df.Outcome == 0)]\n",
        "    .groupby('Pregnancies').Outcome.count().reset_index()\n",
        "    .rename(columns={'Pregnancies':'Quantidade de Gestações','Outcome':'Quantidade de Mulheres'})\n",
        ")"
      ],
      "execution_count": 0,
      "outputs": [
        {
          "output_type": "execute_result",
          "data": {
            "text/html": [
              "<div>\n",
              "<style scoped>\n",
              "    .dataframe tbody tr th:only-of-type {\n",
              "        vertical-align: middle;\n",
              "    }\n",
              "\n",
              "    .dataframe tbody tr th {\n",
              "        vertical-align: top;\n",
              "    }\n",
              "\n",
              "    .dataframe thead th {\n",
              "        text-align: right;\n",
              "    }\n",
              "</style>\n",
              "<table border=\"1\" class=\"dataframe\">\n",
              "  <thead>\n",
              "    <tr style=\"text-align: right;\">\n",
              "      <th></th>\n",
              "      <th>Quantidade de Gestações</th>\n",
              "      <th>Quantidade de Mulheres</th>\n",
              "    </tr>\n",
              "  </thead>\n",
              "  <tbody>\n",
              "    <tr>\n",
              "      <th>0</th>\n",
              "      <td>0</td>\n",
              "      <td>73</td>\n",
              "    </tr>\n",
              "  </tbody>\n",
              "</table>\n",
              "</div>"
            ],
            "text/plain": [
              "   Quantidade de Gestações  Quantidade de Mulheres\n",
              "0                        0                      73"
            ]
          },
          "metadata": {
            "tags": []
          },
          "execution_count": 216
        }
      ]
    },
    {
      "cell_type": "markdown",
      "metadata": {
        "id": "KSif9pSPUTHn",
        "colab_type": "text"
      },
      "source": [
        "A quantidade de mulheres que não tiveram gestações e não apresentaram diabetes é maior, são 73 mulheres."
      ]
    },
    {
      "cell_type": "markdown",
      "metadata": {
        "id": "3CdixFUCK7b2",
        "colab_type": "text"
      },
      "source": [
        "# Será que as mulheres que tiveram gestações e têm mais de 30 anos são as que mais têm diabetes?"
      ]
    },
    {
      "cell_type": "code",
      "metadata": {
        "id": "_pLE238KGqUP",
        "colab_type": "code",
        "outputId": "6ce63e01-6f09-4c2c-e237-013646442e96",
        "colab": {
          "base_uri": "https://localhost:8080/",
          "height": 112
        }
      },
      "source": [
        "(\n",
        "    df[(df['Pregnancies'] > 0 ) & (df['Age'] > 30)]\n",
        "    .groupby('Outcome').Pregnancies.count()\n",
        "    .reset_index()\n",
        ")"
      ],
      "execution_count": 0,
      "outputs": [
        {
          "output_type": "execute_result",
          "data": {
            "text/html": [
              "<div>\n",
              "<style scoped>\n",
              "    .dataframe tbody tr th:only-of-type {\n",
              "        vertical-align: middle;\n",
              "    }\n",
              "\n",
              "    .dataframe tbody tr th {\n",
              "        vertical-align: top;\n",
              "    }\n",
              "\n",
              "    .dataframe thead th {\n",
              "        text-align: right;\n",
              "    }\n",
              "</style>\n",
              "<table border=\"1\" class=\"dataframe\">\n",
              "  <thead>\n",
              "    <tr style=\"text-align: right;\">\n",
              "      <th></th>\n",
              "      <th>Outcome</th>\n",
              "      <th>Pregnancies</th>\n",
              "    </tr>\n",
              "  </thead>\n",
              "  <tbody>\n",
              "    <tr>\n",
              "      <th>0</th>\n",
              "      <td>0</td>\n",
              "      <td>161</td>\n",
              "    </tr>\n",
              "    <tr>\n",
              "      <th>1</th>\n",
              "      <td>1</td>\n",
              "      <td>167</td>\n",
              "    </tr>\n",
              "  </tbody>\n",
              "</table>\n",
              "</div>"
            ],
            "text/plain": [
              "   Outcome  Pregnancies\n",
              "0        0          161\n",
              "1        1          167"
            ]
          },
          "metadata": {
            "tags": []
          },
          "execution_count": 217
        }
      ]
    },
    {
      "cell_type": "markdown",
      "metadata": {
        "id": "w7T9afOlLYC_",
        "colab_type": "text"
      },
      "source": [
        "A diferença é apenas de 6 mulheres, mas o número de mulheres que tiveram gestações e têm mais de 30 anos e apresentou diabetes foi maior. "
      ]
    },
    {
      "cell_type": "markdown",
      "metadata": {
        "id": "i6va38ipguDn",
        "colab_type": "text"
      },
      "source": [
        "# Verificando a pressão arterial quando a pessoa tem diabetes e quando ela não tem diabetes: "
      ]
    },
    {
      "cell_type": "code",
      "metadata": {
        "id": "DElto9hbXedC",
        "colab_type": "code",
        "outputId": "d714dd31-6ef4-4bd0-fa6e-a7baf9c9cfe3",
        "colab": {
          "base_uri": "https://localhost:8080/",
          "height": 72
        }
      },
      "source": [
        "(\n",
        "    df[df.Outcome == 1]\n",
        "    .groupby('Outcome').BloodPressure.agg('mean')\n",
        ")"
      ],
      "execution_count": 0,
      "outputs": [
        {
          "output_type": "execute_result",
          "data": {
            "text/plain": [
              "Outcome\n",
              "1    75.147324\n",
              "Name: BloodPressure, dtype: float64"
            ]
          },
          "metadata": {
            "tags": []
          },
          "execution_count": 218
        }
      ]
    },
    {
      "cell_type": "code",
      "metadata": {
        "id": "Z1jlpfpZgpD6",
        "colab_type": "code",
        "outputId": "e8215168-f693-4b09-e4d2-a95734881745",
        "colab": {
          "base_uri": "https://localhost:8080/",
          "height": 72
        }
      },
      "source": [
        "(\n",
        "    df[df.Outcome == 0]\n",
        "    .groupby('Outcome').BloodPressure.agg('mean')\n",
        ")"
      ],
      "execution_count": 0,
      "outputs": [
        {
          "output_type": "execute_result",
          "data": {
            "text/plain": [
              "Outcome\n",
              "0    70.935397\n",
              "Name: BloodPressure, dtype: float64"
            ]
          },
          "metadata": {
            "tags": []
          },
          "execution_count": 219
        }
      ]
    },
    {
      "cell_type": "markdown",
      "metadata": {
        "id": "2oNIxHCLT-M1",
        "colab_type": "text"
      },
      "source": [
        "Pode-se perceber que, em média, a pressão arterial de mulheres que têm diabetes é maior que as mulheres que não têm."
      ]
    },
    {
      "cell_type": "markdown",
      "metadata": {
        "id": "IdMaH3sKMYZV",
        "colab_type": "text"
      },
      "source": [
        "# Verificando o BMI de mulheres que têm diabetes e de mulheres que não têm:"
      ]
    },
    {
      "cell_type": "code",
      "metadata": {
        "id": "VF1uoXVALGwc",
        "colab_type": "code",
        "outputId": "c1eedfd0-f31e-47ec-d2da-e39af990e9db",
        "colab": {
          "base_uri": "https://localhost:8080/",
          "height": 72
        }
      },
      "source": [
        "(\n",
        "    df[df.Outcome == 1]\n",
        "    .groupby('Outcome').BMI.agg('mean')\n",
        ")"
      ],
      "execution_count": 0,
      "outputs": [
        {
          "output_type": "execute_result",
          "data": {
            "text/plain": [
              "Outcome\n",
              "1    35.383582\n",
              "Name: BMI, dtype: float64"
            ]
          },
          "metadata": {
            "tags": []
          },
          "execution_count": 220
        }
      ]
    },
    {
      "cell_type": "code",
      "metadata": {
        "id": "0IWhi2yWLvBW",
        "colab_type": "code",
        "outputId": "c784d8cc-c1bf-4f3e-b0ab-fb73fb58d1fa",
        "colab": {
          "base_uri": "https://localhost:8080/",
          "height": 72
        }
      },
      "source": [
        "(\n",
        "    df[df.Outcome == 0]\n",
        "    .groupby('Outcome').BMI.agg('mean')\n",
        ")"
      ],
      "execution_count": 0,
      "outputs": [
        {
          "output_type": "execute_result",
          "data": {
            "text/plain": [
              "Outcome\n",
              "0    30.8856\n",
              "Name: BMI, dtype: float64"
            ]
          },
          "metadata": {
            "tags": []
          },
          "execution_count": 221
        }
      ]
    },
    {
      "cell_type": "markdown",
      "metadata": {
        "id": "kwtrFkthU-3d",
        "colab_type": "text"
      },
      "source": [
        "Mulheres que têm diabetes, em média, têm o BMI mais alto."
      ]
    },
    {
      "cell_type": "markdown",
      "metadata": {
        "id": "_4iXIEB39bOt",
        "colab_type": "text"
      },
      "source": [
        "# Verificando a correlação entre as variáveis explicativas com a variável resposta - neste caso, Outcome."
      ]
    },
    {
      "cell_type": "code",
      "metadata": {
        "id": "1nc-lQ8uj8Qu",
        "colab_type": "code",
        "outputId": "9d642445-352d-460d-d86a-97306fcd9ef3",
        "colab": {
          "base_uri": "https://localhost:8080/",
          "height": 662
        }
      },
      "source": [
        "plt.figure(figsize = (15,9))\n",
        "sns.heatmap(df.corr(), annot = True, vmin = - 1 , vmax = 1, cmap = 'coolwarm')\n",
        "plt.show()"
      ],
      "execution_count": 0,
      "outputs": [
        {
          "output_type": "display_data",
          "data": {
            "image/png": "[encoded data removed]",
            "text/plain": [
              "<Figure size 1080x648 with 2 Axes>"
            ]
          },
          "metadata": {
            "tags": [],
            "needs_background": "light"
          }
        }
      ]
    },
    {
      "cell_type": "markdown",
      "metadata": {
        "id": "AvyeC0ovkZ9e",
        "colab_type": "text"
      },
      "source": [
        "As variáveis: Pregnancies, Blood Pressure, Skin Thickness, Insulin, BMI, Diabetes Pedigree Function, Age e Pregnant têm uma correlação considerada baixa mas positiva com a variável resposta (Outcome). A variável que apresentou a correlação mais forte foi a Glucose. "
      ]
    },
    {
      "cell_type": "markdown",
      "metadata": {
        "id": "JHHPOuDB2yQO",
        "colab_type": "text"
      },
      "source": [
        "# **Aplicando o Modelo de Classificação: Decision Tree**"
      ]
    },
    {
      "cell_type": "markdown",
      "metadata": {
        "id": "V0l8cFTq298l",
        "colab_type": "text"
      },
      "source": [
        "# Importando as bibliotecas necessárias:"
      ]
    },
    {
      "cell_type": "code",
      "metadata": {
        "id": "sEPtrAlxIDzB",
        "colab_type": "code",
        "colab": {}
      },
      "source": [
        "from sklearn.tree import DecisionTreeClassifier, export_graphviz\n",
        "\n",
        "from sklearn.model_selection import train_test_split"
      ],
      "execution_count": 0,
      "outputs": []
    },
    {
      "cell_type": "markdown",
      "metadata": {
        "id": "3wCWxDlr3S9O",
        "colab_type": "text"
      },
      "source": [
        "# Definindo o x e o y:"
      ]
    },
    {
      "cell_type": "code",
      "metadata": {
        "id": "FpNr566eDbZO",
        "colab_type": "code",
        "colab": {}
      },
      "source": [
        "x = df.drop(['Outcome'],axis=1)\n",
        "\n",
        "y = df['Outcome']"
      ],
      "execution_count": 0,
      "outputs": []
    },
    {
      "cell_type": "markdown",
      "metadata": {
        "id": "-IPLBcS13dgj",
        "colab_type": "text"
      },
      "source": [
        "# Dividindo o dataset em treino e teste:"
      ]
    },
    {
      "cell_type": "code",
      "metadata": {
        "id": "pH0JCMl13ioW",
        "colab_type": "code",
        "colab": {}
      },
      "source": [
        "x_train, x_test, y_train, y_test = train_test_split (x, y, test_size = 0.25, random_state = 42)"
      ],
      "execution_count": 0,
      "outputs": []
    },
    {
      "cell_type": "markdown",
      "metadata": {
        "id": "AHPwwhB_4HoS",
        "colab_type": "text"
      },
      "source": [
        "# Verificando os shapes do dataset dividido:"
      ]
    },
    {
      "cell_type": "code",
      "metadata": {
        "id": "hHKCPwlp4B9e",
        "colab_type": "code",
        "outputId": "2a51e7fc-4d00-472d-f55d-cf2871c263a1",
        "colab": {
          "base_uri": "https://localhost:8080/",
          "height": 54
        }
      },
      "source": [
        "print(x_train.shape, y_train.shape)\n",
        "\n",
        "print(x_test.shape, y_test.shape)"
      ],
      "execution_count": 0,
      "outputs": [
        {
          "output_type": "stream",
          "text": [
            "(576, 8) (576,)\n",
            "(192, 8) (192,)\n"
          ],
          "name": "stdout"
        }
      ]
    },
    {
      "cell_type": "markdown",
      "metadata": {
        "id": "ldO175GE4-O_",
        "colab_type": "text"
      },
      "source": [
        "# Treinando o modelo de árvore de decisão: "
      ]
    },
    {
      "cell_type": "code",
      "metadata": {
        "id": "alQGhY0_EL--",
        "colab_type": "code",
        "outputId": "ec28e185-d3df-4629-b4db-0e1d66bfb6b9",
        "colab": {
          "base_uri": "https://localhost:8080/",
          "height": 127
        }
      },
      "source": [
        "dt = DecisionTreeClassifier (criterion = 'entropy')\n",
        "\n",
        "dt.fit(x_train, y_train)"
      ],
      "execution_count": 0,
      "outputs": [
        {
          "output_type": "execute_result",
          "data": {
            "text/plain": [
              "DecisionTreeClassifier(ccp_alpha=0.0, class_weight=None, criterion='entropy',\n",
              "                       max_depth=None, max_features=None, max_leaf_nodes=None,\n",
              "                       min_impurity_decrease=0.0, min_impurity_split=None,\n",
              "                       min_samples_leaf=1, min_samples_split=2,\n",
              "                       min_weight_fraction_leaf=0.0, presort='deprecated',\n",
              "                       random_state=None, splitter='best')"
            ]
          },
          "metadata": {
            "tags": []
          },
          "execution_count": 20
        }
      ]
    },
    {
      "cell_type": "markdown",
      "metadata": {
        "id": "P7uNJF1l5JJp",
        "colab_type": "text"
      },
      "source": [
        "# Verificando as classes: "
      ]
    },
    {
      "cell_type": "code",
      "metadata": {
        "id": "SeAuUCThETSh",
        "colab_type": "code",
        "outputId": "b565c434-1288-4dd2-ac50-a8be1dc85c4b",
        "colab": {
          "base_uri": "https://localhost:8080/",
          "height": 35
        }
      },
      "source": [
        "dt.classes_"
      ],
      "execution_count": 0,
      "outputs": [
        {
          "output_type": "execute_result",
          "data": {
            "text/plain": [
              "array([0, 1])"
            ]
          },
          "metadata": {
            "tags": []
          },
          "execution_count": 12
        }
      ]
    },
    {
      "cell_type": "markdown",
      "metadata": {
        "id": "NHg2ydDb5S_N",
        "colab_type": "text"
      },
      "source": [
        "# Árvore de decisão: "
      ]
    },
    {
      "cell_type": "code",
      "metadata": {
        "id": "cf8rQaV_EaIV",
        "colab_type": "code",
        "outputId": "e162833e-905d-402b-a1cd-9c09470b6252",
        "colab": {
          "base_uri": "https://localhost:8080/",
          "height": 1000
        }
      },
      "source": [
        "from sklearn import tree\n",
        "\n",
        "import graphviz\n",
        "\n",
        "dot = tree.export_graphviz(dt, out_file=None, \n",
        "                           feature_names = x.columns.values,  \n",
        "                           class_names=[\"não\", \"sim\"],  \n",
        "                           filled=True, rounded=True,  \n",
        "                           special_characters=True) \n",
        "\n",
        "graph = graphviz.Source(dot) \n",
        "graph"
      ],
      "execution_count": 0,
      "outputs": [
        {
          "output_type": "execute_result",
          "data": {
            "text/plain": [
              "<graphviz.files.Source at 0x7fca3ebd00b8>"
            ],
            "image/svg+xml": "<?xml version=\"1.0\" encoding=\"UTF-8\" standalone=\"no\"?>\n<!DOCTYPE svg PUBLIC \"-//W3C//DTD SVG 1.1//EN\"\n \"http://www.w3.org/Graphics/SVG/1.1/DTD/svg11.dtd\">\n<!-- Generated by graphviz version 2.40.1 (20161225.0304)\n -->\n<!-- Title: Tree Pages: 1 -->\n<svg width=\"4282pt\" height=\"2218pt\"\n viewBox=\"0.00 0.00 4282.00 2218.00\" xmlns=\"http://www.w3.org/2000/svg\" xmlns:xlink=\"http://www.w3.org/1999/xlink\">\n<g id=\"graph0\" class=\"graph\" transform=\"scale(1 1) rotate(0) translate(4 2214)\">\n<title>Tree</title>\n<polygon fill=\"#ffffff\" stroke=\"transparent\" points=\"-4,4 -4,-2214 4278,-2214 4278,4 -4,4\"/>\n<!-- 0 -->\n<g id=\"node1\" class=\"node\">\n<title>0</title>\n<path fill=\"#f3c4a2\" stroke=\"#000000\" d=\"M2312.5,-2210C2312.5,-2210 2204.5,-2210 2204.5,-2210 2198.5,-2210 2192.5,-2204 2192.5,-2198 2192.5,-2198 2192.5,-2139 2192.5,-2139 2192.5,-2133 2198.5,-2127 2204.5,-2127 2204.5,-2127 2312.5,-2127 2312.5,-2127 2318.5,-2127 2324.5,-2133 2324.5,-2139 2324.5,-2139 2324.5,-2198 2324.5,-2198 2324.5,-2204 2318.5,-2210 2312.5,-2210\"/>\n<text text-anchor=\"start\" x=\"2205.5\" y=\"-2194.8\" font-family=\"Helvetica,sans-Serif\" font-size=\"14.00\" fill=\"#000000\">Glucose ≤ 143.5</text>\n<text text-anchor=\"start\" x=\"2211.5\" y=\"-2179.8\" font-family=\"Helvetica,sans-Serif\" font-size=\"14.00\" fill=\"#000000\">entropy = 0.93</text>\n<text text-anchor=\"start\" x=\"2210.5\" y=\"-2164.8\" font-family=\"Helvetica,sans-Serif\" font-size=\"14.00\" fill=\"#000000\">samples = 576</text>\n<text text-anchor=\"start\" x=\"2200.5\" y=\"-2149.8\" font-family=\"Helvetica,sans-Serif\" font-size=\"14.00\" fill=\"#000000\">value = [377, 199]</text>\n<text text-anchor=\"start\" x=\"2221\" y=\"-2134.8\" font-family=\"Helvetica,sans-Serif\" font-size=\"14.00\" fill=\"#000000\">class = não</text>\n</g>\n<!-- 1 -->\n<g id=\"node2\" class=\"node\">\n<title>1</title>\n<path fill=\"#eda876\" stroke=\"#000000\" d=\"M1248.5,-2091C1248.5,-2091 1140.5,-2091 1140.5,-2091 1134.5,-2091 1128.5,-2085 1128.5,-2079 1128.5,-2079 1128.5,-2020 1128.5,-2020 1128.5,-2014 1134.5,-2008 1140.5,-2008 1140.5,-2008 1248.5,-2008 1248.5,-2008 1254.5,-2008 1260.5,-2014 1260.5,-2020 1260.5,-2020 1260.5,-2079 1260.5,-2079 1260.5,-2085 1254.5,-2091 1248.5,-2091\"/>\n<text text-anchor=\"start\" x=\"1155.5\" y=\"-2075.8\" font-family=\"Helvetica,sans-Serif\" font-size=\"14.00\" fill=\"#000000\">BMI ≤ 26.35</text>\n<text text-anchor=\"start\" x=\"1143.5\" y=\"-2060.8\" font-family=\"Helvetica,sans-Serif\" font-size=\"14.00\" fill=\"#000000\">entropy = 0.788</text>\n<text text-anchor=\"start\" x=\"1146.5\" y=\"-2045.8\" font-family=\"Helvetica,sans-Serif\" font-size=\"14.00\" fill=\"#000000\">samples = 454</text>\n<text text-anchor=\"start\" x=\"1136.5\" y=\"-2030.8\" font-family=\"Helvetica,sans-Serif\" font-size=\"14.00\" fill=\"#000000\">value = [347, 107]</text>\n<text text-anchor=\"start\" x=\"1157\" y=\"-2015.8\" font-family=\"Helvetica,sans-Serif\" font-size=\"14.00\" fill=\"#000000\">class = não</text>\n</g>\n<!-- 0&#45;&gt;1 -->\n<g id=\"edge1\" class=\"edge\">\n<title>0&#45;&gt;1</title>\n<path fill=\"none\" stroke=\"#000000\" d=\"M2192.344,-2161.101C2004.8043,-2140.1261 1470.3886,-2080.356 1270.8641,-2058.0407\"/>\n<polygon fill=\"#000000\" stroke=\"#000000\" points=\"1271.0911,-2054.5444 1260.764,-2056.9111 1270.313,-2061.501 1271.0911,-2054.5444\"/>\n<text text-anchor=\"middle\" x=\"1276.3673\" y=\"-2072.7441\" font-family=\"Helvetica,sans-Serif\" font-size=\"14.00\" fill=\"#000000\">True</text>\n</g>\n<!-- 140 -->\n<g id=\"node141\" class=\"node\">\n<title>140</title>\n<path fill=\"#7abded\" stroke=\"#000000\" d=\"M3170.5,-2091C3170.5,-2091 3072.5,-2091 3072.5,-2091 3066.5,-2091 3060.5,-2085 3060.5,-2079 3060.5,-2079 3060.5,-2020 3060.5,-2020 3060.5,-2014 3066.5,-2008 3072.5,-2008 3072.5,-2008 3170.5,-2008 3170.5,-2008 3176.5,-2008 3182.5,-2014 3182.5,-2020 3182.5,-2020 3182.5,-2079 3182.5,-2079 3182.5,-2085 3176.5,-2091 3170.5,-2091\"/>\n<text text-anchor=\"start\" x=\"3068.5\" y=\"-2075.8\" font-family=\"Helvetica,sans-Serif\" font-size=\"14.00\" fill=\"#000000\">Glucose ≤ 166.5</text>\n<text text-anchor=\"start\" x=\"3070.5\" y=\"-2060.8\" font-family=\"Helvetica,sans-Serif\" font-size=\"14.00\" fill=\"#000000\">entropy = 0.805</text>\n<text text-anchor=\"start\" x=\"3073.5\" y=\"-2045.8\" font-family=\"Helvetica,sans-Serif\" font-size=\"14.00\" fill=\"#000000\">samples = 122</text>\n<text text-anchor=\"start\" x=\"3071.5\" y=\"-2030.8\" font-family=\"Helvetica,sans-Serif\" font-size=\"14.00\" fill=\"#000000\">value = [30, 92]</text>\n<text text-anchor=\"start\" x=\"3085\" y=\"-2015.8\" font-family=\"Helvetica,sans-Serif\" font-size=\"14.00\" fill=\"#000000\">class = sim</text>\n</g>\n<!-- 0&#45;&gt;140 -->\n<g id=\"edge140\" class=\"edge\">\n<title>0&#45;&gt;140</title>\n<path fill=\"none\" stroke=\"#000000\" d=\"M2324.7852,-2159.3599C2483.8701,-2137.4235 2886.2298,-2081.9417 3050.249,-2059.3249\"/>\n<polygon fill=\"#000000\" stroke=\"#000000\" points=\"3050.8053,-2062.7814 3060.2335,-2057.9481 3049.8491,-2055.847 3050.8053,-2062.7814\"/>\n<text text-anchor=\"middle\" x=\"3045.1362\" y=\"-2074.1748\" font-family=\"Helvetica,sans-Serif\" font-size=\"14.00\" fill=\"#000000\">False</text>\n</g>\n<!-- 2 -->\n<g id=\"node3\" class=\"node\">\n<title>2</title>\n<path fill=\"#e6843e\" stroke=\"#000000\" d=\"M584.5,-1972C584.5,-1972 486.5,-1972 486.5,-1972 480.5,-1972 474.5,-1966 474.5,-1960 474.5,-1960 474.5,-1901 474.5,-1901 474.5,-1895 480.5,-1889 486.5,-1889 486.5,-1889 584.5,-1889 584.5,-1889 590.5,-1889 596.5,-1895 596.5,-1901 596.5,-1901 596.5,-1960 596.5,-1960 596.5,-1966 590.5,-1972 584.5,-1972\"/>\n<text text-anchor=\"start\" x=\"482.5\" y=\"-1956.8\" font-family=\"Helvetica,sans-Serif\" font-size=\"14.00\" fill=\"#000000\">Glucose ≤ 132.5</text>\n<text text-anchor=\"start\" x=\"484.5\" y=\"-1941.8\" font-family=\"Helvetica,sans-Serif\" font-size=\"14.00\" fill=\"#000000\">entropy = 0.177</text>\n<text text-anchor=\"start\" x=\"487.5\" y=\"-1926.8\" font-family=\"Helvetica,sans-Serif\" font-size=\"14.00\" fill=\"#000000\">samples = 113</text>\n<text text-anchor=\"start\" x=\"485.5\" y=\"-1911.8\" font-family=\"Helvetica,sans-Serif\" font-size=\"14.00\" fill=\"#000000\">value = [110, 3]</text>\n<text text-anchor=\"start\" x=\"498\" y=\"-1896.8\" font-family=\"Helvetica,sans-Serif\" font-size=\"14.00\" fill=\"#000000\">class = não</text>\n</g>\n<!-- 1&#45;&gt;2 -->\n<g id=\"edge2\" class=\"edge\">\n<title>1&#45;&gt;2</title>\n<path fill=\"none\" stroke=\"#000000\" d=\"M1128.2953,-2037.545C1003.7227,-2015.0501 735.4694,-1966.6098 606.9676,-1943.4054\"/>\n<polygon fill=\"#000000\" stroke=\"#000000\" points=\"607.3036,-1939.9095 596.8408,-1941.5767 606.0596,-1946.7981 607.3036,-1939.9095\"/>\n</g>\n<!-- 13 -->\n<g id=\"node14\" class=\"node\">\n<title>13</title>\n<path fill=\"#f0b890\" stroke=\"#000000\" d=\"M1248.5,-1972C1248.5,-1972 1140.5,-1972 1140.5,-1972 1134.5,-1972 1128.5,-1966 1128.5,-1960 1128.5,-1960 1128.5,-1901 1128.5,-1901 1128.5,-1895 1134.5,-1889 1140.5,-1889 1140.5,-1889 1248.5,-1889 1248.5,-1889 1254.5,-1889 1260.5,-1895 1260.5,-1901 1260.5,-1901 1260.5,-1960 1260.5,-1960 1260.5,-1966 1254.5,-1972 1248.5,-1972\"/>\n<text text-anchor=\"start\" x=\"1159.5\" y=\"-1956.8\" font-family=\"Helvetica,sans-Serif\" font-size=\"14.00\" fill=\"#000000\">Age ≤ 28.5</text>\n<text text-anchor=\"start\" x=\"1143.5\" y=\"-1941.8\" font-family=\"Helvetica,sans-Serif\" font-size=\"14.00\" fill=\"#000000\">entropy = 0.887</text>\n<text text-anchor=\"start\" x=\"1146.5\" y=\"-1926.8\" font-family=\"Helvetica,sans-Serif\" font-size=\"14.00\" fill=\"#000000\">samples = 341</text>\n<text text-anchor=\"start\" x=\"1136.5\" y=\"-1911.8\" font-family=\"Helvetica,sans-Serif\" font-size=\"14.00\" fill=\"#000000\">value = [237, 104]</text>\n<text text-anchor=\"start\" x=\"1157\" y=\"-1896.8\" font-family=\"Helvetica,sans-Serif\" font-size=\"14.00\" fill=\"#000000\">class = não</text>\n</g>\n<!-- 1&#45;&gt;13 -->\n<g id=\"edge13\" class=\"edge\">\n<title>1&#45;&gt;13</title>\n<path fill=\"none\" stroke=\"#000000\" d=\"M1194.5,-2007.8796C1194.5,-1999.6838 1194.5,-1990.9891 1194.5,-1982.5013\"/>\n<polygon fill=\"#000000\" stroke=\"#000000\" points=\"1198.0001,-1982.298 1194.5,-1972.2981 1191.0001,-1982.2981 1198.0001,-1982.298\"/>\n</g>\n<!-- 3 -->\n<g id=\"node4\" class=\"node\">\n<title>3</title>\n<path fill=\"#e5823b\" stroke=\"#000000\" d=\"M296.5,-1853C296.5,-1853 202.5,-1853 202.5,-1853 196.5,-1853 190.5,-1847 190.5,-1841 190.5,-1841 190.5,-1782 190.5,-1782 190.5,-1776 196.5,-1770 202.5,-1770 202.5,-1770 296.5,-1770 296.5,-1770 302.5,-1770 308.5,-1776 308.5,-1782 308.5,-1782 308.5,-1841 308.5,-1841 308.5,-1847 302.5,-1853 296.5,-1853\"/>\n<text text-anchor=\"start\" x=\"206.5\" y=\"-1837.8\" font-family=\"Helvetica,sans-Serif\" font-size=\"14.00\" fill=\"#000000\">Insulin ≤ 48.5</text>\n<text text-anchor=\"start\" x=\"198.5\" y=\"-1822.8\" font-family=\"Helvetica,sans-Serif\" font-size=\"14.00\" fill=\"#000000\">entropy = 0.078</text>\n<text text-anchor=\"start\" x=\"201.5\" y=\"-1807.8\" font-family=\"Helvetica,sans-Serif\" font-size=\"14.00\" fill=\"#000000\">samples = 104</text>\n<text text-anchor=\"start\" x=\"199.5\" y=\"-1792.8\" font-family=\"Helvetica,sans-Serif\" font-size=\"14.00\" fill=\"#000000\">value = [103, 1]</text>\n<text text-anchor=\"start\" x=\"212\" y=\"-1777.8\" font-family=\"Helvetica,sans-Serif\" font-size=\"14.00\" fill=\"#000000\">class = não</text>\n</g>\n<!-- 2&#45;&gt;3 -->\n<g id=\"edge3\" class=\"edge\">\n<title>2&#45;&gt;3</title>\n<path fill=\"none\" stroke=\"#000000\" d=\"M474.4966,-1905.1175C428.6644,-1886.0474 365.8591,-1859.9151 318.2496,-1840.1056\"/>\n<polygon fill=\"#000000\" stroke=\"#000000\" points=\"319.5171,-1836.8421 308.9398,-1836.232 316.8279,-1843.305 319.5171,-1836.8421\"/>\n</g>\n<!-- 8 -->\n<g id=\"node9\" class=\"node\">\n<title>8</title>\n<path fill=\"#eca572\" stroke=\"#000000\" d=\"M601.5,-1853C601.5,-1853 469.5,-1853 469.5,-1853 463.5,-1853 457.5,-1847 457.5,-1841 457.5,-1841 457.5,-1782 457.5,-1782 457.5,-1776 463.5,-1770 469.5,-1770 469.5,-1770 601.5,-1770 601.5,-1770 607.5,-1770 613.5,-1776 613.5,-1782 613.5,-1782 613.5,-1841 613.5,-1841 613.5,-1847 607.5,-1853 601.5,-1853\"/>\n<text text-anchor=\"start\" x=\"465.5\" y=\"-1837.8\" font-family=\"Helvetica,sans-Serif\" font-size=\"14.00\" fill=\"#000000\">BloodPressure ≤ 73.0</text>\n<text text-anchor=\"start\" x=\"484.5\" y=\"-1822.8\" font-family=\"Helvetica,sans-Serif\" font-size=\"14.00\" fill=\"#000000\">entropy = 0.764</text>\n<text text-anchor=\"start\" x=\"496\" y=\"-1807.8\" font-family=\"Helvetica,sans-Serif\" font-size=\"14.00\" fill=\"#000000\">samples = 9</text>\n<text text-anchor=\"start\" x=\"494\" y=\"-1792.8\" font-family=\"Helvetica,sans-Serif\" font-size=\"14.00\" fill=\"#000000\">value = [7, 2]</text>\n<text text-anchor=\"start\" x=\"498\" y=\"-1777.8\" font-family=\"Helvetica,sans-Serif\" font-size=\"14.00\" fill=\"#000000\">class = não</text>\n</g>\n<!-- 2&#45;&gt;8 -->\n<g id=\"edge8\" class=\"edge\">\n<title>2&#45;&gt;8</title>\n<path fill=\"none\" stroke=\"#000000\" d=\"M535.5,-1888.8796C535.5,-1880.6838 535.5,-1871.9891 535.5,-1863.5013\"/>\n<polygon fill=\"#000000\" stroke=\"#000000\" points=\"539.0001,-1863.298 535.5,-1853.2981 532.0001,-1863.2981 539.0001,-1863.298\"/>\n</g>\n<!-- 4 -->\n<g id=\"node5\" class=\"node\">\n<title>4</title>\n<path fill=\"#e99355\" stroke=\"#000000\" d=\"M165.5,-1734C165.5,-1734 71.5,-1734 71.5,-1734 65.5,-1734 59.5,-1728 59.5,-1722 59.5,-1722 59.5,-1663 59.5,-1663 59.5,-1657 65.5,-1651 71.5,-1651 71.5,-1651 165.5,-1651 165.5,-1651 171.5,-1651 177.5,-1657 177.5,-1663 177.5,-1663 177.5,-1722 177.5,-1722 177.5,-1728 171.5,-1734 165.5,-1734\"/>\n<text text-anchor=\"start\" x=\"75.5\" y=\"-1718.8\" font-family=\"Helvetica,sans-Serif\" font-size=\"14.00\" fill=\"#000000\">Insulin ≤ 46.5</text>\n<text text-anchor=\"start\" x=\"67.5\" y=\"-1703.8\" font-family=\"Helvetica,sans-Serif\" font-size=\"14.00\" fill=\"#000000\">entropy = 0.544</text>\n<text text-anchor=\"start\" x=\"79\" y=\"-1688.8\" font-family=\"Helvetica,sans-Serif\" font-size=\"14.00\" fill=\"#000000\">samples = 8</text>\n<text text-anchor=\"start\" x=\"77\" y=\"-1673.8\" font-family=\"Helvetica,sans-Serif\" font-size=\"14.00\" fill=\"#000000\">value = [7, 1]</text>\n<text text-anchor=\"start\" x=\"81\" y=\"-1658.8\" font-family=\"Helvetica,sans-Serif\" font-size=\"14.00\" fill=\"#000000\">class = não</text>\n</g>\n<!-- 3&#45;&gt;4 -->\n<g id=\"edge4\" class=\"edge\">\n<title>3&#45;&gt;4</title>\n<path fill=\"none\" stroke=\"#000000\" d=\"M203.6826,-1769.8796C193.4706,-1760.6031 182.555,-1750.6874 172.0624,-1741.1559\"/>\n<polygon fill=\"#000000\" stroke=\"#000000\" points=\"174.2684,-1738.4313 164.513,-1734.2981 169.5616,-1743.6127 174.2684,-1738.4313\"/>\n</g>\n<!-- 7 -->\n<g id=\"node8\" class=\"node\">\n<title>7</title>\n<path fill=\"#e58139\" stroke=\"#000000\" d=\"M291,-1726.5C291,-1726.5 208,-1726.5 208,-1726.5 202,-1726.5 196,-1720.5 196,-1714.5 196,-1714.5 196,-1670.5 196,-1670.5 196,-1664.5 202,-1658.5 208,-1658.5 208,-1658.5 291,-1658.5 291,-1658.5 297,-1658.5 303,-1664.5 303,-1670.5 303,-1670.5 303,-1714.5 303,-1714.5 303,-1720.5 297,-1726.5 291,-1726.5\"/>\n<text text-anchor=\"start\" x=\"207\" y=\"-1711.3\" font-family=\"Helvetica,sans-Serif\" font-size=\"14.00\" fill=\"#000000\">entropy = 0.0</text>\n<text text-anchor=\"start\" x=\"205.5\" y=\"-1696.3\" font-family=\"Helvetica,sans-Serif\" font-size=\"14.00\" fill=\"#000000\">samples = 96</text>\n<text text-anchor=\"start\" x=\"204\" y=\"-1681.3\" font-family=\"Helvetica,sans-Serif\" font-size=\"14.00\" fill=\"#000000\">value = [96, 0]</text>\n<text text-anchor=\"start\" x=\"212\" y=\"-1666.3\" font-family=\"Helvetica,sans-Serif\" font-size=\"14.00\" fill=\"#000000\">class = não</text>\n</g>\n<!-- 3&#45;&gt;7 -->\n<g id=\"edge7\" class=\"edge\">\n<title>3&#45;&gt;7</title>\n<path fill=\"none\" stroke=\"#000000\" d=\"M249.5,-1769.8796C249.5,-1759.2134 249.5,-1747.7021 249.5,-1736.9015\"/>\n<polygon fill=\"#000000\" stroke=\"#000000\" points=\"253.0001,-1736.8149 249.5,-1726.8149 246.0001,-1736.815 253.0001,-1736.8149\"/>\n</g>\n<!-- 5 -->\n<g id=\"node6\" class=\"node\">\n<title>5</title>\n<path fill=\"#e58139\" stroke=\"#000000\" d=\"M89,-1607.5C89,-1607.5 12,-1607.5 12,-1607.5 6,-1607.5 0,-1601.5 0,-1595.5 0,-1595.5 0,-1551.5 0,-1551.5 0,-1545.5 6,-1539.5 12,-1539.5 12,-1539.5 89,-1539.5 89,-1539.5 95,-1539.5 101,-1545.5 101,-1551.5 101,-1551.5 101,-1595.5 101,-1595.5 101,-1601.5 95,-1607.5 89,-1607.5\"/>\n<text text-anchor=\"start\" x=\"8\" y=\"-1592.3\" font-family=\"Helvetica,sans-Serif\" font-size=\"14.00\" fill=\"#000000\">entropy = 0.0</text>\n<text text-anchor=\"start\" x=\"11\" y=\"-1577.3\" font-family=\"Helvetica,sans-Serif\" font-size=\"14.00\" fill=\"#000000\">samples = 7</text>\n<text text-anchor=\"start\" x=\"9\" y=\"-1562.3\" font-family=\"Helvetica,sans-Serif\" font-size=\"14.00\" fill=\"#000000\">value = [7, 0]</text>\n<text text-anchor=\"start\" x=\"13\" y=\"-1547.3\" font-family=\"Helvetica,sans-Serif\" font-size=\"14.00\" fill=\"#000000\">class = não</text>\n</g>\n<!-- 4&#45;&gt;5 -->\n<g id=\"edge5\" class=\"edge\">\n<title>4&#45;&gt;5</title>\n<path fill=\"none\" stroke=\"#000000\" d=\"M94.7169,-1650.8796C88.3706,-1639.7735 81.5007,-1627.7513 75.1109,-1616.5691\"/>\n<polygon fill=\"#000000\" stroke=\"#000000\" points=\"78.1088,-1614.7609 70.1085,-1607.8149 72.0311,-1618.2339 78.1088,-1614.7609\"/>\n</g>\n<!-- 6 -->\n<g id=\"node7\" class=\"node\">\n<title>6</title>\n<path fill=\"#399de5\" stroke=\"#000000\" d=\"M208,-1607.5C208,-1607.5 131,-1607.5 131,-1607.5 125,-1607.5 119,-1601.5 119,-1595.5 119,-1595.5 119,-1551.5 119,-1551.5 119,-1545.5 125,-1539.5 131,-1539.5 131,-1539.5 208,-1539.5 208,-1539.5 214,-1539.5 220,-1545.5 220,-1551.5 220,-1551.5 220,-1595.5 220,-1595.5 220,-1601.5 214,-1607.5 208,-1607.5\"/>\n<text text-anchor=\"start\" x=\"127\" y=\"-1592.3\" font-family=\"Helvetica,sans-Serif\" font-size=\"14.00\" fill=\"#000000\">entropy = 0.0</text>\n<text text-anchor=\"start\" x=\"130\" y=\"-1577.3\" font-family=\"Helvetica,sans-Serif\" font-size=\"14.00\" fill=\"#000000\">samples = 1</text>\n<text text-anchor=\"start\" x=\"128\" y=\"-1562.3\" font-family=\"Helvetica,sans-Serif\" font-size=\"14.00\" fill=\"#000000\">value = [0, 1]</text>\n<text text-anchor=\"start\" x=\"133\" y=\"-1547.3\" font-family=\"Helvetica,sans-Serif\" font-size=\"14.00\" fill=\"#000000\">class = sim</text>\n</g>\n<!-- 4&#45;&gt;6 -->\n<g id=\"edge6\" class=\"edge\">\n<title>4&#45;&gt;6</title>\n<path fill=\"none\" stroke=\"#000000\" d=\"M136.3373,-1650.8796C141.0028,-1639.9935 146.0456,-1628.227 150.7567,-1617.2344\"/>\n<polygon fill=\"#000000\" stroke=\"#000000\" points=\"154.0714,-1618.3851 154.7936,-1607.8149 147.6373,-1615.6277 154.0714,-1618.3851\"/>\n</g>\n<!-- 9 -->\n<g id=\"node10\" class=\"node\">\n<title>9</title>\n<path fill=\"#ffffff\" stroke=\"#000000\" d=\"M550,-1734C550,-1734 333,-1734 333,-1734 327,-1734 321,-1728 321,-1722 321,-1722 321,-1663 321,-1663 321,-1657 327,-1651 333,-1651 333,-1651 550,-1651 550,-1651 556,-1651 562,-1657 562,-1663 562,-1663 562,-1722 562,-1722 562,-1728 556,-1734 550,-1734\"/>\n<text text-anchor=\"start\" x=\"329\" y=\"-1718.8\" font-family=\"Helvetica,sans-Serif\" font-size=\"14.00\" fill=\"#000000\">DiabetesPedigreeFunction ≤ 0.214</text>\n<text text-anchor=\"start\" x=\"399\" y=\"-1703.8\" font-family=\"Helvetica,sans-Serif\" font-size=\"14.00\" fill=\"#000000\">entropy = 1.0</text>\n<text text-anchor=\"start\" x=\"402\" y=\"-1688.8\" font-family=\"Helvetica,sans-Serif\" font-size=\"14.00\" fill=\"#000000\">samples = 4</text>\n<text text-anchor=\"start\" x=\"400\" y=\"-1673.8\" font-family=\"Helvetica,sans-Serif\" font-size=\"14.00\" fill=\"#000000\">value = [2, 2]</text>\n<text text-anchor=\"start\" x=\"404\" y=\"-1658.8\" font-family=\"Helvetica,sans-Serif\" font-size=\"14.00\" fill=\"#000000\">class = não</text>\n</g>\n<!-- 8&#45;&gt;9 -->\n<g id=\"edge9\" class=\"edge\">\n<title>8&#45;&gt;9</title>\n<path fill=\"none\" stroke=\"#000000\" d=\"M502.6234,-1769.8796C495.5803,-1760.9633 488.0707,-1751.4565 480.8126,-1742.268\"/>\n<polygon fill=\"#000000\" stroke=\"#000000\" points=\"483.4621,-1739.9757 474.517,-1734.2981 477.9691,-1744.3147 483.4621,-1739.9757\"/>\n</g>\n<!-- 12 -->\n<g id=\"node13\" class=\"node\">\n<title>12</title>\n<path fill=\"#e58139\" stroke=\"#000000\" d=\"M669,-1726.5C669,-1726.5 592,-1726.5 592,-1726.5 586,-1726.5 580,-1720.5 580,-1714.5 580,-1714.5 580,-1670.5 580,-1670.5 580,-1664.5 586,-1658.5 592,-1658.5 592,-1658.5 669,-1658.5 669,-1658.5 675,-1658.5 681,-1664.5 681,-1670.5 681,-1670.5 681,-1714.5 681,-1714.5 681,-1720.5 675,-1726.5 669,-1726.5\"/>\n<text text-anchor=\"start\" x=\"588\" y=\"-1711.3\" font-family=\"Helvetica,sans-Serif\" font-size=\"14.00\" fill=\"#000000\">entropy = 0.0</text>\n<text text-anchor=\"start\" x=\"591\" y=\"-1696.3\" font-family=\"Helvetica,sans-Serif\" font-size=\"14.00\" fill=\"#000000\">samples = 5</text>\n<text text-anchor=\"start\" x=\"589\" y=\"-1681.3\" font-family=\"Helvetica,sans-Serif\" font-size=\"14.00\" fill=\"#000000\">value = [5, 0]</text>\n<text text-anchor=\"start\" x=\"593\" y=\"-1666.3\" font-family=\"Helvetica,sans-Serif\" font-size=\"14.00\" fill=\"#000000\">class = não</text>\n</g>\n<!-- 8&#45;&gt;12 -->\n<g id=\"edge12\" class=\"edge\">\n<title>8&#45;&gt;12</title>\n<path fill=\"none\" stroke=\"#000000\" d=\"M568.7264,-1769.8796C577.7681,-1758.5536 587.5705,-1746.2748 596.6466,-1734.9058\"/>\n<polygon fill=\"#000000\" stroke=\"#000000\" points=\"599.602,-1736.8137 603.1057,-1726.8149 594.1315,-1732.4464 599.602,-1736.8137\"/>\n</g>\n<!-- 10 -->\n<g id=\"node11\" class=\"node\">\n<title>10</title>\n<path fill=\"#e58139\" stroke=\"#000000\" d=\"M378,-1607.5C378,-1607.5 301,-1607.5 301,-1607.5 295,-1607.5 289,-1601.5 289,-1595.5 289,-1595.5 289,-1551.5 289,-1551.5 289,-1545.5 295,-1539.5 301,-1539.5 301,-1539.5 378,-1539.5 378,-1539.5 384,-1539.5 390,-1545.5 390,-1551.5 390,-1551.5 390,-1595.5 390,-1595.5 390,-1601.5 384,-1607.5 378,-1607.5\"/>\n<text text-anchor=\"start\" x=\"297\" y=\"-1592.3\" font-family=\"Helvetica,sans-Serif\" font-size=\"14.00\" fill=\"#000000\">entropy = 0.0</text>\n<text text-anchor=\"start\" x=\"300\" y=\"-1577.3\" font-family=\"Helvetica,sans-Serif\" font-size=\"14.00\" fill=\"#000000\">samples = 2</text>\n<text text-anchor=\"start\" x=\"298\" y=\"-1562.3\" font-family=\"Helvetica,sans-Serif\" font-size=\"14.00\" fill=\"#000000\">value = [2, 0]</text>\n<text text-anchor=\"start\" x=\"302\" y=\"-1547.3\" font-family=\"Helvetica,sans-Serif\" font-size=\"14.00\" fill=\"#000000\">class = não</text>\n</g>\n<!-- 9&#45;&gt;10 -->\n<g id=\"edge10\" class=\"edge\">\n<title>9&#45;&gt;10</title>\n<path fill=\"none\" stroke=\"#000000\" d=\"M405.8253,-1650.8796C396.0231,-1639.4436 385.3882,-1627.0363 375.5643,-1615.575\"/>\n<polygon fill=\"#000000\" stroke=\"#000000\" points=\"378.0782,-1613.1297 368.9128,-1607.8149 372.7633,-1617.6853 378.0782,-1613.1297\"/>\n</g>\n<!-- 11 -->\n<g id=\"node12\" class=\"node\">\n<title>11</title>\n<path fill=\"#399de5\" stroke=\"#000000\" d=\"M497,-1607.5C497,-1607.5 420,-1607.5 420,-1607.5 414,-1607.5 408,-1601.5 408,-1595.5 408,-1595.5 408,-1551.5 408,-1551.5 408,-1545.5 414,-1539.5 420,-1539.5 420,-1539.5 497,-1539.5 497,-1539.5 503,-1539.5 509,-1545.5 509,-1551.5 509,-1551.5 509,-1595.5 509,-1595.5 509,-1601.5 503,-1607.5 497,-1607.5\"/>\n<text text-anchor=\"start\" x=\"416\" y=\"-1592.3\" font-family=\"Helvetica,sans-Serif\" font-size=\"14.00\" fill=\"#000000\">entropy = 0.0</text>\n<text text-anchor=\"start\" x=\"419\" y=\"-1577.3\" font-family=\"Helvetica,sans-Serif\" font-size=\"14.00\" fill=\"#000000\">samples = 2</text>\n<text text-anchor=\"start\" x=\"417\" y=\"-1562.3\" font-family=\"Helvetica,sans-Serif\" font-size=\"14.00\" fill=\"#000000\">value = [0, 2]</text>\n<text text-anchor=\"start\" x=\"422\" y=\"-1547.3\" font-family=\"Helvetica,sans-Serif\" font-size=\"14.00\" fill=\"#000000\">class = sim</text>\n</g>\n<!-- 9&#45;&gt;11 -->\n<g id=\"edge11\" class=\"edge\">\n<title>9&#45;&gt;11</title>\n<path fill=\"none\" stroke=\"#000000\" d=\"M447.4458,-1650.8796C448.9695,-1640.2134 450.614,-1628.7021 452.1569,-1617.9015\"/>\n<polygon fill=\"#000000\" stroke=\"#000000\" points=\"455.6484,-1618.2094 453.5979,-1607.8149 448.7187,-1617.2194 455.6484,-1618.2094\"/>\n</g>\n<!-- 14 -->\n<g id=\"node15\" class=\"node\">\n<title>14</title>\n<path fill=\"#ea995e\" stroke=\"#000000\" d=\"M1028,-1853C1028,-1853 897,-1853 897,-1853 891,-1853 885,-1847 885,-1841 885,-1841 885,-1782 885,-1782 885,-1776 891,-1770 897,-1770 897,-1770 1028,-1770 1028,-1770 1034,-1770 1040,-1776 1040,-1782 1040,-1782 1040,-1841 1040,-1841 1040,-1847 1034,-1853 1028,-1853\"/>\n<text text-anchor=\"start\" x=\"893\" y=\"-1837.8\" font-family=\"Helvetica,sans-Serif\" font-size=\"14.00\" fill=\"#000000\">SkinThickness ≤ 28.5</text>\n<text text-anchor=\"start\" x=\"911.5\" y=\"-1822.8\" font-family=\"Helvetica,sans-Serif\" font-size=\"14.00\" fill=\"#000000\">entropy = 0.629</text>\n<text text-anchor=\"start\" x=\"914.5\" y=\"-1807.8\" font-family=\"Helvetica,sans-Serif\" font-size=\"14.00\" fill=\"#000000\">samples = 171</text>\n<text text-anchor=\"start\" x=\"908.5\" y=\"-1792.8\" font-family=\"Helvetica,sans-Serif\" font-size=\"14.00\" fill=\"#000000\">value = [144, 27]</text>\n<text text-anchor=\"start\" x=\"925\" y=\"-1777.8\" font-family=\"Helvetica,sans-Serif\" font-size=\"14.00\" fill=\"#000000\">class = não</text>\n</g>\n<!-- 13&#45;&gt;14 -->\n<g id=\"edge14\" class=\"edge\">\n<title>13&#45;&gt;14</title>\n<path fill=\"none\" stroke=\"#000000\" d=\"M1128.3286,-1896.5586C1103.7684,-1883.9609 1075.5288,-1869.476 1049.396,-1856.0716\"/>\n<polygon fill=\"#000000\" stroke=\"#000000\" points=\"1050.745,-1852.8301 1040.2498,-1851.3803 1047.5502,-1859.0585 1050.745,-1852.8301\"/>\n</g>\n<!-- 63 -->\n<g id=\"node64\" class=\"node\">\n<title>63</title>\n<path fill=\"#fbe9dd\" stroke=\"#000000\" d=\"M1463.5,-1853C1463.5,-1853 1369.5,-1853 1369.5,-1853 1363.5,-1853 1357.5,-1847 1357.5,-1841 1357.5,-1841 1357.5,-1782 1357.5,-1782 1357.5,-1776 1363.5,-1770 1369.5,-1770 1369.5,-1770 1463.5,-1770 1463.5,-1770 1469.5,-1770 1475.5,-1776 1475.5,-1782 1475.5,-1782 1475.5,-1841 1475.5,-1841 1475.5,-1847 1469.5,-1853 1463.5,-1853\"/>\n<text text-anchor=\"start\" x=\"1367.5\" y=\"-1837.8\" font-family=\"Helvetica,sans-Serif\" font-size=\"14.00\" fill=\"#000000\">Glucose ≤ 94.5</text>\n<text text-anchor=\"start\" x=\"1365.5\" y=\"-1822.8\" font-family=\"Helvetica,sans-Serif\" font-size=\"14.00\" fill=\"#000000\">entropy = 0.994</text>\n<text text-anchor=\"start\" x=\"1368.5\" y=\"-1807.8\" font-family=\"Helvetica,sans-Serif\" font-size=\"14.00\" fill=\"#000000\">samples = 170</text>\n<text text-anchor=\"start\" x=\"1366.5\" y=\"-1792.8\" font-family=\"Helvetica,sans-Serif\" font-size=\"14.00\" fill=\"#000000\">value = [93, 77]</text>\n<text text-anchor=\"start\" x=\"1379\" y=\"-1777.8\" font-family=\"Helvetica,sans-Serif\" font-size=\"14.00\" fill=\"#000000\">class = não</text>\n</g>\n<!-- 13&#45;&gt;63 -->\n<g id=\"edge63\" class=\"edge\">\n<title>13&#45;&gt;63</title>\n<path fill=\"none\" stroke=\"#000000\" d=\"M1260.5063,-1895.1183C1288.1855,-1880.2812 1320.3578,-1863.0357 1348.2704,-1848.0735\"/>\n<polygon fill=\"#000000\" stroke=\"#000000\" points=\"1350.0121,-1851.1111 1357.1722,-1843.3019 1346.705,-1844.9416 1350.0121,-1851.1111\"/>\n</g>\n<!-- 15 -->\n<g id=\"node16\" class=\"node\">\n<title>15</title>\n<path fill=\"#e6853f\" stroke=\"#000000\" d=\"M809.5,-1734C809.5,-1734 711.5,-1734 711.5,-1734 705.5,-1734 699.5,-1728 699.5,-1722 699.5,-1722 699.5,-1663 699.5,-1663 699.5,-1657 705.5,-1651 711.5,-1651 711.5,-1651 809.5,-1651 809.5,-1651 815.5,-1651 821.5,-1657 821.5,-1663 821.5,-1663 821.5,-1722 821.5,-1722 821.5,-1728 815.5,-1734 809.5,-1734\"/>\n<text text-anchor=\"start\" x=\"707.5\" y=\"-1718.8\" font-family=\"Helvetica,sans-Serif\" font-size=\"14.00\" fill=\"#000000\">Glucose ≤ 127.5</text>\n<text text-anchor=\"start\" x=\"709.5\" y=\"-1703.8\" font-family=\"Helvetica,sans-Serif\" font-size=\"14.00\" fill=\"#000000\">entropy = 0.187</text>\n<text text-anchor=\"start\" x=\"716.5\" y=\"-1688.8\" font-family=\"Helvetica,sans-Serif\" font-size=\"14.00\" fill=\"#000000\">samples = 70</text>\n<text text-anchor=\"start\" x=\"715\" y=\"-1673.8\" font-family=\"Helvetica,sans-Serif\" font-size=\"14.00\" fill=\"#000000\">value = [68, 2]</text>\n<text text-anchor=\"start\" x=\"723\" y=\"-1658.8\" font-family=\"Helvetica,sans-Serif\" font-size=\"14.00\" fill=\"#000000\">class = não</text>\n</g>\n<!-- 14&#45;&gt;15 -->\n<g id=\"edge15\" class=\"edge\">\n<title>14&#45;&gt;15</title>\n<path fill=\"none\" stroke=\"#000000\" d=\"M891.8502,-1769.8796C871.93,-1758.1444 850.2733,-1745.3863 830.3974,-1733.6772\"/>\n<polygon fill=\"#000000\" stroke=\"#000000\" points=\"832.0946,-1730.6149 821.702,-1728.5546 828.5415,-1736.6461 832.0946,-1730.6149\"/>\n</g>\n<!-- 22 -->\n<g id=\"node23\" class=\"node\">\n<title>22</title>\n<path fill=\"#eeaa7a\" stroke=\"#000000\" d=\"M1011.5,-1734C1011.5,-1734 913.5,-1734 913.5,-1734 907.5,-1734 901.5,-1728 901.5,-1722 901.5,-1722 901.5,-1663 901.5,-1663 901.5,-1657 907.5,-1651 913.5,-1651 913.5,-1651 1011.5,-1651 1011.5,-1651 1017.5,-1651 1023.5,-1657 1023.5,-1663 1023.5,-1663 1023.5,-1722 1023.5,-1722 1023.5,-1728 1017.5,-1734 1011.5,-1734\"/>\n<text text-anchor=\"start\" x=\"909.5\" y=\"-1718.8\" font-family=\"Helvetica,sans-Serif\" font-size=\"14.00\" fill=\"#000000\">Glucose ≤ 106.5</text>\n<text text-anchor=\"start\" x=\"911.5\" y=\"-1703.8\" font-family=\"Helvetica,sans-Serif\" font-size=\"14.00\" fill=\"#000000\">entropy = 0.807</text>\n<text text-anchor=\"start\" x=\"914.5\" y=\"-1688.8\" font-family=\"Helvetica,sans-Serif\" font-size=\"14.00\" fill=\"#000000\">samples = 101</text>\n<text text-anchor=\"start\" x=\"912.5\" y=\"-1673.8\" font-family=\"Helvetica,sans-Serif\" font-size=\"14.00\" fill=\"#000000\">value = [76, 25]</text>\n<text text-anchor=\"start\" x=\"925\" y=\"-1658.8\" font-family=\"Helvetica,sans-Serif\" font-size=\"14.00\" fill=\"#000000\">class = não</text>\n</g>\n<!-- 14&#45;&gt;22 -->\n<g id=\"edge22\" class=\"edge\">\n<title>14&#45;&gt;22</title>\n<path fill=\"none\" stroke=\"#000000\" d=\"M962.5,-1769.8796C962.5,-1761.6838 962.5,-1752.9891 962.5,-1744.5013\"/>\n<polygon fill=\"#000000\" stroke=\"#000000\" points=\"966.0001,-1744.298 962.5,-1734.2981 959.0001,-1744.2981 966.0001,-1744.298\"/>\n</g>\n<!-- 16 -->\n<g id=\"node17\" class=\"node\">\n<title>16</title>\n<path fill=\"#e58139\" stroke=\"#000000\" d=\"M645,-1607.5C645,-1607.5 562,-1607.5 562,-1607.5 556,-1607.5 550,-1601.5 550,-1595.5 550,-1595.5 550,-1551.5 550,-1551.5 550,-1545.5 556,-1539.5 562,-1539.5 562,-1539.5 645,-1539.5 645,-1539.5 651,-1539.5 657,-1545.5 657,-1551.5 657,-1551.5 657,-1595.5 657,-1595.5 657,-1601.5 651,-1607.5 645,-1607.5\"/>\n<text text-anchor=\"start\" x=\"561\" y=\"-1592.3\" font-family=\"Helvetica,sans-Serif\" font-size=\"14.00\" fill=\"#000000\">entropy = 0.0</text>\n<text text-anchor=\"start\" x=\"559.5\" y=\"-1577.3\" font-family=\"Helvetica,sans-Serif\" font-size=\"14.00\" fill=\"#000000\">samples = 60</text>\n<text text-anchor=\"start\" x=\"558\" y=\"-1562.3\" font-family=\"Helvetica,sans-Serif\" font-size=\"14.00\" fill=\"#000000\">value = [60, 0]</text>\n<text text-anchor=\"start\" x=\"566\" y=\"-1547.3\" font-family=\"Helvetica,sans-Serif\" font-size=\"14.00\" fill=\"#000000\">class = não</text>\n</g>\n<!-- 15&#45;&gt;16 -->\n<g id=\"edge16\" class=\"edge\">\n<title>15&#45;&gt;16</title>\n<path fill=\"none\" stroke=\"#000000\" d=\"M705.589,-1650.8796C689.7006,-1638.8368 672.3909,-1625.7167 656.6143,-1613.7586\"/>\n<polygon fill=\"#000000\" stroke=\"#000000\" points=\"658.6031,-1610.8743 648.5195,-1607.623 654.3747,-1616.4529 658.6031,-1610.8743\"/>\n</g>\n<!-- 17 -->\n<g id=\"node18\" class=\"node\">\n<title>17</title>\n<path fill=\"#eca06a\" stroke=\"#000000\" d=\"M785.5,-1615C785.5,-1615 687.5,-1615 687.5,-1615 681.5,-1615 675.5,-1609 675.5,-1603 675.5,-1603 675.5,-1544 675.5,-1544 675.5,-1538 681.5,-1532 687.5,-1532 687.5,-1532 785.5,-1532 785.5,-1532 791.5,-1532 797.5,-1538 797.5,-1544 797.5,-1544 797.5,-1603 797.5,-1603 797.5,-1609 791.5,-1615 785.5,-1615\"/>\n<text text-anchor=\"start\" x=\"683.5\" y=\"-1599.8\" font-family=\"Helvetica,sans-Serif\" font-size=\"14.00\" fill=\"#000000\">Glucose ≤ 128.5</text>\n<text text-anchor=\"start\" x=\"685.5\" y=\"-1584.8\" font-family=\"Helvetica,sans-Serif\" font-size=\"14.00\" fill=\"#000000\">entropy = 0.722</text>\n<text text-anchor=\"start\" x=\"692.5\" y=\"-1569.8\" font-family=\"Helvetica,sans-Serif\" font-size=\"14.00\" fill=\"#000000\">samples = 10</text>\n<text text-anchor=\"start\" x=\"695\" y=\"-1554.8\" font-family=\"Helvetica,sans-Serif\" font-size=\"14.00\" fill=\"#000000\">value = [8, 2]</text>\n<text text-anchor=\"start\" x=\"699\" y=\"-1539.8\" font-family=\"Helvetica,sans-Serif\" font-size=\"14.00\" fill=\"#000000\">class = não</text>\n</g>\n<!-- 15&#45;&gt;17 -->\n<g id=\"edge17\" class=\"edge\">\n<title>15&#45;&gt;17</title>\n<path fill=\"none\" stroke=\"#000000\" d=\"M752.106,-1650.8796C750.4349,-1642.5938 748.6609,-1633.798 746.9312,-1625.2216\"/>\n<polygon fill=\"#000000\" stroke=\"#000000\" points=\"750.3379,-1624.4087 744.9299,-1615.2981 743.476,-1625.7927 750.3379,-1624.4087\"/>\n</g>\n<!-- 18 -->\n<g id=\"node19\" class=\"node\">\n<title>18</title>\n<path fill=\"#9ccef2\" stroke=\"#000000\" d=\"M554,-1496C554,-1496 337,-1496 337,-1496 331,-1496 325,-1490 325,-1484 325,-1484 325,-1425 325,-1425 325,-1419 331,-1413 337,-1413 337,-1413 554,-1413 554,-1413 560,-1413 566,-1419 566,-1425 566,-1425 566,-1484 566,-1484 566,-1490 560,-1496 554,-1496\"/>\n<text text-anchor=\"start\" x=\"333\" y=\"-1480.8\" font-family=\"Helvetica,sans-Serif\" font-size=\"14.00\" fill=\"#000000\">DiabetesPedigreeFunction ≤ 0.332</text>\n<text text-anchor=\"start\" x=\"394.5\" y=\"-1465.8\" font-family=\"Helvetica,sans-Serif\" font-size=\"14.00\" fill=\"#000000\">entropy = 0.918</text>\n<text text-anchor=\"start\" x=\"406\" y=\"-1450.8\" font-family=\"Helvetica,sans-Serif\" font-size=\"14.00\" fill=\"#000000\">samples = 3</text>\n<text text-anchor=\"start\" x=\"404\" y=\"-1435.8\" font-family=\"Helvetica,sans-Serif\" font-size=\"14.00\" fill=\"#000000\">value = [1, 2]</text>\n<text text-anchor=\"start\" x=\"409\" y=\"-1420.8\" font-family=\"Helvetica,sans-Serif\" font-size=\"14.00\" fill=\"#000000\">class = sim</text>\n</g>\n<!-- 17&#45;&gt;18 -->\n<g id=\"edge18\" class=\"edge\">\n<title>17&#45;&gt;18</title>\n<path fill=\"none\" stroke=\"#000000\" d=\"M675.3103,-1536.7749C672.022,-1535.1035 668.7387,-1533.5004 665.5,-1532 647.9283,-1523.8598 612.7777,-1510.9842 575.6364,-1498.048\"/>\n<polygon fill=\"#000000\" stroke=\"#000000\" points=\"576.7551,-1494.7315 566.1603,-1494.7606 574.4608,-1501.3448 576.7551,-1494.7315\"/>\n</g>\n<!-- 21 -->\n<g id=\"node22\" class=\"node\">\n<title>21</title>\n<path fill=\"#e58139\" stroke=\"#000000\" d=\"M673,-1488.5C673,-1488.5 596,-1488.5 596,-1488.5 590,-1488.5 584,-1482.5 584,-1476.5 584,-1476.5 584,-1432.5 584,-1432.5 584,-1426.5 590,-1420.5 596,-1420.5 596,-1420.5 673,-1420.5 673,-1420.5 679,-1420.5 685,-1426.5 685,-1432.5 685,-1432.5 685,-1476.5 685,-1476.5 685,-1482.5 679,-1488.5 673,-1488.5\"/>\n<text text-anchor=\"start\" x=\"592\" y=\"-1473.3\" font-family=\"Helvetica,sans-Serif\" font-size=\"14.00\" fill=\"#000000\">entropy = 0.0</text>\n<text text-anchor=\"start\" x=\"595\" y=\"-1458.3\" font-family=\"Helvetica,sans-Serif\" font-size=\"14.00\" fill=\"#000000\">samples = 7</text>\n<text text-anchor=\"start\" x=\"593\" y=\"-1443.3\" font-family=\"Helvetica,sans-Serif\" font-size=\"14.00\" fill=\"#000000\">value = [7, 0]</text>\n<text text-anchor=\"start\" x=\"597\" y=\"-1428.3\" font-family=\"Helvetica,sans-Serif\" font-size=\"14.00\" fill=\"#000000\">class = não</text>\n</g>\n<!-- 17&#45;&gt;21 -->\n<g id=\"edge21\" class=\"edge\">\n<title>17&#45;&gt;21</title>\n<path fill=\"none\" stroke=\"#000000\" d=\"M700.8253,-1531.8796C691.0231,-1520.4436 680.3882,-1508.0363 670.5643,-1496.575\"/>\n<polygon fill=\"#000000\" stroke=\"#000000\" points=\"673.0782,-1494.1297 663.9128,-1488.8149 667.7633,-1498.6853 673.0782,-1494.1297\"/>\n</g>\n<!-- 19 -->\n<g id=\"node20\" class=\"node\">\n<title>19</title>\n<path fill=\"#e58139\" stroke=\"#000000\" d=\"M385,-1369.5C385,-1369.5 308,-1369.5 308,-1369.5 302,-1369.5 296,-1363.5 296,-1357.5 296,-1357.5 296,-1313.5 296,-1313.5 296,-1307.5 302,-1301.5 308,-1301.5 308,-1301.5 385,-1301.5 385,-1301.5 391,-1301.5 397,-1307.5 397,-1313.5 397,-1313.5 397,-1357.5 397,-1357.5 397,-1363.5 391,-1369.5 385,-1369.5\"/>\n<text text-anchor=\"start\" x=\"304\" y=\"-1354.3\" font-family=\"Helvetica,sans-Serif\" font-size=\"14.00\" fill=\"#000000\">entropy = 0.0</text>\n<text text-anchor=\"start\" x=\"307\" y=\"-1339.3\" font-family=\"Helvetica,sans-Serif\" font-size=\"14.00\" fill=\"#000000\">samples = 1</text>\n<text text-anchor=\"start\" x=\"305\" y=\"-1324.3\" font-family=\"Helvetica,sans-Serif\" font-size=\"14.00\" fill=\"#000000\">value = [1, 0]</text>\n<text text-anchor=\"start\" x=\"309\" y=\"-1309.3\" font-family=\"Helvetica,sans-Serif\" font-size=\"14.00\" fill=\"#000000\">class = não</text>\n</g>\n<!-- 18&#45;&gt;19 -->\n<g id=\"edge19\" class=\"edge\">\n<title>18&#45;&gt;19</title>\n<path fill=\"none\" stroke=\"#000000\" d=\"M410.8746,-1412.8796C401.3607,-1401.4436 391.0386,-1389.0363 381.5035,-1377.575\"/>\n<polygon fill=\"#000000\" stroke=\"#000000\" points=\"384.1339,-1375.264 375.0477,-1369.8149 378.7526,-1379.7409 384.1339,-1375.264\"/>\n</g>\n<!-- 20 -->\n<g id=\"node21\" class=\"node\">\n<title>20</title>\n<path fill=\"#399de5\" stroke=\"#000000\" d=\"M504,-1369.5C504,-1369.5 427,-1369.5 427,-1369.5 421,-1369.5 415,-1363.5 415,-1357.5 415,-1357.5 415,-1313.5 415,-1313.5 415,-1307.5 421,-1301.5 427,-1301.5 427,-1301.5 504,-1301.5 504,-1301.5 510,-1301.5 516,-1307.5 516,-1313.5 516,-1313.5 516,-1357.5 516,-1357.5 516,-1363.5 510,-1369.5 504,-1369.5\"/>\n<text text-anchor=\"start\" x=\"423\" y=\"-1354.3\" font-family=\"Helvetica,sans-Serif\" font-size=\"14.00\" fill=\"#000000\">entropy = 0.0</text>\n<text text-anchor=\"start\" x=\"426\" y=\"-1339.3\" font-family=\"Helvetica,sans-Serif\" font-size=\"14.00\" fill=\"#000000\">samples = 2</text>\n<text text-anchor=\"start\" x=\"424\" y=\"-1324.3\" font-family=\"Helvetica,sans-Serif\" font-size=\"14.00\" fill=\"#000000\">value = [0, 2]</text>\n<text text-anchor=\"start\" x=\"429\" y=\"-1309.3\" font-family=\"Helvetica,sans-Serif\" font-size=\"14.00\" fill=\"#000000\">class = sim</text>\n</g>\n<!-- 18&#45;&gt;20 -->\n<g id=\"edge20\" class=\"edge\">\n<title>18&#45;&gt;20</title>\n<path fill=\"none\" stroke=\"#000000\" d=\"M452.495,-1412.8796C454.2877,-1402.2134 456.2223,-1390.7021 458.0376,-1379.9015\"/>\n<polygon fill=\"#000000\" stroke=\"#000000\" points=\"461.5269,-1380.2568 459.7328,-1369.8149 454.6237,-1379.0965 461.5269,-1380.2568\"/>\n</g>\n<!-- 23 -->\n<g id=\"node24\" class=\"node\">\n<title>23</title>\n<path fill=\"#e78b49\" stroke=\"#000000\" d=\"M934.5,-1615C934.5,-1615 840.5,-1615 840.5,-1615 834.5,-1615 828.5,-1609 828.5,-1603 828.5,-1603 828.5,-1544 828.5,-1544 828.5,-1538 834.5,-1532 840.5,-1532 840.5,-1532 934.5,-1532 934.5,-1532 940.5,-1532 946.5,-1538 946.5,-1544 946.5,-1544 946.5,-1603 946.5,-1603 946.5,-1609 940.5,-1615 934.5,-1615\"/>\n<text text-anchor=\"start\" x=\"852.5\" y=\"-1599.8\" font-family=\"Helvetica,sans-Serif\" font-size=\"14.00\" fill=\"#000000\">BMI ≤ 37.8</text>\n<text text-anchor=\"start\" x=\"836.5\" y=\"-1584.8\" font-family=\"Helvetica,sans-Serif\" font-size=\"14.00\" fill=\"#000000\">entropy = 0.384</text>\n<text text-anchor=\"start\" x=\"843.5\" y=\"-1569.8\" font-family=\"Helvetica,sans-Serif\" font-size=\"14.00\" fill=\"#000000\">samples = 40</text>\n<text text-anchor=\"start\" x=\"842\" y=\"-1554.8\" font-family=\"Helvetica,sans-Serif\" font-size=\"14.00\" fill=\"#000000\">value = [37, 3]</text>\n<text text-anchor=\"start\" x=\"850\" y=\"-1539.8\" font-family=\"Helvetica,sans-Serif\" font-size=\"14.00\" fill=\"#000000\">class = não</text>\n</g>\n<!-- 22&#45;&gt;23 -->\n<g id=\"edge23\" class=\"edge\">\n<title>22&#45;&gt;23</title>\n<path fill=\"none\" stroke=\"#000000\" d=\"M936.2686,-1650.8796C930.7627,-1642.1434 924.8994,-1632.8404 919.2176,-1623.8253\"/>\n<polygon fill=\"#000000\" stroke=\"#000000\" points=\"922.1363,-1621.8919 913.8433,-1615.2981 916.2143,-1625.6242 922.1363,-1621.8919\"/>\n</g>\n<!-- 30 -->\n<g id=\"node31\" class=\"node\">\n<title>30</title>\n<path fill=\"#f4c8a9\" stroke=\"#000000\" d=\"M1074.5,-1615C1074.5,-1615 976.5,-1615 976.5,-1615 970.5,-1615 964.5,-1609 964.5,-1603 964.5,-1603 964.5,-1544 964.5,-1544 964.5,-1538 970.5,-1532 976.5,-1532 976.5,-1532 1074.5,-1532 1074.5,-1532 1080.5,-1532 1086.5,-1538 1086.5,-1544 1086.5,-1544 1086.5,-1603 1086.5,-1603 1086.5,-1609 1080.5,-1615 1074.5,-1615\"/>\n<text text-anchor=\"start\" x=\"972.5\" y=\"-1599.8\" font-family=\"Helvetica,sans-Serif\" font-size=\"14.00\" fill=\"#000000\">Glucose ≤ 128.5</text>\n<text text-anchor=\"start\" x=\"974.5\" y=\"-1584.8\" font-family=\"Helvetica,sans-Serif\" font-size=\"14.00\" fill=\"#000000\">entropy = 0.943</text>\n<text text-anchor=\"start\" x=\"981.5\" y=\"-1569.8\" font-family=\"Helvetica,sans-Serif\" font-size=\"14.00\" fill=\"#000000\">samples = 61</text>\n<text text-anchor=\"start\" x=\"975.5\" y=\"-1554.8\" font-family=\"Helvetica,sans-Serif\" font-size=\"14.00\" fill=\"#000000\">value = [39, 22]</text>\n<text text-anchor=\"start\" x=\"988\" y=\"-1539.8\" font-family=\"Helvetica,sans-Serif\" font-size=\"14.00\" fill=\"#000000\">class = não</text>\n</g>\n<!-- 22&#45;&gt;30 -->\n<g id=\"edge30\" class=\"edge\">\n<title>22&#45;&gt;30</title>\n<path fill=\"none\" stroke=\"#000000\" d=\"M984.5343,-1650.8796C989.064,-1642.3236 993.8815,-1633.2238 998.5618,-1624.3833\"/>\n<polygon fill=\"#000000\" stroke=\"#000000\" points=\"1001.7859,-1625.7736 1003.3716,-1615.2981 995.5994,-1622.4983 1001.7859,-1625.7736\"/>\n</g>\n<!-- 24 -->\n<g id=\"node25\" class=\"node\">\n<title>24</title>\n<path fill=\"#e58139\" stroke=\"#000000\" d=\"M798,-1488.5C798,-1488.5 715,-1488.5 715,-1488.5 709,-1488.5 703,-1482.5 703,-1476.5 703,-1476.5 703,-1432.5 703,-1432.5 703,-1426.5 709,-1420.5 715,-1420.5 715,-1420.5 798,-1420.5 798,-1420.5 804,-1420.5 810,-1426.5 810,-1432.5 810,-1432.5 810,-1476.5 810,-1476.5 810,-1482.5 804,-1488.5 798,-1488.5\"/>\n<text text-anchor=\"start\" x=\"714\" y=\"-1473.3\" font-family=\"Helvetica,sans-Serif\" font-size=\"14.00\" fill=\"#000000\">entropy = 0.0</text>\n<text text-anchor=\"start\" x=\"712.5\" y=\"-1458.3\" font-family=\"Helvetica,sans-Serif\" font-size=\"14.00\" fill=\"#000000\">samples = 27</text>\n<text text-anchor=\"start\" x=\"711\" y=\"-1443.3\" font-family=\"Helvetica,sans-Serif\" font-size=\"14.00\" fill=\"#000000\">value = [27, 0]</text>\n<text text-anchor=\"start\" x=\"719\" y=\"-1428.3\" font-family=\"Helvetica,sans-Serif\" font-size=\"14.00\" fill=\"#000000\">class = não</text>\n</g>\n<!-- 23&#45;&gt;24 -->\n<g id=\"edge24\" class=\"edge\">\n<title>23&#45;&gt;24</title>\n<path fill=\"none\" stroke=\"#000000\" d=\"M841.6826,-1531.8796C828.7303,-1520.1138 814.646,-1507.3197 801.7286,-1495.5855\"/>\n<polygon fill=\"#000000\" stroke=\"#000000\" points=\"804.0306,-1492.9482 794.2753,-1488.8149 799.3239,-1498.1296 804.0306,-1492.9482\"/>\n</g>\n<!-- 25 -->\n<g id=\"node26\" class=\"node\">\n<title>25</title>\n<path fill=\"#eda774\" stroke=\"#000000\" d=\"M934.5,-1496C934.5,-1496 840.5,-1496 840.5,-1496 834.5,-1496 828.5,-1490 828.5,-1484 828.5,-1484 828.5,-1425 828.5,-1425 828.5,-1419 834.5,-1413 840.5,-1413 840.5,-1413 934.5,-1413 934.5,-1413 940.5,-1413 946.5,-1419 946.5,-1425 946.5,-1425 946.5,-1484 946.5,-1484 946.5,-1490 940.5,-1496 934.5,-1496\"/>\n<text text-anchor=\"start\" x=\"852.5\" y=\"-1480.8\" font-family=\"Helvetica,sans-Serif\" font-size=\"14.00\" fill=\"#000000\">BMI ≤ 38.4</text>\n<text text-anchor=\"start\" x=\"836.5\" y=\"-1465.8\" font-family=\"Helvetica,sans-Serif\" font-size=\"14.00\" fill=\"#000000\">entropy = 0.779</text>\n<text text-anchor=\"start\" x=\"843.5\" y=\"-1450.8\" font-family=\"Helvetica,sans-Serif\" font-size=\"14.00\" fill=\"#000000\">samples = 13</text>\n<text text-anchor=\"start\" x=\"842\" y=\"-1435.8\" font-family=\"Helvetica,sans-Serif\" font-size=\"14.00\" fill=\"#000000\">value = [10, 3]</text>\n<text text-anchor=\"start\" x=\"850\" y=\"-1420.8\" font-family=\"Helvetica,sans-Serif\" font-size=\"14.00\" fill=\"#000000\">class = não</text>\n</g>\n<!-- 23&#45;&gt;25 -->\n<g id=\"edge25\" class=\"edge\">\n<title>23&#45;&gt;25</title>\n<path fill=\"none\" stroke=\"#000000\" d=\"M887.5,-1531.8796C887.5,-1523.6838 887.5,-1514.9891 887.5,-1506.5013\"/>\n<polygon fill=\"#000000\" stroke=\"#000000\" points=\"891.0001,-1506.298 887.5,-1496.2981 884.0001,-1506.2981 891.0001,-1506.298\"/>\n</g>\n<!-- 26 -->\n<g id=\"node27\" class=\"node\">\n<title>26</title>\n<path fill=\"#399de5\" stroke=\"#000000\" d=\"M634,-1369.5C634,-1369.5 557,-1369.5 557,-1369.5 551,-1369.5 545,-1363.5 545,-1357.5 545,-1357.5 545,-1313.5 545,-1313.5 545,-1307.5 551,-1301.5 557,-1301.5 557,-1301.5 634,-1301.5 634,-1301.5 640,-1301.5 646,-1307.5 646,-1313.5 646,-1313.5 646,-1357.5 646,-1357.5 646,-1363.5 640,-1369.5 634,-1369.5\"/>\n<text text-anchor=\"start\" x=\"553\" y=\"-1354.3\" font-family=\"Helvetica,sans-Serif\" font-size=\"14.00\" fill=\"#000000\">entropy = 0.0</text>\n<text text-anchor=\"start\" x=\"556\" y=\"-1339.3\" font-family=\"Helvetica,sans-Serif\" font-size=\"14.00\" fill=\"#000000\">samples = 2</text>\n<text text-anchor=\"start\" x=\"554\" y=\"-1324.3\" font-family=\"Helvetica,sans-Serif\" font-size=\"14.00\" fill=\"#000000\">value = [0, 2]</text>\n<text text-anchor=\"start\" x=\"559\" y=\"-1309.3\" font-family=\"Helvetica,sans-Serif\" font-size=\"14.00\" fill=\"#000000\">class = sim</text>\n</g>\n<!-- 25&#45;&gt;26 -->\n<g id=\"edge26\" class=\"edge\">\n<title>25&#45;&gt;26</title>\n<path fill=\"none\" stroke=\"#000000\" d=\"M828.2749,-1417.2718C825.0164,-1415.7318 821.7462,-1414.2944 818.5,-1413 749.5864,-1385.5208 723.5047,-1406.6573 655.5,-1377 653.6715,-1376.2026 651.8409,-1375.3462 650.0153,-1374.4411\"/>\n<polygon fill=\"#000000\" stroke=\"#000000\" points=\"651.4257,-1371.2252 640.963,-1369.5575 648.1021,-1377.3859 651.4257,-1371.2252\"/>\n</g>\n<!-- 27 -->\n<g id=\"node28\" class=\"node\">\n<title>27</title>\n<path fill=\"#e88e4d\" stroke=\"#000000\" d=\"M770.5,-1377C770.5,-1377 676.5,-1377 676.5,-1377 670.5,-1377 664.5,-1371 664.5,-1365 664.5,-1365 664.5,-1306 664.5,-1306 664.5,-1300 670.5,-1294 676.5,-1294 676.5,-1294 770.5,-1294 770.5,-1294 776.5,-1294 782.5,-1300 782.5,-1306 782.5,-1306 782.5,-1365 782.5,-1365 782.5,-1371 776.5,-1377 770.5,-1377\"/>\n<text text-anchor=\"start\" x=\"688.5\" y=\"-1361.8\" font-family=\"Helvetica,sans-Serif\" font-size=\"14.00\" fill=\"#000000\">BMI ≤ 49.8</text>\n<text text-anchor=\"start\" x=\"672.5\" y=\"-1346.8\" font-family=\"Helvetica,sans-Serif\" font-size=\"14.00\" fill=\"#000000\">entropy = 0.439</text>\n<text text-anchor=\"start\" x=\"679.5\" y=\"-1331.8\" font-family=\"Helvetica,sans-Serif\" font-size=\"14.00\" fill=\"#000000\">samples = 11</text>\n<text text-anchor=\"start\" x=\"678\" y=\"-1316.8\" font-family=\"Helvetica,sans-Serif\" font-size=\"14.00\" fill=\"#000000\">value = [10, 1]</text>\n<text text-anchor=\"start\" x=\"686\" y=\"-1301.8\" font-family=\"Helvetica,sans-Serif\" font-size=\"14.00\" fill=\"#000000\">class = não</text>\n</g>\n<!-- 25&#45;&gt;27 -->\n<g id=\"edge27\" class=\"edge\">\n<title>25&#45;&gt;27</title>\n<path fill=\"none\" stroke=\"#000000\" d=\"M830.1408,-1412.8796C816.9075,-1403.2774 802.7303,-1392.9903 789.1736,-1383.1534\"/>\n<polygon fill=\"#000000\" stroke=\"#000000\" points=\"790.9762,-1380.1371 780.8269,-1377.0969 786.8651,-1385.8027 790.9762,-1380.1371\"/>\n</g>\n<!-- 28 -->\n<g id=\"node29\" class=\"node\">\n<title>28</title>\n<path fill=\"#e58139\" stroke=\"#000000\" d=\"M543,-1250.5C543,-1250.5 460,-1250.5 460,-1250.5 454,-1250.5 448,-1244.5 448,-1238.5 448,-1238.5 448,-1194.5 448,-1194.5 448,-1188.5 454,-1182.5 460,-1182.5 460,-1182.5 543,-1182.5 543,-1182.5 549,-1182.5 555,-1188.5 555,-1194.5 555,-1194.5 555,-1238.5 555,-1238.5 555,-1244.5 549,-1250.5 543,-1250.5\"/>\n<text text-anchor=\"start\" x=\"459\" y=\"-1235.3\" font-family=\"Helvetica,sans-Serif\" font-size=\"14.00\" fill=\"#000000\">entropy = 0.0</text>\n<text text-anchor=\"start\" x=\"457.5\" y=\"-1220.3\" font-family=\"Helvetica,sans-Serif\" font-size=\"14.00\" fill=\"#000000\">samples = 10</text>\n<text text-anchor=\"start\" x=\"456\" y=\"-1205.3\" font-family=\"Helvetica,sans-Serif\" font-size=\"14.00\" fill=\"#000000\">value = [10, 0]</text>\n<text text-anchor=\"start\" x=\"464\" y=\"-1190.3\" font-family=\"Helvetica,sans-Serif\" font-size=\"14.00\" fill=\"#000000\">class = não</text>\n</g>\n<!-- 27&#45;&gt;28 -->\n<g id=\"edge28\" class=\"edge\">\n<title>27&#45;&gt;28</title>\n<path fill=\"none\" stroke=\"#000000\" d=\"M664.3805,-1299.0974C661.0663,-1297.3221 657.7582,-1295.6106 654.5,-1294 615.5094,-1274.726 602.013,-1278.2114 563.5,-1258 562.0018,-1257.2138 560.4951,-1256.3997 558.9847,-1255.5628\"/>\n<polygon fill=\"#000000\" stroke=\"#000000\" points=\"560.7343,-1252.5315 550.3259,-1250.5525 557.2284,-1258.5903 560.7343,-1252.5315\"/>\n</g>\n<!-- 29 -->\n<g id=\"node30\" class=\"node\">\n<title>29</title>\n<path fill=\"#399de5\" stroke=\"#000000\" d=\"M662,-1250.5C662,-1250.5 585,-1250.5 585,-1250.5 579,-1250.5 573,-1244.5 573,-1238.5 573,-1238.5 573,-1194.5 573,-1194.5 573,-1188.5 579,-1182.5 585,-1182.5 585,-1182.5 662,-1182.5 662,-1182.5 668,-1182.5 674,-1188.5 674,-1194.5 674,-1194.5 674,-1238.5 674,-1238.5 674,-1244.5 668,-1250.5 662,-1250.5\"/>\n<text text-anchor=\"start\" x=\"581\" y=\"-1235.3\" font-family=\"Helvetica,sans-Serif\" font-size=\"14.00\" fill=\"#000000\">entropy = 0.0</text>\n<text text-anchor=\"start\" x=\"584\" y=\"-1220.3\" font-family=\"Helvetica,sans-Serif\" font-size=\"14.00\" fill=\"#000000\">samples = 1</text>\n<text text-anchor=\"start\" x=\"582\" y=\"-1205.3\" font-family=\"Helvetica,sans-Serif\" font-size=\"14.00\" fill=\"#000000\">value = [0, 1]</text>\n<text text-anchor=\"start\" x=\"587\" y=\"-1190.3\" font-family=\"Helvetica,sans-Serif\" font-size=\"14.00\" fill=\"#000000\">class = sim</text>\n</g>\n<!-- 27&#45;&gt;29 -->\n<g id=\"edge29\" class=\"edge\">\n<title>27&#45;&gt;29</title>\n<path fill=\"none\" stroke=\"#000000\" d=\"M688.5249,-1293.8796C678.9148,-1282.4436 668.4885,-1270.0363 658.8571,-1258.575\"/>\n<polygon fill=\"#000000\" stroke=\"#000000\" points=\"661.4491,-1256.219 652.3361,-1250.8149 656.09,-1260.7225 661.4491,-1256.219\"/>\n</g>\n<!-- 31 -->\n<g id=\"node32\" class=\"node\">\n<title>31</title>\n<path fill=\"#efb083\" stroke=\"#000000\" d=\"M1071.5,-1496C1071.5,-1496 977.5,-1496 977.5,-1496 971.5,-1496 965.5,-1490 965.5,-1484 965.5,-1484 965.5,-1425 965.5,-1425 965.5,-1419 971.5,-1413 977.5,-1413 977.5,-1413 1071.5,-1413 1071.5,-1413 1077.5,-1413 1083.5,-1419 1083.5,-1425 1083.5,-1425 1083.5,-1484 1083.5,-1484 1083.5,-1490 1077.5,-1496 1071.5,-1496\"/>\n<text text-anchor=\"start\" x=\"977.5\" y=\"-1480.8\" font-family=\"Helvetica,sans-Serif\" font-size=\"14.00\" fill=\"#000000\">Insulin ≤ 129.5</text>\n<text text-anchor=\"start\" x=\"973.5\" y=\"-1465.8\" font-family=\"Helvetica,sans-Serif\" font-size=\"14.00\" fill=\"#000000\">entropy = 0.845</text>\n<text text-anchor=\"start\" x=\"980.5\" y=\"-1450.8\" font-family=\"Helvetica,sans-Serif\" font-size=\"14.00\" fill=\"#000000\">samples = 44</text>\n<text text-anchor=\"start\" x=\"974.5\" y=\"-1435.8\" font-family=\"Helvetica,sans-Serif\" font-size=\"14.00\" fill=\"#000000\">value = [32, 12]</text>\n<text text-anchor=\"start\" x=\"987\" y=\"-1420.8\" font-family=\"Helvetica,sans-Serif\" font-size=\"14.00\" fill=\"#000000\">class = não</text>\n</g>\n<!-- 30&#45;&gt;31 -->\n<g id=\"edge31\" class=\"edge\">\n<title>30&#45;&gt;31</title>\n<path fill=\"none\" stroke=\"#000000\" d=\"M1025.1502,-1531.8796C1025.0814,-1523.6838 1025.0083,-1514.9891 1024.937,-1506.5013\"/>\n<polygon fill=\"#000000\" stroke=\"#000000\" points=\"1028.4352,-1506.2683 1024.8512,-1496.2981 1021.4355,-1506.3272 1028.4352,-1506.2683\"/>\n</g>\n<!-- 52 -->\n<g id=\"node53\" class=\"node\">\n<title>52</title>\n<path fill=\"#c4e2f7\" stroke=\"#000000\" d=\"M1254.5,-1496C1254.5,-1496 1160.5,-1496 1160.5,-1496 1154.5,-1496 1148.5,-1490 1148.5,-1484 1148.5,-1484 1148.5,-1425 1148.5,-1425 1148.5,-1419 1154.5,-1413 1160.5,-1413 1160.5,-1413 1254.5,-1413 1254.5,-1413 1260.5,-1413 1266.5,-1419 1266.5,-1425 1266.5,-1425 1266.5,-1484 1266.5,-1484 1266.5,-1490 1260.5,-1496 1254.5,-1496\"/>\n<text text-anchor=\"start\" x=\"1172.5\" y=\"-1480.8\" font-family=\"Helvetica,sans-Serif\" font-size=\"14.00\" fill=\"#000000\">BMI ≤ 41.2</text>\n<text text-anchor=\"start\" x=\"1156.5\" y=\"-1465.8\" font-family=\"Helvetica,sans-Serif\" font-size=\"14.00\" fill=\"#000000\">entropy = 0.977</text>\n<text text-anchor=\"start\" x=\"1163.5\" y=\"-1450.8\" font-family=\"Helvetica,sans-Serif\" font-size=\"14.00\" fill=\"#000000\">samples = 17</text>\n<text text-anchor=\"start\" x=\"1162\" y=\"-1435.8\" font-family=\"Helvetica,sans-Serif\" font-size=\"14.00\" fill=\"#000000\">value = [7, 10]</text>\n<text text-anchor=\"start\" x=\"1171\" y=\"-1420.8\" font-family=\"Helvetica,sans-Serif\" font-size=\"14.00\" fill=\"#000000\">class = sim</text>\n</g>\n<!-- 30&#45;&gt;52 -->\n<g id=\"edge52\" class=\"edge\">\n<title>30&#45;&gt;52</title>\n<path fill=\"none\" stroke=\"#000000\" d=\"M1086.6097,-1533.5437C1103.7375,-1522.3447 1122.4547,-1510.1066 1139.934,-1498.6778\"/>\n<polygon fill=\"#000000\" stroke=\"#000000\" points=\"1141.9486,-1501.5423 1148.4029,-1493.1404 1138.1178,-1495.6835 1141.9486,-1501.5423\"/>\n</g>\n<!-- 32 -->\n<g id=\"node33\" class=\"node\">\n<title>32</title>\n<path fill=\"#f4caac\" stroke=\"#000000\" d=\"M916.5,-1377C916.5,-1377 822.5,-1377 822.5,-1377 816.5,-1377 810.5,-1371 810.5,-1365 810.5,-1365 810.5,-1306 810.5,-1306 810.5,-1300 816.5,-1294 822.5,-1294 822.5,-1294 916.5,-1294 916.5,-1294 922.5,-1294 928.5,-1300 928.5,-1306 928.5,-1306 928.5,-1365 928.5,-1365 928.5,-1371 922.5,-1377 916.5,-1377\"/>\n<text text-anchor=\"start\" x=\"834.5\" y=\"-1361.8\" font-family=\"Helvetica,sans-Serif\" font-size=\"14.00\" fill=\"#000000\">Age ≤ 21.5</text>\n<text text-anchor=\"start\" x=\"818.5\" y=\"-1346.8\" font-family=\"Helvetica,sans-Serif\" font-size=\"14.00\" fill=\"#000000\">entropy = 0.948</text>\n<text text-anchor=\"start\" x=\"825.5\" y=\"-1331.8\" font-family=\"Helvetica,sans-Serif\" font-size=\"14.00\" fill=\"#000000\">samples = 30</text>\n<text text-anchor=\"start\" x=\"819.5\" y=\"-1316.8\" font-family=\"Helvetica,sans-Serif\" font-size=\"14.00\" fill=\"#000000\">value = [19, 11]</text>\n<text text-anchor=\"start\" x=\"832\" y=\"-1301.8\" font-family=\"Helvetica,sans-Serif\" font-size=\"14.00\" fill=\"#000000\">class = não</text>\n</g>\n<!-- 31&#45;&gt;32 -->\n<g id=\"edge32\" class=\"edge\">\n<title>31&#45;&gt;32</title>\n<path fill=\"none\" stroke=\"#000000\" d=\"M970.2885,-1412.8796C957.8994,-1403.368 944.6351,-1393.1843 931.9324,-1383.432\"/>\n<polygon fill=\"#000000\" stroke=\"#000000\" points=\"933.7442,-1380.4105 923.6809,-1377.0969 929.4814,-1385.9628 933.7442,-1380.4105\"/>\n</g>\n<!-- 49 -->\n<g id=\"node50\" class=\"node\">\n<title>49</title>\n<path fill=\"#e78b48\" stroke=\"#000000\" d=\"M1090.5,-1377C1090.5,-1377 958.5,-1377 958.5,-1377 952.5,-1377 946.5,-1371 946.5,-1365 946.5,-1365 946.5,-1306 946.5,-1306 946.5,-1300 952.5,-1294 958.5,-1294 958.5,-1294 1090.5,-1294 1090.5,-1294 1096.5,-1294 1102.5,-1300 1102.5,-1306 1102.5,-1306 1102.5,-1365 1102.5,-1365 1102.5,-1371 1096.5,-1377 1090.5,-1377\"/>\n<text text-anchor=\"start\" x=\"954.5\" y=\"-1361.8\" font-family=\"Helvetica,sans-Serif\" font-size=\"14.00\" fill=\"#000000\">BloodPressure ≤ 50.0</text>\n<text text-anchor=\"start\" x=\"973.5\" y=\"-1346.8\" font-family=\"Helvetica,sans-Serif\" font-size=\"14.00\" fill=\"#000000\">entropy = 0.371</text>\n<text text-anchor=\"start\" x=\"980.5\" y=\"-1331.8\" font-family=\"Helvetica,sans-Serif\" font-size=\"14.00\" fill=\"#000000\">samples = 14</text>\n<text text-anchor=\"start\" x=\"979\" y=\"-1316.8\" font-family=\"Helvetica,sans-Serif\" font-size=\"14.00\" fill=\"#000000\">value = [13, 1]</text>\n<text text-anchor=\"start\" x=\"987\" y=\"-1301.8\" font-family=\"Helvetica,sans-Serif\" font-size=\"14.00\" fill=\"#000000\">class = não</text>\n</g>\n<!-- 31&#45;&gt;49 -->\n<g id=\"edge49\" class=\"edge\">\n<title>31&#45;&gt;49</title>\n<path fill=\"none\" stroke=\"#000000\" d=\"M1024.5,-1412.8796C1024.5,-1404.6838 1024.5,-1395.9891 1024.5,-1387.5013\"/>\n<polygon fill=\"#000000\" stroke=\"#000000\" points=\"1028.0001,-1387.298 1024.5,-1377.2981 1021.0001,-1387.2981 1028.0001,-1387.298\"/>\n</g>\n<!-- 33 -->\n<g id=\"node34\" class=\"node\">\n<title>33</title>\n<path fill=\"#399de5\" stroke=\"#000000\" d=\"M781,-1250.5C781,-1250.5 704,-1250.5 704,-1250.5 698,-1250.5 692,-1244.5 692,-1238.5 692,-1238.5 692,-1194.5 692,-1194.5 692,-1188.5 698,-1182.5 704,-1182.5 704,-1182.5 781,-1182.5 781,-1182.5 787,-1182.5 793,-1188.5 793,-1194.5 793,-1194.5 793,-1238.5 793,-1238.5 793,-1244.5 787,-1250.5 781,-1250.5\"/>\n<text text-anchor=\"start\" x=\"700\" y=\"-1235.3\" font-family=\"Helvetica,sans-Serif\" font-size=\"14.00\" fill=\"#000000\">entropy = 0.0</text>\n<text text-anchor=\"start\" x=\"703\" y=\"-1220.3\" font-family=\"Helvetica,sans-Serif\" font-size=\"14.00\" fill=\"#000000\">samples = 2</text>\n<text text-anchor=\"start\" x=\"701\" y=\"-1205.3\" font-family=\"Helvetica,sans-Serif\" font-size=\"14.00\" fill=\"#000000\">value = [0, 2]</text>\n<text text-anchor=\"start\" x=\"706\" y=\"-1190.3\" font-family=\"Helvetica,sans-Serif\" font-size=\"14.00\" fill=\"#000000\">class = sim</text>\n</g>\n<!-- 32&#45;&gt;33 -->\n<g id=\"edge33\" class=\"edge\">\n<title>32&#45;&gt;33</title>\n<path fill=\"none\" stroke=\"#000000\" d=\"M825.0816,-1293.8796C812.6421,-1282.2237 799.1257,-1269.5587 786.699,-1257.9148\"/>\n<polygon fill=\"#000000\" stroke=\"#000000\" points=\"788.8121,-1255.0985 779.1218,-1250.8149 784.0259,-1260.2065 788.8121,-1255.0985\"/>\n</g>\n<!-- 34 -->\n<g id=\"node35\" class=\"node\">\n<title>34</title>\n<path fill=\"#f1bd97\" stroke=\"#000000\" d=\"M917.5,-1258C917.5,-1258 823.5,-1258 823.5,-1258 817.5,-1258 811.5,-1252 811.5,-1246 811.5,-1246 811.5,-1187 811.5,-1187 811.5,-1181 817.5,-1175 823.5,-1175 823.5,-1175 917.5,-1175 917.5,-1175 923.5,-1175 929.5,-1181 929.5,-1187 929.5,-1187 929.5,-1246 929.5,-1246 929.5,-1252 923.5,-1258 917.5,-1258\"/>\n<text text-anchor=\"start\" x=\"835.5\" y=\"-1242.8\" font-family=\"Helvetica,sans-Serif\" font-size=\"14.00\" fill=\"#000000\">Age ≤ 24.5</text>\n<text text-anchor=\"start\" x=\"819.5\" y=\"-1227.8\" font-family=\"Helvetica,sans-Serif\" font-size=\"14.00\" fill=\"#000000\">entropy = 0.906</text>\n<text text-anchor=\"start\" x=\"826.5\" y=\"-1212.8\" font-family=\"Helvetica,sans-Serif\" font-size=\"14.00\" fill=\"#000000\">samples = 28</text>\n<text text-anchor=\"start\" x=\"825\" y=\"-1197.8\" font-family=\"Helvetica,sans-Serif\" font-size=\"14.00\" fill=\"#000000\">value = [19, 9]</text>\n<text text-anchor=\"start\" x=\"833\" y=\"-1182.8\" font-family=\"Helvetica,sans-Serif\" font-size=\"14.00\" fill=\"#000000\">class = não</text>\n</g>\n<!-- 32&#45;&gt;34 -->\n<g id=\"edge34\" class=\"edge\">\n<title>32&#45;&gt;34</title>\n<path fill=\"none\" stroke=\"#000000\" d=\"M869.8498,-1293.8796C869.9186,-1285.6838 869.9917,-1276.9891 870.063,-1268.5013\"/>\n<polygon fill=\"#000000\" stroke=\"#000000\" points=\"873.5645,-1268.3272 870.1488,-1258.2981 866.5648,-1268.2683 873.5645,-1268.3272\"/>\n</g>\n<!-- 35 -->\n<g id=\"node36\" class=\"node\">\n<title>35</title>\n<path fill=\"#e9965a\" stroke=\"#000000\" d=\"M907.5,-1139C907.5,-1139 797.5,-1139 797.5,-1139 791.5,-1139 785.5,-1133 785.5,-1127 785.5,-1127 785.5,-1068 785.5,-1068 785.5,-1062 791.5,-1056 797.5,-1056 797.5,-1056 907.5,-1056 907.5,-1056 913.5,-1056 919.5,-1062 919.5,-1068 919.5,-1068 919.5,-1127 919.5,-1127 919.5,-1133 913.5,-1139 907.5,-1139\"/>\n<text text-anchor=\"start\" x=\"793.5\" y=\"-1123.8\" font-family=\"Helvetica,sans-Serif\" font-size=\"14.00\" fill=\"#000000\">Pregnancies ≤ 0.5</text>\n<text text-anchor=\"start\" x=\"801.5\" y=\"-1108.8\" font-family=\"Helvetica,sans-Serif\" font-size=\"14.00\" fill=\"#000000\">entropy = 0.592</text>\n<text text-anchor=\"start\" x=\"808.5\" y=\"-1093.8\" font-family=\"Helvetica,sans-Serif\" font-size=\"14.00\" fill=\"#000000\">samples = 14</text>\n<text text-anchor=\"start\" x=\"807\" y=\"-1078.8\" font-family=\"Helvetica,sans-Serif\" font-size=\"14.00\" fill=\"#000000\">value = [12, 2]</text>\n<text text-anchor=\"start\" x=\"815\" y=\"-1063.8\" font-family=\"Helvetica,sans-Serif\" font-size=\"14.00\" fill=\"#000000\">class = não</text>\n</g>\n<!-- 34&#45;&gt;35 -->\n<g id=\"edge35\" class=\"edge\">\n<title>34&#45;&gt;35</title>\n<path fill=\"none\" stroke=\"#000000\" d=\"M864.2045,-1174.8796C862.9512,-1166.5938 861.6207,-1157.798 860.3234,-1149.2216\"/>\n<polygon fill=\"#000000\" stroke=\"#000000\" points=\"863.7787,-1148.6621 858.8224,-1139.2981 856.8574,-1149.7091 863.7787,-1148.6621\"/>\n</g>\n<!-- 40 -->\n<g id=\"node41\" class=\"node\">\n<title>40</title>\n<path fill=\"#ffffff\" stroke=\"#000000\" d=\"M1047.5,-1139C1047.5,-1139 949.5,-1139 949.5,-1139 943.5,-1139 937.5,-1133 937.5,-1127 937.5,-1127 937.5,-1068 937.5,-1068 937.5,-1062 943.5,-1056 949.5,-1056 949.5,-1056 1047.5,-1056 1047.5,-1056 1053.5,-1056 1059.5,-1062 1059.5,-1068 1059.5,-1068 1059.5,-1127 1059.5,-1127 1059.5,-1133 1053.5,-1139 1047.5,-1139\"/>\n<text text-anchor=\"start\" x=\"945.5\" y=\"-1123.8\" font-family=\"Helvetica,sans-Serif\" font-size=\"14.00\" fill=\"#000000\">Glucose ≤ 109.5</text>\n<text text-anchor=\"start\" x=\"956\" y=\"-1108.8\" font-family=\"Helvetica,sans-Serif\" font-size=\"14.00\" fill=\"#000000\">entropy = 1.0</text>\n<text text-anchor=\"start\" x=\"954.5\" y=\"-1093.8\" font-family=\"Helvetica,sans-Serif\" font-size=\"14.00\" fill=\"#000000\">samples = 14</text>\n<text text-anchor=\"start\" x=\"957\" y=\"-1078.8\" font-family=\"Helvetica,sans-Serif\" font-size=\"14.00\" fill=\"#000000\">value = [7, 7]</text>\n<text text-anchor=\"start\" x=\"961\" y=\"-1063.8\" font-family=\"Helvetica,sans-Serif\" font-size=\"14.00\" fill=\"#000000\">class = não</text>\n</g>\n<!-- 34&#45;&gt;40 -->\n<g id=\"edge40\" class=\"edge\">\n<title>34&#45;&gt;40</title>\n<path fill=\"none\" stroke=\"#000000\" d=\"M915.2682,-1174.8796C925.2463,-1165.6031 935.9119,-1155.6874 946.1642,-1146.1559\"/>\n<polygon fill=\"#000000\" stroke=\"#000000\" points=\"948.6,-1148.6704 953.5407,-1139.2981 943.8337,-1143.5436 948.6,-1148.6704\"/>\n</g>\n<!-- 36 -->\n<g id=\"node37\" class=\"node\">\n<title>36</title>\n<path fill=\"#ffffff\" stroke=\"#000000\" d=\"M775,-1020C775,-1020 698,-1020 698,-1020 692,-1020 686,-1014 686,-1008 686,-1008 686,-949 686,-949 686,-943 692,-937 698,-937 698,-937 775,-937 775,-937 781,-937 787,-943 787,-949 787,-949 787,-1008 787,-1008 787,-1014 781,-1020 775,-1020\"/>\n<text text-anchor=\"start\" x=\"697.5\" y=\"-1004.8\" font-family=\"Helvetica,sans-Serif\" font-size=\"14.00\" fill=\"#000000\">BMI ≤ 39.25</text>\n<text text-anchor=\"start\" x=\"694\" y=\"-989.8\" font-family=\"Helvetica,sans-Serif\" font-size=\"14.00\" fill=\"#000000\">entropy = 1.0</text>\n<text text-anchor=\"start\" x=\"697\" y=\"-974.8\" font-family=\"Helvetica,sans-Serif\" font-size=\"14.00\" fill=\"#000000\">samples = 4</text>\n<text text-anchor=\"start\" x=\"695\" y=\"-959.8\" font-family=\"Helvetica,sans-Serif\" font-size=\"14.00\" fill=\"#000000\">value = [2, 2]</text>\n<text text-anchor=\"start\" x=\"699\" y=\"-944.8\" font-family=\"Helvetica,sans-Serif\" font-size=\"14.00\" fill=\"#000000\">class = não</text>\n</g>\n<!-- 35&#45;&gt;36 -->\n<g id=\"edge36\" class=\"edge\">\n<title>35&#45;&gt;36</title>\n<path fill=\"none\" stroke=\"#000000\" d=\"M811.9288,-1055.8796C803.0618,-1046.7832 793.5956,-1037.0722 784.4709,-1027.7116\"/>\n<polygon fill=\"#000000\" stroke=\"#000000\" points=\"786.7309,-1025.0158 777.2443,-1020.2981 781.7183,-1029.9019 786.7309,-1025.0158\"/>\n</g>\n<!-- 39 -->\n<g id=\"node40\" class=\"node\">\n<title>39</title>\n<path fill=\"#e58139\" stroke=\"#000000\" d=\"M900,-1012.5C900,-1012.5 817,-1012.5 817,-1012.5 811,-1012.5 805,-1006.5 805,-1000.5 805,-1000.5 805,-956.5 805,-956.5 805,-950.5 811,-944.5 817,-944.5 817,-944.5 900,-944.5 900,-944.5 906,-944.5 912,-950.5 912,-956.5 912,-956.5 912,-1000.5 912,-1000.5 912,-1006.5 906,-1012.5 900,-1012.5\"/>\n<text text-anchor=\"start\" x=\"816\" y=\"-997.3\" font-family=\"Helvetica,sans-Serif\" font-size=\"14.00\" fill=\"#000000\">entropy = 0.0</text>\n<text text-anchor=\"start\" x=\"814.5\" y=\"-982.3\" font-family=\"Helvetica,sans-Serif\" font-size=\"14.00\" fill=\"#000000\">samples = 10</text>\n<text text-anchor=\"start\" x=\"813\" y=\"-967.3\" font-family=\"Helvetica,sans-Serif\" font-size=\"14.00\" fill=\"#000000\">value = [10, 0]</text>\n<text text-anchor=\"start\" x=\"821\" y=\"-952.3\" font-family=\"Helvetica,sans-Serif\" font-size=\"14.00\" fill=\"#000000\">class = não</text>\n</g>\n<!-- 35&#45;&gt;39 -->\n<g id=\"edge39\" class=\"edge\">\n<title>35&#45;&gt;39</title>\n<path fill=\"none\" stroke=\"#000000\" d=\"M854.5985,-1055.8796C855.1363,-1045.2134 855.7167,-1033.7021 856.2613,-1022.9015\"/>\n<polygon fill=\"#000000\" stroke=\"#000000\" points=\"859.7617,-1022.9785 856.7698,-1012.8149 852.7706,-1022.626 859.7617,-1022.9785\"/>\n</g>\n<!-- 37 -->\n<g id=\"node38\" class=\"node\">\n<title>37</title>\n<path fill=\"#399de5\" stroke=\"#000000\" d=\"M716,-893.5C716,-893.5 639,-893.5 639,-893.5 633,-893.5 627,-887.5 627,-881.5 627,-881.5 627,-837.5 627,-837.5 627,-831.5 633,-825.5 639,-825.5 639,-825.5 716,-825.5 716,-825.5 722,-825.5 728,-831.5 728,-837.5 728,-837.5 728,-881.5 728,-881.5 728,-887.5 722,-893.5 716,-893.5\"/>\n<text text-anchor=\"start\" x=\"635\" y=\"-878.3\" font-family=\"Helvetica,sans-Serif\" font-size=\"14.00\" fill=\"#000000\">entropy = 0.0</text>\n<text text-anchor=\"start\" x=\"638\" y=\"-863.3\" font-family=\"Helvetica,sans-Serif\" font-size=\"14.00\" fill=\"#000000\">samples = 2</text>\n<text text-anchor=\"start\" x=\"636\" y=\"-848.3\" font-family=\"Helvetica,sans-Serif\" font-size=\"14.00\" fill=\"#000000\">value = [0, 2]</text>\n<text text-anchor=\"start\" x=\"641\" y=\"-833.3\" font-family=\"Helvetica,sans-Serif\" font-size=\"14.00\" fill=\"#000000\">class = sim</text>\n</g>\n<!-- 36&#45;&gt;37 -->\n<g id=\"edge37\" class=\"edge\">\n<title>36&#45;&gt;37</title>\n<path fill=\"none\" stroke=\"#000000\" d=\"M715.8647,-936.8796C710.4128,-925.8835 704.5157,-913.9893 699.0184,-902.9015\"/>\n<polygon fill=\"#000000\" stroke=\"#000000\" points=\"702.0911,-901.2195 694.5133,-893.8149 695.8196,-904.3289 702.0911,-901.2195\"/>\n</g>\n<!-- 38 -->\n<g id=\"node39\" class=\"node\">\n<title>38</title>\n<path fill=\"#e58139\" stroke=\"#000000\" d=\"M835,-893.5C835,-893.5 758,-893.5 758,-893.5 752,-893.5 746,-887.5 746,-881.5 746,-881.5 746,-837.5 746,-837.5 746,-831.5 752,-825.5 758,-825.5 758,-825.5 835,-825.5 835,-825.5 841,-825.5 847,-831.5 847,-837.5 847,-837.5 847,-881.5 847,-881.5 847,-887.5 841,-893.5 835,-893.5\"/>\n<text text-anchor=\"start\" x=\"754\" y=\"-878.3\" font-family=\"Helvetica,sans-Serif\" font-size=\"14.00\" fill=\"#000000\">entropy = 0.0</text>\n<text text-anchor=\"start\" x=\"757\" y=\"-863.3\" font-family=\"Helvetica,sans-Serif\" font-size=\"14.00\" fill=\"#000000\">samples = 2</text>\n<text text-anchor=\"start\" x=\"755\" y=\"-848.3\" font-family=\"Helvetica,sans-Serif\" font-size=\"14.00\" fill=\"#000000\">value = [2, 0]</text>\n<text text-anchor=\"start\" x=\"759\" y=\"-833.3\" font-family=\"Helvetica,sans-Serif\" font-size=\"14.00\" fill=\"#000000\">class = não</text>\n</g>\n<!-- 36&#45;&gt;38 -->\n<g id=\"edge38\" class=\"edge\">\n<title>36&#45;&gt;38</title>\n<path fill=\"none\" stroke=\"#000000\" d=\"M757.4851,-936.8796C763.0293,-925.8835 769.0264,-913.9893 774.6169,-902.9015\"/>\n<polygon fill=\"#000000\" stroke=\"#000000\" points=\"777.8214,-904.3199 779.1984,-893.8149 771.5709,-901.1684 777.8214,-904.3199\"/>\n</g>\n<!-- 41 -->\n<g id=\"node42\" class=\"node\">\n<title>41</title>\n<path fill=\"#399de5\" stroke=\"#000000\" d=\"M1031,-1012.5C1031,-1012.5 954,-1012.5 954,-1012.5 948,-1012.5 942,-1006.5 942,-1000.5 942,-1000.5 942,-956.5 942,-956.5 942,-950.5 948,-944.5 954,-944.5 954,-944.5 1031,-944.5 1031,-944.5 1037,-944.5 1043,-950.5 1043,-956.5 1043,-956.5 1043,-1000.5 1043,-1000.5 1043,-1006.5 1037,-1012.5 1031,-1012.5\"/>\n<text text-anchor=\"start\" x=\"950\" y=\"-997.3\" font-family=\"Helvetica,sans-Serif\" font-size=\"14.00\" fill=\"#000000\">entropy = 0.0</text>\n<text text-anchor=\"start\" x=\"953\" y=\"-982.3\" font-family=\"Helvetica,sans-Serif\" font-size=\"14.00\" fill=\"#000000\">samples = 3</text>\n<text text-anchor=\"start\" x=\"951\" y=\"-967.3\" font-family=\"Helvetica,sans-Serif\" font-size=\"14.00\" fill=\"#000000\">value = [0, 3]</text>\n<text text-anchor=\"start\" x=\"956\" y=\"-952.3\" font-family=\"Helvetica,sans-Serif\" font-size=\"14.00\" fill=\"#000000\">class = sim</text>\n</g>\n<!-- 40&#45;&gt;41 -->\n<g id=\"edge41\" class=\"edge\">\n<title>40&#45;&gt;41</title>\n<path fill=\"none\" stroke=\"#000000\" d=\"M996.4015,-1055.8796C995.8637,-1045.2134 995.2833,-1033.7021 994.7387,-1022.9015\"/>\n<polygon fill=\"#000000\" stroke=\"#000000\" points=\"998.2294,-1022.626 994.2302,-1012.8149 991.2383,-1022.9785 998.2294,-1022.626\"/>\n</g>\n<!-- 42 -->\n<g id=\"node43\" class=\"node\">\n<title>42</title>\n<path fill=\"#f4c9aa\" stroke=\"#000000\" d=\"M1205.5,-1020C1205.5,-1020 1073.5,-1020 1073.5,-1020 1067.5,-1020 1061.5,-1014 1061.5,-1008 1061.5,-1008 1061.5,-949 1061.5,-949 1061.5,-943 1067.5,-937 1073.5,-937 1073.5,-937 1205.5,-937 1205.5,-937 1211.5,-937 1217.5,-943 1217.5,-949 1217.5,-949 1217.5,-1008 1217.5,-1008 1217.5,-1014 1211.5,-1020 1205.5,-1020\"/>\n<text text-anchor=\"start\" x=\"1069.5\" y=\"-1004.8\" font-family=\"Helvetica,sans-Serif\" font-size=\"14.00\" fill=\"#000000\">BloodPressure ≤ 79.0</text>\n<text text-anchor=\"start\" x=\"1088.5\" y=\"-989.8\" font-family=\"Helvetica,sans-Serif\" font-size=\"14.00\" fill=\"#000000\">entropy = 0.946</text>\n<text text-anchor=\"start\" x=\"1095.5\" y=\"-974.8\" font-family=\"Helvetica,sans-Serif\" font-size=\"14.00\" fill=\"#000000\">samples = 11</text>\n<text text-anchor=\"start\" x=\"1098\" y=\"-959.8\" font-family=\"Helvetica,sans-Serif\" font-size=\"14.00\" fill=\"#000000\">value = [7, 4]</text>\n<text text-anchor=\"start\" x=\"1102\" y=\"-944.8\" font-family=\"Helvetica,sans-Serif\" font-size=\"14.00\" fill=\"#000000\">class = não</text>\n</g>\n<!-- 40&#45;&gt;42 -->\n<g id=\"edge42\" class=\"edge\">\n<title>40&#45;&gt;42</title>\n<path fill=\"none\" stroke=\"#000000\" d=\"M1047.815,-1055.8796C1058.9132,-1046.513 1070.7835,-1036.4948 1082.1777,-1026.8784\"/>\n<polygon fill=\"#000000\" stroke=\"#000000\" points=\"1084.5899,-1029.4225 1089.9746,-1020.2981 1080.075,-1024.0731 1084.5899,-1029.4225\"/>\n</g>\n<!-- 43 -->\n<g id=\"node44\" class=\"node\">\n<title>43</title>\n<path fill=\"#eca572\" stroke=\"#000000\" d=\"M1177,-901C1177,-901 960,-901 960,-901 954,-901 948,-895 948,-889 948,-889 948,-830 948,-830 948,-824 954,-818 960,-818 960,-818 1177,-818 1177,-818 1183,-818 1189,-824 1189,-830 1189,-830 1189,-889 1189,-889 1189,-895 1183,-901 1177,-901\"/>\n<text text-anchor=\"start\" x=\"956\" y=\"-885.8\" font-family=\"Helvetica,sans-Serif\" font-size=\"14.00\" fill=\"#000000\">DiabetesPedigreeFunction ≤ 0.229</text>\n<text text-anchor=\"start\" x=\"1017.5\" y=\"-870.8\" font-family=\"Helvetica,sans-Serif\" font-size=\"14.00\" fill=\"#000000\">entropy = 0.764</text>\n<text text-anchor=\"start\" x=\"1029\" y=\"-855.8\" font-family=\"Helvetica,sans-Serif\" font-size=\"14.00\" fill=\"#000000\">samples = 9</text>\n<text text-anchor=\"start\" x=\"1027\" y=\"-840.8\" font-family=\"Helvetica,sans-Serif\" font-size=\"14.00\" fill=\"#000000\">value = [7, 2]</text>\n<text text-anchor=\"start\" x=\"1031\" y=\"-825.8\" font-family=\"Helvetica,sans-Serif\" font-size=\"14.00\" fill=\"#000000\">class = não</text>\n</g>\n<!-- 42&#45;&gt;43 -->\n<g id=\"edge43\" class=\"edge\">\n<title>42&#45;&gt;43</title>\n<path fill=\"none\" stroke=\"#000000\" d=\"M1114.6676,-936.8796C1109.5091,-928.2335 1104.0192,-919.0322 1098.6924,-910.1042\"/>\n<polygon fill=\"#000000\" stroke=\"#000000\" points=\"1101.5678,-908.0924 1093.4383,-901.2981 1095.5564,-911.679 1101.5678,-908.0924\"/>\n</g>\n<!-- 48 -->\n<g id=\"node49\" class=\"node\">\n<title>48</title>\n<path fill=\"#399de5\" stroke=\"#000000\" d=\"M1296,-893.5C1296,-893.5 1219,-893.5 1219,-893.5 1213,-893.5 1207,-887.5 1207,-881.5 1207,-881.5 1207,-837.5 1207,-837.5 1207,-831.5 1213,-825.5 1219,-825.5 1219,-825.5 1296,-825.5 1296,-825.5 1302,-825.5 1308,-831.5 1308,-837.5 1308,-837.5 1308,-881.5 1308,-881.5 1308,-887.5 1302,-893.5 1296,-893.5\"/>\n<text text-anchor=\"start\" x=\"1215\" y=\"-878.3\" font-family=\"Helvetica,sans-Serif\" font-size=\"14.00\" fill=\"#000000\">entropy = 0.0</text>\n<text text-anchor=\"start\" x=\"1218\" y=\"-863.3\" font-family=\"Helvetica,sans-Serif\" font-size=\"14.00\" fill=\"#000000\">samples = 2</text>\n<text text-anchor=\"start\" x=\"1216\" y=\"-848.3\" font-family=\"Helvetica,sans-Serif\" font-size=\"14.00\" fill=\"#000000\">value = [0, 2]</text>\n<text text-anchor=\"start\" x=\"1221\" y=\"-833.3\" font-family=\"Helvetica,sans-Serif\" font-size=\"14.00\" fill=\"#000000\">class = sim</text>\n</g>\n<!-- 42&#45;&gt;48 -->\n<g id=\"edge48\" class=\"edge\">\n<title>42&#45;&gt;48</title>\n<path fill=\"none\" stroke=\"#000000\" d=\"M1180.7707,-936.8796C1192.2195,-925.3337 1204.6503,-912.7976 1216.1062,-901.2446\"/>\n<polygon fill=\"#000000\" stroke=\"#000000\" points=\"1218.9175,-903.3802 1223.4734,-893.8149 1213.9469,-898.4514 1218.9175,-903.3802\"/>\n</g>\n<!-- 44 -->\n<g id=\"node45\" class=\"node\">\n<title>44</title>\n<path fill=\"#9ccef2\" stroke=\"#000000\" d=\"M1051.5,-782C1051.5,-782 957.5,-782 957.5,-782 951.5,-782 945.5,-776 945.5,-770 945.5,-770 945.5,-711 945.5,-711 945.5,-705 951.5,-699 957.5,-699 957.5,-699 1051.5,-699 1051.5,-699 1057.5,-699 1063.5,-705 1063.5,-711 1063.5,-711 1063.5,-770 1063.5,-770 1063.5,-776 1057.5,-782 1051.5,-782\"/>\n<text text-anchor=\"start\" x=\"969.5\" y=\"-766.8\" font-family=\"Helvetica,sans-Serif\" font-size=\"14.00\" fill=\"#000000\">Age ≤ 25.5</text>\n<text text-anchor=\"start\" x=\"953.5\" y=\"-751.8\" font-family=\"Helvetica,sans-Serif\" font-size=\"14.00\" fill=\"#000000\">entropy = 0.918</text>\n<text text-anchor=\"start\" x=\"965\" y=\"-736.8\" font-family=\"Helvetica,sans-Serif\" font-size=\"14.00\" fill=\"#000000\">samples = 3</text>\n<text text-anchor=\"start\" x=\"963\" y=\"-721.8\" font-family=\"Helvetica,sans-Serif\" font-size=\"14.00\" fill=\"#000000\">value = [1, 2]</text>\n<text text-anchor=\"start\" x=\"968\" y=\"-706.8\" font-family=\"Helvetica,sans-Serif\" font-size=\"14.00\" fill=\"#000000\">class = sim</text>\n</g>\n<!-- 43&#45;&gt;44 -->\n<g id=\"edge44\" class=\"edge\">\n<title>43&#45;&gt;44</title>\n<path fill=\"none\" stroke=\"#000000\" d=\"M1046.1159,-817.8796C1041.5144,-809.3236 1036.6204,-800.2238 1031.8658,-791.3833\"/>\n<polygon fill=\"#000000\" stroke=\"#000000\" points=\"1034.7988,-789.4473 1026.9796,-782.2981 1028.6338,-792.763 1034.7988,-789.4473\"/>\n</g>\n<!-- 47 -->\n<g id=\"node48\" class=\"node\">\n<title>47</title>\n<path fill=\"#e58139\" stroke=\"#000000\" d=\"M1171,-774.5C1171,-774.5 1094,-774.5 1094,-774.5 1088,-774.5 1082,-768.5 1082,-762.5 1082,-762.5 1082,-718.5 1082,-718.5 1082,-712.5 1088,-706.5 1094,-706.5 1094,-706.5 1171,-706.5 1171,-706.5 1177,-706.5 1183,-712.5 1183,-718.5 1183,-718.5 1183,-762.5 1183,-762.5 1183,-768.5 1177,-774.5 1171,-774.5\"/>\n<text text-anchor=\"start\" x=\"1090\" y=\"-759.3\" font-family=\"Helvetica,sans-Serif\" font-size=\"14.00\" fill=\"#000000\">entropy = 0.0</text>\n<text text-anchor=\"start\" x=\"1093\" y=\"-744.3\" font-family=\"Helvetica,sans-Serif\" font-size=\"14.00\" fill=\"#000000\">samples = 6</text>\n<text text-anchor=\"start\" x=\"1091\" y=\"-729.3\" font-family=\"Helvetica,sans-Serif\" font-size=\"14.00\" fill=\"#000000\">value = [6, 0]</text>\n<text text-anchor=\"start\" x=\"1095\" y=\"-714.3\" font-family=\"Helvetica,sans-Serif\" font-size=\"14.00\" fill=\"#000000\">class = não</text>\n</g>\n<!-- 43&#45;&gt;47 -->\n<g id=\"edge47\" class=\"edge\">\n<title>43&#45;&gt;47</title>\n<path fill=\"none\" stroke=\"#000000\" d=\"M1090.8841,-817.8796C1096.798,-806.8835 1103.1949,-794.9893 1109.158,-783.9015\"/>\n<polygon fill=\"#000000\" stroke=\"#000000\" points=\"1112.3908,-785.2799 1114.0449,-774.8149 1106.2258,-781.9642 1112.3908,-785.2799\"/>\n</g>\n<!-- 45 -->\n<g id=\"node46\" class=\"node\">\n<title>45</title>\n<path fill=\"#399de5\" stroke=\"#000000\" d=\"M984,-655.5C984,-655.5 907,-655.5 907,-655.5 901,-655.5 895,-649.5 895,-643.5 895,-643.5 895,-599.5 895,-599.5 895,-593.5 901,-587.5 907,-587.5 907,-587.5 984,-587.5 984,-587.5 990,-587.5 996,-593.5 996,-599.5 996,-599.5 996,-643.5 996,-643.5 996,-649.5 990,-655.5 984,-655.5\"/>\n<text text-anchor=\"start\" x=\"903\" y=\"-640.3\" font-family=\"Helvetica,sans-Serif\" font-size=\"14.00\" fill=\"#000000\">entropy = 0.0</text>\n<text text-anchor=\"start\" x=\"906\" y=\"-625.3\" font-family=\"Helvetica,sans-Serif\" font-size=\"14.00\" fill=\"#000000\">samples = 2</text>\n<text text-anchor=\"start\" x=\"904\" y=\"-610.3\" font-family=\"Helvetica,sans-Serif\" font-size=\"14.00\" fill=\"#000000\">value = [0, 2]</text>\n<text text-anchor=\"start\" x=\"909\" y=\"-595.3\" font-family=\"Helvetica,sans-Serif\" font-size=\"14.00\" fill=\"#000000\">class = sim</text>\n</g>\n<!-- 44&#45;&gt;45 -->\n<g id=\"edge45\" class=\"edge\">\n<title>44&#45;&gt;45</title>\n<path fill=\"none\" stroke=\"#000000\" d=\"M983.8647,-698.8796C978.4128,-687.8835 972.5157,-675.9893 967.0184,-664.9015\"/>\n<polygon fill=\"#000000\" stroke=\"#000000\" points=\"970.0911,-663.2195 962.5133,-655.8149 963.8196,-666.3289 970.0911,-663.2195\"/>\n</g>\n<!-- 46 -->\n<g id=\"node47\" class=\"node\">\n<title>46</title>\n<path fill=\"#e58139\" stroke=\"#000000\" d=\"M1103,-655.5C1103,-655.5 1026,-655.5 1026,-655.5 1020,-655.5 1014,-649.5 1014,-643.5 1014,-643.5 1014,-599.5 1014,-599.5 1014,-593.5 1020,-587.5 1026,-587.5 1026,-587.5 1103,-587.5 1103,-587.5 1109,-587.5 1115,-593.5 1115,-599.5 1115,-599.5 1115,-643.5 1115,-643.5 1115,-649.5 1109,-655.5 1103,-655.5\"/>\n<text text-anchor=\"start\" x=\"1022\" y=\"-640.3\" font-family=\"Helvetica,sans-Serif\" font-size=\"14.00\" fill=\"#000000\">entropy = 0.0</text>\n<text text-anchor=\"start\" x=\"1025\" y=\"-625.3\" font-family=\"Helvetica,sans-Serif\" font-size=\"14.00\" fill=\"#000000\">samples = 1</text>\n<text text-anchor=\"start\" x=\"1023\" y=\"-610.3\" font-family=\"Helvetica,sans-Serif\" font-size=\"14.00\" fill=\"#000000\">value = [1, 0]</text>\n<text text-anchor=\"start\" x=\"1027\" y=\"-595.3\" font-family=\"Helvetica,sans-Serif\" font-size=\"14.00\" fill=\"#000000\">class = não</text>\n</g>\n<!-- 44&#45;&gt;46 -->\n<g id=\"edge46\" class=\"edge\">\n<title>44&#45;&gt;46</title>\n<path fill=\"none\" stroke=\"#000000\" d=\"M1025.4851,-698.8796C1031.0293,-687.8835 1037.0264,-675.9893 1042.6169,-664.9015\"/>\n<polygon fill=\"#000000\" stroke=\"#000000\" points=\"1045.8214,-666.3199 1047.1984,-655.8149 1039.5709,-663.1684 1045.8214,-666.3199\"/>\n</g>\n<!-- 50 -->\n<g id=\"node51\" class=\"node\">\n<title>50</title>\n<path fill=\"#399de5\" stroke=\"#000000\" d=\"M1037,-1250.5C1037,-1250.5 960,-1250.5 960,-1250.5 954,-1250.5 948,-1244.5 948,-1238.5 948,-1238.5 948,-1194.5 948,-1194.5 948,-1188.5 954,-1182.5 960,-1182.5 960,-1182.5 1037,-1182.5 1037,-1182.5 1043,-1182.5 1049,-1188.5 1049,-1194.5 1049,-1194.5 1049,-1238.5 1049,-1238.5 1049,-1244.5 1043,-1250.5 1037,-1250.5\"/>\n<text text-anchor=\"start\" x=\"956\" y=\"-1235.3\" font-family=\"Helvetica,sans-Serif\" font-size=\"14.00\" fill=\"#000000\">entropy = 0.0</text>\n<text text-anchor=\"start\" x=\"959\" y=\"-1220.3\" font-family=\"Helvetica,sans-Serif\" font-size=\"14.00\" fill=\"#000000\">samples = 1</text>\n<text text-anchor=\"start\" x=\"957\" y=\"-1205.3\" font-family=\"Helvetica,sans-Serif\" font-size=\"14.00\" fill=\"#000000\">value = [0, 1]</text>\n<text text-anchor=\"start\" x=\"962\" y=\"-1190.3\" font-family=\"Helvetica,sans-Serif\" font-size=\"14.00\" fill=\"#000000\">class = sim</text>\n</g>\n<!-- 49&#45;&gt;50 -->\n<g id=\"edge50\" class=\"edge\">\n<title>49&#45;&gt;50</title>\n<path fill=\"none\" stroke=\"#000000\" d=\"M1015.4065,-1293.8796C1013.076,-1283.2134 1010.561,-1271.7021 1008.2012,-1260.9015\"/>\n<polygon fill=\"#000000\" stroke=\"#000000\" points=\"1011.5513,-1259.8374 1005.9974,-1250.8149 1004.7126,-1261.3316 1011.5513,-1259.8374\"/>\n</g>\n<!-- 51 -->\n<g id=\"node52\" class=\"node\">\n<title>51</title>\n<path fill=\"#e58139\" stroke=\"#000000\" d=\"M1162,-1250.5C1162,-1250.5 1079,-1250.5 1079,-1250.5 1073,-1250.5 1067,-1244.5 1067,-1238.5 1067,-1238.5 1067,-1194.5 1067,-1194.5 1067,-1188.5 1073,-1182.5 1079,-1182.5 1079,-1182.5 1162,-1182.5 1162,-1182.5 1168,-1182.5 1174,-1188.5 1174,-1194.5 1174,-1194.5 1174,-1238.5 1174,-1238.5 1174,-1244.5 1168,-1250.5 1162,-1250.5\"/>\n<text text-anchor=\"start\" x=\"1078\" y=\"-1235.3\" font-family=\"Helvetica,sans-Serif\" font-size=\"14.00\" fill=\"#000000\">entropy = 0.0</text>\n<text text-anchor=\"start\" x=\"1076.5\" y=\"-1220.3\" font-family=\"Helvetica,sans-Serif\" font-size=\"14.00\" fill=\"#000000\">samples = 13</text>\n<text text-anchor=\"start\" x=\"1075\" y=\"-1205.3\" font-family=\"Helvetica,sans-Serif\" font-size=\"14.00\" fill=\"#000000\">value = [13, 0]</text>\n<text text-anchor=\"start\" x=\"1083\" y=\"-1190.3\" font-family=\"Helvetica,sans-Serif\" font-size=\"14.00\" fill=\"#000000\">class = não</text>\n</g>\n<!-- 49&#45;&gt;51 -->\n<g id=\"edge51\" class=\"edge\">\n<title>49&#45;&gt;51</title>\n<path fill=\"none\" stroke=\"#000000\" d=\"M1058.0761,-1293.8796C1067.2131,-1282.5536 1077.1187,-1270.2748 1086.2902,-1258.9058\"/>\n<polygon fill=\"#000000\" stroke=\"#000000\" points=\"1089.2626,-1260.7957 1092.8174,-1250.8149 1083.8144,-1256.4005 1089.2626,-1260.7957\"/>\n</g>\n<!-- 53 -->\n<g id=\"node54\" class=\"node\">\n<title>53</title>\n<path fill=\"#ffffff\" stroke=\"#000000\" d=\"M1282,-1377C1282,-1377 1133,-1377 1133,-1377 1127,-1377 1121,-1371 1121,-1365 1121,-1365 1121,-1306 1121,-1306 1121,-1300 1127,-1294 1133,-1294 1133,-1294 1282,-1294 1282,-1294 1288,-1294 1294,-1300 1294,-1306 1294,-1306 1294,-1365 1294,-1365 1294,-1371 1288,-1377 1282,-1377\"/>\n<text text-anchor=\"start\" x=\"1129\" y=\"-1361.8\" font-family=\"Helvetica,sans-Serif\" font-size=\"14.00\" fill=\"#000000\">BloodPressure ≤ 73.203</text>\n<text text-anchor=\"start\" x=\"1165\" y=\"-1346.8\" font-family=\"Helvetica,sans-Serif\" font-size=\"14.00\" fill=\"#000000\">entropy = 1.0</text>\n<text text-anchor=\"start\" x=\"1163.5\" y=\"-1331.8\" font-family=\"Helvetica,sans-Serif\" font-size=\"14.00\" fill=\"#000000\">samples = 14</text>\n<text text-anchor=\"start\" x=\"1166\" y=\"-1316.8\" font-family=\"Helvetica,sans-Serif\" font-size=\"14.00\" fill=\"#000000\">value = [7, 7]</text>\n<text text-anchor=\"start\" x=\"1170\" y=\"-1301.8\" font-family=\"Helvetica,sans-Serif\" font-size=\"14.00\" fill=\"#000000\">class = não</text>\n</g>\n<!-- 52&#45;&gt;53 -->\n<g id=\"edge53\" class=\"edge\">\n<title>52&#45;&gt;53</title>\n<path fill=\"none\" stroke=\"#000000\" d=\"M1207.5,-1412.8796C1207.5,-1404.6838 1207.5,-1395.9891 1207.5,-1387.5013\"/>\n<polygon fill=\"#000000\" stroke=\"#000000\" points=\"1211.0001,-1387.298 1207.5,-1377.2981 1204.0001,-1387.2981 1211.0001,-1387.298\"/>\n</g>\n<!-- 62 -->\n<g id=\"node63\" class=\"node\">\n<title>62</title>\n<path fill=\"#399de5\" stroke=\"#000000\" d=\"M1401,-1369.5C1401,-1369.5 1324,-1369.5 1324,-1369.5 1318,-1369.5 1312,-1363.5 1312,-1357.5 1312,-1357.5 1312,-1313.5 1312,-1313.5 1312,-1307.5 1318,-1301.5 1324,-1301.5 1324,-1301.5 1401,-1301.5 1401,-1301.5 1407,-1301.5 1413,-1307.5 1413,-1313.5 1413,-1313.5 1413,-1357.5 1413,-1357.5 1413,-1363.5 1407,-1369.5 1401,-1369.5\"/>\n<text text-anchor=\"start\" x=\"1320\" y=\"-1354.3\" font-family=\"Helvetica,sans-Serif\" font-size=\"14.00\" fill=\"#000000\">entropy = 0.0</text>\n<text text-anchor=\"start\" x=\"1323\" y=\"-1339.3\" font-family=\"Helvetica,sans-Serif\" font-size=\"14.00\" fill=\"#000000\">samples = 3</text>\n<text text-anchor=\"start\" x=\"1321\" y=\"-1324.3\" font-family=\"Helvetica,sans-Serif\" font-size=\"14.00\" fill=\"#000000\">value = [0, 3]</text>\n<text text-anchor=\"start\" x=\"1326\" y=\"-1309.3\" font-family=\"Helvetica,sans-Serif\" font-size=\"14.00\" fill=\"#000000\">class = sim</text>\n</g>\n<!-- 52&#45;&gt;62 -->\n<g id=\"edge62\" class=\"edge\">\n<title>52&#45;&gt;62</title>\n<path fill=\"none\" stroke=\"#000000\" d=\"M1261.7115,-1412.8796C1277.3231,-1400.8938 1294.3247,-1387.841 1309.8408,-1375.9287\"/>\n<polygon fill=\"#000000\" stroke=\"#000000\" points=\"1312.0035,-1378.6808 1317.8041,-1369.8149 1307.7407,-1373.1285 1312.0035,-1378.6808\"/>\n</g>\n<!-- 54 -->\n<g id=\"node55\" class=\"node\">\n<title>54</title>\n<path fill=\"#7bbeee\" stroke=\"#000000\" d=\"M1335,-1258C1335,-1258 1204,-1258 1204,-1258 1198,-1258 1192,-1252 1192,-1246 1192,-1246 1192,-1187 1192,-1187 1192,-1181 1198,-1175 1204,-1175 1204,-1175 1335,-1175 1335,-1175 1341,-1175 1347,-1181 1347,-1187 1347,-1187 1347,-1246 1347,-1246 1347,-1252 1341,-1258 1335,-1258\"/>\n<text text-anchor=\"start\" x=\"1200\" y=\"-1242.8\" font-family=\"Helvetica,sans-Serif\" font-size=\"14.00\" fill=\"#000000\">SkinThickness ≤ 32.0</text>\n<text text-anchor=\"start\" x=\"1218.5\" y=\"-1227.8\" font-family=\"Helvetica,sans-Serif\" font-size=\"14.00\" fill=\"#000000\">entropy = 0.811</text>\n<text text-anchor=\"start\" x=\"1230\" y=\"-1212.8\" font-family=\"Helvetica,sans-Serif\" font-size=\"14.00\" fill=\"#000000\">samples = 8</text>\n<text text-anchor=\"start\" x=\"1228\" y=\"-1197.8\" font-family=\"Helvetica,sans-Serif\" font-size=\"14.00\" fill=\"#000000\">value = [2, 6]</text>\n<text text-anchor=\"start\" x=\"1233\" y=\"-1182.8\" font-family=\"Helvetica,sans-Serif\" font-size=\"14.00\" fill=\"#000000\">class = sim</text>\n</g>\n<!-- 53&#45;&gt;54 -->\n<g id=\"edge54\" class=\"edge\">\n<title>53&#45;&gt;54</title>\n<path fill=\"none\" stroke=\"#000000\" d=\"M1229.1846,-1293.8796C1233.6423,-1285.3236 1238.3834,-1276.2238 1242.9894,-1267.3833\"/>\n<polygon fill=\"#000000\" stroke=\"#000000\" points=\"1246.2062,-1268.7838 1247.7229,-1258.2981 1239.9983,-1265.5494 1246.2062,-1268.7838\"/>\n</g>\n<!-- 59 -->\n<g id=\"node60\" class=\"node\">\n<title>59</title>\n<path fill=\"#ea9a61\" stroke=\"#000000\" d=\"M1487.5,-1258C1487.5,-1258 1377.5,-1258 1377.5,-1258 1371.5,-1258 1365.5,-1252 1365.5,-1246 1365.5,-1246 1365.5,-1187 1365.5,-1187 1365.5,-1181 1371.5,-1175 1377.5,-1175 1377.5,-1175 1487.5,-1175 1487.5,-1175 1493.5,-1175 1499.5,-1181 1499.5,-1187 1499.5,-1187 1499.5,-1246 1499.5,-1246 1499.5,-1252 1493.5,-1258 1487.5,-1258\"/>\n<text text-anchor=\"start\" x=\"1373.5\" y=\"-1242.8\" font-family=\"Helvetica,sans-Serif\" font-size=\"14.00\" fill=\"#000000\">Pregnancies ≤ 3.5</text>\n<text text-anchor=\"start\" x=\"1385.5\" y=\"-1227.8\" font-family=\"Helvetica,sans-Serif\" font-size=\"14.00\" fill=\"#000000\">entropy = 0.65</text>\n<text text-anchor=\"start\" x=\"1393\" y=\"-1212.8\" font-family=\"Helvetica,sans-Serif\" font-size=\"14.00\" fill=\"#000000\">samples = 6</text>\n<text text-anchor=\"start\" x=\"1391\" y=\"-1197.8\" font-family=\"Helvetica,sans-Serif\" font-size=\"14.00\" fill=\"#000000\">value = [5, 1]</text>\n<text text-anchor=\"start\" x=\"1395\" y=\"-1182.8\" font-family=\"Helvetica,sans-Serif\" font-size=\"14.00\" fill=\"#000000\">class = não</text>\n</g>\n<!-- 53&#45;&gt;59 -->\n<g id=\"edge59\" class=\"edge\">\n<title>53&#45;&gt;59</title>\n<path fill=\"none\" stroke=\"#000000\" d=\"M1287.4734,-1293.8444C1309.542,-1282.2891 1333.4723,-1269.7029 1355.5,-1258 1355.8017,-1257.8397 1356.1041,-1257.679 1356.4071,-1257.5179\"/>\n<polygon fill=\"#000000\" stroke=\"#000000\" points=\"1358.1545,-1260.5528 1365.3336,-1252.761 1354.8624,-1254.3752 1358.1545,-1260.5528\"/>\n</g>\n<!-- 55 -->\n<g id=\"node56\" class=\"node\">\n<title>55</title>\n<path fill=\"#399de5\" stroke=\"#000000\" d=\"M1220,-1131.5C1220,-1131.5 1143,-1131.5 1143,-1131.5 1137,-1131.5 1131,-1125.5 1131,-1119.5 1131,-1119.5 1131,-1075.5 1131,-1075.5 1131,-1069.5 1137,-1063.5 1143,-1063.5 1143,-1063.5 1220,-1063.5 1220,-1063.5 1226,-1063.5 1232,-1069.5 1232,-1075.5 1232,-1075.5 1232,-1119.5 1232,-1119.5 1232,-1125.5 1226,-1131.5 1220,-1131.5\"/>\n<text text-anchor=\"start\" x=\"1139\" y=\"-1116.3\" font-family=\"Helvetica,sans-Serif\" font-size=\"14.00\" fill=\"#000000\">entropy = 0.0</text>\n<text text-anchor=\"start\" x=\"1142\" y=\"-1101.3\" font-family=\"Helvetica,sans-Serif\" font-size=\"14.00\" fill=\"#000000\">samples = 4</text>\n<text text-anchor=\"start\" x=\"1140\" y=\"-1086.3\" font-family=\"Helvetica,sans-Serif\" font-size=\"14.00\" fill=\"#000000\">value = [0, 4]</text>\n<text text-anchor=\"start\" x=\"1145\" y=\"-1071.3\" font-family=\"Helvetica,sans-Serif\" font-size=\"14.00\" fill=\"#000000\">class = sim</text>\n</g>\n<!-- 54&#45;&gt;55 -->\n<g id=\"edge55\" class=\"edge\">\n<title>54&#45;&gt;55</title>\n<path fill=\"none\" stroke=\"#000000\" d=\"M1238.7219,-1174.8796C1230.3464,-1163.5536 1221.2662,-1151.2748 1212.8589,-1139.9058\"/>\n<polygon fill=\"#000000\" stroke=\"#000000\" points=\"1215.6357,-1137.7743 1206.8758,-1131.8149 1210.0075,-1141.9364 1215.6357,-1137.7743\"/>\n</g>\n<!-- 56 -->\n<g id=\"node57\" class=\"node\">\n<title>56</title>\n<path fill=\"#ffffff\" stroke=\"#000000\" d=\"M1339,-1139C1339,-1139 1262,-1139 1262,-1139 1256,-1139 1250,-1133 1250,-1127 1250,-1127 1250,-1068 1250,-1068 1250,-1062 1256,-1056 1262,-1056 1262,-1056 1339,-1056 1339,-1056 1345,-1056 1351,-1062 1351,-1068 1351,-1068 1351,-1127 1351,-1127 1351,-1133 1345,-1139 1339,-1139\"/>\n<text text-anchor=\"start\" x=\"1261.5\" y=\"-1123.8\" font-family=\"Helvetica,sans-Serif\" font-size=\"14.00\" fill=\"#000000\">BMI ≤ 33.75</text>\n<text text-anchor=\"start\" x=\"1258\" y=\"-1108.8\" font-family=\"Helvetica,sans-Serif\" font-size=\"14.00\" fill=\"#000000\">entropy = 1.0</text>\n<text text-anchor=\"start\" x=\"1261\" y=\"-1093.8\" font-family=\"Helvetica,sans-Serif\" font-size=\"14.00\" fill=\"#000000\">samples = 4</text>\n<text text-anchor=\"start\" x=\"1259\" y=\"-1078.8\" font-family=\"Helvetica,sans-Serif\" font-size=\"14.00\" fill=\"#000000\">value = [2, 2]</text>\n<text text-anchor=\"start\" x=\"1263\" y=\"-1063.8\" font-family=\"Helvetica,sans-Serif\" font-size=\"14.00\" fill=\"#000000\">class = não</text>\n</g>\n<!-- 54&#45;&gt;56 -->\n<g id=\"edge56\" class=\"edge\">\n<title>54&#45;&gt;56</title>\n<path fill=\"none\" stroke=\"#000000\" d=\"M1280.3423,-1174.8796C1282.5008,-1166.5938 1284.7921,-1157.798 1287.0263,-1149.2216\"/>\n<polygon fill=\"#000000\" stroke=\"#000000\" points=\"1290.4774,-1149.8575 1289.6114,-1139.2981 1283.7035,-1148.0928 1290.4774,-1149.8575\"/>\n</g>\n<!-- 57 -->\n<g id=\"node58\" class=\"node\">\n<title>57</title>\n<path fill=\"#e58139\" stroke=\"#000000\" d=\"M1326,-1012.5C1326,-1012.5 1249,-1012.5 1249,-1012.5 1243,-1012.5 1237,-1006.5 1237,-1000.5 1237,-1000.5 1237,-956.5 1237,-956.5 1237,-950.5 1243,-944.5 1249,-944.5 1249,-944.5 1326,-944.5 1326,-944.5 1332,-944.5 1338,-950.5 1338,-956.5 1338,-956.5 1338,-1000.5 1338,-1000.5 1338,-1006.5 1332,-1012.5 1326,-1012.5\"/>\n<text text-anchor=\"start\" x=\"1245\" y=\"-997.3\" font-family=\"Helvetica,sans-Serif\" font-size=\"14.00\" fill=\"#000000\">entropy = 0.0</text>\n<text text-anchor=\"start\" x=\"1248\" y=\"-982.3\" font-family=\"Helvetica,sans-Serif\" font-size=\"14.00\" fill=\"#000000\">samples = 2</text>\n<text text-anchor=\"start\" x=\"1246\" y=\"-967.3\" font-family=\"Helvetica,sans-Serif\" font-size=\"14.00\" fill=\"#000000\">value = [2, 0]</text>\n<text text-anchor=\"start\" x=\"1250\" y=\"-952.3\" font-family=\"Helvetica,sans-Serif\" font-size=\"14.00\" fill=\"#000000\">class = não</text>\n</g>\n<!-- 56&#45;&gt;57 -->\n<g id=\"edge57\" class=\"edge\">\n<title>56&#45;&gt;57</title>\n<path fill=\"none\" stroke=\"#000000\" d=\"M1295.9532,-1055.8796C1294.788,-1045.2134 1293.5305,-1033.7021 1292.3506,-1022.9015\"/>\n<polygon fill=\"#000000\" stroke=\"#000000\" points=\"1295.8141,-1022.3757 1291.2487,-1012.8149 1288.8555,-1023.1359 1295.8141,-1022.3757\"/>\n</g>\n<!-- 58 -->\n<g id=\"node59\" class=\"node\">\n<title>58</title>\n<path fill=\"#399de5\" stroke=\"#000000\" d=\"M1445,-1012.5C1445,-1012.5 1368,-1012.5 1368,-1012.5 1362,-1012.5 1356,-1006.5 1356,-1000.5 1356,-1000.5 1356,-956.5 1356,-956.5 1356,-950.5 1362,-944.5 1368,-944.5 1368,-944.5 1445,-944.5 1445,-944.5 1451,-944.5 1457,-950.5 1457,-956.5 1457,-956.5 1457,-1000.5 1457,-1000.5 1457,-1006.5 1451,-1012.5 1445,-1012.5\"/>\n<text text-anchor=\"start\" x=\"1364\" y=\"-997.3\" font-family=\"Helvetica,sans-Serif\" font-size=\"14.00\" fill=\"#000000\">entropy = 0.0</text>\n<text text-anchor=\"start\" x=\"1367\" y=\"-982.3\" font-family=\"Helvetica,sans-Serif\" font-size=\"14.00\" fill=\"#000000\">samples = 2</text>\n<text text-anchor=\"start\" x=\"1365\" y=\"-967.3\" font-family=\"Helvetica,sans-Serif\" font-size=\"14.00\" fill=\"#000000\">value = [0, 2]</text>\n<text text-anchor=\"start\" x=\"1370\" y=\"-952.3\" font-family=\"Helvetica,sans-Serif\" font-size=\"14.00\" fill=\"#000000\">class = sim</text>\n</g>\n<!-- 56&#45;&gt;58 -->\n<g id=\"edge58\" class=\"edge\">\n<title>56&#45;&gt;58</title>\n<path fill=\"none\" stroke=\"#000000\" d=\"M1337.5737,-1055.8796C1347.7603,-1044.4436 1358.8122,-1032.0363 1369.0215,-1020.575\"/>\n<polygon fill=\"#000000\" stroke=\"#000000\" points=\"1371.8958,-1022.6101 1375.9338,-1012.8149 1366.6688,-1017.9541 1371.8958,-1022.6101\"/>\n</g>\n<!-- 60 -->\n<g id=\"node61\" class=\"node\">\n<title>60</title>\n<path fill=\"#e58139\" stroke=\"#000000\" d=\"M1465,-1131.5C1465,-1131.5 1388,-1131.5 1388,-1131.5 1382,-1131.5 1376,-1125.5 1376,-1119.5 1376,-1119.5 1376,-1075.5 1376,-1075.5 1376,-1069.5 1382,-1063.5 1388,-1063.5 1388,-1063.5 1465,-1063.5 1465,-1063.5 1471,-1063.5 1477,-1069.5 1477,-1075.5 1477,-1075.5 1477,-1119.5 1477,-1119.5 1477,-1125.5 1471,-1131.5 1465,-1131.5\"/>\n<text text-anchor=\"start\" x=\"1384\" y=\"-1116.3\" font-family=\"Helvetica,sans-Serif\" font-size=\"14.00\" fill=\"#000000\">entropy = 0.0</text>\n<text text-anchor=\"start\" x=\"1387\" y=\"-1101.3\" font-family=\"Helvetica,sans-Serif\" font-size=\"14.00\" fill=\"#000000\">samples = 5</text>\n<text text-anchor=\"start\" x=\"1385\" y=\"-1086.3\" font-family=\"Helvetica,sans-Serif\" font-size=\"14.00\" fill=\"#000000\">value = [5, 0]</text>\n<text text-anchor=\"start\" x=\"1389\" y=\"-1071.3\" font-family=\"Helvetica,sans-Serif\" font-size=\"14.00\" fill=\"#000000\">class = não</text>\n</g>\n<!-- 59&#45;&gt;60 -->\n<g id=\"edge60\" class=\"edge\">\n<title>59&#45;&gt;60</title>\n<path fill=\"none\" stroke=\"#000000\" d=\"M1430.4015,-1174.8796C1429.8637,-1164.2134 1429.2833,-1152.7021 1428.7387,-1141.9015\"/>\n<polygon fill=\"#000000\" stroke=\"#000000\" points=\"1432.2294,-1141.626 1428.2302,-1131.8149 1425.2383,-1141.9785 1432.2294,-1141.626\"/>\n</g>\n<!-- 61 -->\n<g id=\"node62\" class=\"node\">\n<title>61</title>\n<path fill=\"#399de5\" stroke=\"#000000\" d=\"M1584,-1131.5C1584,-1131.5 1507,-1131.5 1507,-1131.5 1501,-1131.5 1495,-1125.5 1495,-1119.5 1495,-1119.5 1495,-1075.5 1495,-1075.5 1495,-1069.5 1501,-1063.5 1507,-1063.5 1507,-1063.5 1584,-1063.5 1584,-1063.5 1590,-1063.5 1596,-1069.5 1596,-1075.5 1596,-1075.5 1596,-1119.5 1596,-1119.5 1596,-1125.5 1590,-1131.5 1584,-1131.5\"/>\n<text text-anchor=\"start\" x=\"1503\" y=\"-1116.3\" font-family=\"Helvetica,sans-Serif\" font-size=\"14.00\" fill=\"#000000\">entropy = 0.0</text>\n<text text-anchor=\"start\" x=\"1506\" y=\"-1101.3\" font-family=\"Helvetica,sans-Serif\" font-size=\"14.00\" fill=\"#000000\">samples = 1</text>\n<text text-anchor=\"start\" x=\"1504\" y=\"-1086.3\" font-family=\"Helvetica,sans-Serif\" font-size=\"14.00\" fill=\"#000000\">value = [0, 1]</text>\n<text text-anchor=\"start\" x=\"1509\" y=\"-1071.3\" font-family=\"Helvetica,sans-Serif\" font-size=\"14.00\" fill=\"#000000\">class = sim</text>\n</g>\n<!-- 59&#45;&gt;61 -->\n<g id=\"edge61\" class=\"edge\">\n<title>59&#45;&gt;61</title>\n<path fill=\"none\" stroke=\"#000000\" d=\"M1472.0219,-1174.8796C1482.9857,-1163.3337 1494.8897,-1150.7976 1505.8601,-1139.2446\"/>\n<polygon fill=\"#000000\" stroke=\"#000000\" points=\"1508.5673,-1141.4766 1512.9152,-1131.8149 1503.4913,-1136.6564 1508.5673,-1141.4766\"/>\n</g>\n<!-- 64 -->\n<g id=\"node65\" class=\"node\">\n<title>64</title>\n<path fill=\"#e78a48\" stroke=\"#000000\" d=\"M1471.5,-1734C1471.5,-1734 1361.5,-1734 1361.5,-1734 1355.5,-1734 1349.5,-1728 1349.5,-1722 1349.5,-1722 1349.5,-1663 1349.5,-1663 1349.5,-1657 1355.5,-1651 1361.5,-1651 1361.5,-1651 1471.5,-1651 1471.5,-1651 1477.5,-1651 1483.5,-1657 1483.5,-1663 1483.5,-1663 1483.5,-1722 1483.5,-1722 1483.5,-1728 1477.5,-1734 1471.5,-1734\"/>\n<text text-anchor=\"start\" x=\"1357.5\" y=\"-1718.8\" font-family=\"Helvetica,sans-Serif\" font-size=\"14.00\" fill=\"#000000\">Pregnancies ≤ 9.5</text>\n<text text-anchor=\"start\" x=\"1365.5\" y=\"-1703.8\" font-family=\"Helvetica,sans-Serif\" font-size=\"14.00\" fill=\"#000000\">entropy = 0.362</text>\n<text text-anchor=\"start\" x=\"1372.5\" y=\"-1688.8\" font-family=\"Helvetica,sans-Serif\" font-size=\"14.00\" fill=\"#000000\">samples = 29</text>\n<text text-anchor=\"start\" x=\"1371\" y=\"-1673.8\" font-family=\"Helvetica,sans-Serif\" font-size=\"14.00\" fill=\"#000000\">value = [27, 2]</text>\n<text text-anchor=\"start\" x=\"1379\" y=\"-1658.8\" font-family=\"Helvetica,sans-Serif\" font-size=\"14.00\" fill=\"#000000\">class = não</text>\n</g>\n<!-- 63&#45;&gt;64 -->\n<g id=\"edge64\" class=\"edge\">\n<title>63&#45;&gt;64</title>\n<path fill=\"none\" stroke=\"#000000\" d=\"M1416.5,-1769.8796C1416.5,-1761.6838 1416.5,-1752.9891 1416.5,-1744.5013\"/>\n<polygon fill=\"#000000\" stroke=\"#000000\" points=\"1420.0001,-1744.298 1416.5,-1734.2981 1413.0001,-1744.2981 1420.0001,-1744.298\"/>\n</g>\n<!-- 71 -->\n<g id=\"node72\" class=\"node\">\n<title>71</title>\n<path fill=\"#e7f3fc\" stroke=\"#000000\" d=\"M1939,-1734C1939,-1734 1722,-1734 1722,-1734 1716,-1734 1710,-1728 1710,-1722 1710,-1722 1710,-1663 1710,-1663 1710,-1657 1716,-1651 1722,-1651 1722,-1651 1939,-1651 1939,-1651 1945,-1651 1951,-1657 1951,-1663 1951,-1663 1951,-1722 1951,-1722 1951,-1728 1945,-1734 1939,-1734\"/>\n<text text-anchor=\"start\" x=\"1718\" y=\"-1718.8\" font-family=\"Helvetica,sans-Serif\" font-size=\"14.00\" fill=\"#000000\">DiabetesPedigreeFunction ≤ 0.528</text>\n<text text-anchor=\"start\" x=\"1779.5\" y=\"-1703.8\" font-family=\"Helvetica,sans-Serif\" font-size=\"14.00\" fill=\"#000000\">entropy = 0.997</text>\n<text text-anchor=\"start\" x=\"1782.5\" y=\"-1688.8\" font-family=\"Helvetica,sans-Serif\" font-size=\"14.00\" fill=\"#000000\">samples = 141</text>\n<text text-anchor=\"start\" x=\"1780.5\" y=\"-1673.8\" font-family=\"Helvetica,sans-Serif\" font-size=\"14.00\" fill=\"#000000\">value = [66, 75]</text>\n<text text-anchor=\"start\" x=\"1794\" y=\"-1658.8\" font-family=\"Helvetica,sans-Serif\" font-size=\"14.00\" fill=\"#000000\">class = sim</text>\n</g>\n<!-- 63&#45;&gt;71 -->\n<g id=\"edge71\" class=\"edge\">\n<title>63&#45;&gt;71</title>\n<path fill=\"none\" stroke=\"#000000\" d=\"M1475.8161,-1794.4502C1534.0177,-1777.7208 1624.7208,-1751.6491 1699.8317,-1730.0592\"/>\n<polygon fill=\"#000000\" stroke=\"#000000\" points=\"1701.2061,-1733.306 1709.85,-1727.1796 1699.2723,-1726.5784 1701.2061,-1733.306\"/>\n</g>\n<!-- 65 -->\n<g id=\"node66\" class=\"node\">\n<title>65</title>\n<path fill=\"#e58139\" stroke=\"#000000\" d=\"M1384,-1607.5C1384,-1607.5 1301,-1607.5 1301,-1607.5 1295,-1607.5 1289,-1601.5 1289,-1595.5 1289,-1595.5 1289,-1551.5 1289,-1551.5 1289,-1545.5 1295,-1539.5 1301,-1539.5 1301,-1539.5 1384,-1539.5 1384,-1539.5 1390,-1539.5 1396,-1545.5 1396,-1551.5 1396,-1551.5 1396,-1595.5 1396,-1595.5 1396,-1601.5 1390,-1607.5 1384,-1607.5\"/>\n<text text-anchor=\"start\" x=\"1300\" y=\"-1592.3\" font-family=\"Helvetica,sans-Serif\" font-size=\"14.00\" fill=\"#000000\">entropy = 0.0</text>\n<text text-anchor=\"start\" x=\"1298.5\" y=\"-1577.3\" font-family=\"Helvetica,sans-Serif\" font-size=\"14.00\" fill=\"#000000\">samples = 22</text>\n<text text-anchor=\"start\" x=\"1297\" y=\"-1562.3\" font-family=\"Helvetica,sans-Serif\" font-size=\"14.00\" fill=\"#000000\">value = [22, 0]</text>\n<text text-anchor=\"start\" x=\"1305\" y=\"-1547.3\" font-family=\"Helvetica,sans-Serif\" font-size=\"14.00\" fill=\"#000000\">class = não</text>\n</g>\n<!-- 64&#45;&gt;65 -->\n<g id=\"edge65\" class=\"edge\">\n<title>64&#45;&gt;65</title>\n<path fill=\"none\" stroke=\"#000000\" d=\"M1390.6184,-1650.8796C1383.7121,-1639.7735 1376.2361,-1627.7513 1369.2825,-1616.5691\"/>\n<polygon fill=\"#000000\" stroke=\"#000000\" points=\"1372.0917,-1614.4587 1363.8387,-1607.8149 1366.1473,-1618.1552 1372.0917,-1614.4587\"/>\n</g>\n<!-- 66 -->\n<g id=\"node67\" class=\"node\">\n<title>66</title>\n<path fill=\"#efb388\" stroke=\"#000000\" d=\"M1557,-1615C1557,-1615 1426,-1615 1426,-1615 1420,-1615 1414,-1609 1414,-1603 1414,-1603 1414,-1544 1414,-1544 1414,-1538 1420,-1532 1426,-1532 1426,-1532 1557,-1532 1557,-1532 1563,-1532 1569,-1538 1569,-1544 1569,-1544 1569,-1603 1569,-1603 1569,-1609 1563,-1615 1557,-1615\"/>\n<text text-anchor=\"start\" x=\"1422\" y=\"-1599.8\" font-family=\"Helvetica,sans-Serif\" font-size=\"14.00\" fill=\"#000000\">SkinThickness ≤ 30.0</text>\n<text text-anchor=\"start\" x=\"1440.5\" y=\"-1584.8\" font-family=\"Helvetica,sans-Serif\" font-size=\"14.00\" fill=\"#000000\">entropy = 0.863</text>\n<text text-anchor=\"start\" x=\"1452\" y=\"-1569.8\" font-family=\"Helvetica,sans-Serif\" font-size=\"14.00\" fill=\"#000000\">samples = 7</text>\n<text text-anchor=\"start\" x=\"1450\" y=\"-1554.8\" font-family=\"Helvetica,sans-Serif\" font-size=\"14.00\" fill=\"#000000\">value = [5, 2]</text>\n<text text-anchor=\"start\" x=\"1454\" y=\"-1539.8\" font-family=\"Helvetica,sans-Serif\" font-size=\"14.00\" fill=\"#000000\">class = não</text>\n</g>\n<!-- 64&#45;&gt;66 -->\n<g id=\"edge66\" class=\"edge\">\n<title>64&#45;&gt;66</title>\n<path fill=\"none\" stroke=\"#000000\" d=\"M1442.7314,-1650.8796C1448.2373,-1642.1434 1454.1006,-1632.8404 1459.7824,-1623.8253\"/>\n<polygon fill=\"#000000\" stroke=\"#000000\" points=\"1462.7857,-1625.6242 1465.1567,-1615.2981 1456.8637,-1621.8919 1462.7857,-1625.6242\"/>\n</g>\n<!-- 67 -->\n<g id=\"node68\" class=\"node\">\n<title>67</title>\n<path fill=\"#e58139\" stroke=\"#000000\" d=\"M1457,-1488.5C1457,-1488.5 1380,-1488.5 1380,-1488.5 1374,-1488.5 1368,-1482.5 1368,-1476.5 1368,-1476.5 1368,-1432.5 1368,-1432.5 1368,-1426.5 1374,-1420.5 1380,-1420.5 1380,-1420.5 1457,-1420.5 1457,-1420.5 1463,-1420.5 1469,-1426.5 1469,-1432.5 1469,-1432.5 1469,-1476.5 1469,-1476.5 1469,-1482.5 1463,-1488.5 1457,-1488.5\"/>\n<text text-anchor=\"start\" x=\"1376\" y=\"-1473.3\" font-family=\"Helvetica,sans-Serif\" font-size=\"14.00\" fill=\"#000000\">entropy = 0.0</text>\n<text text-anchor=\"start\" x=\"1379\" y=\"-1458.3\" font-family=\"Helvetica,sans-Serif\" font-size=\"14.00\" fill=\"#000000\">samples = 4</text>\n<text text-anchor=\"start\" x=\"1377\" y=\"-1443.3\" font-family=\"Helvetica,sans-Serif\" font-size=\"14.00\" fill=\"#000000\">value = [4, 0]</text>\n<text text-anchor=\"start\" x=\"1381\" y=\"-1428.3\" font-family=\"Helvetica,sans-Serif\" font-size=\"14.00\" fill=\"#000000\">class = não</text>\n</g>\n<!-- 66&#45;&gt;67 -->\n<g id=\"edge67\" class=\"edge\">\n<title>66&#45;&gt;67</title>\n<path fill=\"none\" stroke=\"#000000\" d=\"M1465.9681,-1531.8796C1459.1552,-1520.7735 1451.7802,-1508.7513 1444.9206,-1497.5691\"/>\n<polygon fill=\"#000000\" stroke=\"#000000\" points=\"1447.7628,-1495.5087 1439.5503,-1488.8149 1441.796,-1499.1691 1447.7628,-1495.5087\"/>\n</g>\n<!-- 68 -->\n<g id=\"node69\" class=\"node\">\n<title>68</title>\n<path fill=\"#9ccef2\" stroke=\"#000000\" d=\"M1630,-1496C1630,-1496 1499,-1496 1499,-1496 1493,-1496 1487,-1490 1487,-1484 1487,-1484 1487,-1425 1487,-1425 1487,-1419 1493,-1413 1499,-1413 1499,-1413 1630,-1413 1630,-1413 1636,-1413 1642,-1419 1642,-1425 1642,-1425 1642,-1484 1642,-1484 1642,-1490 1636,-1496 1630,-1496\"/>\n<text text-anchor=\"start\" x=\"1495\" y=\"-1480.8\" font-family=\"Helvetica,sans-Serif\" font-size=\"14.00\" fill=\"#000000\">SkinThickness ≤ 36.0</text>\n<text text-anchor=\"start\" x=\"1513.5\" y=\"-1465.8\" font-family=\"Helvetica,sans-Serif\" font-size=\"14.00\" fill=\"#000000\">entropy = 0.918</text>\n<text text-anchor=\"start\" x=\"1525\" y=\"-1450.8\" font-family=\"Helvetica,sans-Serif\" font-size=\"14.00\" fill=\"#000000\">samples = 3</text>\n<text text-anchor=\"start\" x=\"1523\" y=\"-1435.8\" font-family=\"Helvetica,sans-Serif\" font-size=\"14.00\" fill=\"#000000\">value = [1, 2]</text>\n<text text-anchor=\"start\" x=\"1528\" y=\"-1420.8\" font-family=\"Helvetica,sans-Serif\" font-size=\"14.00\" fill=\"#000000\">class = sim</text>\n</g>\n<!-- 66&#45;&gt;68 -->\n<g id=\"edge68\" class=\"edge\">\n<title>66&#45;&gt;68</title>\n<path fill=\"none\" stroke=\"#000000\" d=\"M1517.0319,-1531.8796C1522.391,-1523.1434 1528.0979,-1513.8404 1533.6282,-1504.8253\"/>\n<polygon fill=\"#000000\" stroke=\"#000000\" points=\"1536.6135,-1506.6522 1538.8592,-1496.2981 1530.6467,-1502.9919 1536.6135,-1506.6522\"/>\n</g>\n<!-- 69 -->\n<g id=\"node70\" class=\"node\">\n<title>69</title>\n<path fill=\"#399de5\" stroke=\"#000000\" d=\"M1520,-1369.5C1520,-1369.5 1443,-1369.5 1443,-1369.5 1437,-1369.5 1431,-1363.5 1431,-1357.5 1431,-1357.5 1431,-1313.5 1431,-1313.5 1431,-1307.5 1437,-1301.5 1443,-1301.5 1443,-1301.5 1520,-1301.5 1520,-1301.5 1526,-1301.5 1532,-1307.5 1532,-1313.5 1532,-1313.5 1532,-1357.5 1532,-1357.5 1532,-1363.5 1526,-1369.5 1520,-1369.5\"/>\n<text text-anchor=\"start\" x=\"1439\" y=\"-1354.3\" font-family=\"Helvetica,sans-Serif\" font-size=\"14.00\" fill=\"#000000\">entropy = 0.0</text>\n<text text-anchor=\"start\" x=\"1442\" y=\"-1339.3\" font-family=\"Helvetica,sans-Serif\" font-size=\"14.00\" fill=\"#000000\">samples = 2</text>\n<text text-anchor=\"start\" x=\"1440\" y=\"-1324.3\" font-family=\"Helvetica,sans-Serif\" font-size=\"14.00\" fill=\"#000000\">value = [0, 2]</text>\n<text text-anchor=\"start\" x=\"1445\" y=\"-1309.3\" font-family=\"Helvetica,sans-Serif\" font-size=\"14.00\" fill=\"#000000\">class = sim</text>\n</g>\n<!-- 68&#45;&gt;69 -->\n<g id=\"edge69\" class=\"edge\">\n<title>68&#45;&gt;69</title>\n<path fill=\"none\" stroke=\"#000000\" d=\"M1535.4706,-1412.8796C1527.6477,-1401.6636 1519.173,-1389.5131 1511.3083,-1378.2372\"/>\n<polygon fill=\"#000000\" stroke=\"#000000\" points=\"1514.0254,-1376.0147 1505.4339,-1369.8149 1508.284,-1380.0192 1514.0254,-1376.0147\"/>\n</g>\n<!-- 70 -->\n<g id=\"node71\" class=\"node\">\n<title>70</title>\n<path fill=\"#e58139\" stroke=\"#000000\" d=\"M1639,-1369.5C1639,-1369.5 1562,-1369.5 1562,-1369.5 1556,-1369.5 1550,-1363.5 1550,-1357.5 1550,-1357.5 1550,-1313.5 1550,-1313.5 1550,-1307.5 1556,-1301.5 1562,-1301.5 1562,-1301.5 1639,-1301.5 1639,-1301.5 1645,-1301.5 1651,-1307.5 1651,-1313.5 1651,-1313.5 1651,-1357.5 1651,-1357.5 1651,-1363.5 1645,-1369.5 1639,-1369.5\"/>\n<text text-anchor=\"start\" x=\"1558\" y=\"-1354.3\" font-family=\"Helvetica,sans-Serif\" font-size=\"14.00\" fill=\"#000000\">entropy = 0.0</text>\n<text text-anchor=\"start\" x=\"1561\" y=\"-1339.3\" font-family=\"Helvetica,sans-Serif\" font-size=\"14.00\" fill=\"#000000\">samples = 1</text>\n<text text-anchor=\"start\" x=\"1559\" y=\"-1324.3\" font-family=\"Helvetica,sans-Serif\" font-size=\"14.00\" fill=\"#000000\">value = [1, 0]</text>\n<text text-anchor=\"start\" x=\"1563\" y=\"-1309.3\" font-family=\"Helvetica,sans-Serif\" font-size=\"14.00\" fill=\"#000000\">class = não</text>\n</g>\n<!-- 68&#45;&gt;70 -->\n<g id=\"edge70\" class=\"edge\">\n<title>68&#45;&gt;70</title>\n<path fill=\"none\" stroke=\"#000000\" d=\"M1577.0911,-1412.8796C1580.3511,-1402.1034 1583.872,-1390.4647 1587.1686,-1379.5677\"/>\n<polygon fill=\"#000000\" stroke=\"#000000\" points=\"1590.5734,-1380.4 1590.119,-1369.8149 1583.8733,-1378.373 1590.5734,-1380.4\"/>\n</g>\n<!-- 72 -->\n<g id=\"node73\" class=\"node\">\n<title>72</title>\n<path fill=\"#fae8da\" stroke=\"#000000\" d=\"M1877.5,-1615C1877.5,-1615 1783.5,-1615 1783.5,-1615 1777.5,-1615 1771.5,-1609 1771.5,-1603 1771.5,-1603 1771.5,-1544 1771.5,-1544 1771.5,-1538 1777.5,-1532 1783.5,-1532 1783.5,-1532 1877.5,-1532 1877.5,-1532 1883.5,-1532 1889.5,-1538 1889.5,-1544 1889.5,-1544 1889.5,-1603 1889.5,-1603 1889.5,-1609 1883.5,-1615 1877.5,-1615\"/>\n<text text-anchor=\"start\" x=\"1795.5\" y=\"-1599.8\" font-family=\"Helvetica,sans-Serif\" font-size=\"14.00\" fill=\"#000000\">Age ≤ 56.0</text>\n<text text-anchor=\"start\" x=\"1779.5\" y=\"-1584.8\" font-family=\"Helvetica,sans-Serif\" font-size=\"14.00\" fill=\"#000000\">entropy = 0.992</text>\n<text text-anchor=\"start\" x=\"1786.5\" y=\"-1569.8\" font-family=\"Helvetica,sans-Serif\" font-size=\"14.00\" fill=\"#000000\">samples = 98</text>\n<text text-anchor=\"start\" x=\"1780.5\" y=\"-1554.8\" font-family=\"Helvetica,sans-Serif\" font-size=\"14.00\" fill=\"#000000\">value = [54, 44]</text>\n<text text-anchor=\"start\" x=\"1793\" y=\"-1539.8\" font-family=\"Helvetica,sans-Serif\" font-size=\"14.00\" fill=\"#000000\">class = não</text>\n</g>\n<!-- 71&#45;&gt;72 -->\n<g id=\"edge72\" class=\"edge\">\n<title>71&#45;&gt;72</title>\n<path fill=\"none\" stroke=\"#000000\" d=\"M1830.5,-1650.8796C1830.5,-1642.6838 1830.5,-1633.9891 1830.5,-1625.5013\"/>\n<polygon fill=\"#000000\" stroke=\"#000000\" points=\"1834.0001,-1625.298 1830.5,-1615.2981 1827.0001,-1625.2981 1834.0001,-1625.298\"/>\n</g>\n<!-- 117 -->\n<g id=\"node118\" class=\"node\">\n<title>117</title>\n<path fill=\"#86c3ef\" stroke=\"#000000\" d=\"M2508.5,-1615C2508.5,-1615 2398.5,-1615 2398.5,-1615 2392.5,-1615 2386.5,-1609 2386.5,-1603 2386.5,-1603 2386.5,-1544 2386.5,-1544 2386.5,-1538 2392.5,-1532 2398.5,-1532 2398.5,-1532 2508.5,-1532 2508.5,-1532 2514.5,-1532 2520.5,-1538 2520.5,-1544 2520.5,-1544 2520.5,-1603 2520.5,-1603 2520.5,-1609 2514.5,-1615 2508.5,-1615\"/>\n<text text-anchor=\"start\" x=\"2394.5\" y=\"-1599.8\" font-family=\"Helvetica,sans-Serif\" font-size=\"14.00\" fill=\"#000000\">Pregnancies ≤ 7.5</text>\n<text text-anchor=\"start\" x=\"2402.5\" y=\"-1584.8\" font-family=\"Helvetica,sans-Serif\" font-size=\"14.00\" fill=\"#000000\">entropy = 0.854</text>\n<text text-anchor=\"start\" x=\"2409.5\" y=\"-1569.8\" font-family=\"Helvetica,sans-Serif\" font-size=\"14.00\" fill=\"#000000\">samples = 43</text>\n<text text-anchor=\"start\" x=\"2403.5\" y=\"-1554.8\" font-family=\"Helvetica,sans-Serif\" font-size=\"14.00\" fill=\"#000000\">value = [12, 31]</text>\n<text text-anchor=\"start\" x=\"2417\" y=\"-1539.8\" font-family=\"Helvetica,sans-Serif\" font-size=\"14.00\" fill=\"#000000\">class = sim</text>\n</g>\n<!-- 71&#45;&gt;117 -->\n<g id=\"edge117\" class=\"edge\">\n<title>71&#45;&gt;117</title>\n<path fill=\"none\" stroke=\"#000000\" d=\"M1951.3594,-1669.4145C2076.9931,-1645.417 2269.8517,-1608.5789 2376.2868,-1588.2486\"/>\n<polygon fill=\"#000000\" stroke=\"#000000\" points=\"2377.1463,-1591.6478 2386.312,-1586.3337 2375.8329,-1584.7721 2377.1463,-1591.6478\"/>\n</g>\n<!-- 73 -->\n<g id=\"node74\" class=\"node\">\n<title>73</title>\n<path fill=\"#fdf5ef\" stroke=\"#000000\" d=\"M1813.5,-1496C1813.5,-1496 1719.5,-1496 1719.5,-1496 1713.5,-1496 1707.5,-1490 1707.5,-1484 1707.5,-1484 1707.5,-1425 1707.5,-1425 1707.5,-1419 1713.5,-1413 1719.5,-1413 1719.5,-1413 1813.5,-1413 1813.5,-1413 1819.5,-1413 1825.5,-1419 1825.5,-1425 1825.5,-1425 1825.5,-1484 1825.5,-1484 1825.5,-1490 1819.5,-1496 1813.5,-1496\"/>\n<text text-anchor=\"start\" x=\"1719.5\" y=\"-1480.8\" font-family=\"Helvetica,sans-Serif\" font-size=\"14.00\" fill=\"#000000\">Insulin ≤ 109.0</text>\n<text text-anchor=\"start\" x=\"1715.5\" y=\"-1465.8\" font-family=\"Helvetica,sans-Serif\" font-size=\"14.00\" fill=\"#000000\">entropy = 0.999</text>\n<text text-anchor=\"start\" x=\"1722.5\" y=\"-1450.8\" font-family=\"Helvetica,sans-Serif\" font-size=\"14.00\" fill=\"#000000\">samples = 92</text>\n<text text-anchor=\"start\" x=\"1716.5\" y=\"-1435.8\" font-family=\"Helvetica,sans-Serif\" font-size=\"14.00\" fill=\"#000000\">value = [48, 44]</text>\n<text text-anchor=\"start\" x=\"1729\" y=\"-1420.8\" font-family=\"Helvetica,sans-Serif\" font-size=\"14.00\" fill=\"#000000\">class = não</text>\n</g>\n<!-- 72&#45;&gt;73 -->\n<g id=\"edge73\" class=\"edge\">\n<title>72&#45;&gt;73</title>\n<path fill=\"none\" stroke=\"#000000\" d=\"M1808.1159,-1531.8796C1803.5144,-1523.3236 1798.6204,-1514.2238 1793.8658,-1505.3833\"/>\n<polygon fill=\"#000000\" stroke=\"#000000\" points=\"1796.7988,-1503.4473 1788.9796,-1496.2981 1790.6338,-1506.763 1796.7988,-1503.4473\"/>\n</g>\n<!-- 116 -->\n<g id=\"node117\" class=\"node\">\n<title>116</title>\n<path fill=\"#e58139\" stroke=\"#000000\" d=\"M1933,-1488.5C1933,-1488.5 1856,-1488.5 1856,-1488.5 1850,-1488.5 1844,-1482.5 1844,-1476.5 1844,-1476.5 1844,-1432.5 1844,-1432.5 1844,-1426.5 1850,-1420.5 1856,-1420.5 1856,-1420.5 1933,-1420.5 1933,-1420.5 1939,-1420.5 1945,-1426.5 1945,-1432.5 1945,-1432.5 1945,-1476.5 1945,-1476.5 1945,-1482.5 1939,-1488.5 1933,-1488.5\"/>\n<text text-anchor=\"start\" x=\"1852\" y=\"-1473.3\" font-family=\"Helvetica,sans-Serif\" font-size=\"14.00\" fill=\"#000000\">entropy = 0.0</text>\n<text text-anchor=\"start\" x=\"1855\" y=\"-1458.3\" font-family=\"Helvetica,sans-Serif\" font-size=\"14.00\" fill=\"#000000\">samples = 6</text>\n<text text-anchor=\"start\" x=\"1853\" y=\"-1443.3\" font-family=\"Helvetica,sans-Serif\" font-size=\"14.00\" fill=\"#000000\">value = [6, 0]</text>\n<text text-anchor=\"start\" x=\"1857\" y=\"-1428.3\" font-family=\"Helvetica,sans-Serif\" font-size=\"14.00\" fill=\"#000000\">class = não</text>\n</g>\n<!-- 72&#45;&gt;116 -->\n<g id=\"edge116\" class=\"edge\">\n<title>72&#45;&gt;116</title>\n<path fill=\"none\" stroke=\"#000000\" d=\"M1852.8841,-1531.8796C1858.798,-1520.8835 1865.1949,-1508.9893 1871.158,-1497.9015\"/>\n<polygon fill=\"#000000\" stroke=\"#000000\" points=\"1874.3908,-1499.2799 1876.0449,-1488.8149 1868.2258,-1495.9642 1874.3908,-1499.2799\"/>\n</g>\n<!-- 74 -->\n<g id=\"node75\" class=\"node\">\n<title>74</title>\n<path fill=\"#e9965a\" stroke=\"#000000\" d=\"M1779.5,-1377C1779.5,-1377 1681.5,-1377 1681.5,-1377 1675.5,-1377 1669.5,-1371 1669.5,-1365 1669.5,-1365 1669.5,-1306 1669.5,-1306 1669.5,-1300 1675.5,-1294 1681.5,-1294 1681.5,-1294 1779.5,-1294 1779.5,-1294 1785.5,-1294 1791.5,-1300 1791.5,-1306 1791.5,-1306 1791.5,-1365 1791.5,-1365 1791.5,-1371 1785.5,-1377 1779.5,-1377\"/>\n<text text-anchor=\"start\" x=\"1677.5\" y=\"-1361.8\" font-family=\"Helvetica,sans-Serif\" font-size=\"14.00\" fill=\"#000000\">Glucose ≤ 128.0</text>\n<text text-anchor=\"start\" x=\"1679.5\" y=\"-1346.8\" font-family=\"Helvetica,sans-Serif\" font-size=\"14.00\" fill=\"#000000\">entropy = 0.592</text>\n<text text-anchor=\"start\" x=\"1686.5\" y=\"-1331.8\" font-family=\"Helvetica,sans-Serif\" font-size=\"14.00\" fill=\"#000000\">samples = 14</text>\n<text text-anchor=\"start\" x=\"1685\" y=\"-1316.8\" font-family=\"Helvetica,sans-Serif\" font-size=\"14.00\" fill=\"#000000\">value = [12, 2]</text>\n<text text-anchor=\"start\" x=\"1693\" y=\"-1301.8\" font-family=\"Helvetica,sans-Serif\" font-size=\"14.00\" fill=\"#000000\">class = não</text>\n</g>\n<!-- 73&#45;&gt;74 -->\n<g id=\"edge74\" class=\"edge\">\n<title>73&#45;&gt;74</title>\n<path fill=\"none\" stroke=\"#000000\" d=\"M1753.9089,-1412.8796C1751.3751,-1404.5037 1748.6835,-1395.6067 1746.0623,-1386.942\"/>\n<polygon fill=\"#000000\" stroke=\"#000000\" points=\"1749.3905,-1385.8562 1743.1448,-1377.2981 1742.6904,-1387.8832 1749.3905,-1385.8562\"/>\n</g>\n<!-- 77 -->\n<g id=\"node78\" class=\"node\">\n<title>77</title>\n<path fill=\"#e3f1fb\" stroke=\"#000000\" d=\"M1953.5,-1377C1953.5,-1377 1821.5,-1377 1821.5,-1377 1815.5,-1377 1809.5,-1371 1809.5,-1365 1809.5,-1365 1809.5,-1306 1809.5,-1306 1809.5,-1300 1815.5,-1294 1821.5,-1294 1821.5,-1294 1953.5,-1294 1953.5,-1294 1959.5,-1294 1965.5,-1300 1965.5,-1306 1965.5,-1306 1965.5,-1365 1965.5,-1365 1965.5,-1371 1959.5,-1377 1953.5,-1377\"/>\n<text text-anchor=\"start\" x=\"1817.5\" y=\"-1361.8\" font-family=\"Helvetica,sans-Serif\" font-size=\"14.00\" fill=\"#000000\">BloodPressure ≤ 67.0</text>\n<text text-anchor=\"start\" x=\"1836.5\" y=\"-1346.8\" font-family=\"Helvetica,sans-Serif\" font-size=\"14.00\" fill=\"#000000\">entropy = 0.996</text>\n<text text-anchor=\"start\" x=\"1843.5\" y=\"-1331.8\" font-family=\"Helvetica,sans-Serif\" font-size=\"14.00\" fill=\"#000000\">samples = 78</text>\n<text text-anchor=\"start\" x=\"1837.5\" y=\"-1316.8\" font-family=\"Helvetica,sans-Serif\" font-size=\"14.00\" fill=\"#000000\">value = [36, 42]</text>\n<text text-anchor=\"start\" x=\"1851\" y=\"-1301.8\" font-family=\"Helvetica,sans-Serif\" font-size=\"14.00\" fill=\"#000000\">class = sim</text>\n</g>\n<!-- 73&#45;&gt;77 -->\n<g id=\"edge77\" class=\"edge\">\n<title>73&#45;&gt;77</title>\n<path fill=\"none\" stroke=\"#000000\" d=\"M1808.8199,-1412.8796C1818.1608,-1403.6931 1828.139,-1393.8798 1837.744,-1384.4336\"/>\n<polygon fill=\"#000000\" stroke=\"#000000\" points=\"1840.3238,-1386.8054 1844.9994,-1377.2981 1835.4155,-1381.8146 1840.3238,-1386.8054\"/>\n</g>\n<!-- 75 -->\n<g id=\"node76\" class=\"node\">\n<title>75</title>\n<path fill=\"#e58139\" stroke=\"#000000\" d=\"M1616,-1250.5C1616,-1250.5 1533,-1250.5 1533,-1250.5 1527,-1250.5 1521,-1244.5 1521,-1238.5 1521,-1238.5 1521,-1194.5 1521,-1194.5 1521,-1188.5 1527,-1182.5 1533,-1182.5 1533,-1182.5 1616,-1182.5 1616,-1182.5 1622,-1182.5 1628,-1188.5 1628,-1194.5 1628,-1194.5 1628,-1238.5 1628,-1238.5 1628,-1244.5 1622,-1250.5 1616,-1250.5\"/>\n<text text-anchor=\"start\" x=\"1532\" y=\"-1235.3\" font-family=\"Helvetica,sans-Serif\" font-size=\"14.00\" fill=\"#000000\">entropy = 0.0</text>\n<text text-anchor=\"start\" x=\"1530.5\" y=\"-1220.3\" font-family=\"Helvetica,sans-Serif\" font-size=\"14.00\" fill=\"#000000\">samples = 12</text>\n<text text-anchor=\"start\" x=\"1529\" y=\"-1205.3\" font-family=\"Helvetica,sans-Serif\" font-size=\"14.00\" fill=\"#000000\">value = [12, 0]</text>\n<text text-anchor=\"start\" x=\"1537\" y=\"-1190.3\" font-family=\"Helvetica,sans-Serif\" font-size=\"14.00\" fill=\"#000000\">class = não</text>\n</g>\n<!-- 74&#45;&gt;75 -->\n<g id=\"edge75\" class=\"edge\">\n<title>74&#45;&gt;75</title>\n<path fill=\"none\" stroke=\"#000000\" d=\"M1675.9388,-1293.8796C1660.1516,-1281.8368 1642.9521,-1268.7167 1627.2759,-1256.7586\"/>\n<polygon fill=\"#000000\" stroke=\"#000000\" points=\"1629.3063,-1253.9053 1619.2327,-1250.623 1625.0608,-1259.4709 1629.3063,-1253.9053\"/>\n</g>\n<!-- 76 -->\n<g id=\"node77\" class=\"node\">\n<title>76</title>\n<path fill=\"#399de5\" stroke=\"#000000\" d=\"M1735,-1250.5C1735,-1250.5 1658,-1250.5 1658,-1250.5 1652,-1250.5 1646,-1244.5 1646,-1238.5 1646,-1238.5 1646,-1194.5 1646,-1194.5 1646,-1188.5 1652,-1182.5 1658,-1182.5 1658,-1182.5 1735,-1182.5 1735,-1182.5 1741,-1182.5 1747,-1188.5 1747,-1194.5 1747,-1194.5 1747,-1238.5 1747,-1238.5 1747,-1244.5 1741,-1250.5 1735,-1250.5\"/>\n<text text-anchor=\"start\" x=\"1654\" y=\"-1235.3\" font-family=\"Helvetica,sans-Serif\" font-size=\"14.00\" fill=\"#000000\">entropy = 0.0</text>\n<text text-anchor=\"start\" x=\"1657\" y=\"-1220.3\" font-family=\"Helvetica,sans-Serif\" font-size=\"14.00\" fill=\"#000000\">samples = 2</text>\n<text text-anchor=\"start\" x=\"1655\" y=\"-1205.3\" font-family=\"Helvetica,sans-Serif\" font-size=\"14.00\" fill=\"#000000\">value = [0, 2]</text>\n<text text-anchor=\"start\" x=\"1660\" y=\"-1190.3\" font-family=\"Helvetica,sans-Serif\" font-size=\"14.00\" fill=\"#000000\">class = sim</text>\n</g>\n<!-- 74&#45;&gt;76 -->\n<g id=\"edge76\" class=\"edge\">\n<title>74&#45;&gt;76</title>\n<path fill=\"none\" stroke=\"#000000\" d=\"M1718.6084,-1293.8796C1715.5295,-1283.1034 1712.2042,-1271.4647 1709.0908,-1260.5677\"/>\n<polygon fill=\"#000000\" stroke=\"#000000\" points=\"1712.4169,-1259.4686 1706.3043,-1250.8149 1705.6862,-1261.3917 1712.4169,-1259.4686\"/>\n</g>\n<!-- 78 -->\n<g id=\"node79\" class=\"node\">\n<title>78</title>\n<path fill=\"#6ab6ec\" stroke=\"#000000\" d=\"M1994,-1258C1994,-1258 1777,-1258 1777,-1258 1771,-1258 1765,-1252 1765,-1246 1765,-1246 1765,-1187 1765,-1187 1765,-1181 1771,-1175 1777,-1175 1777,-1175 1994,-1175 1994,-1175 2000,-1175 2006,-1181 2006,-1187 2006,-1187 2006,-1246 2006,-1246 2006,-1252 2000,-1258 1994,-1258\"/>\n<text text-anchor=\"start\" x=\"1773\" y=\"-1242.8\" font-family=\"Helvetica,sans-Serif\" font-size=\"14.00\" fill=\"#000000\">DiabetesPedigreeFunction ≤ 0.443</text>\n<text text-anchor=\"start\" x=\"1834.5\" y=\"-1227.8\" font-family=\"Helvetica,sans-Serif\" font-size=\"14.00\" fill=\"#000000\">entropy = 0.722</text>\n<text text-anchor=\"start\" x=\"1841.5\" y=\"-1212.8\" font-family=\"Helvetica,sans-Serif\" font-size=\"14.00\" fill=\"#000000\">samples = 15</text>\n<text text-anchor=\"start\" x=\"1840\" y=\"-1197.8\" font-family=\"Helvetica,sans-Serif\" font-size=\"14.00\" fill=\"#000000\">value = [3, 12]</text>\n<text text-anchor=\"start\" x=\"1849\" y=\"-1182.8\" font-family=\"Helvetica,sans-Serif\" font-size=\"14.00\" fill=\"#000000\">class = sim</text>\n</g>\n<!-- 77&#45;&gt;78 -->\n<g id=\"edge78\" class=\"edge\">\n<title>77&#45;&gt;78</title>\n<path fill=\"none\" stroke=\"#000000\" d=\"M1886.8005,-1293.8796C1886.6628,-1285.6838 1886.5166,-1276.9891 1886.374,-1268.5013\"/>\n<polygon fill=\"#000000\" stroke=\"#000000\" points=\"1889.8701,-1268.2378 1886.2025,-1258.2981 1882.8711,-1268.3555 1889.8701,-1268.2378\"/>\n</g>\n<!-- 83 -->\n<g id=\"node84\" class=\"node\">\n<title>83</title>\n<path fill=\"#fdf4ed\" stroke=\"#000000\" d=\"M2167,-1258C2167,-1258 2036,-1258 2036,-1258 2030,-1258 2024,-1252 2024,-1246 2024,-1246 2024,-1187 2024,-1187 2024,-1181 2030,-1175 2036,-1175 2036,-1175 2167,-1175 2167,-1175 2173,-1175 2179,-1181 2179,-1187 2179,-1187 2179,-1246 2179,-1246 2179,-1252 2173,-1258 2167,-1258\"/>\n<text text-anchor=\"start\" x=\"2032\" y=\"-1242.8\" font-family=\"Helvetica,sans-Serif\" font-size=\"14.00\" fill=\"#000000\">SkinThickness ≤ 28.5</text>\n<text text-anchor=\"start\" x=\"2050.5\" y=\"-1227.8\" font-family=\"Helvetica,sans-Serif\" font-size=\"14.00\" fill=\"#000000\">entropy = 0.998</text>\n<text text-anchor=\"start\" x=\"2057.5\" y=\"-1212.8\" font-family=\"Helvetica,sans-Serif\" font-size=\"14.00\" fill=\"#000000\">samples = 63</text>\n<text text-anchor=\"start\" x=\"2051.5\" y=\"-1197.8\" font-family=\"Helvetica,sans-Serif\" font-size=\"14.00\" fill=\"#000000\">value = [33, 30]</text>\n<text text-anchor=\"start\" x=\"2064\" y=\"-1182.8\" font-family=\"Helvetica,sans-Serif\" font-size=\"14.00\" fill=\"#000000\">class = não</text>\n</g>\n<!-- 77&#45;&gt;83 -->\n<g id=\"edge83\" class=\"edge\">\n<title>77&#45;&gt;83</title>\n<path fill=\"none\" stroke=\"#000000\" d=\"M1962.3468,-1293.8796C1980.2663,-1283.915 1999.512,-1273.2129 2017.803,-1263.0418\"/>\n<polygon fill=\"#000000\" stroke=\"#000000\" points=\"2019.6568,-1266.0158 2026.6954,-1258.0969 2016.2548,-1259.898 2019.6568,-1266.0158\"/>\n</g>\n<!-- 79 -->\n<g id=\"node80\" class=\"node\">\n<title>79</title>\n<path fill=\"#49a5e7\" stroke=\"#000000\" d=\"M1784.5,-1139C1784.5,-1139 1652.5,-1139 1652.5,-1139 1646.5,-1139 1640.5,-1133 1640.5,-1127 1640.5,-1127 1640.5,-1068 1640.5,-1068 1640.5,-1062 1646.5,-1056 1652.5,-1056 1652.5,-1056 1784.5,-1056 1784.5,-1056 1790.5,-1056 1796.5,-1062 1796.5,-1068 1796.5,-1068 1796.5,-1127 1796.5,-1127 1796.5,-1133 1790.5,-1139 1784.5,-1139\"/>\n<text text-anchor=\"start\" x=\"1648.5\" y=\"-1123.8\" font-family=\"Helvetica,sans-Serif\" font-size=\"14.00\" fill=\"#000000\">BloodPressure ≤ 55.0</text>\n<text text-anchor=\"start\" x=\"1667.5\" y=\"-1108.8\" font-family=\"Helvetica,sans-Serif\" font-size=\"14.00\" fill=\"#000000\">entropy = 0.391</text>\n<text text-anchor=\"start\" x=\"1674.5\" y=\"-1093.8\" font-family=\"Helvetica,sans-Serif\" font-size=\"14.00\" fill=\"#000000\">samples = 13</text>\n<text text-anchor=\"start\" x=\"1673\" y=\"-1078.8\" font-family=\"Helvetica,sans-Serif\" font-size=\"14.00\" fill=\"#000000\">value = [1, 12]</text>\n<text text-anchor=\"start\" x=\"1682\" y=\"-1063.8\" font-family=\"Helvetica,sans-Serif\" font-size=\"14.00\" fill=\"#000000\">class = sim</text>\n</g>\n<!-- 78&#45;&gt;79 -->\n<g id=\"edge79\" class=\"edge\">\n<title>78&#45;&gt;79</title>\n<path fill=\"none\" stroke=\"#000000\" d=\"M1827.0915,-1174.8796C1813.6161,-1165.2774 1799.1797,-1154.9903 1785.375,-1145.1534\"/>\n<polygon fill=\"#000000\" stroke=\"#000000\" points=\"1787.0506,-1142.0497 1776.8755,-1139.0969 1782.9883,-1147.7505 1787.0506,-1142.0497\"/>\n</g>\n<!-- 82 -->\n<g id=\"node83\" class=\"node\">\n<title>82</title>\n<path fill=\"#e58139\" stroke=\"#000000\" d=\"M1904,-1131.5C1904,-1131.5 1827,-1131.5 1827,-1131.5 1821,-1131.5 1815,-1125.5 1815,-1119.5 1815,-1119.5 1815,-1075.5 1815,-1075.5 1815,-1069.5 1821,-1063.5 1827,-1063.5 1827,-1063.5 1904,-1063.5 1904,-1063.5 1910,-1063.5 1916,-1069.5 1916,-1075.5 1916,-1075.5 1916,-1119.5 1916,-1119.5 1916,-1125.5 1910,-1131.5 1904,-1131.5\"/>\n<text text-anchor=\"start\" x=\"1823\" y=\"-1116.3\" font-family=\"Helvetica,sans-Serif\" font-size=\"14.00\" fill=\"#000000\">entropy = 0.0</text>\n<text text-anchor=\"start\" x=\"1826\" y=\"-1101.3\" font-family=\"Helvetica,sans-Serif\" font-size=\"14.00\" fill=\"#000000\">samples = 2</text>\n<text text-anchor=\"start\" x=\"1824\" y=\"-1086.3\" font-family=\"Helvetica,sans-Serif\" font-size=\"14.00\" fill=\"#000000\">value = [2, 0]</text>\n<text text-anchor=\"start\" x=\"1828\" y=\"-1071.3\" font-family=\"Helvetica,sans-Serif\" font-size=\"14.00\" fill=\"#000000\">class = não</text>\n</g>\n<!-- 78&#45;&gt;82 -->\n<g id=\"edge82\" class=\"edge\">\n<title>78&#45;&gt;82</title>\n<path fill=\"none\" stroke=\"#000000\" d=\"M1878.505,-1174.8796C1876.7123,-1164.2134 1874.7777,-1152.7021 1872.9624,-1141.9015\"/>\n<polygon fill=\"#000000\" stroke=\"#000000\" points=\"1876.3763,-1141.0965 1871.2672,-1131.8149 1869.4731,-1142.2568 1876.3763,-1141.0965\"/>\n</g>\n<!-- 80 -->\n<g id=\"node81\" class=\"node\">\n<title>80</title>\n<path fill=\"#e58139\" stroke=\"#000000\" d=\"M1661,-1012.5C1661,-1012.5 1584,-1012.5 1584,-1012.5 1578,-1012.5 1572,-1006.5 1572,-1000.5 1572,-1000.5 1572,-956.5 1572,-956.5 1572,-950.5 1578,-944.5 1584,-944.5 1584,-944.5 1661,-944.5 1661,-944.5 1667,-944.5 1673,-950.5 1673,-956.5 1673,-956.5 1673,-1000.5 1673,-1000.5 1673,-1006.5 1667,-1012.5 1661,-1012.5\"/>\n<text text-anchor=\"start\" x=\"1580\" y=\"-997.3\" font-family=\"Helvetica,sans-Serif\" font-size=\"14.00\" fill=\"#000000\">entropy = 0.0</text>\n<text text-anchor=\"start\" x=\"1583\" y=\"-982.3\" font-family=\"Helvetica,sans-Serif\" font-size=\"14.00\" fill=\"#000000\">samples = 1</text>\n<text text-anchor=\"start\" x=\"1581\" y=\"-967.3\" font-family=\"Helvetica,sans-Serif\" font-size=\"14.00\" fill=\"#000000\">value = [1, 0]</text>\n<text text-anchor=\"start\" x=\"1585\" y=\"-952.3\" font-family=\"Helvetica,sans-Serif\" font-size=\"14.00\" fill=\"#000000\">class = não</text>\n</g>\n<!-- 79&#45;&gt;80 -->\n<g id=\"edge80\" class=\"edge\">\n<title>79&#45;&gt;80</title>\n<path fill=\"none\" stroke=\"#000000\" d=\"M1684.9239,-1055.8796C1675.7869,-1044.5536 1665.8813,-1032.2748 1656.7098,-1020.9058\"/>\n<polygon fill=\"#000000\" stroke=\"#000000\" points=\"1659.1856,-1018.4005 1650.1826,-1012.8149 1653.7374,-1022.7957 1659.1856,-1018.4005\"/>\n</g>\n<!-- 81 -->\n<g id=\"node82\" class=\"node\">\n<title>81</title>\n<path fill=\"#399de5\" stroke=\"#000000\" d=\"M1786,-1012.5C1786,-1012.5 1703,-1012.5 1703,-1012.5 1697,-1012.5 1691,-1006.5 1691,-1000.5 1691,-1000.5 1691,-956.5 1691,-956.5 1691,-950.5 1697,-944.5 1703,-944.5 1703,-944.5 1786,-944.5 1786,-944.5 1792,-944.5 1798,-950.5 1798,-956.5 1798,-956.5 1798,-1000.5 1798,-1000.5 1798,-1006.5 1792,-1012.5 1786,-1012.5\"/>\n<text text-anchor=\"start\" x=\"1702\" y=\"-997.3\" font-family=\"Helvetica,sans-Serif\" font-size=\"14.00\" fill=\"#000000\">entropy = 0.0</text>\n<text text-anchor=\"start\" x=\"1700.5\" y=\"-982.3\" font-family=\"Helvetica,sans-Serif\" font-size=\"14.00\" fill=\"#000000\">samples = 12</text>\n<text text-anchor=\"start\" x=\"1699\" y=\"-967.3\" font-family=\"Helvetica,sans-Serif\" font-size=\"14.00\" fill=\"#000000\">value = [0, 12]</text>\n<text text-anchor=\"start\" x=\"1708\" y=\"-952.3\" font-family=\"Helvetica,sans-Serif\" font-size=\"14.00\" fill=\"#000000\">class = sim</text>\n</g>\n<!-- 79&#45;&gt;81 -->\n<g id=\"edge81\" class=\"edge\">\n<title>79&#45;&gt;81</title>\n<path fill=\"none\" stroke=\"#000000\" d=\"M1727.5935,-1055.8796C1729.924,-1045.2134 1732.439,-1033.7021 1734.7988,-1022.9015\"/>\n<polygon fill=\"#000000\" stroke=\"#000000\" points=\"1738.2874,-1023.3316 1737.0026,-1012.8149 1731.4487,-1021.8374 1738.2874,-1023.3316\"/>\n</g>\n<!-- 84 -->\n<g id=\"node85\" class=\"node\">\n<title>84</title>\n<path fill=\"#6ab6ec\" stroke=\"#000000\" d=\"M2077,-1139C2077,-1139 1946,-1139 1946,-1139 1940,-1139 1934,-1133 1934,-1127 1934,-1127 1934,-1068 1934,-1068 1934,-1062 1940,-1056 1946,-1056 1946,-1056 2077,-1056 2077,-1056 2083,-1056 2089,-1062 2089,-1068 2089,-1068 2089,-1127 2089,-1127 2089,-1133 2083,-1139 2077,-1139\"/>\n<text text-anchor=\"start\" x=\"1942\" y=\"-1123.8\" font-family=\"Helvetica,sans-Serif\" font-size=\"14.00\" fill=\"#000000\">SkinThickness ≤ 17.5</text>\n<text text-anchor=\"start\" x=\"1960.5\" y=\"-1108.8\" font-family=\"Helvetica,sans-Serif\" font-size=\"14.00\" fill=\"#000000\">entropy = 0.722</text>\n<text text-anchor=\"start\" x=\"1967.5\" y=\"-1093.8\" font-family=\"Helvetica,sans-Serif\" font-size=\"14.00\" fill=\"#000000\">samples = 10</text>\n<text text-anchor=\"start\" x=\"1970\" y=\"-1078.8\" font-family=\"Helvetica,sans-Serif\" font-size=\"14.00\" fill=\"#000000\">value = [2, 8]</text>\n<text text-anchor=\"start\" x=\"1975\" y=\"-1063.8\" font-family=\"Helvetica,sans-Serif\" font-size=\"14.00\" fill=\"#000000\">class = sim</text>\n</g>\n<!-- 83&#45;&gt;84 -->\n<g id=\"edge84\" class=\"edge\">\n<title>83&#45;&gt;84</title>\n<path fill=\"none\" stroke=\"#000000\" d=\"M2070.0224,-1174.8796C2063.3471,-1166.0534 2056.2342,-1156.6485 2049.3504,-1147.5466\"/>\n<polygon fill=\"#000000\" stroke=\"#000000\" points=\"2051.9357,-1145.1626 2043.112,-1139.2981 2046.3526,-1149.3852 2051.9357,-1145.1626\"/>\n</g>\n<!-- 87 -->\n<g id=\"node88\" class=\"node\">\n<title>87</title>\n<path fill=\"#f7dac6\" stroke=\"#000000\" d=\"M2213.5,-1139C2213.5,-1139 2119.5,-1139 2119.5,-1139 2113.5,-1139 2107.5,-1133 2107.5,-1127 2107.5,-1127 2107.5,-1068 2107.5,-1068 2107.5,-1062 2113.5,-1056 2119.5,-1056 2119.5,-1056 2213.5,-1056 2213.5,-1056 2219.5,-1056 2225.5,-1062 2225.5,-1068 2225.5,-1068 2225.5,-1127 2225.5,-1127 2225.5,-1133 2219.5,-1139 2213.5,-1139\"/>\n<text text-anchor=\"start\" x=\"2117.5\" y=\"-1123.8\" font-family=\"Helvetica,sans-Serif\" font-size=\"14.00\" fill=\"#000000\">Glucose ≤ 99.5</text>\n<text text-anchor=\"start\" x=\"2115.5\" y=\"-1108.8\" font-family=\"Helvetica,sans-Serif\" font-size=\"14.00\" fill=\"#000000\">entropy = 0.979</text>\n<text text-anchor=\"start\" x=\"2122.5\" y=\"-1093.8\" font-family=\"Helvetica,sans-Serif\" font-size=\"14.00\" fill=\"#000000\">samples = 53</text>\n<text text-anchor=\"start\" x=\"2116.5\" y=\"-1078.8\" font-family=\"Helvetica,sans-Serif\" font-size=\"14.00\" fill=\"#000000\">value = [31, 22]</text>\n<text text-anchor=\"start\" x=\"2129\" y=\"-1063.8\" font-family=\"Helvetica,sans-Serif\" font-size=\"14.00\" fill=\"#000000\">class = não</text>\n</g>\n<!-- 83&#45;&gt;87 -->\n<g id=\"edge87\" class=\"edge\">\n<title>83&#45;&gt;87</title>\n<path fill=\"none\" stroke=\"#000000\" d=\"M2124.2338,-1174.8796C2128.9565,-1166.2335 2133.9824,-1157.0322 2138.859,-1148.1042\"/>\n<polygon fill=\"#000000\" stroke=\"#000000\" points=\"2141.947,-1149.752 2143.6691,-1139.2981 2135.8037,-1146.3964 2141.947,-1149.752\"/>\n</g>\n<!-- 85 -->\n<g id=\"node86\" class=\"node\">\n<title>85</title>\n<path fill=\"#e58139\" stroke=\"#000000\" d=\"M1941,-1012.5C1941,-1012.5 1864,-1012.5 1864,-1012.5 1858,-1012.5 1852,-1006.5 1852,-1000.5 1852,-1000.5 1852,-956.5 1852,-956.5 1852,-950.5 1858,-944.5 1864,-944.5 1864,-944.5 1941,-944.5 1941,-944.5 1947,-944.5 1953,-950.5 1953,-956.5 1953,-956.5 1953,-1000.5 1953,-1000.5 1953,-1006.5 1947,-1012.5 1941,-1012.5\"/>\n<text text-anchor=\"start\" x=\"1860\" y=\"-997.3\" font-family=\"Helvetica,sans-Serif\" font-size=\"14.00\" fill=\"#000000\">entropy = 0.0</text>\n<text text-anchor=\"start\" x=\"1863\" y=\"-982.3\" font-family=\"Helvetica,sans-Serif\" font-size=\"14.00\" fill=\"#000000\">samples = 2</text>\n<text text-anchor=\"start\" x=\"1861\" y=\"-967.3\" font-family=\"Helvetica,sans-Serif\" font-size=\"14.00\" fill=\"#000000\">value = [2, 0]</text>\n<text text-anchor=\"start\" x=\"1865\" y=\"-952.3\" font-family=\"Helvetica,sans-Serif\" font-size=\"14.00\" fill=\"#000000\">class = não</text>\n</g>\n<!-- 84&#45;&gt;85 -->\n<g id=\"edge85\" class=\"edge\">\n<title>84&#45;&gt;85</title>\n<path fill=\"none\" stroke=\"#000000\" d=\"M1973.3771,-1055.8796C1962.8014,-1044.3337 1951.3188,-1031.7976 1940.7367,-1020.2446\"/>\n<polygon fill=\"#000000\" stroke=\"#000000\" points=\"1943.2667,-1017.825 1933.9313,-1012.8149 1938.1049,-1022.5531 1943.2667,-1017.825\"/>\n</g>\n<!-- 86 -->\n<g id=\"node87\" class=\"node\">\n<title>86</title>\n<path fill=\"#399de5\" stroke=\"#000000\" d=\"M2060,-1012.5C2060,-1012.5 1983,-1012.5 1983,-1012.5 1977,-1012.5 1971,-1006.5 1971,-1000.5 1971,-1000.5 1971,-956.5 1971,-956.5 1971,-950.5 1977,-944.5 1983,-944.5 1983,-944.5 2060,-944.5 2060,-944.5 2066,-944.5 2072,-950.5 2072,-956.5 2072,-956.5 2072,-1000.5 2072,-1000.5 2072,-1006.5 2066,-1012.5 2060,-1012.5\"/>\n<text text-anchor=\"start\" x=\"1979\" y=\"-997.3\" font-family=\"Helvetica,sans-Serif\" font-size=\"14.00\" fill=\"#000000\">entropy = 0.0</text>\n<text text-anchor=\"start\" x=\"1982\" y=\"-982.3\" font-family=\"Helvetica,sans-Serif\" font-size=\"14.00\" fill=\"#000000\">samples = 8</text>\n<text text-anchor=\"start\" x=\"1980\" y=\"-967.3\" font-family=\"Helvetica,sans-Serif\" font-size=\"14.00\" fill=\"#000000\">value = [0, 8]</text>\n<text text-anchor=\"start\" x=\"1985\" y=\"-952.3\" font-family=\"Helvetica,sans-Serif\" font-size=\"14.00\" fill=\"#000000\">class = sim</text>\n</g>\n<!-- 84&#45;&gt;86 -->\n<g id=\"edge86\" class=\"edge\">\n<title>84&#45;&gt;86</title>\n<path fill=\"none\" stroke=\"#000000\" d=\"M2014.9975,-1055.8796C2015.8938,-1045.2134 2016.8612,-1033.7021 2017.7688,-1022.9015\"/>\n<polygon fill=\"#000000\" stroke=\"#000000\" points=\"2021.2666,-1023.0729 2018.6164,-1012.8149 2014.2912,-1022.4867 2021.2666,-1023.0729\"/>\n</g>\n<!-- 88 -->\n<g id=\"node89\" class=\"node\">\n<title>88</title>\n<path fill=\"#e58139\" stroke=\"#000000\" d=\"M2189,-1012.5C2189,-1012.5 2112,-1012.5 2112,-1012.5 2106,-1012.5 2100,-1006.5 2100,-1000.5 2100,-1000.5 2100,-956.5 2100,-956.5 2100,-950.5 2106,-944.5 2112,-944.5 2112,-944.5 2189,-944.5 2189,-944.5 2195,-944.5 2201,-950.5 2201,-956.5 2201,-956.5 2201,-1000.5 2201,-1000.5 2201,-1006.5 2195,-1012.5 2189,-1012.5\"/>\n<text text-anchor=\"start\" x=\"2108\" y=\"-997.3\" font-family=\"Helvetica,sans-Serif\" font-size=\"14.00\" fill=\"#000000\">entropy = 0.0</text>\n<text text-anchor=\"start\" x=\"2111\" y=\"-982.3\" font-family=\"Helvetica,sans-Serif\" font-size=\"14.00\" fill=\"#000000\">samples = 4</text>\n<text text-anchor=\"start\" x=\"2109\" y=\"-967.3\" font-family=\"Helvetica,sans-Serif\" font-size=\"14.00\" fill=\"#000000\">value = [4, 0]</text>\n<text text-anchor=\"start\" x=\"2113\" y=\"-952.3\" font-family=\"Helvetica,sans-Serif\" font-size=\"14.00\" fill=\"#000000\">class = não</text>\n</g>\n<!-- 87&#45;&gt;88 -->\n<g id=\"edge88\" class=\"edge\">\n<title>87&#45;&gt;88</title>\n<path fill=\"none\" stroke=\"#000000\" d=\"M2160.904,-1055.8796C2159.4699,-1045.2134 2157.9221,-1033.7021 2156.47,-1022.9015\"/>\n<polygon fill=\"#000000\" stroke=\"#000000\" points=\"2159.9152,-1022.2593 2155.1138,-1012.8149 2152.9776,-1023.1922 2159.9152,-1022.2593\"/>\n</g>\n<!-- 89 -->\n<g id=\"node90\" class=\"node\">\n<title>89</title>\n<path fill=\"#fae8da\" stroke=\"#000000\" d=\"M2329.5,-1020C2329.5,-1020 2231.5,-1020 2231.5,-1020 2225.5,-1020 2219.5,-1014 2219.5,-1008 2219.5,-1008 2219.5,-949 2219.5,-949 2219.5,-943 2225.5,-937 2231.5,-937 2231.5,-937 2329.5,-937 2329.5,-937 2335.5,-937 2341.5,-943 2341.5,-949 2341.5,-949 2341.5,-1008 2341.5,-1008 2341.5,-1014 2335.5,-1020 2329.5,-1020\"/>\n<text text-anchor=\"start\" x=\"2227.5\" y=\"-1004.8\" font-family=\"Helvetica,sans-Serif\" font-size=\"14.00\" fill=\"#000000\">Glucose ≤ 102.5</text>\n<text text-anchor=\"start\" x=\"2229.5\" y=\"-989.8\" font-family=\"Helvetica,sans-Serif\" font-size=\"14.00\" fill=\"#000000\">entropy = 0.992</text>\n<text text-anchor=\"start\" x=\"2236.5\" y=\"-974.8\" font-family=\"Helvetica,sans-Serif\" font-size=\"14.00\" fill=\"#000000\">samples = 49</text>\n<text text-anchor=\"start\" x=\"2230.5\" y=\"-959.8\" font-family=\"Helvetica,sans-Serif\" font-size=\"14.00\" fill=\"#000000\">value = [27, 22]</text>\n<text text-anchor=\"start\" x=\"2243\" y=\"-944.8\" font-family=\"Helvetica,sans-Serif\" font-size=\"14.00\" fill=\"#000000\">class = não</text>\n</g>\n<!-- 87&#45;&gt;89 -->\n<g id=\"edge89\" class=\"edge\">\n<title>87&#45;&gt;89</title>\n<path fill=\"none\" stroke=\"#000000\" d=\"M2206.3717,-1055.8796C2215.0858,-1046.7832 2224.3888,-1037.0722 2233.3562,-1027.7116\"/>\n<polygon fill=\"#000000\" stroke=\"#000000\" points=\"2236.0678,-1029.9405 2240.4581,-1020.2981 2231.013,-1025.098 2236.0678,-1029.9405\"/>\n</g>\n<!-- 90 -->\n<g id=\"node91\" class=\"node\">\n<title>90</title>\n<path fill=\"#399de5\" stroke=\"#000000\" d=\"M2199,-893.5C2199,-893.5 2122,-893.5 2122,-893.5 2116,-893.5 2110,-887.5 2110,-881.5 2110,-881.5 2110,-837.5 2110,-837.5 2110,-831.5 2116,-825.5 2122,-825.5 2122,-825.5 2199,-825.5 2199,-825.5 2205,-825.5 2211,-831.5 2211,-837.5 2211,-837.5 2211,-881.5 2211,-881.5 2211,-887.5 2205,-893.5 2199,-893.5\"/>\n<text text-anchor=\"start\" x=\"2118\" y=\"-878.3\" font-family=\"Helvetica,sans-Serif\" font-size=\"14.00\" fill=\"#000000\">entropy = 0.0</text>\n<text text-anchor=\"start\" x=\"2121\" y=\"-863.3\" font-family=\"Helvetica,sans-Serif\" font-size=\"14.00\" fill=\"#000000\">samples = 3</text>\n<text text-anchor=\"start\" x=\"2119\" y=\"-848.3\" font-family=\"Helvetica,sans-Serif\" font-size=\"14.00\" fill=\"#000000\">value = [0, 3]</text>\n<text text-anchor=\"start\" x=\"2124\" y=\"-833.3\" font-family=\"Helvetica,sans-Serif\" font-size=\"14.00\" fill=\"#000000\">class = sim</text>\n</g>\n<!-- 89&#45;&gt;90 -->\n<g id=\"edge90\" class=\"edge\">\n<title>89&#45;&gt;90</title>\n<path fill=\"none\" stroke=\"#000000\" d=\"M2238.5298,-936.8796C2226.776,-925.2237 2214.0046,-912.5587 2202.2628,-900.9148\"/>\n<polygon fill=\"#000000\" stroke=\"#000000\" points=\"2204.6684,-898.3712 2195.1033,-893.8149 2199.7394,-903.3416 2204.6684,-898.3712\"/>\n</g>\n<!-- 91 -->\n<g id=\"node92\" class=\"node\">\n<title>91</title>\n<path fill=\"#f7dac4\" stroke=\"#000000\" d=\"M2335.5,-901C2335.5,-901 2241.5,-901 2241.5,-901 2235.5,-901 2229.5,-895 2229.5,-889 2229.5,-889 2229.5,-830 2229.5,-830 2229.5,-824 2235.5,-818 2241.5,-818 2241.5,-818 2335.5,-818 2335.5,-818 2341.5,-818 2347.5,-824 2347.5,-830 2347.5,-830 2347.5,-889 2347.5,-889 2347.5,-895 2341.5,-901 2335.5,-901\"/>\n<text text-anchor=\"start\" x=\"2253.5\" y=\"-885.8\" font-family=\"Helvetica,sans-Serif\" font-size=\"14.00\" fill=\"#000000\">Age ≤ 42.5</text>\n<text text-anchor=\"start\" x=\"2237.5\" y=\"-870.8\" font-family=\"Helvetica,sans-Serif\" font-size=\"14.00\" fill=\"#000000\">entropy = 0.978</text>\n<text text-anchor=\"start\" x=\"2244.5\" y=\"-855.8\" font-family=\"Helvetica,sans-Serif\" font-size=\"14.00\" fill=\"#000000\">samples = 46</text>\n<text text-anchor=\"start\" x=\"2238.5\" y=\"-840.8\" font-family=\"Helvetica,sans-Serif\" font-size=\"14.00\" fill=\"#000000\">value = [27, 19]</text>\n<text text-anchor=\"start\" x=\"2251\" y=\"-825.8\" font-family=\"Helvetica,sans-Serif\" font-size=\"14.00\" fill=\"#000000\">class = não</text>\n</g>\n<!-- 89&#45;&gt;91 -->\n<g id=\"edge91\" class=\"edge\">\n<title>89&#45;&gt;91</title>\n<path fill=\"none\" stroke=\"#000000\" d=\"M2283.298,-936.8796C2283.849,-928.6838 2284.4335,-919.9891 2285.0041,-911.5013\"/>\n<polygon fill=\"#000000\" stroke=\"#000000\" points=\"2288.5113,-911.5103 2285.69,-901.2981 2281.5271,-911.0408 2288.5113,-911.5103\"/>\n</g>\n<!-- 92 -->\n<g id=\"node93\" class=\"node\">\n<title>92</title>\n<path fill=\"#f0b68c\" stroke=\"#000000\" d=\"M2203.5,-782C2203.5,-782 2071.5,-782 2071.5,-782 2065.5,-782 2059.5,-776 2059.5,-770 2059.5,-770 2059.5,-711 2059.5,-711 2059.5,-705 2065.5,-699 2071.5,-699 2071.5,-699 2203.5,-699 2203.5,-699 2209.5,-699 2215.5,-705 2215.5,-711 2215.5,-711 2215.5,-770 2215.5,-770 2215.5,-776 2209.5,-782 2203.5,-782\"/>\n<text text-anchor=\"start\" x=\"2067.5\" y=\"-766.8\" font-family=\"Helvetica,sans-Serif\" font-size=\"14.00\" fill=\"#000000\">BloodPressure ≤ 71.0</text>\n<text text-anchor=\"start\" x=\"2086.5\" y=\"-751.8\" font-family=\"Helvetica,sans-Serif\" font-size=\"14.00\" fill=\"#000000\">entropy = 0.877</text>\n<text text-anchor=\"start\" x=\"2093.5\" y=\"-736.8\" font-family=\"Helvetica,sans-Serif\" font-size=\"14.00\" fill=\"#000000\">samples = 27</text>\n<text text-anchor=\"start\" x=\"2092\" y=\"-721.8\" font-family=\"Helvetica,sans-Serif\" font-size=\"14.00\" fill=\"#000000\">value = [19, 8]</text>\n<text text-anchor=\"start\" x=\"2100\" y=\"-706.8\" font-family=\"Helvetica,sans-Serif\" font-size=\"14.00\" fill=\"#000000\">class = não</text>\n</g>\n<!-- 91&#45;&gt;92 -->\n<g id=\"edge92\" class=\"edge\">\n<title>91&#45;&gt;92</title>\n<path fill=\"none\" stroke=\"#000000\" d=\"M2235.6875,-817.8796C2223.6182,-808.368 2210.6961,-798.1843 2198.3212,-788.432\"/>\n<polygon fill=\"#000000\" stroke=\"#000000\" points=\"2200.3032,-785.5377 2190.2827,-782.0969 2195.9704,-791.0356 2200.3032,-785.5377\"/>\n</g>\n<!-- 105 -->\n<g id=\"node106\" class=\"node\">\n<title>105</title>\n<path fill=\"#c9e4f8\" stroke=\"#000000\" d=\"M2339.5,-782C2339.5,-782 2245.5,-782 2245.5,-782 2239.5,-782 2233.5,-776 2233.5,-770 2233.5,-770 2233.5,-711 2233.5,-711 2233.5,-705 2239.5,-699 2245.5,-699 2245.5,-699 2339.5,-699 2339.5,-699 2345.5,-699 2351.5,-705 2351.5,-711 2351.5,-711 2351.5,-770 2351.5,-770 2351.5,-776 2345.5,-782 2339.5,-782\"/>\n<text text-anchor=\"start\" x=\"2257.5\" y=\"-766.8\" font-family=\"Helvetica,sans-Serif\" font-size=\"14.00\" fill=\"#000000\">Age ≤ 44.5</text>\n<text text-anchor=\"start\" x=\"2241.5\" y=\"-751.8\" font-family=\"Helvetica,sans-Serif\" font-size=\"14.00\" fill=\"#000000\">entropy = 0.982</text>\n<text text-anchor=\"start\" x=\"2248.5\" y=\"-736.8\" font-family=\"Helvetica,sans-Serif\" font-size=\"14.00\" fill=\"#000000\">samples = 19</text>\n<text text-anchor=\"start\" x=\"2247\" y=\"-721.8\" font-family=\"Helvetica,sans-Serif\" font-size=\"14.00\" fill=\"#000000\">value = [8, 11]</text>\n<text text-anchor=\"start\" x=\"2256\" y=\"-706.8\" font-family=\"Helvetica,sans-Serif\" font-size=\"14.00\" fill=\"#000000\">class = sim</text>\n</g>\n<!-- 91&#45;&gt;105 -->\n<g id=\"edge105\" class=\"edge\">\n<title>91&#45;&gt;105</title>\n<path fill=\"none\" stroke=\"#000000\" d=\"M2289.899,-817.8796C2290.1745,-809.6838 2290.4668,-800.9891 2290.7521,-792.5013\"/>\n<polygon fill=\"#000000\" stroke=\"#000000\" points=\"2294.257,-792.41 2291.095,-782.2981 2287.261,-792.1748 2294.257,-792.41\"/>\n</g>\n<!-- 93 -->\n<g id=\"node94\" class=\"node\">\n<title>93</title>\n<path fill=\"#e58139\" stroke=\"#000000\" d=\"M2059,-655.5C2059,-655.5 1982,-655.5 1982,-655.5 1976,-655.5 1970,-649.5 1970,-643.5 1970,-643.5 1970,-599.5 1970,-599.5 1970,-593.5 1976,-587.5 1982,-587.5 1982,-587.5 2059,-587.5 2059,-587.5 2065,-587.5 2071,-593.5 2071,-599.5 2071,-599.5 2071,-643.5 2071,-643.5 2071,-649.5 2065,-655.5 2059,-655.5\"/>\n<text text-anchor=\"start\" x=\"1978\" y=\"-640.3\" font-family=\"Helvetica,sans-Serif\" font-size=\"14.00\" fill=\"#000000\">entropy = 0.0</text>\n<text text-anchor=\"start\" x=\"1981\" y=\"-625.3\" font-family=\"Helvetica,sans-Serif\" font-size=\"14.00\" fill=\"#000000\">samples = 7</text>\n<text text-anchor=\"start\" x=\"1979\" y=\"-610.3\" font-family=\"Helvetica,sans-Serif\" font-size=\"14.00\" fill=\"#000000\">value = [7, 0]</text>\n<text text-anchor=\"start\" x=\"1983\" y=\"-595.3\" font-family=\"Helvetica,sans-Serif\" font-size=\"14.00\" fill=\"#000000\">class = não</text>\n</g>\n<!-- 92&#45;&gt;93 -->\n<g id=\"edge93\" class=\"edge\">\n<title>92&#45;&gt;93</title>\n<path fill=\"none\" stroke=\"#000000\" d=\"M2096.5791,-698.8796C2085.2272,-687.3337 2072.9018,-674.7976 2061.543,-663.2446\"/>\n<polygon fill=\"#000000\" stroke=\"#000000\" points=\"2063.7449,-660.4919 2054.2382,-655.8149 2058.7534,-665.3995 2063.7449,-660.4919\"/>\n</g>\n<!-- 94 -->\n<g id=\"node95\" class=\"node\">\n<title>94</title>\n<path fill=\"#f6d5bd\" stroke=\"#000000\" d=\"M2195.5,-663C2195.5,-663 2101.5,-663 2101.5,-663 2095.5,-663 2089.5,-657 2089.5,-651 2089.5,-651 2089.5,-592 2089.5,-592 2089.5,-586 2095.5,-580 2101.5,-580 2101.5,-580 2195.5,-580 2195.5,-580 2201.5,-580 2207.5,-586 2207.5,-592 2207.5,-592 2207.5,-651 2207.5,-651 2207.5,-657 2201.5,-663 2195.5,-663\"/>\n<text text-anchor=\"start\" x=\"2109.5\" y=\"-647.8\" font-family=\"Helvetica,sans-Serif\" font-size=\"14.00\" fill=\"#000000\">BMI ≤ 40.25</text>\n<text text-anchor=\"start\" x=\"2097.5\" y=\"-632.8\" font-family=\"Helvetica,sans-Serif\" font-size=\"14.00\" fill=\"#000000\">entropy = 0.971</text>\n<text text-anchor=\"start\" x=\"2104.5\" y=\"-617.8\" font-family=\"Helvetica,sans-Serif\" font-size=\"14.00\" fill=\"#000000\">samples = 20</text>\n<text text-anchor=\"start\" x=\"2103\" y=\"-602.8\" font-family=\"Helvetica,sans-Serif\" font-size=\"14.00\" fill=\"#000000\">value = [12, 8]</text>\n<text text-anchor=\"start\" x=\"2111\" y=\"-587.8\" font-family=\"Helvetica,sans-Serif\" font-size=\"14.00\" fill=\"#000000\">class = não</text>\n</g>\n<!-- 92&#45;&gt;94 -->\n<g id=\"edge94\" class=\"edge\">\n<title>92&#45;&gt;94</title>\n<path fill=\"none\" stroke=\"#000000\" d=\"M2141.3473,-698.8796C2142.1049,-690.6838 2142.9086,-681.9891 2143.6932,-673.5013\"/>\n<polygon fill=\"#000000\" stroke=\"#000000\" points=\"2147.2009,-673.5778 2144.6363,-663.2981 2140.2306,-672.9334 2147.2009,-673.5778\"/>\n</g>\n<!-- 95 -->\n<g id=\"node96\" class=\"node\">\n<title>95</title>\n<path fill=\"#f0b58b\" stroke=\"#000000\" d=\"M2068.5,-544C2068.5,-544 1936.5,-544 1936.5,-544 1930.5,-544 1924.5,-538 1924.5,-532 1924.5,-532 1924.5,-473 1924.5,-473 1924.5,-467 1930.5,-461 1936.5,-461 1936.5,-461 2068.5,-461 2068.5,-461 2074.5,-461 2080.5,-467 2080.5,-473 2080.5,-473 2080.5,-532 2080.5,-532 2080.5,-538 2074.5,-544 2068.5,-544\"/>\n<text text-anchor=\"start\" x=\"1932.5\" y=\"-528.8\" font-family=\"Helvetica,sans-Serif\" font-size=\"14.00\" fill=\"#000000\">BloodPressure ≤ 83.0</text>\n<text text-anchor=\"start\" x=\"1951.5\" y=\"-513.8\" font-family=\"Helvetica,sans-Serif\" font-size=\"14.00\" fill=\"#000000\">entropy = 0.874</text>\n<text text-anchor=\"start\" x=\"1958.5\" y=\"-498.8\" font-family=\"Helvetica,sans-Serif\" font-size=\"14.00\" fill=\"#000000\">samples = 17</text>\n<text text-anchor=\"start\" x=\"1957\" y=\"-483.8\" font-family=\"Helvetica,sans-Serif\" font-size=\"14.00\" fill=\"#000000\">value = [12, 5]</text>\n<text text-anchor=\"start\" x=\"1965\" y=\"-468.8\" font-family=\"Helvetica,sans-Serif\" font-size=\"14.00\" fill=\"#000000\">class = não</text>\n</g>\n<!-- 94&#45;&gt;95 -->\n<g id=\"edge95\" class=\"edge\">\n<title>94&#45;&gt;95</title>\n<path fill=\"none\" stroke=\"#000000\" d=\"M2097.4363,-579.8796C2085.9445,-570.513 2073.6532,-560.4948 2061.855,-550.8784\"/>\n<polygon fill=\"#000000\" stroke=\"#000000\" points=\"2063.7444,-547.903 2053.7817,-544.2981 2059.3218,-553.329 2063.7444,-547.903\"/>\n</g>\n<!-- 104 -->\n<g id=\"node105\" class=\"node\">\n<title>104</title>\n<path fill=\"#399de5\" stroke=\"#000000\" d=\"M2188,-536.5C2188,-536.5 2111,-536.5 2111,-536.5 2105,-536.5 2099,-530.5 2099,-524.5 2099,-524.5 2099,-480.5 2099,-480.5 2099,-474.5 2105,-468.5 2111,-468.5 2111,-468.5 2188,-468.5 2188,-468.5 2194,-468.5 2200,-474.5 2200,-480.5 2200,-480.5 2200,-524.5 2200,-524.5 2200,-530.5 2194,-536.5 2188,-536.5\"/>\n<text text-anchor=\"start\" x=\"2107\" y=\"-521.3\" font-family=\"Helvetica,sans-Serif\" font-size=\"14.00\" fill=\"#000000\">entropy = 0.0</text>\n<text text-anchor=\"start\" x=\"2110\" y=\"-506.3\" font-family=\"Helvetica,sans-Serif\" font-size=\"14.00\" fill=\"#000000\">samples = 3</text>\n<text text-anchor=\"start\" x=\"2108\" y=\"-491.3\" font-family=\"Helvetica,sans-Serif\" font-size=\"14.00\" fill=\"#000000\">value = [0, 3]</text>\n<text text-anchor=\"start\" x=\"2113\" y=\"-476.3\" font-family=\"Helvetica,sans-Serif\" font-size=\"14.00\" fill=\"#000000\">class = sim</text>\n</g>\n<!-- 94&#45;&gt;104 -->\n<g id=\"edge104\" class=\"edge\">\n<title>94&#45;&gt;104</title>\n<path fill=\"none\" stroke=\"#000000\" d=\"M2148.8498,-579.8796C2148.9394,-569.2134 2149.0361,-557.7021 2149.1269,-546.9015\"/>\n<polygon fill=\"#000000\" stroke=\"#000000\" points=\"2152.6274,-546.844 2149.2116,-536.8149 2145.6276,-546.7851 2152.6274,-546.844\"/>\n</g>\n<!-- 96 -->\n<g id=\"node97\" class=\"node\">\n<title>96</title>\n<path fill=\"#ffffff\" stroke=\"#000000\" d=\"M2007.5,-425C2007.5,-425 1897.5,-425 1897.5,-425 1891.5,-425 1885.5,-419 1885.5,-413 1885.5,-413 1885.5,-354 1885.5,-354 1885.5,-348 1891.5,-342 1897.5,-342 1897.5,-342 2007.5,-342 2007.5,-342 2013.5,-342 2019.5,-348 2019.5,-354 2019.5,-354 2019.5,-413 2019.5,-413 2019.5,-419 2013.5,-425 2007.5,-425\"/>\n<text text-anchor=\"start\" x=\"1893.5\" y=\"-409.8\" font-family=\"Helvetica,sans-Serif\" font-size=\"14.00\" fill=\"#000000\">Pregnancies ≤ 4.5</text>\n<text text-anchor=\"start\" x=\"1910\" y=\"-394.8\" font-family=\"Helvetica,sans-Serif\" font-size=\"14.00\" fill=\"#000000\">entropy = 1.0</text>\n<text text-anchor=\"start\" x=\"1908.5\" y=\"-379.8\" font-family=\"Helvetica,sans-Serif\" font-size=\"14.00\" fill=\"#000000\">samples = 10</text>\n<text text-anchor=\"start\" x=\"1911\" y=\"-364.8\" font-family=\"Helvetica,sans-Serif\" font-size=\"14.00\" fill=\"#000000\">value = [5, 5]</text>\n<text text-anchor=\"start\" x=\"1915\" y=\"-349.8\" font-family=\"Helvetica,sans-Serif\" font-size=\"14.00\" fill=\"#000000\">class = não</text>\n</g>\n<!-- 95&#45;&gt;96 -->\n<g id=\"edge96\" class=\"edge\">\n<title>95&#45;&gt;96</title>\n<path fill=\"none\" stroke=\"#000000\" d=\"M1985.0124,-460.8796C1981.4553,-452.4136 1977.6745,-443.4153 1973.9969,-434.6626\"/>\n<polygon fill=\"#000000\" stroke=\"#000000\" points=\"1977.1627,-433.1616 1970.0622,-425.2981 1970.7092,-435.8731 1977.1627,-433.1616\"/>\n</g>\n<!-- 103 -->\n<g id=\"node104\" class=\"node\">\n<title>103</title>\n<path fill=\"#e58139\" stroke=\"#000000\" d=\"M2127,-417.5C2127,-417.5 2050,-417.5 2050,-417.5 2044,-417.5 2038,-411.5 2038,-405.5 2038,-405.5 2038,-361.5 2038,-361.5 2038,-355.5 2044,-349.5 2050,-349.5 2050,-349.5 2127,-349.5 2127,-349.5 2133,-349.5 2139,-355.5 2139,-361.5 2139,-361.5 2139,-405.5 2139,-405.5 2139,-411.5 2133,-417.5 2127,-417.5\"/>\n<text text-anchor=\"start\" x=\"2046\" y=\"-402.3\" font-family=\"Helvetica,sans-Serif\" font-size=\"14.00\" fill=\"#000000\">entropy = 0.0</text>\n<text text-anchor=\"start\" x=\"2049\" y=\"-387.3\" font-family=\"Helvetica,sans-Serif\" font-size=\"14.00\" fill=\"#000000\">samples = 7</text>\n<text text-anchor=\"start\" x=\"2047\" y=\"-372.3\" font-family=\"Helvetica,sans-Serif\" font-size=\"14.00\" fill=\"#000000\">value = [7, 0]</text>\n<text text-anchor=\"start\" x=\"2051\" y=\"-357.3\" font-family=\"Helvetica,sans-Serif\" font-size=\"14.00\" fill=\"#000000\">class = não</text>\n</g>\n<!-- 95&#45;&gt;103 -->\n<g id=\"edge103\" class=\"edge\">\n<title>95&#45;&gt;103</title>\n<path fill=\"none\" stroke=\"#000000\" d=\"M2032.5786,-460.8796C2040.6843,-449.6636 2049.4653,-437.5131 2057.6143,-426.2372\"/>\n<polygon fill=\"#000000\" stroke=\"#000000\" points=\"2060.6803,-427.9701 2063.701,-417.8149 2055.0068,-423.8698 2060.6803,-427.9701\"/>\n</g>\n<!-- 97 -->\n<g id=\"node98\" class=\"node\">\n<title>97</title>\n<path fill=\"#e58139\" stroke=\"#000000\" d=\"M1986,-298.5C1986,-298.5 1909,-298.5 1909,-298.5 1903,-298.5 1897,-292.5 1897,-286.5 1897,-286.5 1897,-242.5 1897,-242.5 1897,-236.5 1903,-230.5 1909,-230.5 1909,-230.5 1986,-230.5 1986,-230.5 1992,-230.5 1998,-236.5 1998,-242.5 1998,-242.5 1998,-286.5 1998,-286.5 1998,-292.5 1992,-298.5 1986,-298.5\"/>\n<text text-anchor=\"start\" x=\"1905\" y=\"-283.3\" font-family=\"Helvetica,sans-Serif\" font-size=\"14.00\" fill=\"#000000\">entropy = 0.0</text>\n<text text-anchor=\"start\" x=\"1908\" y=\"-268.3\" font-family=\"Helvetica,sans-Serif\" font-size=\"14.00\" fill=\"#000000\">samples = 3</text>\n<text text-anchor=\"start\" x=\"1906\" y=\"-253.3\" font-family=\"Helvetica,sans-Serif\" font-size=\"14.00\" fill=\"#000000\">value = [3, 0]</text>\n<text text-anchor=\"start\" x=\"1910\" y=\"-238.3\" font-family=\"Helvetica,sans-Serif\" font-size=\"14.00\" fill=\"#000000\">class = não</text>\n</g>\n<!-- 96&#45;&gt;97 -->\n<g id=\"edge97\" class=\"edge\">\n<title>96&#45;&gt;97</title>\n<path fill=\"none\" stroke=\"#000000\" d=\"M1950.7512,-341.8796C1950.3031,-331.2134 1949.8194,-319.7021 1949.3656,-308.9015\"/>\n<polygon fill=\"#000000\" stroke=\"#000000\" points=\"1952.8586,-308.6592 1948.9418,-298.8149 1945.8648,-308.9531 1952.8586,-308.6592\"/>\n</g>\n<!-- 98 -->\n<g id=\"node99\" class=\"node\">\n<title>98</title>\n<path fill=\"#88c4ef\" stroke=\"#000000\" d=\"M2160.5,-306C2160.5,-306 2028.5,-306 2028.5,-306 2022.5,-306 2016.5,-300 2016.5,-294 2016.5,-294 2016.5,-235 2016.5,-235 2016.5,-229 2022.5,-223 2028.5,-223 2028.5,-223 2160.5,-223 2160.5,-223 2166.5,-223 2172.5,-229 2172.5,-235 2172.5,-235 2172.5,-294 2172.5,-294 2172.5,-300 2166.5,-306 2160.5,-306\"/>\n<text text-anchor=\"start\" x=\"2024.5\" y=\"-290.8\" font-family=\"Helvetica,sans-Serif\" font-size=\"14.00\" fill=\"#000000\">BloodPressure ≤ 75.0</text>\n<text text-anchor=\"start\" x=\"2043.5\" y=\"-275.8\" font-family=\"Helvetica,sans-Serif\" font-size=\"14.00\" fill=\"#000000\">entropy = 0.863</text>\n<text text-anchor=\"start\" x=\"2055\" y=\"-260.8\" font-family=\"Helvetica,sans-Serif\" font-size=\"14.00\" fill=\"#000000\">samples = 7</text>\n<text text-anchor=\"start\" x=\"2053\" y=\"-245.8\" font-family=\"Helvetica,sans-Serif\" font-size=\"14.00\" fill=\"#000000\">value = [2, 5]</text>\n<text text-anchor=\"start\" x=\"2058\" y=\"-230.8\" font-family=\"Helvetica,sans-Serif\" font-size=\"14.00\" fill=\"#000000\">class = sim</text>\n</g>\n<!-- 96&#45;&gt;98 -->\n<g id=\"edge98\" class=\"edge\">\n<title>96&#45;&gt;98</title>\n<path fill=\"none\" stroke=\"#000000\" d=\"M2002.1647,-341.8796C2013.3416,-332.513 2025.2962,-322.4948 2036.7712,-312.8784\"/>\n<polygon fill=\"#000000\" stroke=\"#000000\" points=\"2039.2069,-315.4037 2044.6233,-306.2981 2034.7107,-310.0386 2039.2069,-315.4037\"/>\n</g>\n<!-- 99 -->\n<g id=\"node100\" class=\"node\">\n<title>99</title>\n<path fill=\"#399de5\" stroke=\"#000000\" d=\"M2060,-179.5C2060,-179.5 1983,-179.5 1983,-179.5 1977,-179.5 1971,-173.5 1971,-167.5 1971,-167.5 1971,-123.5 1971,-123.5 1971,-117.5 1977,-111.5 1983,-111.5 1983,-111.5 2060,-111.5 2060,-111.5 2066,-111.5 2072,-117.5 2072,-123.5 2072,-123.5 2072,-167.5 2072,-167.5 2072,-173.5 2066,-179.5 2060,-179.5\"/>\n<text text-anchor=\"start\" x=\"1979\" y=\"-164.3\" font-family=\"Helvetica,sans-Serif\" font-size=\"14.00\" fill=\"#000000\">entropy = 0.0</text>\n<text text-anchor=\"start\" x=\"1982\" y=\"-149.3\" font-family=\"Helvetica,sans-Serif\" font-size=\"14.00\" fill=\"#000000\">samples = 4</text>\n<text text-anchor=\"start\" x=\"1980\" y=\"-134.3\" font-family=\"Helvetica,sans-Serif\" font-size=\"14.00\" fill=\"#000000\">value = [0, 4]</text>\n<text text-anchor=\"start\" x=\"1985\" y=\"-119.3\" font-family=\"Helvetica,sans-Serif\" font-size=\"14.00\" fill=\"#000000\">class = sim</text>\n</g>\n<!-- 98&#45;&gt;99 -->\n<g id=\"edge99\" class=\"edge\">\n<title>98&#45;&gt;99</title>\n<path fill=\"none\" stroke=\"#000000\" d=\"M2068.9681,-222.8796C2062.1552,-211.7735 2054.7802,-199.7513 2047.9206,-188.5691\"/>\n<polygon fill=\"#000000\" stroke=\"#000000\" points=\"2050.7628,-186.5087 2042.5503,-179.8149 2044.796,-190.1691 2050.7628,-186.5087\"/>\n</g>\n<!-- 100 -->\n<g id=\"node101\" class=\"node\">\n<title>100</title>\n<path fill=\"#f2c09c\" stroke=\"#000000\" d=\"M2233,-187C2233,-187 2102,-187 2102,-187 2096,-187 2090,-181 2090,-175 2090,-175 2090,-116 2090,-116 2090,-110 2096,-104 2102,-104 2102,-104 2233,-104 2233,-104 2239,-104 2245,-110 2245,-116 2245,-116 2245,-175 2245,-175 2245,-181 2239,-187 2233,-187\"/>\n<text text-anchor=\"start\" x=\"2098\" y=\"-171.8\" font-family=\"Helvetica,sans-Serif\" font-size=\"14.00\" fill=\"#000000\">SkinThickness ≤ 31.0</text>\n<text text-anchor=\"start\" x=\"2116.5\" y=\"-156.8\" font-family=\"Helvetica,sans-Serif\" font-size=\"14.00\" fill=\"#000000\">entropy = 0.918</text>\n<text text-anchor=\"start\" x=\"2128\" y=\"-141.8\" font-family=\"Helvetica,sans-Serif\" font-size=\"14.00\" fill=\"#000000\">samples = 3</text>\n<text text-anchor=\"start\" x=\"2126\" y=\"-126.8\" font-family=\"Helvetica,sans-Serif\" font-size=\"14.00\" fill=\"#000000\">value = [2, 1]</text>\n<text text-anchor=\"start\" x=\"2130\" y=\"-111.8\" font-family=\"Helvetica,sans-Serif\" font-size=\"14.00\" fill=\"#000000\">class = não</text>\n</g>\n<!-- 98&#45;&gt;100 -->\n<g id=\"edge100\" class=\"edge\">\n<title>98&#45;&gt;100</title>\n<path fill=\"none\" stroke=\"#000000\" d=\"M2120.0319,-222.8796C2125.391,-214.1434 2131.0979,-204.8404 2136.6282,-195.8253\"/>\n<polygon fill=\"#000000\" stroke=\"#000000\" points=\"2139.6135,-197.6522 2141.8592,-187.2981 2133.6467,-193.9919 2139.6135,-197.6522\"/>\n</g>\n<!-- 101 -->\n<g id=\"node102\" class=\"node\">\n<title>101</title>\n<path fill=\"#e58139\" stroke=\"#000000\" d=\"M2146,-68C2146,-68 2069,-68 2069,-68 2063,-68 2057,-62 2057,-56 2057,-56 2057,-12 2057,-12 2057,-6 2063,0 2069,0 2069,0 2146,0 2146,0 2152,0 2158,-6 2158,-12 2158,-12 2158,-56 2158,-56 2158,-62 2152,-68 2146,-68\"/>\n<text text-anchor=\"start\" x=\"2065\" y=\"-52.8\" font-family=\"Helvetica,sans-Serif\" font-size=\"14.00\" fill=\"#000000\">entropy = 0.0</text>\n<text text-anchor=\"start\" x=\"2068\" y=\"-37.8\" font-family=\"Helvetica,sans-Serif\" font-size=\"14.00\" fill=\"#000000\">samples = 2</text>\n<text text-anchor=\"start\" x=\"2066\" y=\"-22.8\" font-family=\"Helvetica,sans-Serif\" font-size=\"14.00\" fill=\"#000000\">value = [2, 0]</text>\n<text text-anchor=\"start\" x=\"2070\" y=\"-7.8\" font-family=\"Helvetica,sans-Serif\" font-size=\"14.00\" fill=\"#000000\">class = não</text>\n</g>\n<!-- 100&#45;&gt;101 -->\n<g id=\"edge101\" class=\"edge\">\n<title>100&#45;&gt;101</title>\n<path fill=\"none\" stroke=\"#000000\" d=\"M2145.1582,-103.9815C2140.4598,-95.2504 2135.4929,-86.0202 2130.7617,-77.2281\"/>\n<polygon fill=\"#000000\" stroke=\"#000000\" points=\"2133.7586,-75.4111 2125.9379,-68.2637 2127.5944,-78.7282 2133.7586,-75.4111\"/>\n</g>\n<!-- 102 -->\n<g id=\"node103\" class=\"node\">\n<title>102</title>\n<path fill=\"#399de5\" stroke=\"#000000\" d=\"M2265,-68C2265,-68 2188,-68 2188,-68 2182,-68 2176,-62 2176,-56 2176,-56 2176,-12 2176,-12 2176,-6 2182,0 2188,0 2188,0 2265,0 2265,0 2271,0 2277,-6 2277,-12 2277,-12 2277,-56 2277,-56 2277,-62 2271,-68 2265,-68\"/>\n<text text-anchor=\"start\" x=\"2184\" y=\"-52.8\" font-family=\"Helvetica,sans-Serif\" font-size=\"14.00\" fill=\"#000000\">entropy = 0.0</text>\n<text text-anchor=\"start\" x=\"2187\" y=\"-37.8\" font-family=\"Helvetica,sans-Serif\" font-size=\"14.00\" fill=\"#000000\">samples = 1</text>\n<text text-anchor=\"start\" x=\"2185\" y=\"-22.8\" font-family=\"Helvetica,sans-Serif\" font-size=\"14.00\" fill=\"#000000\">value = [0, 1]</text>\n<text text-anchor=\"start\" x=\"2190\" y=\"-7.8\" font-family=\"Helvetica,sans-Serif\" font-size=\"14.00\" fill=\"#000000\">class = sim</text>\n</g>\n<!-- 100&#45;&gt;102 -->\n<g id=\"edge102\" class=\"edge\">\n<title>100&#45;&gt;102</title>\n<path fill=\"none\" stroke=\"#000000\" d=\"M2189.4694,-103.9815C2194.0895,-95.2504 2198.9736,-86.0202 2203.626,-77.2281\"/>\n<polygon fill=\"#000000\" stroke=\"#000000\" points=\"2206.7859,-78.7395 2208.3694,-68.2637 2200.5987,-75.4655 2206.7859,-78.7395\"/>\n</g>\n<!-- 106 -->\n<g id=\"node107\" class=\"node\">\n<title>106</title>\n<path fill=\"#399de5\" stroke=\"#000000\" d=\"M2325,-655.5C2325,-655.5 2248,-655.5 2248,-655.5 2242,-655.5 2236,-649.5 2236,-643.5 2236,-643.5 2236,-599.5 2236,-599.5 2236,-593.5 2242,-587.5 2248,-587.5 2248,-587.5 2325,-587.5 2325,-587.5 2331,-587.5 2337,-593.5 2337,-599.5 2337,-599.5 2337,-643.5 2337,-643.5 2337,-649.5 2331,-655.5 2325,-655.5\"/>\n<text text-anchor=\"start\" x=\"2244\" y=\"-640.3\" font-family=\"Helvetica,sans-Serif\" font-size=\"14.00\" fill=\"#000000\">entropy = 0.0</text>\n<text text-anchor=\"start\" x=\"2247\" y=\"-625.3\" font-family=\"Helvetica,sans-Serif\" font-size=\"14.00\" fill=\"#000000\">samples = 4</text>\n<text text-anchor=\"start\" x=\"2245\" y=\"-610.3\" font-family=\"Helvetica,sans-Serif\" font-size=\"14.00\" fill=\"#000000\">value = [0, 4]</text>\n<text text-anchor=\"start\" x=\"2250\" y=\"-595.3\" font-family=\"Helvetica,sans-Serif\" font-size=\"14.00\" fill=\"#000000\">class = sim</text>\n</g>\n<!-- 105&#45;&gt;106 -->\n<g id=\"edge106\" class=\"edge\">\n<title>105&#45;&gt;106</title>\n<path fill=\"none\" stroke=\"#000000\" d=\"M2290.4015,-698.8796C2289.8637,-688.2134 2289.2833,-676.7021 2288.7387,-665.9015\"/>\n<polygon fill=\"#000000\" stroke=\"#000000\" points=\"2292.2294,-665.626 2288.2302,-655.8149 2285.2383,-665.9785 2292.2294,-665.626\"/>\n</g>\n<!-- 107 -->\n<g id=\"node108\" class=\"node\">\n<title>107</title>\n<path fill=\"#fcefe6\" stroke=\"#000000\" d=\"M2461.5,-663C2461.5,-663 2367.5,-663 2367.5,-663 2361.5,-663 2355.5,-657 2355.5,-651 2355.5,-651 2355.5,-592 2355.5,-592 2355.5,-586 2361.5,-580 2367.5,-580 2367.5,-580 2461.5,-580 2461.5,-580 2467.5,-580 2473.5,-586 2473.5,-592 2473.5,-592 2473.5,-651 2473.5,-651 2473.5,-657 2467.5,-663 2461.5,-663\"/>\n<text text-anchor=\"start\" x=\"2379.5\" y=\"-647.8\" font-family=\"Helvetica,sans-Serif\" font-size=\"14.00\" fill=\"#000000\">Age ≤ 51.5</text>\n<text text-anchor=\"start\" x=\"2363.5\" y=\"-632.8\" font-family=\"Helvetica,sans-Serif\" font-size=\"14.00\" fill=\"#000000\">entropy = 0.997</text>\n<text text-anchor=\"start\" x=\"2370.5\" y=\"-617.8\" font-family=\"Helvetica,sans-Serif\" font-size=\"14.00\" fill=\"#000000\">samples = 15</text>\n<text text-anchor=\"start\" x=\"2373\" y=\"-602.8\" font-family=\"Helvetica,sans-Serif\" font-size=\"14.00\" fill=\"#000000\">value = [8, 7]</text>\n<text text-anchor=\"start\" x=\"2377\" y=\"-587.8\" font-family=\"Helvetica,sans-Serif\" font-size=\"14.00\" fill=\"#000000\">class = não</text>\n</g>\n<!-- 105&#45;&gt;107 -->\n<g id=\"edge107\" class=\"edge\">\n<title>105&#45;&gt;107</title>\n<path fill=\"none\" stroke=\"#000000\" d=\"M2335.1697,-698.8796C2344.5877,-689.6931 2354.6484,-679.8798 2364.3328,-670.4336\"/>\n<polygon fill=\"#000000\" stroke=\"#000000\" points=\"2366.9335,-672.7861 2371.6482,-663.2981 2362.0457,-667.7751 2366.9335,-672.7861\"/>\n</g>\n<!-- 108 -->\n<g id=\"node109\" class=\"node\">\n<title>108</title>\n<path fill=\"#f0b78e\" stroke=\"#000000\" d=\"M2477,-544C2477,-544 2346,-544 2346,-544 2340,-544 2334,-538 2334,-532 2334,-532 2334,-473 2334,-473 2334,-467 2340,-461 2346,-461 2346,-461 2477,-461 2477,-461 2483,-461 2489,-467 2489,-473 2489,-473 2489,-532 2489,-532 2489,-538 2483,-544 2477,-544\"/>\n<text text-anchor=\"start\" x=\"2342\" y=\"-528.8\" font-family=\"Helvetica,sans-Serif\" font-size=\"14.00\" fill=\"#000000\">SkinThickness ≤ 32.0</text>\n<text text-anchor=\"start\" x=\"2360.5\" y=\"-513.8\" font-family=\"Helvetica,sans-Serif\" font-size=\"14.00\" fill=\"#000000\">entropy = 0.881</text>\n<text text-anchor=\"start\" x=\"2367.5\" y=\"-498.8\" font-family=\"Helvetica,sans-Serif\" font-size=\"14.00\" fill=\"#000000\">samples = 10</text>\n<text text-anchor=\"start\" x=\"2370\" y=\"-483.8\" font-family=\"Helvetica,sans-Serif\" font-size=\"14.00\" fill=\"#000000\">value = [7, 3]</text>\n<text text-anchor=\"start\" x=\"2374\" y=\"-468.8\" font-family=\"Helvetica,sans-Serif\" font-size=\"14.00\" fill=\"#000000\">class = não</text>\n</g>\n<!-- 107&#45;&gt;108 -->\n<g id=\"edge108\" class=\"edge\">\n<title>107&#45;&gt;108</title>\n<path fill=\"none\" stroke=\"#000000\" d=\"M2413.4507,-579.8796C2413.2441,-571.6838 2413.0249,-562.9891 2412.811,-554.5013\"/>\n<polygon fill=\"#000000\" stroke=\"#000000\" points=\"2416.3047,-554.2067 2412.5537,-544.2981 2409.307,-554.3831 2416.3047,-554.2067\"/>\n</g>\n<!-- 113 -->\n<g id=\"node114\" class=\"node\">\n<title>113</title>\n<path fill=\"#6ab6ec\" stroke=\"#000000\" d=\"M2637.5,-544C2637.5,-544 2519.5,-544 2519.5,-544 2513.5,-544 2507.5,-538 2507.5,-532 2507.5,-532 2507.5,-473 2507.5,-473 2507.5,-467 2513.5,-461 2519.5,-461 2519.5,-461 2637.5,-461 2637.5,-461 2643.5,-461 2649.5,-467 2649.5,-473 2649.5,-473 2649.5,-532 2649.5,-532 2649.5,-538 2643.5,-544 2637.5,-544\"/>\n<text text-anchor=\"start\" x=\"2515.5\" y=\"-528.8\" font-family=\"Helvetica,sans-Serif\" font-size=\"14.00\" fill=\"#000000\">Pregnancies ≤ 10.5</text>\n<text text-anchor=\"start\" x=\"2527.5\" y=\"-513.8\" font-family=\"Helvetica,sans-Serif\" font-size=\"14.00\" fill=\"#000000\">entropy = 0.722</text>\n<text text-anchor=\"start\" x=\"2539\" y=\"-498.8\" font-family=\"Helvetica,sans-Serif\" font-size=\"14.00\" fill=\"#000000\">samples = 5</text>\n<text text-anchor=\"start\" x=\"2537\" y=\"-483.8\" font-family=\"Helvetica,sans-Serif\" font-size=\"14.00\" fill=\"#000000\">value = [1, 4]</text>\n<text text-anchor=\"start\" x=\"2542\" y=\"-468.8\" font-family=\"Helvetica,sans-Serif\" font-size=\"14.00\" fill=\"#000000\">class = sim</text>\n</g>\n<!-- 107&#45;&gt;113 -->\n<g id=\"edge113\" class=\"edge\">\n<title>107&#45;&gt;113</title>\n<path fill=\"none\" stroke=\"#000000\" d=\"M2471.8592,-579.8796C2485.0925,-570.2774 2499.2697,-559.9903 2512.8264,-550.1534\"/>\n<polygon fill=\"#000000\" stroke=\"#000000\" points=\"2515.1349,-552.8027 2521.1731,-544.0969 2511.0238,-547.1371 2515.1349,-552.8027\"/>\n</g>\n<!-- 109 -->\n<g id=\"node110\" class=\"node\">\n<title>109</title>\n<path fill=\"#e99355\" stroke=\"#000000\" d=\"M2354.5,-425C2354.5,-425 2222.5,-425 2222.5,-425 2216.5,-425 2210.5,-419 2210.5,-413 2210.5,-413 2210.5,-354 2210.5,-354 2210.5,-348 2216.5,-342 2222.5,-342 2222.5,-342 2354.5,-342 2354.5,-342 2360.5,-342 2366.5,-348 2366.5,-354 2366.5,-354 2366.5,-413 2366.5,-413 2366.5,-419 2360.5,-425 2354.5,-425\"/>\n<text text-anchor=\"start\" x=\"2218.5\" y=\"-409.8\" font-family=\"Helvetica,sans-Serif\" font-size=\"14.00\" fill=\"#000000\">BloodPressure ≤ 75.0</text>\n<text text-anchor=\"start\" x=\"2237.5\" y=\"-394.8\" font-family=\"Helvetica,sans-Serif\" font-size=\"14.00\" fill=\"#000000\">entropy = 0.544</text>\n<text text-anchor=\"start\" x=\"2249\" y=\"-379.8\" font-family=\"Helvetica,sans-Serif\" font-size=\"14.00\" fill=\"#000000\">samples = 8</text>\n<text text-anchor=\"start\" x=\"2247\" y=\"-364.8\" font-family=\"Helvetica,sans-Serif\" font-size=\"14.00\" fill=\"#000000\">value = [7, 1]</text>\n<text text-anchor=\"start\" x=\"2251\" y=\"-349.8\" font-family=\"Helvetica,sans-Serif\" font-size=\"14.00\" fill=\"#000000\">class = não</text>\n</g>\n<!-- 108&#45;&gt;109 -->\n<g id=\"edge109\" class=\"edge\">\n<title>108&#45;&gt;109</title>\n<path fill=\"none\" stroke=\"#000000\" d=\"M2368.4806,-460.8796C2358.9853,-451.6931 2348.8422,-441.8798 2339.0785,-432.4336\"/>\n<polygon fill=\"#000000\" stroke=\"#000000\" points=\"2341.3237,-429.7359 2331.703,-425.2981 2336.4564,-434.7668 2341.3237,-429.7359\"/>\n</g>\n<!-- 112 -->\n<g id=\"node113\" class=\"node\">\n<title>112</title>\n<path fill=\"#399de5\" stroke=\"#000000\" d=\"M2474,-417.5C2474,-417.5 2397,-417.5 2397,-417.5 2391,-417.5 2385,-411.5 2385,-405.5 2385,-405.5 2385,-361.5 2385,-361.5 2385,-355.5 2391,-349.5 2397,-349.5 2397,-349.5 2474,-349.5 2474,-349.5 2480,-349.5 2486,-355.5 2486,-361.5 2486,-361.5 2486,-405.5 2486,-405.5 2486,-411.5 2480,-417.5 2474,-417.5\"/>\n<text text-anchor=\"start\" x=\"2393\" y=\"-402.3\" font-family=\"Helvetica,sans-Serif\" font-size=\"14.00\" fill=\"#000000\">entropy = 0.0</text>\n<text text-anchor=\"start\" x=\"2396\" y=\"-387.3\" font-family=\"Helvetica,sans-Serif\" font-size=\"14.00\" fill=\"#000000\">samples = 2</text>\n<text text-anchor=\"start\" x=\"2394\" y=\"-372.3\" font-family=\"Helvetica,sans-Serif\" font-size=\"14.00\" fill=\"#000000\">value = [0, 2]</text>\n<text text-anchor=\"start\" x=\"2399\" y=\"-357.3\" font-family=\"Helvetica,sans-Serif\" font-size=\"14.00\" fill=\"#000000\">class = sim</text>\n</g>\n<!-- 108&#45;&gt;112 -->\n<g id=\"edge112\" class=\"edge\">\n<title>108&#45;&gt;112</title>\n<path fill=\"none\" stroke=\"#000000\" d=\"M2419.894,-460.8796C2422.0452,-450.2134 2424.3668,-438.7021 2426.5451,-427.9015\"/>\n<polygon fill=\"#000000\" stroke=\"#000000\" points=\"2430.0332,-428.3095 2428.5793,-417.8149 2423.1713,-426.9256 2430.0332,-428.3095\"/>\n</g>\n<!-- 110 -->\n<g id=\"node111\" class=\"node\">\n<title>110</title>\n<path fill=\"#399de5\" stroke=\"#000000\" d=\"M2326,-298.5C2326,-298.5 2249,-298.5 2249,-298.5 2243,-298.5 2237,-292.5 2237,-286.5 2237,-286.5 2237,-242.5 2237,-242.5 2237,-236.5 2243,-230.5 2249,-230.5 2249,-230.5 2326,-230.5 2326,-230.5 2332,-230.5 2338,-236.5 2338,-242.5 2338,-242.5 2338,-286.5 2338,-286.5 2338,-292.5 2332,-298.5 2326,-298.5\"/>\n<text text-anchor=\"start\" x=\"2245\" y=\"-283.3\" font-family=\"Helvetica,sans-Serif\" font-size=\"14.00\" fill=\"#000000\">entropy = 0.0</text>\n<text text-anchor=\"start\" x=\"2248\" y=\"-268.3\" font-family=\"Helvetica,sans-Serif\" font-size=\"14.00\" fill=\"#000000\">samples = 1</text>\n<text text-anchor=\"start\" x=\"2246\" y=\"-253.3\" font-family=\"Helvetica,sans-Serif\" font-size=\"14.00\" fill=\"#000000\">value = [0, 1]</text>\n<text text-anchor=\"start\" x=\"2251\" y=\"-238.3\" font-family=\"Helvetica,sans-Serif\" font-size=\"14.00\" fill=\"#000000\">class = sim</text>\n</g>\n<!-- 109&#45;&gt;110 -->\n<g id=\"edge110\" class=\"edge\">\n<title>109&#45;&gt;110</title>\n<path fill=\"none\" stroke=\"#000000\" d=\"M2288.1502,-341.8796C2288.0606,-331.2134 2287.9639,-319.7021 2287.8731,-308.9015\"/>\n<polygon fill=\"#000000\" stroke=\"#000000\" points=\"2291.3724,-308.7851 2287.7884,-298.8149 2284.3726,-308.844 2291.3724,-308.7851\"/>\n</g>\n<!-- 111 -->\n<g id=\"node112\" class=\"node\">\n<title>111</title>\n<path fill=\"#e58139\" stroke=\"#000000\" d=\"M2445,-298.5C2445,-298.5 2368,-298.5 2368,-298.5 2362,-298.5 2356,-292.5 2356,-286.5 2356,-286.5 2356,-242.5 2356,-242.5 2356,-236.5 2362,-230.5 2368,-230.5 2368,-230.5 2445,-230.5 2445,-230.5 2451,-230.5 2457,-236.5 2457,-242.5 2457,-242.5 2457,-286.5 2457,-286.5 2457,-292.5 2451,-298.5 2445,-298.5\"/>\n<text text-anchor=\"start\" x=\"2364\" y=\"-283.3\" font-family=\"Helvetica,sans-Serif\" font-size=\"14.00\" fill=\"#000000\">entropy = 0.0</text>\n<text text-anchor=\"start\" x=\"2367\" y=\"-268.3\" font-family=\"Helvetica,sans-Serif\" font-size=\"14.00\" fill=\"#000000\">samples = 7</text>\n<text text-anchor=\"start\" x=\"2365\" y=\"-253.3\" font-family=\"Helvetica,sans-Serif\" font-size=\"14.00\" fill=\"#000000\">value = [7, 0]</text>\n<text text-anchor=\"start\" x=\"2369\" y=\"-238.3\" font-family=\"Helvetica,sans-Serif\" font-size=\"14.00\" fill=\"#000000\">class = não</text>\n</g>\n<!-- 109&#45;&gt;111 -->\n<g id=\"edge111\" class=\"edge\">\n<title>109&#45;&gt;111</title>\n<path fill=\"none\" stroke=\"#000000\" d=\"M2329.7707,-341.8796C2341.2195,-330.3337 2353.6503,-317.7976 2365.1062,-306.2446\"/>\n<polygon fill=\"#000000\" stroke=\"#000000\" points=\"2367.9175,-308.3802 2372.4734,-298.8149 2362.9469,-303.4514 2367.9175,-308.3802\"/>\n</g>\n<!-- 114 -->\n<g id=\"node115\" class=\"node\">\n<title>114</title>\n<path fill=\"#399de5\" stroke=\"#000000\" d=\"M2616,-417.5C2616,-417.5 2539,-417.5 2539,-417.5 2533,-417.5 2527,-411.5 2527,-405.5 2527,-405.5 2527,-361.5 2527,-361.5 2527,-355.5 2533,-349.5 2539,-349.5 2539,-349.5 2616,-349.5 2616,-349.5 2622,-349.5 2628,-355.5 2628,-361.5 2628,-361.5 2628,-405.5 2628,-405.5 2628,-411.5 2622,-417.5 2616,-417.5\"/>\n<text text-anchor=\"start\" x=\"2535\" y=\"-402.3\" font-family=\"Helvetica,sans-Serif\" font-size=\"14.00\" fill=\"#000000\">entropy = 0.0</text>\n<text text-anchor=\"start\" x=\"2538\" y=\"-387.3\" font-family=\"Helvetica,sans-Serif\" font-size=\"14.00\" fill=\"#000000\">samples = 4</text>\n<text text-anchor=\"start\" x=\"2536\" y=\"-372.3\" font-family=\"Helvetica,sans-Serif\" font-size=\"14.00\" fill=\"#000000\">value = [0, 4]</text>\n<text text-anchor=\"start\" x=\"2541\" y=\"-357.3\" font-family=\"Helvetica,sans-Serif\" font-size=\"14.00\" fill=\"#000000\">class = sim</text>\n</g>\n<!-- 113&#45;&gt;114 -->\n<g id=\"edge114\" class=\"edge\">\n<title>113&#45;&gt;114</title>\n<path fill=\"none\" stroke=\"#000000\" d=\"M2578.1502,-460.8796C2578.0606,-450.2134 2577.9639,-438.7021 2577.8731,-427.9015\"/>\n<polygon fill=\"#000000\" stroke=\"#000000\" points=\"2581.3724,-427.7851 2577.7884,-417.8149 2574.3726,-427.844 2581.3724,-427.7851\"/>\n</g>\n<!-- 115 -->\n<g id=\"node116\" class=\"node\">\n<title>115</title>\n<path fill=\"#e58139\" stroke=\"#000000\" d=\"M2735,-417.5C2735,-417.5 2658,-417.5 2658,-417.5 2652,-417.5 2646,-411.5 2646,-405.5 2646,-405.5 2646,-361.5 2646,-361.5 2646,-355.5 2652,-349.5 2658,-349.5 2658,-349.5 2735,-349.5 2735,-349.5 2741,-349.5 2747,-355.5 2747,-361.5 2747,-361.5 2747,-405.5 2747,-405.5 2747,-411.5 2741,-417.5 2735,-417.5\"/>\n<text text-anchor=\"start\" x=\"2654\" y=\"-402.3\" font-family=\"Helvetica,sans-Serif\" font-size=\"14.00\" fill=\"#000000\">entropy = 0.0</text>\n<text text-anchor=\"start\" x=\"2657\" y=\"-387.3\" font-family=\"Helvetica,sans-Serif\" font-size=\"14.00\" fill=\"#000000\">samples = 1</text>\n<text text-anchor=\"start\" x=\"2655\" y=\"-372.3\" font-family=\"Helvetica,sans-Serif\" font-size=\"14.00\" fill=\"#000000\">value = [1, 0]</text>\n<text text-anchor=\"start\" x=\"2659\" y=\"-357.3\" font-family=\"Helvetica,sans-Serif\" font-size=\"14.00\" fill=\"#000000\">class = não</text>\n</g>\n<!-- 113&#45;&gt;115 -->\n<g id=\"edge115\" class=\"edge\">\n<title>113&#45;&gt;115</title>\n<path fill=\"none\" stroke=\"#000000\" d=\"M2619.7707,-460.8796C2631.2195,-449.3337 2643.6503,-436.7976 2655.1062,-425.2446\"/>\n<polygon fill=\"#000000\" stroke=\"#000000\" points=\"2657.9175,-427.3802 2662.4734,-417.8149 2652.9469,-422.4514 2657.9175,-427.3802\"/>\n</g>\n<!-- 118 -->\n<g id=\"node119\" class=\"node\">\n<title>118</title>\n<path fill=\"#acd6f4\" stroke=\"#000000\" d=\"M2502.5,-1496C2502.5,-1496 2404.5,-1496 2404.5,-1496 2398.5,-1496 2392.5,-1490 2392.5,-1484 2392.5,-1484 2392.5,-1425 2392.5,-1425 2392.5,-1419 2398.5,-1413 2404.5,-1413 2404.5,-1413 2502.5,-1413 2502.5,-1413 2508.5,-1413 2514.5,-1419 2514.5,-1425 2514.5,-1425 2514.5,-1484 2514.5,-1484 2514.5,-1490 2508.5,-1496 2502.5,-1496\"/>\n<text text-anchor=\"start\" x=\"2400.5\" y=\"-1480.8\" font-family=\"Helvetica,sans-Serif\" font-size=\"14.00\" fill=\"#000000\">Glucose ≤ 112.5</text>\n<text text-anchor=\"start\" x=\"2402.5\" y=\"-1465.8\" font-family=\"Helvetica,sans-Serif\" font-size=\"14.00\" fill=\"#000000\">entropy = 0.948</text>\n<text text-anchor=\"start\" x=\"2409.5\" y=\"-1450.8\" font-family=\"Helvetica,sans-Serif\" font-size=\"14.00\" fill=\"#000000\">samples = 30</text>\n<text text-anchor=\"start\" x=\"2403.5\" y=\"-1435.8\" font-family=\"Helvetica,sans-Serif\" font-size=\"14.00\" fill=\"#000000\">value = [11, 19]</text>\n<text text-anchor=\"start\" x=\"2417\" y=\"-1420.8\" font-family=\"Helvetica,sans-Serif\" font-size=\"14.00\" fill=\"#000000\">class = sim</text>\n</g>\n<!-- 117&#45;&gt;118 -->\n<g id=\"edge118\" class=\"edge\">\n<title>117&#45;&gt;118</title>\n<path fill=\"none\" stroke=\"#000000\" d=\"M2453.5,-1531.8796C2453.5,-1523.6838 2453.5,-1514.9891 2453.5,-1506.5013\"/>\n<polygon fill=\"#000000\" stroke=\"#000000\" points=\"2457.0001,-1506.298 2453.5,-1496.2981 2450.0001,-1506.2981 2457.0001,-1506.298\"/>\n</g>\n<!-- 137 -->\n<g id=\"node138\" class=\"node\">\n<title>137</title>\n<path fill=\"#49a5e7\" stroke=\"#000000\" d=\"M2702.5,-1496C2702.5,-1496 2608.5,-1496 2608.5,-1496 2602.5,-1496 2596.5,-1490 2596.5,-1484 2596.5,-1484 2596.5,-1425 2596.5,-1425 2596.5,-1419 2602.5,-1413 2608.5,-1413 2608.5,-1413 2702.5,-1413 2702.5,-1413 2708.5,-1413 2714.5,-1419 2714.5,-1425 2714.5,-1425 2714.5,-1484 2714.5,-1484 2714.5,-1490 2708.5,-1496 2702.5,-1496\"/>\n<text text-anchor=\"start\" x=\"2620.5\" y=\"-1480.8\" font-family=\"Helvetica,sans-Serif\" font-size=\"14.00\" fill=\"#000000\">BMI ≤ 27.5</text>\n<text text-anchor=\"start\" x=\"2604.5\" y=\"-1465.8\" font-family=\"Helvetica,sans-Serif\" font-size=\"14.00\" fill=\"#000000\">entropy = 0.391</text>\n<text text-anchor=\"start\" x=\"2611.5\" y=\"-1450.8\" font-family=\"Helvetica,sans-Serif\" font-size=\"14.00\" fill=\"#000000\">samples = 13</text>\n<text text-anchor=\"start\" x=\"2610\" y=\"-1435.8\" font-family=\"Helvetica,sans-Serif\" font-size=\"14.00\" fill=\"#000000\">value = [1, 12]</text>\n<text text-anchor=\"start\" x=\"2619\" y=\"-1420.8\" font-family=\"Helvetica,sans-Serif\" font-size=\"14.00\" fill=\"#000000\">class = sim</text>\n</g>\n<!-- 117&#45;&gt;137 -->\n<g id=\"edge137\" class=\"edge\">\n<title>117&#45;&gt;137</title>\n<path fill=\"none\" stroke=\"#000000\" d=\"M2520.7631,-1533.8747C2542.2487,-1521.2173 2566.0356,-1507.2043 2587.5684,-1494.5191\"/>\n<polygon fill=\"#000000\" stroke=\"#000000\" points=\"2589.4889,-1497.45 2596.3284,-1489.3585 2585.9358,-1491.4188 2589.4889,-1497.45\"/>\n</g>\n<!-- 119 -->\n<g id=\"node120\" class=\"node\">\n<title>119</title>\n<path fill=\"#f5cdb0\" stroke=\"#000000\" d=\"M2438.5,-1377C2438.5,-1377 2340.5,-1377 2340.5,-1377 2334.5,-1377 2328.5,-1371 2328.5,-1365 2328.5,-1365 2328.5,-1306 2328.5,-1306 2328.5,-1300 2334.5,-1294 2340.5,-1294 2340.5,-1294 2438.5,-1294 2438.5,-1294 2444.5,-1294 2450.5,-1300 2450.5,-1306 2450.5,-1306 2450.5,-1365 2450.5,-1365 2450.5,-1371 2444.5,-1377 2438.5,-1377\"/>\n<text text-anchor=\"start\" x=\"2336.5\" y=\"-1361.8\" font-family=\"Helvetica,sans-Serif\" font-size=\"14.00\" fill=\"#000000\">Glucose ≤ 105.5</text>\n<text text-anchor=\"start\" x=\"2338.5\" y=\"-1346.8\" font-family=\"Helvetica,sans-Serif\" font-size=\"14.00\" fill=\"#000000\">entropy = 0.954</text>\n<text text-anchor=\"start\" x=\"2350\" y=\"-1331.8\" font-family=\"Helvetica,sans-Serif\" font-size=\"14.00\" fill=\"#000000\">samples = 8</text>\n<text text-anchor=\"start\" x=\"2348\" y=\"-1316.8\" font-family=\"Helvetica,sans-Serif\" font-size=\"14.00\" fill=\"#000000\">value = [5, 3]</text>\n<text text-anchor=\"start\" x=\"2352\" y=\"-1301.8\" font-family=\"Helvetica,sans-Serif\" font-size=\"14.00\" fill=\"#000000\">class = não</text>\n</g>\n<!-- 118&#45;&gt;119 -->\n<g id=\"edge119\" class=\"edge\">\n<title>118&#45;&gt;119</title>\n<path fill=\"none\" stroke=\"#000000\" d=\"M2431.1159,-1412.8796C2426.5144,-1404.3236 2421.6204,-1395.2238 2416.8658,-1386.3833\"/>\n<polygon fill=\"#000000\" stroke=\"#000000\" points=\"2419.7988,-1384.4473 2411.9796,-1377.2981 2413.6338,-1387.763 2419.7988,-1384.4473\"/>\n</g>\n<!-- 124 -->\n<g id=\"node125\" class=\"node\">\n<title>124</title>\n<path fill=\"#83c2ef\" stroke=\"#000000\" d=\"M2574.5,-1377C2574.5,-1377 2480.5,-1377 2480.5,-1377 2474.5,-1377 2468.5,-1371 2468.5,-1365 2468.5,-1365 2468.5,-1306 2468.5,-1306 2468.5,-1300 2474.5,-1294 2480.5,-1294 2480.5,-1294 2574.5,-1294 2574.5,-1294 2580.5,-1294 2586.5,-1300 2586.5,-1306 2586.5,-1306 2586.5,-1365 2586.5,-1365 2586.5,-1371 2580.5,-1377 2574.5,-1377\"/>\n<text text-anchor=\"start\" x=\"2492.5\" y=\"-1361.8\" font-family=\"Helvetica,sans-Serif\" font-size=\"14.00\" fill=\"#000000\">Age ≤ 55.0</text>\n<text text-anchor=\"start\" x=\"2476.5\" y=\"-1346.8\" font-family=\"Helvetica,sans-Serif\" font-size=\"14.00\" fill=\"#000000\">entropy = 0.845</text>\n<text text-anchor=\"start\" x=\"2483.5\" y=\"-1331.8\" font-family=\"Helvetica,sans-Serif\" font-size=\"14.00\" fill=\"#000000\">samples = 22</text>\n<text text-anchor=\"start\" x=\"2482\" y=\"-1316.8\" font-family=\"Helvetica,sans-Serif\" font-size=\"14.00\" fill=\"#000000\">value = [6, 16]</text>\n<text text-anchor=\"start\" x=\"2491\" y=\"-1301.8\" font-family=\"Helvetica,sans-Serif\" font-size=\"14.00\" fill=\"#000000\">class = sim</text>\n</g>\n<!-- 118&#45;&gt;124 -->\n<g id=\"edge124\" class=\"edge\">\n<title>118&#45;&gt;124</title>\n<path fill=\"none\" stroke=\"#000000\" d=\"M2479.3816,-1412.8796C2484.8142,-1404.1434 2490.5992,-1394.8404 2496.2053,-1385.8253\"/>\n<polygon fill=\"#000000\" stroke=\"#000000\" points=\"2499.1993,-1387.6383 2501.5079,-1377.2981 2493.2549,-1383.9418 2499.1993,-1387.6383\"/>\n</g>\n<!-- 120 -->\n<g id=\"node121\" class=\"node\">\n<title>120</title>\n<path fill=\"#7bbeee\" stroke=\"#000000\" d=\"M2348,-1258C2348,-1258 2217,-1258 2217,-1258 2211,-1258 2205,-1252 2205,-1246 2205,-1246 2205,-1187 2205,-1187 2205,-1181 2211,-1175 2217,-1175 2217,-1175 2348,-1175 2348,-1175 2354,-1175 2360,-1181 2360,-1187 2360,-1187 2360,-1246 2360,-1246 2360,-1252 2354,-1258 2348,-1258\"/>\n<text text-anchor=\"start\" x=\"2213\" y=\"-1242.8\" font-family=\"Helvetica,sans-Serif\" font-size=\"14.00\" fill=\"#000000\">SkinThickness ≤ 52.5</text>\n<text text-anchor=\"start\" x=\"2231.5\" y=\"-1227.8\" font-family=\"Helvetica,sans-Serif\" font-size=\"14.00\" fill=\"#000000\">entropy = 0.811</text>\n<text text-anchor=\"start\" x=\"2243\" y=\"-1212.8\" font-family=\"Helvetica,sans-Serif\" font-size=\"14.00\" fill=\"#000000\">samples = 4</text>\n<text text-anchor=\"start\" x=\"2241\" y=\"-1197.8\" font-family=\"Helvetica,sans-Serif\" font-size=\"14.00\" fill=\"#000000\">value = [1, 3]</text>\n<text text-anchor=\"start\" x=\"2246\" y=\"-1182.8\" font-family=\"Helvetica,sans-Serif\" font-size=\"14.00\" fill=\"#000000\">class = sim</text>\n</g>\n<!-- 119&#45;&gt;120 -->\n<g id=\"edge120\" class=\"edge\">\n<title>119&#45;&gt;120</title>\n<path fill=\"none\" stroke=\"#000000\" d=\"M2352.0766,-1293.8796C2343.9785,-1284.8733 2335.3386,-1275.2644 2326.9991,-1265.9897\"/>\n<polygon fill=\"#000000\" stroke=\"#000000\" points=\"2329.372,-1263.394 2320.0831,-1258.2981 2324.1667,-1268.0743 2329.372,-1263.394\"/>\n</g>\n<!-- 123 -->\n<g id=\"node124\" class=\"node\">\n<title>123</title>\n<path fill=\"#e58139\" stroke=\"#000000\" d=\"M2467,-1250.5C2467,-1250.5 2390,-1250.5 2390,-1250.5 2384,-1250.5 2378,-1244.5 2378,-1238.5 2378,-1238.5 2378,-1194.5 2378,-1194.5 2378,-1188.5 2384,-1182.5 2390,-1182.5 2390,-1182.5 2467,-1182.5 2467,-1182.5 2473,-1182.5 2479,-1188.5 2479,-1194.5 2479,-1194.5 2479,-1238.5 2479,-1238.5 2479,-1244.5 2473,-1250.5 2467,-1250.5\"/>\n<text text-anchor=\"start\" x=\"2386\" y=\"-1235.3\" font-family=\"Helvetica,sans-Serif\" font-size=\"14.00\" fill=\"#000000\">entropy = 0.0</text>\n<text text-anchor=\"start\" x=\"2389\" y=\"-1220.3\" font-family=\"Helvetica,sans-Serif\" font-size=\"14.00\" fill=\"#000000\">samples = 4</text>\n<text text-anchor=\"start\" x=\"2387\" y=\"-1205.3\" font-family=\"Helvetica,sans-Serif\" font-size=\"14.00\" fill=\"#000000\">value = [4, 0]</text>\n<text text-anchor=\"start\" x=\"2391\" y=\"-1190.3\" font-family=\"Helvetica,sans-Serif\" font-size=\"14.00\" fill=\"#000000\">class = não</text>\n</g>\n<!-- 119&#45;&gt;123 -->\n<g id=\"edge123\" class=\"edge\">\n<title>119&#45;&gt;123</title>\n<path fill=\"none\" stroke=\"#000000\" d=\"M2403.1403,-1293.8796C2406.672,-1283.1034 2410.4864,-1271.4647 2414.0576,-1260.5677\"/>\n<polygon fill=\"#000000\" stroke=\"#000000\" points=\"2417.4655,-1261.4077 2417.2539,-1250.8149 2410.8136,-1259.2276 2417.4655,-1261.4077\"/>\n</g>\n<!-- 121 -->\n<g id=\"node122\" class=\"node\">\n<title>121</title>\n<path fill=\"#399de5\" stroke=\"#000000\" d=\"M2333,-1131.5C2333,-1131.5 2256,-1131.5 2256,-1131.5 2250,-1131.5 2244,-1125.5 2244,-1119.5 2244,-1119.5 2244,-1075.5 2244,-1075.5 2244,-1069.5 2250,-1063.5 2256,-1063.5 2256,-1063.5 2333,-1063.5 2333,-1063.5 2339,-1063.5 2345,-1069.5 2345,-1075.5 2345,-1075.5 2345,-1119.5 2345,-1119.5 2345,-1125.5 2339,-1131.5 2333,-1131.5\"/>\n<text text-anchor=\"start\" x=\"2252\" y=\"-1116.3\" font-family=\"Helvetica,sans-Serif\" font-size=\"14.00\" fill=\"#000000\">entropy = 0.0</text>\n<text text-anchor=\"start\" x=\"2255\" y=\"-1101.3\" font-family=\"Helvetica,sans-Serif\" font-size=\"14.00\" fill=\"#000000\">samples = 3</text>\n<text text-anchor=\"start\" x=\"2253\" y=\"-1086.3\" font-family=\"Helvetica,sans-Serif\" font-size=\"14.00\" fill=\"#000000\">value = [0, 3]</text>\n<text text-anchor=\"start\" x=\"2258\" y=\"-1071.3\" font-family=\"Helvetica,sans-Serif\" font-size=\"14.00\" fill=\"#000000\">class = sim</text>\n</g>\n<!-- 120&#45;&gt;121 -->\n<g id=\"edge121\" class=\"edge\">\n<title>120&#45;&gt;121</title>\n<path fill=\"none\" stroke=\"#000000\" d=\"M2286.697,-1174.8796C2287.7726,-1164.2134 2288.9334,-1152.7021 2290.0225,-1141.9015\"/>\n<polygon fill=\"#000000\" stroke=\"#000000\" points=\"2293.5186,-1142.1157 2291.0397,-1131.8149 2286.5539,-1141.4133 2293.5186,-1142.1157\"/>\n</g>\n<!-- 122 -->\n<g id=\"node123\" class=\"node\">\n<title>122</title>\n<path fill=\"#e58139\" stroke=\"#000000\" d=\"M2452,-1131.5C2452,-1131.5 2375,-1131.5 2375,-1131.5 2369,-1131.5 2363,-1125.5 2363,-1119.5 2363,-1119.5 2363,-1075.5 2363,-1075.5 2363,-1069.5 2369,-1063.5 2375,-1063.5 2375,-1063.5 2452,-1063.5 2452,-1063.5 2458,-1063.5 2464,-1069.5 2464,-1075.5 2464,-1075.5 2464,-1119.5 2464,-1119.5 2464,-1125.5 2458,-1131.5 2452,-1131.5\"/>\n<text text-anchor=\"start\" x=\"2371\" y=\"-1116.3\" font-family=\"Helvetica,sans-Serif\" font-size=\"14.00\" fill=\"#000000\">entropy = 0.0</text>\n<text text-anchor=\"start\" x=\"2374\" y=\"-1101.3\" font-family=\"Helvetica,sans-Serif\" font-size=\"14.00\" fill=\"#000000\">samples = 1</text>\n<text text-anchor=\"start\" x=\"2372\" y=\"-1086.3\" font-family=\"Helvetica,sans-Serif\" font-size=\"14.00\" fill=\"#000000\">value = [1, 0]</text>\n<text text-anchor=\"start\" x=\"2376\" y=\"-1071.3\" font-family=\"Helvetica,sans-Serif\" font-size=\"14.00\" fill=\"#000000\">class = não</text>\n</g>\n<!-- 120&#45;&gt;122 -->\n<g id=\"edge122\" class=\"edge\">\n<title>120&#45;&gt;122</title>\n<path fill=\"none\" stroke=\"#000000\" d=\"M2328.3174,-1174.8796C2341.2697,-1163.1138 2355.354,-1150.3197 2368.2714,-1138.5855\"/>\n<polygon fill=\"#000000\" stroke=\"#000000\" points=\"2370.6761,-1141.1296 2375.7247,-1131.8149 2365.9694,-1135.9482 2370.6761,-1141.1296\"/>\n</g>\n<!-- 125 -->\n<g id=\"node126\" class=\"node\">\n<title>125</title>\n<path fill=\"#6ab6ec\" stroke=\"#000000\" d=\"M2607.5,-1258C2607.5,-1258 2509.5,-1258 2509.5,-1258 2503.5,-1258 2497.5,-1252 2497.5,-1246 2497.5,-1246 2497.5,-1187 2497.5,-1187 2497.5,-1181 2503.5,-1175 2509.5,-1175 2509.5,-1175 2607.5,-1175 2607.5,-1175 2613.5,-1175 2619.5,-1181 2619.5,-1187 2619.5,-1187 2619.5,-1246 2619.5,-1246 2619.5,-1252 2613.5,-1258 2607.5,-1258\"/>\n<text text-anchor=\"start\" x=\"2505.5\" y=\"-1242.8\" font-family=\"Helvetica,sans-Serif\" font-size=\"14.00\" fill=\"#000000\">Glucose ≤ 119.5</text>\n<text text-anchor=\"start\" x=\"2507.5\" y=\"-1227.8\" font-family=\"Helvetica,sans-Serif\" font-size=\"14.00\" fill=\"#000000\">entropy = 0.722</text>\n<text text-anchor=\"start\" x=\"2514.5\" y=\"-1212.8\" font-family=\"Helvetica,sans-Serif\" font-size=\"14.00\" fill=\"#000000\">samples = 20</text>\n<text text-anchor=\"start\" x=\"2513\" y=\"-1197.8\" font-family=\"Helvetica,sans-Serif\" font-size=\"14.00\" fill=\"#000000\">value = [4, 16]</text>\n<text text-anchor=\"start\" x=\"2522\" y=\"-1182.8\" font-family=\"Helvetica,sans-Serif\" font-size=\"14.00\" fill=\"#000000\">class = sim</text>\n</g>\n<!-- 124&#45;&gt;125 -->\n<g id=\"edge125\" class=\"edge\">\n<title>124&#45;&gt;125</title>\n<path fill=\"none\" stroke=\"#000000\" d=\"M2538.3423,-1293.8796C2540.5008,-1285.5938 2542.7921,-1276.798 2545.0263,-1268.2216\"/>\n<polygon fill=\"#000000\" stroke=\"#000000\" points=\"2548.4774,-1268.8575 2547.6114,-1258.2981 2541.7035,-1267.0928 2548.4774,-1268.8575\"/>\n</g>\n<!-- 136 -->\n<g id=\"node137\" class=\"node\">\n<title>136</title>\n<path fill=\"#e58139\" stroke=\"#000000\" d=\"M2727,-1250.5C2727,-1250.5 2650,-1250.5 2650,-1250.5 2644,-1250.5 2638,-1244.5 2638,-1238.5 2638,-1238.5 2638,-1194.5 2638,-1194.5 2638,-1188.5 2644,-1182.5 2650,-1182.5 2650,-1182.5 2727,-1182.5 2727,-1182.5 2733,-1182.5 2739,-1188.5 2739,-1194.5 2739,-1194.5 2739,-1238.5 2739,-1238.5 2739,-1244.5 2733,-1250.5 2727,-1250.5\"/>\n<text text-anchor=\"start\" x=\"2646\" y=\"-1235.3\" font-family=\"Helvetica,sans-Serif\" font-size=\"14.00\" fill=\"#000000\">entropy = 0.0</text>\n<text text-anchor=\"start\" x=\"2649\" y=\"-1220.3\" font-family=\"Helvetica,sans-Serif\" font-size=\"14.00\" fill=\"#000000\">samples = 2</text>\n<text text-anchor=\"start\" x=\"2647\" y=\"-1205.3\" font-family=\"Helvetica,sans-Serif\" font-size=\"14.00\" fill=\"#000000\">value = [2, 0]</text>\n<text text-anchor=\"start\" x=\"2651\" y=\"-1190.3\" font-family=\"Helvetica,sans-Serif\" font-size=\"14.00\" fill=\"#000000\">class = não</text>\n</g>\n<!-- 124&#45;&gt;136 -->\n<g id=\"edge136\" class=\"edge\">\n<title>124&#45;&gt;136</title>\n<path fill=\"none\" stroke=\"#000000\" d=\"M2583.81,-1293.8796C2600.1032,-1281.8368 2617.8539,-1268.7167 2634.0325,-1256.7586\"/>\n<polygon fill=\"#000000\" stroke=\"#000000\" points=\"2636.3721,-1259.3816 2642.3335,-1250.623 2632.2114,-1253.7524 2636.3721,-1259.3816\"/>\n</g>\n<!-- 126 -->\n<g id=\"node127\" class=\"node\">\n<title>126</title>\n<path fill=\"#399de5\" stroke=\"#000000\" d=\"M2585,-1131.5C2585,-1131.5 2508,-1131.5 2508,-1131.5 2502,-1131.5 2496,-1125.5 2496,-1119.5 2496,-1119.5 2496,-1075.5 2496,-1075.5 2496,-1069.5 2502,-1063.5 2508,-1063.5 2508,-1063.5 2585,-1063.5 2585,-1063.5 2591,-1063.5 2597,-1069.5 2597,-1075.5 2597,-1075.5 2597,-1119.5 2597,-1119.5 2597,-1125.5 2591,-1131.5 2585,-1131.5\"/>\n<text text-anchor=\"start\" x=\"2504\" y=\"-1116.3\" font-family=\"Helvetica,sans-Serif\" font-size=\"14.00\" fill=\"#000000\">entropy = 0.0</text>\n<text text-anchor=\"start\" x=\"2507\" y=\"-1101.3\" font-family=\"Helvetica,sans-Serif\" font-size=\"14.00\" fill=\"#000000\">samples = 6</text>\n<text text-anchor=\"start\" x=\"2505\" y=\"-1086.3\" font-family=\"Helvetica,sans-Serif\" font-size=\"14.00\" fill=\"#000000\">value = [0, 6]</text>\n<text text-anchor=\"start\" x=\"2510\" y=\"-1071.3\" font-family=\"Helvetica,sans-Serif\" font-size=\"14.00\" fill=\"#000000\">class = sim</text>\n</g>\n<!-- 125&#45;&gt;126 -->\n<g id=\"edge126\" class=\"edge\">\n<title>125&#45;&gt;126</title>\n<path fill=\"none\" stroke=\"#000000\" d=\"M2554.303,-1174.8796C2553.2274,-1164.2134 2552.0666,-1152.7021 2550.9775,-1141.9015\"/>\n<polygon fill=\"#000000\" stroke=\"#000000\" points=\"2554.4461,-1141.4133 2549.9603,-1131.8149 2547.4814,-1142.1157 2554.4461,-1141.4133\"/>\n</g>\n<!-- 127 -->\n<g id=\"node128\" class=\"node\">\n<title>127</title>\n<path fill=\"#88c4ef\" stroke=\"#000000\" d=\"M2742,-1139C2742,-1139 2627,-1139 2627,-1139 2621,-1139 2615,-1133 2615,-1127 2615,-1127 2615,-1068 2615,-1068 2615,-1062 2621,-1056 2627,-1056 2627,-1056 2742,-1056 2742,-1056 2748,-1056 2754,-1062 2754,-1068 2754,-1068 2754,-1127 2754,-1127 2754,-1133 2748,-1139 2742,-1139\"/>\n<text text-anchor=\"start\" x=\"2623\" y=\"-1123.8\" font-family=\"Helvetica,sans-Serif\" font-size=\"14.00\" fill=\"#000000\">Glucose ≤ 120.843</text>\n<text text-anchor=\"start\" x=\"2633.5\" y=\"-1108.8\" font-family=\"Helvetica,sans-Serif\" font-size=\"14.00\" fill=\"#000000\">entropy = 0.863</text>\n<text text-anchor=\"start\" x=\"2640.5\" y=\"-1093.8\" font-family=\"Helvetica,sans-Serif\" font-size=\"14.00\" fill=\"#000000\">samples = 14</text>\n<text text-anchor=\"start\" x=\"2639\" y=\"-1078.8\" font-family=\"Helvetica,sans-Serif\" font-size=\"14.00\" fill=\"#000000\">value = [4, 10]</text>\n<text text-anchor=\"start\" x=\"2648\" y=\"-1063.8\" font-family=\"Helvetica,sans-Serif\" font-size=\"14.00\" fill=\"#000000\">class = sim</text>\n</g>\n<!-- 125&#45;&gt;127 -->\n<g id=\"edge127\" class=\"edge\">\n<title>125&#45;&gt;127</title>\n<path fill=\"none\" stroke=\"#000000\" d=\"M2602.5687,-1174.8796C2612.2955,-1165.6931 2622.6861,-1155.8798 2632.6879,-1146.4336\"/>\n<polygon fill=\"#000000\" stroke=\"#000000\" points=\"2635.3763,-1148.7089 2640.2432,-1139.2981 2630.5699,-1143.6198 2635.3763,-1148.7089\"/>\n</g>\n<!-- 128 -->\n<g id=\"node129\" class=\"node\">\n<title>128</title>\n<path fill=\"#e58139\" stroke=\"#000000\" d=\"M2597,-1012.5C2597,-1012.5 2520,-1012.5 2520,-1012.5 2514,-1012.5 2508,-1006.5 2508,-1000.5 2508,-1000.5 2508,-956.5 2508,-956.5 2508,-950.5 2514,-944.5 2520,-944.5 2520,-944.5 2597,-944.5 2597,-944.5 2603,-944.5 2609,-950.5 2609,-956.5 2609,-956.5 2609,-1000.5 2609,-1000.5 2609,-1006.5 2603,-1012.5 2597,-1012.5\"/>\n<text text-anchor=\"start\" x=\"2516\" y=\"-997.3\" font-family=\"Helvetica,sans-Serif\" font-size=\"14.00\" fill=\"#000000\">entropy = 0.0</text>\n<text text-anchor=\"start\" x=\"2519\" y=\"-982.3\" font-family=\"Helvetica,sans-Serif\" font-size=\"14.00\" fill=\"#000000\">samples = 2</text>\n<text text-anchor=\"start\" x=\"2517\" y=\"-967.3\" font-family=\"Helvetica,sans-Serif\" font-size=\"14.00\" fill=\"#000000\">value = [2, 0]</text>\n<text text-anchor=\"start\" x=\"2521\" y=\"-952.3\" font-family=\"Helvetica,sans-Serif\" font-size=\"14.00\" fill=\"#000000\">class = não</text>\n</g>\n<!-- 127&#45;&gt;128 -->\n<g id=\"edge128\" class=\"edge\">\n<title>127&#45;&gt;128</title>\n<path fill=\"none\" stroke=\"#000000\" d=\"M2640.4313,-1055.8796C2628.0898,-1044.2237 2614.6798,-1031.5587 2602.351,-1019.9148\"/>\n<polygon fill=\"#000000\" stroke=\"#000000\" points=\"2604.5068,-1017.1366 2594.8335,-1012.8149 2599.7004,-1022.2258 2604.5068,-1017.1366\"/>\n</g>\n<!-- 129 -->\n<g id=\"node130\" class=\"node\">\n<title>129</title>\n<path fill=\"#61b1ea\" stroke=\"#000000\" d=\"M2749.5,-1020C2749.5,-1020 2639.5,-1020 2639.5,-1020 2633.5,-1020 2627.5,-1014 2627.5,-1008 2627.5,-1008 2627.5,-949 2627.5,-949 2627.5,-943 2633.5,-937 2639.5,-937 2639.5,-937 2749.5,-937 2749.5,-937 2755.5,-937 2761.5,-943 2761.5,-949 2761.5,-949 2761.5,-1008 2761.5,-1008 2761.5,-1014 2755.5,-1020 2749.5,-1020\"/>\n<text text-anchor=\"start\" x=\"2635.5\" y=\"-1004.8\" font-family=\"Helvetica,sans-Serif\" font-size=\"14.00\" fill=\"#000000\">Pregnancies ≤ 6.5</text>\n<text text-anchor=\"start\" x=\"2647.5\" y=\"-989.8\" font-family=\"Helvetica,sans-Serif\" font-size=\"14.00\" fill=\"#000000\">entropy = 0.65</text>\n<text text-anchor=\"start\" x=\"2650.5\" y=\"-974.8\" font-family=\"Helvetica,sans-Serif\" font-size=\"14.00\" fill=\"#000000\">samples = 12</text>\n<text text-anchor=\"start\" x=\"2649\" y=\"-959.8\" font-family=\"Helvetica,sans-Serif\" font-size=\"14.00\" fill=\"#000000\">value = [2, 10]</text>\n<text text-anchor=\"start\" x=\"2658\" y=\"-944.8\" font-family=\"Helvetica,sans-Serif\" font-size=\"14.00\" fill=\"#000000\">class = sim</text>\n</g>\n<!-- 127&#45;&gt;129 -->\n<g id=\"edge129\" class=\"edge\">\n<title>127&#45;&gt;129</title>\n<path fill=\"none\" stroke=\"#000000\" d=\"M2687.9975,-1055.8796C2688.6862,-1047.6838 2689.4169,-1038.9891 2690.1301,-1030.5013\"/>\n<polygon fill=\"#000000\" stroke=\"#000000\" points=\"2693.6378,-1030.5561 2690.9876,-1020.2981 2686.6624,-1029.9698 2693.6378,-1030.5561\"/>\n</g>\n<!-- 130 -->\n<g id=\"node131\" class=\"node\">\n<title>130</title>\n<path fill=\"#4da7e8\" stroke=\"#000000\" d=\"M2618.5,-901C2618.5,-901 2524.5,-901 2524.5,-901 2518.5,-901 2512.5,-895 2512.5,-889 2512.5,-889 2512.5,-830 2512.5,-830 2512.5,-824 2518.5,-818 2524.5,-818 2524.5,-818 2618.5,-818 2618.5,-818 2624.5,-818 2630.5,-824 2630.5,-830 2630.5,-830 2630.5,-889 2630.5,-889 2630.5,-895 2624.5,-901 2618.5,-901\"/>\n<text text-anchor=\"start\" x=\"2536.5\" y=\"-885.8\" font-family=\"Helvetica,sans-Serif\" font-size=\"14.00\" fill=\"#000000\">Age ≤ 29.5</text>\n<text text-anchor=\"start\" x=\"2520.5\" y=\"-870.8\" font-family=\"Helvetica,sans-Serif\" font-size=\"14.00\" fill=\"#000000\">entropy = 0.439</text>\n<text text-anchor=\"start\" x=\"2527.5\" y=\"-855.8\" font-family=\"Helvetica,sans-Serif\" font-size=\"14.00\" fill=\"#000000\">samples = 11</text>\n<text text-anchor=\"start\" x=\"2526\" y=\"-840.8\" font-family=\"Helvetica,sans-Serif\" font-size=\"14.00\" fill=\"#000000\">value = [1, 10]</text>\n<text text-anchor=\"start\" x=\"2535\" y=\"-825.8\" font-family=\"Helvetica,sans-Serif\" font-size=\"14.00\" fill=\"#000000\">class = sim</text>\n</g>\n<!-- 129&#45;&gt;130 -->\n<g id=\"edge130\" class=\"edge\">\n<title>129&#45;&gt;130</title>\n<path fill=\"none\" stroke=\"#000000\" d=\"M2651.4806,-936.8796C2641.9853,-927.6931 2631.8422,-917.8798 2622.0785,-908.4336\"/>\n<polygon fill=\"#000000\" stroke=\"#000000\" points=\"2624.3237,-905.7359 2614.703,-901.2981 2619.4564,-910.7668 2624.3237,-905.7359\"/>\n</g>\n<!-- 135 -->\n<g id=\"node136\" class=\"node\">\n<title>135</title>\n<path fill=\"#e58139\" stroke=\"#000000\" d=\"M2738,-893.5C2738,-893.5 2661,-893.5 2661,-893.5 2655,-893.5 2649,-887.5 2649,-881.5 2649,-881.5 2649,-837.5 2649,-837.5 2649,-831.5 2655,-825.5 2661,-825.5 2661,-825.5 2738,-825.5 2738,-825.5 2744,-825.5 2750,-831.5 2750,-837.5 2750,-837.5 2750,-881.5 2750,-881.5 2750,-887.5 2744,-893.5 2738,-893.5\"/>\n<text text-anchor=\"start\" x=\"2657\" y=\"-878.3\" font-family=\"Helvetica,sans-Serif\" font-size=\"14.00\" fill=\"#000000\">entropy = 0.0</text>\n<text text-anchor=\"start\" x=\"2660\" y=\"-863.3\" font-family=\"Helvetica,sans-Serif\" font-size=\"14.00\" fill=\"#000000\">samples = 1</text>\n<text text-anchor=\"start\" x=\"2658\" y=\"-848.3\" font-family=\"Helvetica,sans-Serif\" font-size=\"14.00\" fill=\"#000000\">value = [1, 0]</text>\n<text text-anchor=\"start\" x=\"2662\" y=\"-833.3\" font-family=\"Helvetica,sans-Serif\" font-size=\"14.00\" fill=\"#000000\">class = não</text>\n</g>\n<!-- 129&#45;&gt;135 -->\n<g id=\"edge135\" class=\"edge\">\n<title>129&#45;&gt;135</title>\n<path fill=\"none\" stroke=\"#000000\" d=\"M2696.2488,-936.8796C2696.6969,-926.2134 2697.1806,-914.7021 2697.6344,-903.9015\"/>\n<polygon fill=\"#000000\" stroke=\"#000000\" points=\"2701.1352,-903.9531 2698.0582,-893.8149 2694.1414,-903.6592 2701.1352,-903.9531\"/>\n</g>\n<!-- 131 -->\n<g id=\"node132\" class=\"node\">\n<title>131</title>\n<path fill=\"#ffffff\" stroke=\"#000000\" d=\"M2613.5,-782C2613.5,-782 2503.5,-782 2503.5,-782 2497.5,-782 2491.5,-776 2491.5,-770 2491.5,-770 2491.5,-711 2491.5,-711 2491.5,-705 2497.5,-699 2503.5,-699 2503.5,-699 2613.5,-699 2613.5,-699 2619.5,-699 2625.5,-705 2625.5,-711 2625.5,-711 2625.5,-770 2625.5,-770 2625.5,-776 2619.5,-782 2613.5,-782\"/>\n<text text-anchor=\"start\" x=\"2499.5\" y=\"-766.8\" font-family=\"Helvetica,sans-Serif\" font-size=\"14.00\" fill=\"#000000\">Pregnancies ≤ 3.0</text>\n<text text-anchor=\"start\" x=\"2516\" y=\"-751.8\" font-family=\"Helvetica,sans-Serif\" font-size=\"14.00\" fill=\"#000000\">entropy = 1.0</text>\n<text text-anchor=\"start\" x=\"2519\" y=\"-736.8\" font-family=\"Helvetica,sans-Serif\" font-size=\"14.00\" fill=\"#000000\">samples = 2</text>\n<text text-anchor=\"start\" x=\"2517\" y=\"-721.8\" font-family=\"Helvetica,sans-Serif\" font-size=\"14.00\" fill=\"#000000\">value = [1, 1]</text>\n<text text-anchor=\"start\" x=\"2521\" y=\"-706.8\" font-family=\"Helvetica,sans-Serif\" font-size=\"14.00\" fill=\"#000000\">class = não</text>\n</g>\n<!-- 130&#45;&gt;131 -->\n<g id=\"edge131\" class=\"edge\">\n<title>130&#45;&gt;131</title>\n<path fill=\"none\" stroke=\"#000000\" d=\"M2566.9532,-817.8796C2566.0579,-809.6838 2565.1081,-800.9891 2564.1808,-792.5013\"/>\n<polygon fill=\"#000000\" stroke=\"#000000\" points=\"2567.6315,-791.8588 2563.0662,-782.2981 2560.6729,-792.6191 2567.6315,-791.8588\"/>\n</g>\n<!-- 134 -->\n<g id=\"node135\" class=\"node\">\n<title>134</title>\n<path fill=\"#399de5\" stroke=\"#000000\" d=\"M2733,-774.5C2733,-774.5 2656,-774.5 2656,-774.5 2650,-774.5 2644,-768.5 2644,-762.5 2644,-762.5 2644,-718.5 2644,-718.5 2644,-712.5 2650,-706.5 2656,-706.5 2656,-706.5 2733,-706.5 2733,-706.5 2739,-706.5 2745,-712.5 2745,-718.5 2745,-718.5 2745,-762.5 2745,-762.5 2745,-768.5 2739,-774.5 2733,-774.5\"/>\n<text text-anchor=\"start\" x=\"2652\" y=\"-759.3\" font-family=\"Helvetica,sans-Serif\" font-size=\"14.00\" fill=\"#000000\">entropy = 0.0</text>\n<text text-anchor=\"start\" x=\"2655\" y=\"-744.3\" font-family=\"Helvetica,sans-Serif\" font-size=\"14.00\" fill=\"#000000\">samples = 9</text>\n<text text-anchor=\"start\" x=\"2653\" y=\"-729.3\" font-family=\"Helvetica,sans-Serif\" font-size=\"14.00\" fill=\"#000000\">value = [0, 9]</text>\n<text text-anchor=\"start\" x=\"2658\" y=\"-714.3\" font-family=\"Helvetica,sans-Serif\" font-size=\"14.00\" fill=\"#000000\">class = sim</text>\n</g>\n<!-- 130&#45;&gt;134 -->\n<g id=\"edge134\" class=\"edge\">\n<title>130&#45;&gt;134</title>\n<path fill=\"none\" stroke=\"#000000\" d=\"M2614.5194,-817.8796C2626.5671,-806.2237 2639.6578,-793.5587 2651.6931,-781.9148\"/>\n<polygon fill=\"#000000\" stroke=\"#000000\" points=\"2654.2783,-784.2837 2659.0316,-774.8149 2649.411,-779.2528 2654.2783,-784.2837\"/>\n</g>\n<!-- 132 -->\n<g id=\"node133\" class=\"node\">\n<title>132</title>\n<path fill=\"#e58139\" stroke=\"#000000\" d=\"M2587,-655.5C2587,-655.5 2510,-655.5 2510,-655.5 2504,-655.5 2498,-649.5 2498,-643.5 2498,-643.5 2498,-599.5 2498,-599.5 2498,-593.5 2504,-587.5 2510,-587.5 2510,-587.5 2587,-587.5 2587,-587.5 2593,-587.5 2599,-593.5 2599,-599.5 2599,-599.5 2599,-643.5 2599,-643.5 2599,-649.5 2593,-655.5 2587,-655.5\"/>\n<text text-anchor=\"start\" x=\"2506\" y=\"-640.3\" font-family=\"Helvetica,sans-Serif\" font-size=\"14.00\" fill=\"#000000\">entropy = 0.0</text>\n<text text-anchor=\"start\" x=\"2509\" y=\"-625.3\" font-family=\"Helvetica,sans-Serif\" font-size=\"14.00\" fill=\"#000000\">samples = 1</text>\n<text text-anchor=\"start\" x=\"2507\" y=\"-610.3\" font-family=\"Helvetica,sans-Serif\" font-size=\"14.00\" fill=\"#000000\">value = [1, 0]</text>\n<text text-anchor=\"start\" x=\"2511\" y=\"-595.3\" font-family=\"Helvetica,sans-Serif\" font-size=\"14.00\" fill=\"#000000\">class = não</text>\n</g>\n<!-- 131&#45;&gt;132 -->\n<g id=\"edge132\" class=\"edge\">\n<title>131&#45;&gt;132</title>\n<path fill=\"none\" stroke=\"#000000\" d=\"M2555.0025,-698.8796C2554.1062,-688.2134 2553.1388,-676.7021 2552.2312,-665.9015\"/>\n<polygon fill=\"#000000\" stroke=\"#000000\" points=\"2555.7088,-665.4867 2551.3836,-655.8149 2548.7334,-666.0729 2555.7088,-665.4867\"/>\n</g>\n<!-- 133 -->\n<g id=\"node134\" class=\"node\">\n<title>133</title>\n<path fill=\"#399de5\" stroke=\"#000000\" d=\"M2706,-655.5C2706,-655.5 2629,-655.5 2629,-655.5 2623,-655.5 2617,-649.5 2617,-643.5 2617,-643.5 2617,-599.5 2617,-599.5 2617,-593.5 2623,-587.5 2629,-587.5 2629,-587.5 2706,-587.5 2706,-587.5 2712,-587.5 2718,-593.5 2718,-599.5 2718,-599.5 2718,-643.5 2718,-643.5 2718,-649.5 2712,-655.5 2706,-655.5\"/>\n<text text-anchor=\"start\" x=\"2625\" y=\"-640.3\" font-family=\"Helvetica,sans-Serif\" font-size=\"14.00\" fill=\"#000000\">entropy = 0.0</text>\n<text text-anchor=\"start\" x=\"2628\" y=\"-625.3\" font-family=\"Helvetica,sans-Serif\" font-size=\"14.00\" fill=\"#000000\">samples = 1</text>\n<text text-anchor=\"start\" x=\"2626\" y=\"-610.3\" font-family=\"Helvetica,sans-Serif\" font-size=\"14.00\" fill=\"#000000\">value = [0, 1]</text>\n<text text-anchor=\"start\" x=\"2631\" y=\"-595.3\" font-family=\"Helvetica,sans-Serif\" font-size=\"14.00\" fill=\"#000000\">class = sim</text>\n</g>\n<!-- 131&#45;&gt;133 -->\n<g id=\"edge133\" class=\"edge\">\n<title>131&#45;&gt;133</title>\n<path fill=\"none\" stroke=\"#000000\" d=\"M2596.6229,-698.8796C2607.1986,-687.3337 2618.6812,-674.7976 2629.2633,-663.2446\"/>\n<polygon fill=\"#000000\" stroke=\"#000000\" points=\"2631.8951,-665.5531 2636.0687,-655.8149 2626.7333,-660.825 2631.8951,-665.5531\"/>\n</g>\n<!-- 138 -->\n<g id=\"node139\" class=\"node\">\n<title>138</title>\n<path fill=\"#e58139\" stroke=\"#000000\" d=\"M2694,-1369.5C2694,-1369.5 2617,-1369.5 2617,-1369.5 2611,-1369.5 2605,-1363.5 2605,-1357.5 2605,-1357.5 2605,-1313.5 2605,-1313.5 2605,-1307.5 2611,-1301.5 2617,-1301.5 2617,-1301.5 2694,-1301.5 2694,-1301.5 2700,-1301.5 2706,-1307.5 2706,-1313.5 2706,-1313.5 2706,-1357.5 2706,-1357.5 2706,-1363.5 2700,-1369.5 2694,-1369.5\"/>\n<text text-anchor=\"start\" x=\"2613\" y=\"-1354.3\" font-family=\"Helvetica,sans-Serif\" font-size=\"14.00\" fill=\"#000000\">entropy = 0.0</text>\n<text text-anchor=\"start\" x=\"2616\" y=\"-1339.3\" font-family=\"Helvetica,sans-Serif\" font-size=\"14.00\" fill=\"#000000\">samples = 1</text>\n<text text-anchor=\"start\" x=\"2614\" y=\"-1324.3\" font-family=\"Helvetica,sans-Serif\" font-size=\"14.00\" fill=\"#000000\">value = [1, 0]</text>\n<text text-anchor=\"start\" x=\"2618\" y=\"-1309.3\" font-family=\"Helvetica,sans-Serif\" font-size=\"14.00\" fill=\"#000000\">class = não</text>\n</g>\n<!-- 137&#45;&gt;138 -->\n<g id=\"edge138\" class=\"edge\">\n<title>137&#45;&gt;138</title>\n<path fill=\"none\" stroke=\"#000000\" d=\"M2655.5,-1412.8796C2655.5,-1402.2134 2655.5,-1390.7021 2655.5,-1379.9015\"/>\n<polygon fill=\"#000000\" stroke=\"#000000\" points=\"2659.0001,-1379.8149 2655.5,-1369.8149 2652.0001,-1379.815 2659.0001,-1379.8149\"/>\n</g>\n<!-- 139 -->\n<g id=\"node140\" class=\"node\">\n<title>139</title>\n<path fill=\"#399de5\" stroke=\"#000000\" d=\"M2819,-1369.5C2819,-1369.5 2736,-1369.5 2736,-1369.5 2730,-1369.5 2724,-1363.5 2724,-1357.5 2724,-1357.5 2724,-1313.5 2724,-1313.5 2724,-1307.5 2730,-1301.5 2736,-1301.5 2736,-1301.5 2819,-1301.5 2819,-1301.5 2825,-1301.5 2831,-1307.5 2831,-1313.5 2831,-1313.5 2831,-1357.5 2831,-1357.5 2831,-1363.5 2825,-1369.5 2819,-1369.5\"/>\n<text text-anchor=\"start\" x=\"2735\" y=\"-1354.3\" font-family=\"Helvetica,sans-Serif\" font-size=\"14.00\" fill=\"#000000\">entropy = 0.0</text>\n<text text-anchor=\"start\" x=\"2733.5\" y=\"-1339.3\" font-family=\"Helvetica,sans-Serif\" font-size=\"14.00\" fill=\"#000000\">samples = 12</text>\n<text text-anchor=\"start\" x=\"2732\" y=\"-1324.3\" font-family=\"Helvetica,sans-Serif\" font-size=\"14.00\" fill=\"#000000\">value = [0, 12]</text>\n<text text-anchor=\"start\" x=\"2741\" y=\"-1309.3\" font-family=\"Helvetica,sans-Serif\" font-size=\"14.00\" fill=\"#000000\">class = sim</text>\n</g>\n<!-- 137&#45;&gt;139 -->\n<g id=\"edge139\" class=\"edge\">\n<title>137&#45;&gt;139</title>\n<path fill=\"none\" stroke=\"#000000\" d=\"M2698.1697,-1412.8796C2710.1194,-1401.2237 2723.1037,-1388.5587 2735.0411,-1376.9148\"/>\n<polygon fill=\"#000000\" stroke=\"#000000\" points=\"2737.6053,-1379.303 2742.32,-1369.8149 2732.7175,-1374.292 2737.6053,-1379.303\"/>\n</g>\n<!-- 141 -->\n<g id=\"node142\" class=\"node\">\n<title>141</title>\n<path fill=\"#b3d9f5\" stroke=\"#000000\" d=\"M3168.5,-1972C3168.5,-1972 3074.5,-1972 3074.5,-1972 3068.5,-1972 3062.5,-1966 3062.5,-1960 3062.5,-1960 3062.5,-1901 3062.5,-1901 3062.5,-1895 3068.5,-1889 3074.5,-1889 3074.5,-1889 3168.5,-1889 3168.5,-1889 3174.5,-1889 3180.5,-1895 3180.5,-1901 3180.5,-1901 3180.5,-1960 3180.5,-1960 3180.5,-1966 3174.5,-1972 3168.5,-1972\"/>\n<text text-anchor=\"start\" x=\"3086.5\" y=\"-1956.8\" font-family=\"Helvetica,sans-Serif\" font-size=\"14.00\" fill=\"#000000\">Age ≤ 24.5</text>\n<text text-anchor=\"start\" x=\"3070.5\" y=\"-1941.8\" font-family=\"Helvetica,sans-Serif\" font-size=\"14.00\" fill=\"#000000\">entropy = 0.959</text>\n<text text-anchor=\"start\" x=\"3077.5\" y=\"-1926.8\" font-family=\"Helvetica,sans-Serif\" font-size=\"14.00\" fill=\"#000000\">samples = 63</text>\n<text text-anchor=\"start\" x=\"3071.5\" y=\"-1911.8\" font-family=\"Helvetica,sans-Serif\" font-size=\"14.00\" fill=\"#000000\">value = [24, 39]</text>\n<text text-anchor=\"start\" x=\"3085\" y=\"-1896.8\" font-family=\"Helvetica,sans-Serif\" font-size=\"14.00\" fill=\"#000000\">class = sim</text>\n</g>\n<!-- 140&#45;&gt;141 -->\n<g id=\"edge141\" class=\"edge\">\n<title>140&#45;&gt;141</title>\n<path fill=\"none\" stroke=\"#000000\" d=\"M3121.5,-2007.8796C3121.5,-1999.6838 3121.5,-1990.9891 3121.5,-1982.5013\"/>\n<polygon fill=\"#000000\" stroke=\"#000000\" points=\"3125.0001,-1982.298 3121.5,-1972.2981 3118.0001,-1982.2981 3125.0001,-1982.298\"/>\n</g>\n<!-- 174 -->\n<g id=\"node175\" class=\"node\">\n<title>174</title>\n<path fill=\"#4fa8e8\" stroke=\"#000000\" d=\"M3584.5,-1972C3584.5,-1972 3486.5,-1972 3486.5,-1972 3480.5,-1972 3474.5,-1966 3474.5,-1960 3474.5,-1960 3474.5,-1901 3474.5,-1901 3474.5,-1895 3480.5,-1889 3486.5,-1889 3486.5,-1889 3584.5,-1889 3584.5,-1889 3590.5,-1889 3596.5,-1895 3596.5,-1901 3596.5,-1901 3596.5,-1960 3596.5,-1960 3596.5,-1966 3590.5,-1972 3584.5,-1972\"/>\n<text text-anchor=\"start\" x=\"3482.5\" y=\"-1956.8\" font-family=\"Helvetica,sans-Serif\" font-size=\"14.00\" fill=\"#000000\">Glucose ≤ 178.5</text>\n<text text-anchor=\"start\" x=\"3484.5\" y=\"-1941.8\" font-family=\"Helvetica,sans-Serif\" font-size=\"14.00\" fill=\"#000000\">entropy = 0.474</text>\n<text text-anchor=\"start\" x=\"3491.5\" y=\"-1926.8\" font-family=\"Helvetica,sans-Serif\" font-size=\"14.00\" fill=\"#000000\">samples = 59</text>\n<text text-anchor=\"start\" x=\"3490\" y=\"-1911.8\" font-family=\"Helvetica,sans-Serif\" font-size=\"14.00\" fill=\"#000000\">value = [6, 53]</text>\n<text text-anchor=\"start\" x=\"3499\" y=\"-1896.8\" font-family=\"Helvetica,sans-Serif\" font-size=\"14.00\" fill=\"#000000\">class = sim</text>\n</g>\n<!-- 140&#45;&gt;174 -->\n<g id=\"edge174\" class=\"edge\">\n<title>140&#45;&gt;174</title>\n<path fill=\"none\" stroke=\"#000000\" d=\"M3182.5871,-2031.9411C3257.7581,-2010.334 3385.1622,-1973.713 3464.5808,-1950.885\"/>\n<polygon fill=\"#000000\" stroke=\"#000000\" points=\"3465.8559,-1954.1603 3474.4998,-1948.0339 3463.922,-1947.4327 3465.8559,-1954.1603\"/>\n</g>\n<!-- 142 -->\n<g id=\"node143\" class=\"node\">\n<title>142</title>\n<path fill=\"#e9965a\" stroke=\"#000000\" d=\"M3090.5,-1853C3090.5,-1853 2996.5,-1853 2996.5,-1853 2990.5,-1853 2984.5,-1847 2984.5,-1841 2984.5,-1841 2984.5,-1782 2984.5,-1782 2984.5,-1776 2990.5,-1770 2996.5,-1770 2996.5,-1770 3090.5,-1770 3090.5,-1770 3096.5,-1770 3102.5,-1776 3102.5,-1782 3102.5,-1782 3102.5,-1841 3102.5,-1841 3102.5,-1847 3096.5,-1853 3090.5,-1853\"/>\n<text text-anchor=\"start\" x=\"3008.5\" y=\"-1837.8\" font-family=\"Helvetica,sans-Serif\" font-size=\"14.00\" fill=\"#000000\">Age ≤ 21.5</text>\n<text text-anchor=\"start\" x=\"2992.5\" y=\"-1822.8\" font-family=\"Helvetica,sans-Serif\" font-size=\"14.00\" fill=\"#000000\">entropy = 0.592</text>\n<text text-anchor=\"start\" x=\"3004\" y=\"-1807.8\" font-family=\"Helvetica,sans-Serif\" font-size=\"14.00\" fill=\"#000000\">samples = 7</text>\n<text text-anchor=\"start\" x=\"3002\" y=\"-1792.8\" font-family=\"Helvetica,sans-Serif\" font-size=\"14.00\" fill=\"#000000\">value = [6, 1]</text>\n<text text-anchor=\"start\" x=\"3006\" y=\"-1777.8\" font-family=\"Helvetica,sans-Serif\" font-size=\"14.00\" fill=\"#000000\">class = não</text>\n</g>\n<!-- 141&#45;&gt;142 -->\n<g id=\"edge142\" class=\"edge\">\n<title>141&#45;&gt;142</title>\n<path fill=\"none\" stroke=\"#000000\" d=\"M3094.2194,-1888.8796C3088.4932,-1880.1434 3082.3954,-1870.8404 3076.4863,-1861.8253\"/>\n<polygon fill=\"#000000\" stroke=\"#000000\" points=\"3079.3063,-1859.7429 3070.8971,-1853.2981 3073.4518,-1863.5803 3079.3063,-1859.7429\"/>\n</g>\n<!-- 145 -->\n<g id=\"node146\" class=\"node\">\n<title>145</title>\n<path fill=\"#97cbf1\" stroke=\"#000000\" d=\"M3264,-1853C3264,-1853 3133,-1853 3133,-1853 3127,-1853 3121,-1847 3121,-1841 3121,-1841 3121,-1782 3121,-1782 3121,-1776 3127,-1770 3133,-1770 3133,-1770 3264,-1770 3264,-1770 3270,-1770 3276,-1776 3276,-1782 3276,-1782 3276,-1841 3276,-1841 3276,-1847 3270,-1853 3264,-1853\"/>\n<text text-anchor=\"start\" x=\"3129\" y=\"-1837.8\" font-family=\"Helvetica,sans-Serif\" font-size=\"14.00\" fill=\"#000000\">SkinThickness ≤ 23.0</text>\n<text text-anchor=\"start\" x=\"3147.5\" y=\"-1822.8\" font-family=\"Helvetica,sans-Serif\" font-size=\"14.00\" fill=\"#000000\">entropy = 0.906</text>\n<text text-anchor=\"start\" x=\"3154.5\" y=\"-1807.8\" font-family=\"Helvetica,sans-Serif\" font-size=\"14.00\" fill=\"#000000\">samples = 56</text>\n<text text-anchor=\"start\" x=\"3148.5\" y=\"-1792.8\" font-family=\"Helvetica,sans-Serif\" font-size=\"14.00\" fill=\"#000000\">value = [18, 38]</text>\n<text text-anchor=\"start\" x=\"3162\" y=\"-1777.8\" font-family=\"Helvetica,sans-Serif\" font-size=\"14.00\" fill=\"#000000\">class = sim</text>\n</g>\n<!-- 141&#45;&gt;145 -->\n<g id=\"edge145\" class=\"edge\">\n<title>141&#45;&gt;145</title>\n<path fill=\"none\" stroke=\"#000000\" d=\"M3148.4309,-1888.8796C3154.0837,-1880.1434 3160.1033,-1870.8404 3165.9366,-1861.8253\"/>\n<polygon fill=\"#000000\" stroke=\"#000000\" points=\"3168.9601,-1863.5952 3171.4542,-1853.2981 3163.0831,-1859.7924 3168.9601,-1863.5952\"/>\n</g>\n<!-- 143 -->\n<g id=\"node144\" class=\"node\">\n<title>143</title>\n<path fill=\"#399de5\" stroke=\"#000000\" d=\"M2972,-1726.5C2972,-1726.5 2895,-1726.5 2895,-1726.5 2889,-1726.5 2883,-1720.5 2883,-1714.5 2883,-1714.5 2883,-1670.5 2883,-1670.5 2883,-1664.5 2889,-1658.5 2895,-1658.5 2895,-1658.5 2972,-1658.5 2972,-1658.5 2978,-1658.5 2984,-1664.5 2984,-1670.5 2984,-1670.5 2984,-1714.5 2984,-1714.5 2984,-1720.5 2978,-1726.5 2972,-1726.5\"/>\n<text text-anchor=\"start\" x=\"2891\" y=\"-1711.3\" font-family=\"Helvetica,sans-Serif\" font-size=\"14.00\" fill=\"#000000\">entropy = 0.0</text>\n<text text-anchor=\"start\" x=\"2894\" y=\"-1696.3\" font-family=\"Helvetica,sans-Serif\" font-size=\"14.00\" fill=\"#000000\">samples = 1</text>\n<text text-anchor=\"start\" x=\"2892\" y=\"-1681.3\" font-family=\"Helvetica,sans-Serif\" font-size=\"14.00\" fill=\"#000000\">value = [0, 1]</text>\n<text text-anchor=\"start\" x=\"2897\" y=\"-1666.3\" font-family=\"Helvetica,sans-Serif\" font-size=\"14.00\" fill=\"#000000\">class = sim</text>\n</g>\n<!-- 142&#45;&gt;143 -->\n<g id=\"edge143\" class=\"edge\">\n<title>142&#45;&gt;143</title>\n<path fill=\"none\" stroke=\"#000000\" d=\"M3005.0273,-1769.8796C2994.3547,-1758.3337 2982.7667,-1745.7976 2972.0875,-1734.2446\"/>\n<polygon fill=\"#000000\" stroke=\"#000000\" points=\"2974.5778,-1731.7825 2965.2197,-1726.8149 2969.4375,-1736.534 2974.5778,-1731.7825\"/>\n</g>\n<!-- 144 -->\n<g id=\"node145\" class=\"node\">\n<title>144</title>\n<path fill=\"#e58139\" stroke=\"#000000\" d=\"M3091,-1726.5C3091,-1726.5 3014,-1726.5 3014,-1726.5 3008,-1726.5 3002,-1720.5 3002,-1714.5 3002,-1714.5 3002,-1670.5 3002,-1670.5 3002,-1664.5 3008,-1658.5 3014,-1658.5 3014,-1658.5 3091,-1658.5 3091,-1658.5 3097,-1658.5 3103,-1664.5 3103,-1670.5 3103,-1670.5 3103,-1714.5 3103,-1714.5 3103,-1720.5 3097,-1726.5 3091,-1726.5\"/>\n<text text-anchor=\"start\" x=\"3010\" y=\"-1711.3\" font-family=\"Helvetica,sans-Serif\" font-size=\"14.00\" fill=\"#000000\">entropy = 0.0</text>\n<text text-anchor=\"start\" x=\"3013\" y=\"-1696.3\" font-family=\"Helvetica,sans-Serif\" font-size=\"14.00\" fill=\"#000000\">samples = 6</text>\n<text text-anchor=\"start\" x=\"3011\" y=\"-1681.3\" font-family=\"Helvetica,sans-Serif\" font-size=\"14.00\" fill=\"#000000\">value = [6, 0]</text>\n<text text-anchor=\"start\" x=\"3015\" y=\"-1666.3\" font-family=\"Helvetica,sans-Serif\" font-size=\"14.00\" fill=\"#000000\">class = não</text>\n</g>\n<!-- 142&#45;&gt;144 -->\n<g id=\"edge144\" class=\"edge\">\n<title>142&#45;&gt;144</title>\n<path fill=\"none\" stroke=\"#000000\" d=\"M3046.6478,-1769.8796C3047.4545,-1759.2134 3048.3251,-1747.7021 3049.1419,-1736.9015\"/>\n<polygon fill=\"#000000\" stroke=\"#000000\" points=\"3052.6405,-1737.0504 3049.9048,-1726.8149 3045.6605,-1736.5225 3052.6405,-1737.0504\"/>\n</g>\n<!-- 146 -->\n<g id=\"node147\" class=\"node\">\n<title>146</title>\n<path fill=\"#399de5\" stroke=\"#000000\" d=\"M3228,-1726.5C3228,-1726.5 3151,-1726.5 3151,-1726.5 3145,-1726.5 3139,-1720.5 3139,-1714.5 3139,-1714.5 3139,-1670.5 3139,-1670.5 3139,-1664.5 3145,-1658.5 3151,-1658.5 3151,-1658.5 3228,-1658.5 3228,-1658.5 3234,-1658.5 3240,-1664.5 3240,-1670.5 3240,-1670.5 3240,-1714.5 3240,-1714.5 3240,-1720.5 3234,-1726.5 3228,-1726.5\"/>\n<text text-anchor=\"start\" x=\"3147\" y=\"-1711.3\" font-family=\"Helvetica,sans-Serif\" font-size=\"14.00\" fill=\"#000000\">entropy = 0.0</text>\n<text text-anchor=\"start\" x=\"3150\" y=\"-1696.3\" font-family=\"Helvetica,sans-Serif\" font-size=\"14.00\" fill=\"#000000\">samples = 5</text>\n<text text-anchor=\"start\" x=\"3148\" y=\"-1681.3\" font-family=\"Helvetica,sans-Serif\" font-size=\"14.00\" fill=\"#000000\">value = [0, 5]</text>\n<text text-anchor=\"start\" x=\"3153\" y=\"-1666.3\" font-family=\"Helvetica,sans-Serif\" font-size=\"14.00\" fill=\"#000000\">class = sim</text>\n</g>\n<!-- 145&#45;&gt;146 -->\n<g id=\"edge146\" class=\"edge\">\n<title>145&#45;&gt;146</title>\n<path fill=\"none\" stroke=\"#000000\" d=\"M3195.3522,-1769.8796C3194.5455,-1759.2134 3193.6749,-1747.7021 3192.8581,-1736.9015\"/>\n<polygon fill=\"#000000\" stroke=\"#000000\" points=\"3196.3395,-1736.5225 3192.0952,-1726.8149 3189.3595,-1737.0504 3196.3395,-1736.5225\"/>\n</g>\n<!-- 147 -->\n<g id=\"node148\" class=\"node\">\n<title>147</title>\n<path fill=\"#a5d2f3\" stroke=\"#000000\" d=\"M3364.5,-1734C3364.5,-1734 3270.5,-1734 3270.5,-1734 3264.5,-1734 3258.5,-1728 3258.5,-1722 3258.5,-1722 3258.5,-1663 3258.5,-1663 3258.5,-1657 3264.5,-1651 3270.5,-1651 3270.5,-1651 3364.5,-1651 3364.5,-1651 3370.5,-1651 3376.5,-1657 3376.5,-1663 3376.5,-1663 3376.5,-1722 3376.5,-1722 3376.5,-1728 3370.5,-1734 3364.5,-1734\"/>\n<text text-anchor=\"start\" x=\"3278.5\" y=\"-1718.8\" font-family=\"Helvetica,sans-Serif\" font-size=\"14.00\" fill=\"#000000\">BMI ≤ 30.15</text>\n<text text-anchor=\"start\" x=\"3266.5\" y=\"-1703.8\" font-family=\"Helvetica,sans-Serif\" font-size=\"14.00\" fill=\"#000000\">entropy = 0.937</text>\n<text text-anchor=\"start\" x=\"3273.5\" y=\"-1688.8\" font-family=\"Helvetica,sans-Serif\" font-size=\"14.00\" fill=\"#000000\">samples = 51</text>\n<text text-anchor=\"start\" x=\"3267.5\" y=\"-1673.8\" font-family=\"Helvetica,sans-Serif\" font-size=\"14.00\" fill=\"#000000\">value = [18, 33]</text>\n<text text-anchor=\"start\" x=\"3281\" y=\"-1658.8\" font-family=\"Helvetica,sans-Serif\" font-size=\"14.00\" fill=\"#000000\">class = sim</text>\n</g>\n<!-- 145&#45;&gt;147 -->\n<g id=\"edge147\" class=\"edge\">\n<title>145&#45;&gt;147</title>\n<path fill=\"none\" stroke=\"#000000\" d=\"M3240.1204,-1769.8796C3249.3069,-1760.6931 3259.1202,-1750.8798 3268.5664,-1741.4336\"/>\n<polygon fill=\"#000000\" stroke=\"#000000\" points=\"3271.1057,-1743.8441 3275.7019,-1734.2981 3266.1559,-1738.8943 3271.1057,-1743.8441\"/>\n</g>\n<!-- 148 -->\n<g id=\"node149\" class=\"node\">\n<title>148</title>\n<path fill=\"#f8e0ce\" stroke=\"#000000\" d=\"M3252.5,-1615C3252.5,-1615 3158.5,-1615 3158.5,-1615 3152.5,-1615 3146.5,-1609 3146.5,-1603 3146.5,-1603 3146.5,-1544 3146.5,-1544 3146.5,-1538 3152.5,-1532 3158.5,-1532 3158.5,-1532 3252.5,-1532 3252.5,-1532 3258.5,-1532 3264.5,-1538 3264.5,-1544 3264.5,-1544 3264.5,-1603 3264.5,-1603 3264.5,-1609 3258.5,-1615 3252.5,-1615\"/>\n<text text-anchor=\"start\" x=\"3170.5\" y=\"-1599.8\" font-family=\"Helvetica,sans-Serif\" font-size=\"14.00\" fill=\"#000000\">Age ≤ 40.5</text>\n<text text-anchor=\"start\" x=\"3154.5\" y=\"-1584.8\" font-family=\"Helvetica,sans-Serif\" font-size=\"14.00\" fill=\"#000000\">entropy = 0.985</text>\n<text text-anchor=\"start\" x=\"3161.5\" y=\"-1569.8\" font-family=\"Helvetica,sans-Serif\" font-size=\"14.00\" fill=\"#000000\">samples = 14</text>\n<text text-anchor=\"start\" x=\"3164\" y=\"-1554.8\" font-family=\"Helvetica,sans-Serif\" font-size=\"14.00\" fill=\"#000000\">value = [8, 6]</text>\n<text text-anchor=\"start\" x=\"3168\" y=\"-1539.8\" font-family=\"Helvetica,sans-Serif\" font-size=\"14.00\" fill=\"#000000\">class = não</text>\n</g>\n<!-- 147&#45;&gt;148 -->\n<g id=\"edge148\" class=\"edge\">\n<title>147&#45;&gt;148</title>\n<path fill=\"none\" stroke=\"#000000\" d=\"M3278.3278,-1650.8796C3269.7665,-1641.7832 3260.6268,-1632.0722 3251.8168,-1622.7116\"/>\n<polygon fill=\"#000000\" stroke=\"#000000\" points=\"3254.2417,-1620.1813 3244.8394,-1615.2981 3249.1443,-1624.9789 3254.2417,-1620.1813\"/>\n</g>\n<!-- 157 -->\n<g id=\"node158\" class=\"node\">\n<title>157</title>\n<path fill=\"#82c1ef\" stroke=\"#000000\" d=\"M3492.5,-1615C3492.5,-1615 3398.5,-1615 3398.5,-1615 3392.5,-1615 3386.5,-1609 3386.5,-1603 3386.5,-1603 3386.5,-1544 3386.5,-1544 3386.5,-1538 3392.5,-1532 3398.5,-1532 3398.5,-1532 3492.5,-1532 3492.5,-1532 3498.5,-1532 3504.5,-1538 3504.5,-1544 3504.5,-1544 3504.5,-1603 3504.5,-1603 3504.5,-1609 3498.5,-1615 3492.5,-1615\"/>\n<text text-anchor=\"start\" x=\"3410.5\" y=\"-1599.8\" font-family=\"Helvetica,sans-Serif\" font-size=\"14.00\" fill=\"#000000\">Age ≤ 49.5</text>\n<text text-anchor=\"start\" x=\"3394.5\" y=\"-1584.8\" font-family=\"Helvetica,sans-Serif\" font-size=\"14.00\" fill=\"#000000\">entropy = 0.842</text>\n<text text-anchor=\"start\" x=\"3401.5\" y=\"-1569.8\" font-family=\"Helvetica,sans-Serif\" font-size=\"14.00\" fill=\"#000000\">samples = 37</text>\n<text text-anchor=\"start\" x=\"3395.5\" y=\"-1554.8\" font-family=\"Helvetica,sans-Serif\" font-size=\"14.00\" fill=\"#000000\">value = [10, 27]</text>\n<text text-anchor=\"start\" x=\"3409\" y=\"-1539.8\" font-family=\"Helvetica,sans-Serif\" font-size=\"14.00\" fill=\"#000000\">class = sim</text>\n</g>\n<!-- 147&#45;&gt;157 -->\n<g id=\"edge157\" class=\"edge\">\n<title>147&#45;&gt;157</title>\n<path fill=\"none\" stroke=\"#000000\" d=\"M3362.2682,-1650.8796C3372.2463,-1641.6031 3382.9119,-1631.6874 3393.1642,-1622.1559\"/>\n<polygon fill=\"#000000\" stroke=\"#000000\" points=\"3395.6,-1624.6704 3400.5407,-1615.2981 3390.8337,-1619.5436 3395.6,-1624.6704\"/>\n</g>\n<!-- 149 -->\n<g id=\"node150\" class=\"node\">\n<title>149</title>\n<path fill=\"#e9965a\" stroke=\"#000000\" d=\"M3065.5,-1496C3065.5,-1496 2971.5,-1496 2971.5,-1496 2965.5,-1496 2959.5,-1490 2959.5,-1484 2959.5,-1484 2959.5,-1425 2959.5,-1425 2959.5,-1419 2965.5,-1413 2971.5,-1413 2971.5,-1413 3065.5,-1413 3065.5,-1413 3071.5,-1413 3077.5,-1419 3077.5,-1425 3077.5,-1425 3077.5,-1484 3077.5,-1484 3077.5,-1490 3071.5,-1496 3065.5,-1496\"/>\n<text text-anchor=\"start\" x=\"2983.5\" y=\"-1480.8\" font-family=\"Helvetica,sans-Serif\" font-size=\"14.00\" fill=\"#000000\">BMI ≤ 28.4</text>\n<text text-anchor=\"start\" x=\"2967.5\" y=\"-1465.8\" font-family=\"Helvetica,sans-Serif\" font-size=\"14.00\" fill=\"#000000\">entropy = 0.592</text>\n<text text-anchor=\"start\" x=\"2979\" y=\"-1450.8\" font-family=\"Helvetica,sans-Serif\" font-size=\"14.00\" fill=\"#000000\">samples = 7</text>\n<text text-anchor=\"start\" x=\"2977\" y=\"-1435.8\" font-family=\"Helvetica,sans-Serif\" font-size=\"14.00\" fill=\"#000000\">value = [6, 1]</text>\n<text text-anchor=\"start\" x=\"2981\" y=\"-1420.8\" font-family=\"Helvetica,sans-Serif\" font-size=\"14.00\" fill=\"#000000\">class = não</text>\n</g>\n<!-- 148&#45;&gt;149 -->\n<g id=\"edge149\" class=\"edge\">\n<title>148&#45;&gt;149</title>\n<path fill=\"none\" stroke=\"#000000\" d=\"M3146.332,-1535.8477C3127.2242,-1523.6881 3105.8949,-1510.1149 3086.2181,-1497.5933\"/>\n<polygon fill=\"#000000\" stroke=\"#000000\" points=\"3087.9195,-1494.5275 3077.6038,-1492.1115 3084.1613,-1500.4331 3087.9195,-1494.5275\"/>\n</g>\n<!-- 154 -->\n<g id=\"node155\" class=\"node\">\n<title>154</title>\n<path fill=\"#88c4ef\" stroke=\"#000000\" d=\"M3252.5,-1496C3252.5,-1496 3158.5,-1496 3158.5,-1496 3152.5,-1496 3146.5,-1490 3146.5,-1484 3146.5,-1484 3146.5,-1425 3146.5,-1425 3146.5,-1419 3152.5,-1413 3158.5,-1413 3158.5,-1413 3252.5,-1413 3252.5,-1413 3258.5,-1413 3264.5,-1419 3264.5,-1425 3264.5,-1425 3264.5,-1484 3264.5,-1484 3264.5,-1490 3258.5,-1496 3252.5,-1496\"/>\n<text text-anchor=\"start\" x=\"3170.5\" y=\"-1480.8\" font-family=\"Helvetica,sans-Serif\" font-size=\"14.00\" fill=\"#000000\">Age ≤ 53.5</text>\n<text text-anchor=\"start\" x=\"3154.5\" y=\"-1465.8\" font-family=\"Helvetica,sans-Serif\" font-size=\"14.00\" fill=\"#000000\">entropy = 0.863</text>\n<text text-anchor=\"start\" x=\"3166\" y=\"-1450.8\" font-family=\"Helvetica,sans-Serif\" font-size=\"14.00\" fill=\"#000000\">samples = 7</text>\n<text text-anchor=\"start\" x=\"3164\" y=\"-1435.8\" font-family=\"Helvetica,sans-Serif\" font-size=\"14.00\" fill=\"#000000\">value = [2, 5]</text>\n<text text-anchor=\"start\" x=\"3169\" y=\"-1420.8\" font-family=\"Helvetica,sans-Serif\" font-size=\"14.00\" fill=\"#000000\">class = sim</text>\n</g>\n<!-- 148&#45;&gt;154 -->\n<g id=\"edge154\" class=\"edge\">\n<title>148&#45;&gt;154</title>\n<path fill=\"none\" stroke=\"#000000\" d=\"M3205.5,-1531.8796C3205.5,-1523.6838 3205.5,-1514.9891 3205.5,-1506.5013\"/>\n<polygon fill=\"#000000\" stroke=\"#000000\" points=\"3209.0001,-1506.298 3205.5,-1496.2981 3202.0001,-1506.2981 3209.0001,-1506.298\"/>\n</g>\n<!-- 150 -->\n<g id=\"node151\" class=\"node\">\n<title>150</title>\n<path fill=\"#ffffff\" stroke=\"#000000\" d=\"M2938,-1377C2938,-1377 2861,-1377 2861,-1377 2855,-1377 2849,-1371 2849,-1365 2849,-1365 2849,-1306 2849,-1306 2849,-1300 2855,-1294 2861,-1294 2861,-1294 2938,-1294 2938,-1294 2944,-1294 2950,-1300 2950,-1306 2950,-1306 2950,-1365 2950,-1365 2950,-1371 2944,-1377 2938,-1377\"/>\n<text text-anchor=\"start\" x=\"2860.5\" y=\"-1361.8\" font-family=\"Helvetica,sans-Serif\" font-size=\"14.00\" fill=\"#000000\">BMI ≤ 24.25</text>\n<text text-anchor=\"start\" x=\"2857\" y=\"-1346.8\" font-family=\"Helvetica,sans-Serif\" font-size=\"14.00\" fill=\"#000000\">entropy = 1.0</text>\n<text text-anchor=\"start\" x=\"2860\" y=\"-1331.8\" font-family=\"Helvetica,sans-Serif\" font-size=\"14.00\" fill=\"#000000\">samples = 2</text>\n<text text-anchor=\"start\" x=\"2858\" y=\"-1316.8\" font-family=\"Helvetica,sans-Serif\" font-size=\"14.00\" fill=\"#000000\">value = [1, 1]</text>\n<text text-anchor=\"start\" x=\"2862\" y=\"-1301.8\" font-family=\"Helvetica,sans-Serif\" font-size=\"14.00\" fill=\"#000000\">class = não</text>\n</g>\n<!-- 149&#45;&gt;150 -->\n<g id=\"edge150\" class=\"edge\">\n<title>149&#45;&gt;150</title>\n<path fill=\"none\" stroke=\"#000000\" d=\"M2976.8796,-1412.8796C2967.6931,-1403.6931 2957.8798,-1393.8798 2948.4336,-1384.4336\"/>\n<polygon fill=\"#000000\" stroke=\"#000000\" points=\"2950.8441,-1381.8943 2941.2981,-1377.2981 2945.8943,-1386.8441 2950.8441,-1381.8943\"/>\n</g>\n<!-- 153 -->\n<g id=\"node154\" class=\"node\">\n<title>153</title>\n<path fill=\"#e58139\" stroke=\"#000000\" d=\"M3057,-1369.5C3057,-1369.5 2980,-1369.5 2980,-1369.5 2974,-1369.5 2968,-1363.5 2968,-1357.5 2968,-1357.5 2968,-1313.5 2968,-1313.5 2968,-1307.5 2974,-1301.5 2980,-1301.5 2980,-1301.5 3057,-1301.5 3057,-1301.5 3063,-1301.5 3069,-1307.5 3069,-1313.5 3069,-1313.5 3069,-1357.5 3069,-1357.5 3069,-1363.5 3063,-1369.5 3057,-1369.5\"/>\n<text text-anchor=\"start\" x=\"2976\" y=\"-1354.3\" font-family=\"Helvetica,sans-Serif\" font-size=\"14.00\" fill=\"#000000\">entropy = 0.0</text>\n<text text-anchor=\"start\" x=\"2979\" y=\"-1339.3\" font-family=\"Helvetica,sans-Serif\" font-size=\"14.00\" fill=\"#000000\">samples = 5</text>\n<text text-anchor=\"start\" x=\"2977\" y=\"-1324.3\" font-family=\"Helvetica,sans-Serif\" font-size=\"14.00\" fill=\"#000000\">value = [5, 0]</text>\n<text text-anchor=\"start\" x=\"2981\" y=\"-1309.3\" font-family=\"Helvetica,sans-Serif\" font-size=\"14.00\" fill=\"#000000\">class = não</text>\n</g>\n<!-- 149&#45;&gt;153 -->\n<g id=\"edge153\" class=\"edge\">\n<title>149&#45;&gt;153</title>\n<path fill=\"none\" stroke=\"#000000\" d=\"M3018.5,-1412.8796C3018.5,-1402.2134 3018.5,-1390.7021 3018.5,-1379.9015\"/>\n<polygon fill=\"#000000\" stroke=\"#000000\" points=\"3022.0001,-1379.8149 3018.5,-1369.8149 3015.0001,-1379.815 3022.0001,-1379.8149\"/>\n</g>\n<!-- 151 -->\n<g id=\"node152\" class=\"node\">\n<title>151</title>\n<path fill=\"#e58139\" stroke=\"#000000\" d=\"M2907,-1250.5C2907,-1250.5 2830,-1250.5 2830,-1250.5 2824,-1250.5 2818,-1244.5 2818,-1238.5 2818,-1238.5 2818,-1194.5 2818,-1194.5 2818,-1188.5 2824,-1182.5 2830,-1182.5 2830,-1182.5 2907,-1182.5 2907,-1182.5 2913,-1182.5 2919,-1188.5 2919,-1194.5 2919,-1194.5 2919,-1238.5 2919,-1238.5 2919,-1244.5 2913,-1250.5 2907,-1250.5\"/>\n<text text-anchor=\"start\" x=\"2826\" y=\"-1235.3\" font-family=\"Helvetica,sans-Serif\" font-size=\"14.00\" fill=\"#000000\">entropy = 0.0</text>\n<text text-anchor=\"start\" x=\"2829\" y=\"-1220.3\" font-family=\"Helvetica,sans-Serif\" font-size=\"14.00\" fill=\"#000000\">samples = 1</text>\n<text text-anchor=\"start\" x=\"2827\" y=\"-1205.3\" font-family=\"Helvetica,sans-Serif\" font-size=\"14.00\" fill=\"#000000\">value = [1, 0]</text>\n<text text-anchor=\"start\" x=\"2831\" y=\"-1190.3\" font-family=\"Helvetica,sans-Serif\" font-size=\"14.00\" fill=\"#000000\">class = não</text>\n</g>\n<!-- 150&#45;&gt;151 -->\n<g id=\"edge151\" class=\"edge\">\n<title>150&#45;&gt;151</title>\n<path fill=\"none\" stroke=\"#000000\" d=\"M2888.6577,-1293.8796C2885.8505,-1283.1034 2882.8185,-1271.4647 2879.9798,-1260.5677\"/>\n<polygon fill=\"#000000\" stroke=\"#000000\" points=\"2883.3471,-1259.6096 2877.4392,-1250.8149 2876.5732,-1261.3743 2883.3471,-1259.6096\"/>\n</g>\n<!-- 152 -->\n<g id=\"node153\" class=\"node\">\n<title>152</title>\n<path fill=\"#399de5\" stroke=\"#000000\" d=\"M3026,-1250.5C3026,-1250.5 2949,-1250.5 2949,-1250.5 2943,-1250.5 2937,-1244.5 2937,-1238.5 2937,-1238.5 2937,-1194.5 2937,-1194.5 2937,-1188.5 2943,-1182.5 2949,-1182.5 2949,-1182.5 3026,-1182.5 3026,-1182.5 3032,-1182.5 3038,-1188.5 3038,-1194.5 3038,-1194.5 3038,-1238.5 3038,-1238.5 3038,-1244.5 3032,-1250.5 3026,-1250.5\"/>\n<text text-anchor=\"start\" x=\"2945\" y=\"-1235.3\" font-family=\"Helvetica,sans-Serif\" font-size=\"14.00\" fill=\"#000000\">entropy = 0.0</text>\n<text text-anchor=\"start\" x=\"2948\" y=\"-1220.3\" font-family=\"Helvetica,sans-Serif\" font-size=\"14.00\" fill=\"#000000\">samples = 1</text>\n<text text-anchor=\"start\" x=\"2946\" y=\"-1205.3\" font-family=\"Helvetica,sans-Serif\" font-size=\"14.00\" fill=\"#000000\">value = [0, 1]</text>\n<text text-anchor=\"start\" x=\"2951\" y=\"-1190.3\" font-family=\"Helvetica,sans-Serif\" font-size=\"14.00\" fill=\"#000000\">class = sim</text>\n</g>\n<!-- 150&#45;&gt;152 -->\n<g id=\"edge152\" class=\"edge\">\n<title>150&#45;&gt;152</title>\n<path fill=\"none\" stroke=\"#000000\" d=\"M2930.2781,-1293.8796C2938.6536,-1282.5536 2947.7338,-1270.2748 2956.1411,-1258.9058\"/>\n<polygon fill=\"#000000\" stroke=\"#000000\" points=\"2958.9925,-1260.9364 2962.1242,-1250.8149 2953.3643,-1256.7743 2958.9925,-1260.9364\"/>\n</g>\n<!-- 155 -->\n<g id=\"node156\" class=\"node\">\n<title>155</title>\n<path fill=\"#399de5\" stroke=\"#000000\" d=\"M3176,-1369.5C3176,-1369.5 3099,-1369.5 3099,-1369.5 3093,-1369.5 3087,-1363.5 3087,-1357.5 3087,-1357.5 3087,-1313.5 3087,-1313.5 3087,-1307.5 3093,-1301.5 3099,-1301.5 3099,-1301.5 3176,-1301.5 3176,-1301.5 3182,-1301.5 3188,-1307.5 3188,-1313.5 3188,-1313.5 3188,-1357.5 3188,-1357.5 3188,-1363.5 3182,-1369.5 3176,-1369.5\"/>\n<text text-anchor=\"start\" x=\"3095\" y=\"-1354.3\" font-family=\"Helvetica,sans-Serif\" font-size=\"14.00\" fill=\"#000000\">entropy = 0.0</text>\n<text text-anchor=\"start\" x=\"3098\" y=\"-1339.3\" font-family=\"Helvetica,sans-Serif\" font-size=\"14.00\" fill=\"#000000\">samples = 5</text>\n<text text-anchor=\"start\" x=\"3096\" y=\"-1324.3\" font-family=\"Helvetica,sans-Serif\" font-size=\"14.00\" fill=\"#000000\">value = [0, 5]</text>\n<text text-anchor=\"start\" x=\"3101\" y=\"-1309.3\" font-family=\"Helvetica,sans-Serif\" font-size=\"14.00\" fill=\"#000000\">class = sim</text>\n</g>\n<!-- 154&#45;&gt;155 -->\n<g id=\"edge155\" class=\"edge\">\n<title>154&#45;&gt;155</title>\n<path fill=\"none\" stroke=\"#000000\" d=\"M3181.7169,-1412.8796C3175.3706,-1401.7735 3168.5007,-1389.7513 3162.1109,-1378.5691\"/>\n<polygon fill=\"#000000\" stroke=\"#000000\" points=\"3165.1088,-1376.7609 3157.1085,-1369.8149 3159.0311,-1380.2339 3165.1088,-1376.7609\"/>\n</g>\n<!-- 156 -->\n<g id=\"node157\" class=\"node\">\n<title>156</title>\n<path fill=\"#e58139\" stroke=\"#000000\" d=\"M3295,-1369.5C3295,-1369.5 3218,-1369.5 3218,-1369.5 3212,-1369.5 3206,-1363.5 3206,-1357.5 3206,-1357.5 3206,-1313.5 3206,-1313.5 3206,-1307.5 3212,-1301.5 3218,-1301.5 3218,-1301.5 3295,-1301.5 3295,-1301.5 3301,-1301.5 3307,-1307.5 3307,-1313.5 3307,-1313.5 3307,-1357.5 3307,-1357.5 3307,-1363.5 3301,-1369.5 3295,-1369.5\"/>\n<text text-anchor=\"start\" x=\"3214\" y=\"-1354.3\" font-family=\"Helvetica,sans-Serif\" font-size=\"14.00\" fill=\"#000000\">entropy = 0.0</text>\n<text text-anchor=\"start\" x=\"3217\" y=\"-1339.3\" font-family=\"Helvetica,sans-Serif\" font-size=\"14.00\" fill=\"#000000\">samples = 2</text>\n<text text-anchor=\"start\" x=\"3215\" y=\"-1324.3\" font-family=\"Helvetica,sans-Serif\" font-size=\"14.00\" fill=\"#000000\">value = [2, 0]</text>\n<text text-anchor=\"start\" x=\"3219\" y=\"-1309.3\" font-family=\"Helvetica,sans-Serif\" font-size=\"14.00\" fill=\"#000000\">class = não</text>\n</g>\n<!-- 154&#45;&gt;156 -->\n<g id=\"edge156\" class=\"edge\">\n<title>154&#45;&gt;156</title>\n<path fill=\"none\" stroke=\"#000000\" d=\"M3223.3373,-1412.8796C3228.0028,-1401.9935 3233.0456,-1390.227 3237.7567,-1379.2344\"/>\n<polygon fill=\"#000000\" stroke=\"#000000\" points=\"3241.0714,-1380.3851 3241.7936,-1369.8149 3234.6373,-1377.6277 3241.0714,-1380.3851\"/>\n</g>\n<!-- 158 -->\n<g id=\"node159\" class=\"node\">\n<title>158</title>\n<path fill=\"#97ccf1\" stroke=\"#000000\" d=\"M3494.5,-1496C3494.5,-1496 3396.5,-1496 3396.5,-1496 3390.5,-1496 3384.5,-1490 3384.5,-1484 3384.5,-1484 3384.5,-1425 3384.5,-1425 3384.5,-1419 3390.5,-1413 3396.5,-1413 3396.5,-1413 3494.5,-1413 3494.5,-1413 3500.5,-1413 3506.5,-1419 3506.5,-1425 3506.5,-1425 3506.5,-1484 3506.5,-1484 3506.5,-1490 3500.5,-1496 3494.5,-1496\"/>\n<text text-anchor=\"start\" x=\"3392.5\" y=\"-1480.8\" font-family=\"Helvetica,sans-Serif\" font-size=\"14.00\" fill=\"#000000\">Glucose ≤ 154.5</text>\n<text text-anchor=\"start\" x=\"3394.5\" y=\"-1465.8\" font-family=\"Helvetica,sans-Serif\" font-size=\"14.00\" fill=\"#000000\">entropy = 0.907</text>\n<text text-anchor=\"start\" x=\"3401.5\" y=\"-1450.8\" font-family=\"Helvetica,sans-Serif\" font-size=\"14.00\" fill=\"#000000\">samples = 31</text>\n<text text-anchor=\"start\" x=\"3395.5\" y=\"-1435.8\" font-family=\"Helvetica,sans-Serif\" font-size=\"14.00\" fill=\"#000000\">value = [10, 21]</text>\n<text text-anchor=\"start\" x=\"3409\" y=\"-1420.8\" font-family=\"Helvetica,sans-Serif\" font-size=\"14.00\" fill=\"#000000\">class = sim</text>\n</g>\n<!-- 157&#45;&gt;158 -->\n<g id=\"edge158\" class=\"edge\">\n<title>157&#45;&gt;158</title>\n<path fill=\"none\" stroke=\"#000000\" d=\"M3445.5,-1531.8796C3445.5,-1523.6838 3445.5,-1514.9891 3445.5,-1506.5013\"/>\n<polygon fill=\"#000000\" stroke=\"#000000\" points=\"3449.0001,-1506.298 3445.5,-1496.2981 3442.0001,-1506.2981 3449.0001,-1506.298\"/>\n</g>\n<!-- 173 -->\n<g id=\"node174\" class=\"node\">\n<title>173</title>\n<path fill=\"#399de5\" stroke=\"#000000\" d=\"M3614,-1488.5C3614,-1488.5 3537,-1488.5 3537,-1488.5 3531,-1488.5 3525,-1482.5 3525,-1476.5 3525,-1476.5 3525,-1432.5 3525,-1432.5 3525,-1426.5 3531,-1420.5 3537,-1420.5 3537,-1420.5 3614,-1420.5 3614,-1420.5 3620,-1420.5 3626,-1426.5 3626,-1432.5 3626,-1432.5 3626,-1476.5 3626,-1476.5 3626,-1482.5 3620,-1488.5 3614,-1488.5\"/>\n<text text-anchor=\"start\" x=\"3533\" y=\"-1473.3\" font-family=\"Helvetica,sans-Serif\" font-size=\"14.00\" fill=\"#000000\">entropy = 0.0</text>\n<text text-anchor=\"start\" x=\"3536\" y=\"-1458.3\" font-family=\"Helvetica,sans-Serif\" font-size=\"14.00\" fill=\"#000000\">samples = 6</text>\n<text text-anchor=\"start\" x=\"3534\" y=\"-1443.3\" font-family=\"Helvetica,sans-Serif\" font-size=\"14.00\" fill=\"#000000\">value = [0, 6]</text>\n<text text-anchor=\"start\" x=\"3539\" y=\"-1428.3\" font-family=\"Helvetica,sans-Serif\" font-size=\"14.00\" fill=\"#000000\">class = sim</text>\n</g>\n<!-- 157&#45;&gt;173 -->\n<g id=\"edge173\" class=\"edge\">\n<title>157&#45;&gt;173</title>\n<path fill=\"none\" stroke=\"#000000\" d=\"M3490.9677,-1531.8796C3503.8211,-1520.1138 3517.7979,-1507.3197 3530.6166,-1495.5855\"/>\n<polygon fill=\"#000000\" stroke=\"#000000\" points=\"3533.0001,-1498.1488 3538.0131,-1488.8149 3528.2736,-1492.9854 3533.0001,-1498.1488\"/>\n</g>\n<!-- 159 -->\n<g id=\"node160\" class=\"node\">\n<title>159</title>\n<path fill=\"#e6f3fc\" stroke=\"#000000\" d=\"M3554,-1377C3554,-1377 3337,-1377 3337,-1377 3331,-1377 3325,-1371 3325,-1365 3325,-1365 3325,-1306 3325,-1306 3325,-1300 3331,-1294 3337,-1294 3337,-1294 3554,-1294 3554,-1294 3560,-1294 3566,-1300 3566,-1306 3566,-1306 3566,-1365 3566,-1365 3566,-1371 3560,-1377 3554,-1377\"/>\n<text text-anchor=\"start\" x=\"3333\" y=\"-1361.8\" font-family=\"Helvetica,sans-Serif\" font-size=\"14.00\" fill=\"#000000\">DiabetesPedigreeFunction ≤ 0.664</text>\n<text text-anchor=\"start\" x=\"3394.5\" y=\"-1346.8\" font-family=\"Helvetica,sans-Serif\" font-size=\"14.00\" fill=\"#000000\">entropy = 0.997</text>\n<text text-anchor=\"start\" x=\"3401.5\" y=\"-1331.8\" font-family=\"Helvetica,sans-Serif\" font-size=\"14.00\" fill=\"#000000\">samples = 15</text>\n<text text-anchor=\"start\" x=\"3404\" y=\"-1316.8\" font-family=\"Helvetica,sans-Serif\" font-size=\"14.00\" fill=\"#000000\">value = [7, 8]</text>\n<text text-anchor=\"start\" x=\"3409\" y=\"-1301.8\" font-family=\"Helvetica,sans-Serif\" font-size=\"14.00\" fill=\"#000000\">class = sim</text>\n</g>\n<!-- 158&#45;&gt;159 -->\n<g id=\"edge159\" class=\"edge\">\n<title>158&#45;&gt;159</title>\n<path fill=\"none\" stroke=\"#000000\" d=\"M3445.5,-1412.8796C3445.5,-1404.6838 3445.5,-1395.9891 3445.5,-1387.5013\"/>\n<polygon fill=\"#000000\" stroke=\"#000000\" points=\"3449.0001,-1387.298 3445.5,-1377.2981 3442.0001,-1387.2981 3449.0001,-1387.298\"/>\n</g>\n<!-- 166 -->\n<g id=\"node167\" class=\"node\">\n<title>166</title>\n<path fill=\"#67b4eb\" stroke=\"#000000\" d=\"M3690.5,-1377C3690.5,-1377 3596.5,-1377 3596.5,-1377 3590.5,-1377 3584.5,-1371 3584.5,-1365 3584.5,-1365 3584.5,-1306 3584.5,-1306 3584.5,-1300 3590.5,-1294 3596.5,-1294 3596.5,-1294 3690.5,-1294 3690.5,-1294 3696.5,-1294 3702.5,-1300 3702.5,-1306 3702.5,-1306 3702.5,-1365 3702.5,-1365 3702.5,-1371 3696.5,-1377 3690.5,-1377\"/>\n<text text-anchor=\"start\" x=\"3596.5\" y=\"-1361.8\" font-family=\"Helvetica,sans-Serif\" font-size=\"14.00\" fill=\"#000000\">Insulin ≤ 161.5</text>\n<text text-anchor=\"start\" x=\"3592.5\" y=\"-1346.8\" font-family=\"Helvetica,sans-Serif\" font-size=\"14.00\" fill=\"#000000\">entropy = 0.696</text>\n<text text-anchor=\"start\" x=\"3599.5\" y=\"-1331.8\" font-family=\"Helvetica,sans-Serif\" font-size=\"14.00\" fill=\"#000000\">samples = 16</text>\n<text text-anchor=\"start\" x=\"3598\" y=\"-1316.8\" font-family=\"Helvetica,sans-Serif\" font-size=\"14.00\" fill=\"#000000\">value = [3, 13]</text>\n<text text-anchor=\"start\" x=\"3607\" y=\"-1301.8\" font-family=\"Helvetica,sans-Serif\" font-size=\"14.00\" fill=\"#000000\">class = sim</text>\n</g>\n<!-- 158&#45;&gt;166 -->\n<g id=\"edge166\" class=\"edge\">\n<title>158&#45;&gt;166</title>\n<path fill=\"none\" stroke=\"#000000\" d=\"M3506.5311,-1417.8424C3528.0167,-1404.9352 3552.3314,-1390.3258 3574.5,-1377 3574.9044,-1376.7569 3575.31,-1376.5131 3575.717,-1376.2685\"/>\n<polygon fill=\"#000000\" stroke=\"#000000\" points=\"3577.6391,-1379.1967 3584.4062,-1371.0446 3574.0323,-1373.1974 3577.6391,-1379.1967\"/>\n</g>\n<!-- 160 -->\n<g id=\"node161\" class=\"node\">\n<title>160</title>\n<path fill=\"#9ccef2\" stroke=\"#000000\" d=\"M3364.5,-1258C3364.5,-1258 3270.5,-1258 3270.5,-1258 3264.5,-1258 3258.5,-1252 3258.5,-1246 3258.5,-1246 3258.5,-1187 3258.5,-1187 3258.5,-1181 3264.5,-1175 3270.5,-1175 3270.5,-1175 3364.5,-1175 3364.5,-1175 3370.5,-1175 3376.5,-1181 3376.5,-1187 3376.5,-1187 3376.5,-1246 3376.5,-1246 3376.5,-1252 3370.5,-1258 3364.5,-1258\"/>\n<text text-anchor=\"start\" x=\"3270.5\" y=\"-1242.8\" font-family=\"Helvetica,sans-Serif\" font-size=\"14.00\" fill=\"#000000\">Insulin ≤ 219.0</text>\n<text text-anchor=\"start\" x=\"3266.5\" y=\"-1227.8\" font-family=\"Helvetica,sans-Serif\" font-size=\"14.00\" fill=\"#000000\">entropy = 0.918</text>\n<text text-anchor=\"start\" x=\"3273.5\" y=\"-1212.8\" font-family=\"Helvetica,sans-Serif\" font-size=\"14.00\" fill=\"#000000\">samples = 12</text>\n<text text-anchor=\"start\" x=\"3276\" y=\"-1197.8\" font-family=\"Helvetica,sans-Serif\" font-size=\"14.00\" fill=\"#000000\">value = [4, 8]</text>\n<text text-anchor=\"start\" x=\"3281\" y=\"-1182.8\" font-family=\"Helvetica,sans-Serif\" font-size=\"14.00\" fill=\"#000000\">class = sim</text>\n</g>\n<!-- 159&#45;&gt;160 -->\n<g id=\"edge160\" class=\"edge\">\n<title>159&#45;&gt;160</title>\n<path fill=\"none\" stroke=\"#000000\" d=\"M3400.7318,-1293.8796C3390.7537,-1284.6031 3380.0881,-1274.6874 3369.8358,-1265.1559\"/>\n<polygon fill=\"#000000\" stroke=\"#000000\" points=\"3372.1663,-1262.5436 3362.4593,-1258.2981 3367.4,-1267.6704 3372.1663,-1262.5436\"/>\n</g>\n<!-- 165 -->\n<g id=\"node166\" class=\"node\">\n<title>165</title>\n<path fill=\"#e58139\" stroke=\"#000000\" d=\"M3484,-1250.5C3484,-1250.5 3407,-1250.5 3407,-1250.5 3401,-1250.5 3395,-1244.5 3395,-1238.5 3395,-1238.5 3395,-1194.5 3395,-1194.5 3395,-1188.5 3401,-1182.5 3407,-1182.5 3407,-1182.5 3484,-1182.5 3484,-1182.5 3490,-1182.5 3496,-1188.5 3496,-1194.5 3496,-1194.5 3496,-1238.5 3496,-1238.5 3496,-1244.5 3490,-1250.5 3484,-1250.5\"/>\n<text text-anchor=\"start\" x=\"3403\" y=\"-1235.3\" font-family=\"Helvetica,sans-Serif\" font-size=\"14.00\" fill=\"#000000\">entropy = 0.0</text>\n<text text-anchor=\"start\" x=\"3406\" y=\"-1220.3\" font-family=\"Helvetica,sans-Serif\" font-size=\"14.00\" fill=\"#000000\">samples = 3</text>\n<text text-anchor=\"start\" x=\"3404\" y=\"-1205.3\" font-family=\"Helvetica,sans-Serif\" font-size=\"14.00\" fill=\"#000000\">value = [3, 0]</text>\n<text text-anchor=\"start\" x=\"3408\" y=\"-1190.3\" font-family=\"Helvetica,sans-Serif\" font-size=\"14.00\" fill=\"#000000\">class = não</text>\n</g>\n<!-- 159&#45;&gt;165 -->\n<g id=\"edge165\" class=\"edge\">\n<title>159&#45;&gt;165</title>\n<path fill=\"none\" stroke=\"#000000\" d=\"M3445.5,-1293.8796C3445.5,-1283.2134 3445.5,-1271.7021 3445.5,-1260.9015\"/>\n<polygon fill=\"#000000\" stroke=\"#000000\" points=\"3449.0001,-1260.8149 3445.5,-1250.8149 3442.0001,-1260.815 3449.0001,-1260.8149\"/>\n</g>\n<!-- 161 -->\n<g id=\"node162\" class=\"node\">\n<title>161</title>\n<path fill=\"#6ab6ec\" stroke=\"#000000\" d=\"M3241.5,-1139C3241.5,-1139 3143.5,-1139 3143.5,-1139 3137.5,-1139 3131.5,-1133 3131.5,-1127 3131.5,-1127 3131.5,-1068 3131.5,-1068 3131.5,-1062 3137.5,-1056 3143.5,-1056 3143.5,-1056 3241.5,-1056 3241.5,-1056 3247.5,-1056 3253.5,-1062 3253.5,-1068 3253.5,-1068 3253.5,-1127 3253.5,-1127 3253.5,-1133 3247.5,-1139 3241.5,-1139\"/>\n<text text-anchor=\"start\" x=\"3139.5\" y=\"-1123.8\" font-family=\"Helvetica,sans-Serif\" font-size=\"14.00\" fill=\"#000000\">Glucose ≤ 152.5</text>\n<text text-anchor=\"start\" x=\"3141.5\" y=\"-1108.8\" font-family=\"Helvetica,sans-Serif\" font-size=\"14.00\" fill=\"#000000\">entropy = 0.722</text>\n<text text-anchor=\"start\" x=\"3148.5\" y=\"-1093.8\" font-family=\"Helvetica,sans-Serif\" font-size=\"14.00\" fill=\"#000000\">samples = 10</text>\n<text text-anchor=\"start\" x=\"3151\" y=\"-1078.8\" font-family=\"Helvetica,sans-Serif\" font-size=\"14.00\" fill=\"#000000\">value = [2, 8]</text>\n<text text-anchor=\"start\" x=\"3156\" y=\"-1063.8\" font-family=\"Helvetica,sans-Serif\" font-size=\"14.00\" fill=\"#000000\">class = sim</text>\n</g>\n<!-- 160&#45;&gt;161 -->\n<g id=\"edge161\" class=\"edge\">\n<title>160&#45;&gt;161</title>\n<path fill=\"none\" stroke=\"#000000\" d=\"M3273.7811,-1174.8796C3264.1314,-1165.6931 3253.8234,-1155.8798 3243.9009,-1146.4336\"/>\n<polygon fill=\"#000000\" stroke=\"#000000\" points=\"3246.0616,-1143.6582 3236.4055,-1139.2981 3241.235,-1148.7282 3246.0616,-1143.6582\"/>\n</g>\n<!-- 164 -->\n<g id=\"node165\" class=\"node\">\n<title>164</title>\n<path fill=\"#e58139\" stroke=\"#000000\" d=\"M3361,-1131.5C3361,-1131.5 3284,-1131.5 3284,-1131.5 3278,-1131.5 3272,-1125.5 3272,-1119.5 3272,-1119.5 3272,-1075.5 3272,-1075.5 3272,-1069.5 3278,-1063.5 3284,-1063.5 3284,-1063.5 3361,-1063.5 3361,-1063.5 3367,-1063.5 3373,-1069.5 3373,-1075.5 3373,-1075.5 3373,-1119.5 3373,-1119.5 3373,-1125.5 3367,-1131.5 3361,-1131.5\"/>\n<text text-anchor=\"start\" x=\"3280\" y=\"-1116.3\" font-family=\"Helvetica,sans-Serif\" font-size=\"14.00\" fill=\"#000000\">entropy = 0.0</text>\n<text text-anchor=\"start\" x=\"3283\" y=\"-1101.3\" font-family=\"Helvetica,sans-Serif\" font-size=\"14.00\" fill=\"#000000\">samples = 2</text>\n<text text-anchor=\"start\" x=\"3281\" y=\"-1086.3\" font-family=\"Helvetica,sans-Serif\" font-size=\"14.00\" fill=\"#000000\">value = [2, 0]</text>\n<text text-anchor=\"start\" x=\"3285\" y=\"-1071.3\" font-family=\"Helvetica,sans-Serif\" font-size=\"14.00\" fill=\"#000000\">class = não</text>\n</g>\n<!-- 160&#45;&gt;164 -->\n<g id=\"edge164\" class=\"edge\">\n<title>160&#45;&gt;164</title>\n<path fill=\"none\" stroke=\"#000000\" d=\"M3319.2488,-1174.8796C3319.6969,-1164.2134 3320.1806,-1152.7021 3320.6344,-1141.9015\"/>\n<polygon fill=\"#000000\" stroke=\"#000000\" points=\"3324.1352,-1141.9531 3321.0582,-1131.8149 3317.1414,-1141.6592 3324.1352,-1141.9531\"/>\n</g>\n<!-- 162 -->\n<g id=\"node163\" class=\"node\">\n<title>162</title>\n<path fill=\"#399de5\" stroke=\"#000000\" d=\"M3152,-1012.5C3152,-1012.5 3075,-1012.5 3075,-1012.5 3069,-1012.5 3063,-1006.5 3063,-1000.5 3063,-1000.5 3063,-956.5 3063,-956.5 3063,-950.5 3069,-944.5 3075,-944.5 3075,-944.5 3152,-944.5 3152,-944.5 3158,-944.5 3164,-950.5 3164,-956.5 3164,-956.5 3164,-1000.5 3164,-1000.5 3164,-1006.5 3158,-1012.5 3152,-1012.5\"/>\n<text text-anchor=\"start\" x=\"3071\" y=\"-997.3\" font-family=\"Helvetica,sans-Serif\" font-size=\"14.00\" fill=\"#000000\">entropy = 0.0</text>\n<text text-anchor=\"start\" x=\"3074\" y=\"-982.3\" font-family=\"Helvetica,sans-Serif\" font-size=\"14.00\" fill=\"#000000\">samples = 8</text>\n<text text-anchor=\"start\" x=\"3072\" y=\"-967.3\" font-family=\"Helvetica,sans-Serif\" font-size=\"14.00\" fill=\"#000000\">value = [0, 8]</text>\n<text text-anchor=\"start\" x=\"3077\" y=\"-952.3\" font-family=\"Helvetica,sans-Serif\" font-size=\"14.00\" fill=\"#000000\">class = sim</text>\n</g>\n<!-- 161&#45;&gt;162 -->\n<g id=\"edge162\" class=\"edge\">\n<title>161&#45;&gt;162</title>\n<path fill=\"none\" stroke=\"#000000\" d=\"M3164.8696,-1055.8796C3157.4237,-1044.6636 3149.3575,-1032.5131 3141.8718,-1021.2372\"/>\n<polygon fill=\"#000000\" stroke=\"#000000\" points=\"3144.7273,-1019.2104 3136.2805,-1012.8149 3138.8954,-1023.082 3144.7273,-1019.2104\"/>\n</g>\n<!-- 163 -->\n<g id=\"node164\" class=\"node\">\n<title>163</title>\n<path fill=\"#e58139\" stroke=\"#000000\" d=\"M3271,-1012.5C3271,-1012.5 3194,-1012.5 3194,-1012.5 3188,-1012.5 3182,-1006.5 3182,-1000.5 3182,-1000.5 3182,-956.5 3182,-956.5 3182,-950.5 3188,-944.5 3194,-944.5 3194,-944.5 3271,-944.5 3271,-944.5 3277,-944.5 3283,-950.5 3283,-956.5 3283,-956.5 3283,-1000.5 3283,-1000.5 3283,-1006.5 3277,-1012.5 3271,-1012.5\"/>\n<text text-anchor=\"start\" x=\"3190\" y=\"-997.3\" font-family=\"Helvetica,sans-Serif\" font-size=\"14.00\" fill=\"#000000\">entropy = 0.0</text>\n<text text-anchor=\"start\" x=\"3193\" y=\"-982.3\" font-family=\"Helvetica,sans-Serif\" font-size=\"14.00\" fill=\"#000000\">samples = 2</text>\n<text text-anchor=\"start\" x=\"3191\" y=\"-967.3\" font-family=\"Helvetica,sans-Serif\" font-size=\"14.00\" fill=\"#000000\">value = [2, 0]</text>\n<text text-anchor=\"start\" x=\"3195\" y=\"-952.3\" font-family=\"Helvetica,sans-Serif\" font-size=\"14.00\" fill=\"#000000\">class = não</text>\n</g>\n<!-- 161&#45;&gt;163 -->\n<g id=\"edge163\" class=\"edge\">\n<title>161&#45;&gt;163</title>\n<path fill=\"none\" stroke=\"#000000\" d=\"M3206.4901,-1055.8796C3210.1123,-1045.1034 3214.0245,-1033.4647 3217.6873,-1022.5677\"/>\n<polygon fill=\"#000000\" stroke=\"#000000\" points=\"3221.0969,-1023.409 3220.9656,-1012.8149 3214.4617,-1021.1786 3221.0969,-1023.409\"/>\n</g>\n<!-- 167 -->\n<g id=\"node168\" class=\"node\">\n<title>167</title>\n<path fill=\"#399de5\" stroke=\"#000000\" d=\"M3603,-1250.5C3603,-1250.5 3526,-1250.5 3526,-1250.5 3520,-1250.5 3514,-1244.5 3514,-1238.5 3514,-1238.5 3514,-1194.5 3514,-1194.5 3514,-1188.5 3520,-1182.5 3526,-1182.5 3526,-1182.5 3603,-1182.5 3603,-1182.5 3609,-1182.5 3615,-1188.5 3615,-1194.5 3615,-1194.5 3615,-1238.5 3615,-1238.5 3615,-1244.5 3609,-1250.5 3603,-1250.5\"/>\n<text text-anchor=\"start\" x=\"3522\" y=\"-1235.3\" font-family=\"Helvetica,sans-Serif\" font-size=\"14.00\" fill=\"#000000\">entropy = 0.0</text>\n<text text-anchor=\"start\" x=\"3525\" y=\"-1220.3\" font-family=\"Helvetica,sans-Serif\" font-size=\"14.00\" fill=\"#000000\">samples = 8</text>\n<text text-anchor=\"start\" x=\"3523\" y=\"-1205.3\" font-family=\"Helvetica,sans-Serif\" font-size=\"14.00\" fill=\"#000000\">value = [0, 8]</text>\n<text text-anchor=\"start\" x=\"3528\" y=\"-1190.3\" font-family=\"Helvetica,sans-Serif\" font-size=\"14.00\" fill=\"#000000\">class = sim</text>\n</g>\n<!-- 166&#45;&gt;167 -->\n<g id=\"edge167\" class=\"edge\">\n<title>166&#45;&gt;167</title>\n<path fill=\"none\" stroke=\"#000000\" d=\"M3615.8696,-1293.8796C3608.4237,-1282.6636 3600.3575,-1270.5131 3592.8718,-1259.2372\"/>\n<polygon fill=\"#000000\" stroke=\"#000000\" points=\"3595.7273,-1257.2104 3587.2805,-1250.8149 3589.8954,-1261.082 3595.7273,-1257.2104\"/>\n</g>\n<!-- 168 -->\n<g id=\"node169\" class=\"node\">\n<title>168</title>\n<path fill=\"#b0d8f5\" stroke=\"#000000\" d=\"M3743.5,-1258C3743.5,-1258 3645.5,-1258 3645.5,-1258 3639.5,-1258 3633.5,-1252 3633.5,-1246 3633.5,-1246 3633.5,-1187 3633.5,-1187 3633.5,-1181 3639.5,-1175 3645.5,-1175 3645.5,-1175 3743.5,-1175 3743.5,-1175 3749.5,-1175 3755.5,-1181 3755.5,-1187 3755.5,-1187 3755.5,-1246 3755.5,-1246 3755.5,-1252 3749.5,-1258 3743.5,-1258\"/>\n<text text-anchor=\"start\" x=\"3641.5\" y=\"-1242.8\" font-family=\"Helvetica,sans-Serif\" font-size=\"14.00\" fill=\"#000000\">Glucose ≤ 162.5</text>\n<text text-anchor=\"start\" x=\"3643.5\" y=\"-1227.8\" font-family=\"Helvetica,sans-Serif\" font-size=\"14.00\" fill=\"#000000\">entropy = 0.954</text>\n<text text-anchor=\"start\" x=\"3655\" y=\"-1212.8\" font-family=\"Helvetica,sans-Serif\" font-size=\"14.00\" fill=\"#000000\">samples = 8</text>\n<text text-anchor=\"start\" x=\"3653\" y=\"-1197.8\" font-family=\"Helvetica,sans-Serif\" font-size=\"14.00\" fill=\"#000000\">value = [3, 5]</text>\n<text text-anchor=\"start\" x=\"3658\" y=\"-1182.8\" font-family=\"Helvetica,sans-Serif\" font-size=\"14.00\" fill=\"#000000\">class = sim</text>\n</g>\n<!-- 166&#45;&gt;168 -->\n<g id=\"edge168\" class=\"edge\">\n<title>166&#45;&gt;168</title>\n<path fill=\"none\" stroke=\"#000000\" d=\"M3661.3373,-1293.8796C3664.9656,-1285.4136 3668.822,-1276.4153 3672.5732,-1267.6626\"/>\n<polygon fill=\"#000000\" stroke=\"#000000\" points=\"3675.8643,-1268.8683 3676.5865,-1258.2981 3669.4303,-1266.1108 3675.8643,-1268.8683\"/>\n</g>\n<!-- 169 -->\n<g id=\"node170\" class=\"node\">\n<title>169</title>\n<path fill=\"#61b1ea\" stroke=\"#000000\" d=\"M3638,-1139C3638,-1139 3421,-1139 3421,-1139 3415,-1139 3409,-1133 3409,-1127 3409,-1127 3409,-1068 3409,-1068 3409,-1062 3415,-1056 3421,-1056 3421,-1056 3638,-1056 3638,-1056 3644,-1056 3650,-1062 3650,-1068 3650,-1068 3650,-1127 3650,-1127 3650,-1133 3644,-1139 3638,-1139\"/>\n<text text-anchor=\"start\" x=\"3417\" y=\"-1123.8\" font-family=\"Helvetica,sans-Serif\" font-size=\"14.00\" fill=\"#000000\">DiabetesPedigreeFunction ≤ 0.187</text>\n<text text-anchor=\"start\" x=\"3482.5\" y=\"-1108.8\" font-family=\"Helvetica,sans-Serif\" font-size=\"14.00\" fill=\"#000000\">entropy = 0.65</text>\n<text text-anchor=\"start\" x=\"3490\" y=\"-1093.8\" font-family=\"Helvetica,sans-Serif\" font-size=\"14.00\" fill=\"#000000\">samples = 6</text>\n<text text-anchor=\"start\" x=\"3488\" y=\"-1078.8\" font-family=\"Helvetica,sans-Serif\" font-size=\"14.00\" fill=\"#000000\">value = [1, 5]</text>\n<text text-anchor=\"start\" x=\"3493\" y=\"-1063.8\" font-family=\"Helvetica,sans-Serif\" font-size=\"14.00\" fill=\"#000000\">class = sim</text>\n</g>\n<!-- 168&#45;&gt;169 -->\n<g id=\"edge169\" class=\"edge\">\n<title>168&#45;&gt;169</title>\n<path fill=\"none\" stroke=\"#000000\" d=\"M3636.791,-1174.8796C3623.477,-1165.2774 3609.2134,-1154.9903 3595.5741,-1145.1534\"/>\n<polygon fill=\"#000000\" stroke=\"#000000\" points=\"3597.3345,-1142.1077 3587.1764,-1139.0969 3593.2398,-1147.7852 3597.3345,-1142.1077\"/>\n</g>\n<!-- 172 -->\n<g id=\"node173\" class=\"node\">\n<title>172</title>\n<path fill=\"#e58139\" stroke=\"#000000\" d=\"M3757,-1131.5C3757,-1131.5 3680,-1131.5 3680,-1131.5 3674,-1131.5 3668,-1125.5 3668,-1119.5 3668,-1119.5 3668,-1075.5 3668,-1075.5 3668,-1069.5 3674,-1063.5 3680,-1063.5 3680,-1063.5 3757,-1063.5 3757,-1063.5 3763,-1063.5 3769,-1069.5 3769,-1075.5 3769,-1075.5 3769,-1119.5 3769,-1119.5 3769,-1125.5 3763,-1131.5 3757,-1131.5\"/>\n<text text-anchor=\"start\" x=\"3676\" y=\"-1116.3\" font-family=\"Helvetica,sans-Serif\" font-size=\"14.00\" fill=\"#000000\">entropy = 0.0</text>\n<text text-anchor=\"start\" x=\"3679\" y=\"-1101.3\" font-family=\"Helvetica,sans-Serif\" font-size=\"14.00\" fill=\"#000000\">samples = 2</text>\n<text text-anchor=\"start\" x=\"3677\" y=\"-1086.3\" font-family=\"Helvetica,sans-Serif\" font-size=\"14.00\" fill=\"#000000\">value = [2, 0]</text>\n<text text-anchor=\"start\" x=\"3681\" y=\"-1071.3\" font-family=\"Helvetica,sans-Serif\" font-size=\"14.00\" fill=\"#000000\">class = não</text>\n</g>\n<!-- 168&#45;&gt;172 -->\n<g id=\"edge172\" class=\"edge\">\n<title>168&#45;&gt;172</title>\n<path fill=\"none\" stroke=\"#000000\" d=\"M3702.894,-1174.8796C3705.0452,-1164.2134 3707.3668,-1152.7021 3709.5451,-1141.9015\"/>\n<polygon fill=\"#000000\" stroke=\"#000000\" points=\"3713.0332,-1142.3095 3711.5793,-1131.8149 3706.1713,-1140.9256 3713.0332,-1142.3095\"/>\n</g>\n<!-- 170 -->\n<g id=\"node171\" class=\"node\">\n<title>170</title>\n<path fill=\"#e58139\" stroke=\"#000000\" d=\"M3508,-1012.5C3508,-1012.5 3431,-1012.5 3431,-1012.5 3425,-1012.5 3419,-1006.5 3419,-1000.5 3419,-1000.5 3419,-956.5 3419,-956.5 3419,-950.5 3425,-944.5 3431,-944.5 3431,-944.5 3508,-944.5 3508,-944.5 3514,-944.5 3520,-950.5 3520,-956.5 3520,-956.5 3520,-1000.5 3520,-1000.5 3520,-1006.5 3514,-1012.5 3508,-1012.5\"/>\n<text text-anchor=\"start\" x=\"3427\" y=\"-997.3\" font-family=\"Helvetica,sans-Serif\" font-size=\"14.00\" fill=\"#000000\">entropy = 0.0</text>\n<text text-anchor=\"start\" x=\"3430\" y=\"-982.3\" font-family=\"Helvetica,sans-Serif\" font-size=\"14.00\" fill=\"#000000\">samples = 1</text>\n<text text-anchor=\"start\" x=\"3428\" y=\"-967.3\" font-family=\"Helvetica,sans-Serif\" font-size=\"14.00\" fill=\"#000000\">value = [1, 0]</text>\n<text text-anchor=\"start\" x=\"3432\" y=\"-952.3\" font-family=\"Helvetica,sans-Serif\" font-size=\"14.00\" fill=\"#000000\">class = não</text>\n</g>\n<!-- 169&#45;&gt;170 -->\n<g id=\"edge170\" class=\"edge\">\n<title>169&#45;&gt;170</title>\n<path fill=\"none\" stroke=\"#000000\" d=\"M3508.5149,-1055.8796C3502.9707,-1044.8835 3496.9736,-1032.9893 3491.3831,-1021.9015\"/>\n<polygon fill=\"#000000\" stroke=\"#000000\" points=\"3494.4291,-1020.1684 3486.8016,-1012.8149 3488.1786,-1023.3199 3494.4291,-1020.1684\"/>\n</g>\n<!-- 171 -->\n<g id=\"node172\" class=\"node\">\n<title>171</title>\n<path fill=\"#399de5\" stroke=\"#000000\" d=\"M3627,-1012.5C3627,-1012.5 3550,-1012.5 3550,-1012.5 3544,-1012.5 3538,-1006.5 3538,-1000.5 3538,-1000.5 3538,-956.5 3538,-956.5 3538,-950.5 3544,-944.5 3550,-944.5 3550,-944.5 3627,-944.5 3627,-944.5 3633,-944.5 3639,-950.5 3639,-956.5 3639,-956.5 3639,-1000.5 3639,-1000.5 3639,-1006.5 3633,-1012.5 3627,-1012.5\"/>\n<text text-anchor=\"start\" x=\"3546\" y=\"-997.3\" font-family=\"Helvetica,sans-Serif\" font-size=\"14.00\" fill=\"#000000\">entropy = 0.0</text>\n<text text-anchor=\"start\" x=\"3549\" y=\"-982.3\" font-family=\"Helvetica,sans-Serif\" font-size=\"14.00\" fill=\"#000000\">samples = 5</text>\n<text text-anchor=\"start\" x=\"3547\" y=\"-967.3\" font-family=\"Helvetica,sans-Serif\" font-size=\"14.00\" fill=\"#000000\">value = [0, 5]</text>\n<text text-anchor=\"start\" x=\"3552\" y=\"-952.3\" font-family=\"Helvetica,sans-Serif\" font-size=\"14.00\" fill=\"#000000\">class = sim</text>\n</g>\n<!-- 169&#45;&gt;171 -->\n<g id=\"edge171\" class=\"edge\">\n<title>169&#45;&gt;171</title>\n<path fill=\"none\" stroke=\"#000000\" d=\"M3550.1353,-1055.8796C3555.5872,-1044.8835 3561.4843,-1032.9893 3566.9816,-1021.9015\"/>\n<polygon fill=\"#000000\" stroke=\"#000000\" points=\"3570.1804,-1023.3289 3571.4867,-1012.8149 3563.9089,-1020.2195 3570.1804,-1023.3289\"/>\n</g>\n<!-- 175 -->\n<g id=\"node176\" class=\"node\">\n<title>175</title>\n<path fill=\"#399de5\" stroke=\"#000000\" d=\"M3577,-1845.5C3577,-1845.5 3494,-1845.5 3494,-1845.5 3488,-1845.5 3482,-1839.5 3482,-1833.5 3482,-1833.5 3482,-1789.5 3482,-1789.5 3482,-1783.5 3488,-1777.5 3494,-1777.5 3494,-1777.5 3577,-1777.5 3577,-1777.5 3583,-1777.5 3589,-1783.5 3589,-1789.5 3589,-1789.5 3589,-1833.5 3589,-1833.5 3589,-1839.5 3583,-1845.5 3577,-1845.5\"/>\n<text text-anchor=\"start\" x=\"3493\" y=\"-1830.3\" font-family=\"Helvetica,sans-Serif\" font-size=\"14.00\" fill=\"#000000\">entropy = 0.0</text>\n<text text-anchor=\"start\" x=\"3491.5\" y=\"-1815.3\" font-family=\"Helvetica,sans-Serif\" font-size=\"14.00\" fill=\"#000000\">samples = 19</text>\n<text text-anchor=\"start\" x=\"3490\" y=\"-1800.3\" font-family=\"Helvetica,sans-Serif\" font-size=\"14.00\" fill=\"#000000\">value = [0, 19]</text>\n<text text-anchor=\"start\" x=\"3499\" y=\"-1785.3\" font-family=\"Helvetica,sans-Serif\" font-size=\"14.00\" fill=\"#000000\">class = sim</text>\n</g>\n<!-- 174&#45;&gt;175 -->\n<g id=\"edge175\" class=\"edge\">\n<title>174&#45;&gt;175</title>\n<path fill=\"none\" stroke=\"#000000\" d=\"M3535.5,-1888.8796C3535.5,-1878.2134 3535.5,-1866.7021 3535.5,-1855.9015\"/>\n<polygon fill=\"#000000\" stroke=\"#000000\" points=\"3539.0001,-1855.8149 3535.5,-1845.8149 3532.0001,-1855.815 3539.0001,-1855.8149\"/>\n</g>\n<!-- 176 -->\n<g id=\"node177\" class=\"node\">\n<title>176</title>\n<path fill=\"#5caeea\" stroke=\"#000000\" d=\"M3954.5,-1853C3954.5,-1853 3844.5,-1853 3844.5,-1853 3838.5,-1853 3832.5,-1847 3832.5,-1841 3832.5,-1841 3832.5,-1782 3832.5,-1782 3832.5,-1776 3838.5,-1770 3844.5,-1770 3844.5,-1770 3954.5,-1770 3954.5,-1770 3960.5,-1770 3966.5,-1776 3966.5,-1782 3966.5,-1782 3966.5,-1841 3966.5,-1841 3966.5,-1847 3960.5,-1853 3954.5,-1853\"/>\n<text text-anchor=\"start\" x=\"3840.5\" y=\"-1837.8\" font-family=\"Helvetica,sans-Serif\" font-size=\"14.00\" fill=\"#000000\">Pregnancies ≤ 9.5</text>\n<text text-anchor=\"start\" x=\"3852.5\" y=\"-1822.8\" font-family=\"Helvetica,sans-Serif\" font-size=\"14.00\" fill=\"#000000\">entropy = 0.61</text>\n<text text-anchor=\"start\" x=\"3855.5\" y=\"-1807.8\" font-family=\"Helvetica,sans-Serif\" font-size=\"14.00\" fill=\"#000000\">samples = 40</text>\n<text text-anchor=\"start\" x=\"3854\" y=\"-1792.8\" font-family=\"Helvetica,sans-Serif\" font-size=\"14.00\" fill=\"#000000\">value = [6, 34]</text>\n<text text-anchor=\"start\" x=\"3863\" y=\"-1777.8\" font-family=\"Helvetica,sans-Serif\" font-size=\"14.00\" fill=\"#000000\">class = sim</text>\n</g>\n<!-- 174&#45;&gt;176 -->\n<g id=\"edge176\" class=\"edge\">\n<title>174&#45;&gt;176</title>\n<path fill=\"none\" stroke=\"#000000\" d=\"M3596.836,-1910.4478C3659.0188,-1890.1188 3755.4044,-1858.6082 3822.6456,-1836.6255\"/>\n<polygon fill=\"#000000\" stroke=\"#000000\" points=\"3823.9301,-1839.8879 3832.3474,-1833.4537 3821.7549,-1833.2344 3823.9301,-1839.8879\"/>\n</g>\n<!-- 177 -->\n<g id=\"node178\" class=\"node\">\n<title>177</title>\n<path fill=\"#56abe9\" stroke=\"#000000\" d=\"M3946.5,-1734C3946.5,-1734 3852.5,-1734 3852.5,-1734 3846.5,-1734 3840.5,-1728 3840.5,-1722 3840.5,-1722 3840.5,-1663 3840.5,-1663 3840.5,-1657 3846.5,-1651 3852.5,-1651 3852.5,-1651 3946.5,-1651 3946.5,-1651 3952.5,-1651 3958.5,-1657 3958.5,-1663 3958.5,-1663 3958.5,-1722 3958.5,-1722 3958.5,-1728 3952.5,-1734 3946.5,-1734\"/>\n<text text-anchor=\"start\" x=\"3864.5\" y=\"-1718.8\" font-family=\"Helvetica,sans-Serif\" font-size=\"14.00\" fill=\"#000000\">Age ≤ 66.5</text>\n<text text-anchor=\"start\" x=\"3848.5\" y=\"-1703.8\" font-family=\"Helvetica,sans-Serif\" font-size=\"14.00\" fill=\"#000000\">entropy = 0.552</text>\n<text text-anchor=\"start\" x=\"3855.5\" y=\"-1688.8\" font-family=\"Helvetica,sans-Serif\" font-size=\"14.00\" fill=\"#000000\">samples = 39</text>\n<text text-anchor=\"start\" x=\"3854\" y=\"-1673.8\" font-family=\"Helvetica,sans-Serif\" font-size=\"14.00\" fill=\"#000000\">value = [5, 34]</text>\n<text text-anchor=\"start\" x=\"3863\" y=\"-1658.8\" font-family=\"Helvetica,sans-Serif\" font-size=\"14.00\" fill=\"#000000\">class = sim</text>\n</g>\n<!-- 176&#45;&gt;177 -->\n<g id=\"edge177\" class=\"edge\">\n<title>176&#45;&gt;177</title>\n<path fill=\"none\" stroke=\"#000000\" d=\"M3899.5,-1769.8796C3899.5,-1761.6838 3899.5,-1752.9891 3899.5,-1744.5013\"/>\n<polygon fill=\"#000000\" stroke=\"#000000\" points=\"3903.0001,-1744.298 3899.5,-1734.2981 3896.0001,-1744.2981 3903.0001,-1744.298\"/>\n</g>\n<!-- 190 -->\n<g id=\"node191\" class=\"node\">\n<title>190</title>\n<path fill=\"#e58139\" stroke=\"#000000\" d=\"M4066,-1726.5C4066,-1726.5 3989,-1726.5 3989,-1726.5 3983,-1726.5 3977,-1720.5 3977,-1714.5 3977,-1714.5 3977,-1670.5 3977,-1670.5 3977,-1664.5 3983,-1658.5 3989,-1658.5 3989,-1658.5 4066,-1658.5 4066,-1658.5 4072,-1658.5 4078,-1664.5 4078,-1670.5 4078,-1670.5 4078,-1714.5 4078,-1714.5 4078,-1720.5 4072,-1726.5 4066,-1726.5\"/>\n<text text-anchor=\"start\" x=\"3985\" y=\"-1711.3\" font-family=\"Helvetica,sans-Serif\" font-size=\"14.00\" fill=\"#000000\">entropy = 0.0</text>\n<text text-anchor=\"start\" x=\"3988\" y=\"-1696.3\" font-family=\"Helvetica,sans-Serif\" font-size=\"14.00\" fill=\"#000000\">samples = 1</text>\n<text text-anchor=\"start\" x=\"3986\" y=\"-1681.3\" font-family=\"Helvetica,sans-Serif\" font-size=\"14.00\" fill=\"#000000\">value = [1, 0]</text>\n<text text-anchor=\"start\" x=\"3990\" y=\"-1666.3\" font-family=\"Helvetica,sans-Serif\" font-size=\"14.00\" fill=\"#000000\">class = não</text>\n</g>\n<!-- 176&#45;&gt;190 -->\n<g id=\"edge190\" class=\"edge\">\n<title>176&#45;&gt;190</title>\n<path fill=\"none\" stroke=\"#000000\" d=\"M3944.2682,-1769.8796C3956.8056,-1758.2237 3970.4284,-1745.5587 3982.953,-1733.9148\"/>\n<polygon fill=\"#000000\" stroke=\"#000000\" points=\"3985.6491,-1736.1872 3990.5898,-1726.8149 3980.8828,-1731.0605 3985.6491,-1736.1872\"/>\n</g>\n<!-- 178 -->\n<g id=\"node179\" class=\"node\">\n<title>178</title>\n<path fill=\"#50a9e8\" stroke=\"#000000\" d=\"M4008,-1615C4008,-1615 3791,-1615 3791,-1615 3785,-1615 3779,-1609 3779,-1603 3779,-1603 3779,-1544 3779,-1544 3779,-1538 3785,-1532 3791,-1532 3791,-1532 4008,-1532 4008,-1532 4014,-1532 4020,-1538 4020,-1544 4020,-1544 4020,-1603 4020,-1603 4020,-1609 4014,-1615 4008,-1615\"/>\n<text text-anchor=\"start\" x=\"3787\" y=\"-1599.8\" font-family=\"Helvetica,sans-Serif\" font-size=\"14.00\" fill=\"#000000\">DiabetesPedigreeFunction ≤ 1.428</text>\n<text text-anchor=\"start\" x=\"3848.5\" y=\"-1584.8\" font-family=\"Helvetica,sans-Serif\" font-size=\"14.00\" fill=\"#000000\">entropy = 0.485</text>\n<text text-anchor=\"start\" x=\"3855.5\" y=\"-1569.8\" font-family=\"Helvetica,sans-Serif\" font-size=\"14.00\" fill=\"#000000\">samples = 38</text>\n<text text-anchor=\"start\" x=\"3854\" y=\"-1554.8\" font-family=\"Helvetica,sans-Serif\" font-size=\"14.00\" fill=\"#000000\">value = [4, 34]</text>\n<text text-anchor=\"start\" x=\"3863\" y=\"-1539.8\" font-family=\"Helvetica,sans-Serif\" font-size=\"14.00\" fill=\"#000000\">class = sim</text>\n</g>\n<!-- 177&#45;&gt;178 -->\n<g id=\"edge178\" class=\"edge\">\n<title>177&#45;&gt;178</title>\n<path fill=\"none\" stroke=\"#000000\" d=\"M3899.5,-1650.8796C3899.5,-1642.6838 3899.5,-1633.9891 3899.5,-1625.5013\"/>\n<polygon fill=\"#000000\" stroke=\"#000000\" points=\"3903.0001,-1625.298 3899.5,-1615.2981 3896.0001,-1625.2981 3903.0001,-1625.298\"/>\n</g>\n<!-- 189 -->\n<g id=\"node190\" class=\"node\">\n<title>189</title>\n<path fill=\"#e58139\" stroke=\"#000000\" d=\"M4127,-1607.5C4127,-1607.5 4050,-1607.5 4050,-1607.5 4044,-1607.5 4038,-1601.5 4038,-1595.5 4038,-1595.5 4038,-1551.5 4038,-1551.5 4038,-1545.5 4044,-1539.5 4050,-1539.5 4050,-1539.5 4127,-1539.5 4127,-1539.5 4133,-1539.5 4139,-1545.5 4139,-1551.5 4139,-1551.5 4139,-1595.5 4139,-1595.5 4139,-1601.5 4133,-1607.5 4127,-1607.5\"/>\n<text text-anchor=\"start\" x=\"4046\" y=\"-1592.3\" font-family=\"Helvetica,sans-Serif\" font-size=\"14.00\" fill=\"#000000\">entropy = 0.0</text>\n<text text-anchor=\"start\" x=\"4049\" y=\"-1577.3\" font-family=\"Helvetica,sans-Serif\" font-size=\"14.00\" fill=\"#000000\">samples = 1</text>\n<text text-anchor=\"start\" x=\"4047\" y=\"-1562.3\" font-family=\"Helvetica,sans-Serif\" font-size=\"14.00\" fill=\"#000000\">value = [1, 0]</text>\n<text text-anchor=\"start\" x=\"4051\" y=\"-1547.3\" font-family=\"Helvetica,sans-Serif\" font-size=\"14.00\" fill=\"#000000\">class = não</text>\n</g>\n<!-- 177&#45;&gt;189 -->\n<g id=\"edge189\" class=\"edge\">\n<title>177&#45;&gt;189</title>\n<path fill=\"none\" stroke=\"#000000\" d=\"M3958.8068,-1656.2345C3961.7439,-1654.4608 3964.6539,-1652.7082 3967.5,-1651 3994.492,-1634.7998 4001.982,-1631.9648 4028.5,-1615 4029.4335,-1614.4028 4030.3734,-1613.7979 4031.318,-1613.1866\"/>\n<polygon fill=\"#000000\" stroke=\"#000000\" points=\"4033.4708,-1615.96 4039.9066,-1607.5439 4029.6272,-1610.1096 4033.4708,-1615.96\"/>\n</g>\n<!-- 179 -->\n<g id=\"node180\" class=\"node\">\n<title>179</title>\n<path fill=\"#45a3e7\" stroke=\"#000000\" d=\"M3965,-1496C3965,-1496 3834,-1496 3834,-1496 3828,-1496 3822,-1490 3822,-1484 3822,-1484 3822,-1425 3822,-1425 3822,-1419 3828,-1413 3834,-1413 3834,-1413 3965,-1413 3965,-1413 3971,-1413 3977,-1419 3977,-1425 3977,-1425 3977,-1484 3977,-1484 3977,-1490 3971,-1496 3965,-1496\"/>\n<text text-anchor=\"start\" x=\"3830\" y=\"-1480.8\" font-family=\"Helvetica,sans-Serif\" font-size=\"14.00\" fill=\"#000000\">SkinThickness ≤ 25.5</text>\n<text text-anchor=\"start\" x=\"3848.5\" y=\"-1465.8\" font-family=\"Helvetica,sans-Serif\" font-size=\"14.00\" fill=\"#000000\">entropy = 0.323</text>\n<text text-anchor=\"start\" x=\"3855.5\" y=\"-1450.8\" font-family=\"Helvetica,sans-Serif\" font-size=\"14.00\" fill=\"#000000\">samples = 34</text>\n<text text-anchor=\"start\" x=\"3854\" y=\"-1435.8\" font-family=\"Helvetica,sans-Serif\" font-size=\"14.00\" fill=\"#000000\">value = [2, 32]</text>\n<text text-anchor=\"start\" x=\"3863\" y=\"-1420.8\" font-family=\"Helvetica,sans-Serif\" font-size=\"14.00\" fill=\"#000000\">class = sim</text>\n</g>\n<!-- 178&#45;&gt;179 -->\n<g id=\"edge179\" class=\"edge\">\n<title>178&#45;&gt;179</title>\n<path fill=\"none\" stroke=\"#000000\" d=\"M3899.5,-1531.8796C3899.5,-1523.6838 3899.5,-1514.9891 3899.5,-1506.5013\"/>\n<polygon fill=\"#000000\" stroke=\"#000000\" points=\"3903.0001,-1506.298 3899.5,-1496.2981 3896.0001,-1506.2981 3903.0001,-1506.298\"/>\n</g>\n<!-- 186 -->\n<g id=\"node187\" class=\"node\">\n<title>186</title>\n<path fill=\"#ffffff\" stroke=\"#000000\" d=\"M4153.5,-1496C4153.5,-1496 4055.5,-1496 4055.5,-1496 4049.5,-1496 4043.5,-1490 4043.5,-1484 4043.5,-1484 4043.5,-1425 4043.5,-1425 4043.5,-1419 4049.5,-1413 4055.5,-1413 4055.5,-1413 4153.5,-1413 4153.5,-1413 4159.5,-1413 4165.5,-1419 4165.5,-1425 4165.5,-1425 4165.5,-1484 4165.5,-1484 4165.5,-1490 4159.5,-1496 4153.5,-1496\"/>\n<text text-anchor=\"start\" x=\"4051.5\" y=\"-1480.8\" font-family=\"Helvetica,sans-Serif\" font-size=\"14.00\" fill=\"#000000\">Glucose ≤ 181.5</text>\n<text text-anchor=\"start\" x=\"4062\" y=\"-1465.8\" font-family=\"Helvetica,sans-Serif\" font-size=\"14.00\" fill=\"#000000\">entropy = 1.0</text>\n<text text-anchor=\"start\" x=\"4065\" y=\"-1450.8\" font-family=\"Helvetica,sans-Serif\" font-size=\"14.00\" fill=\"#000000\">samples = 4</text>\n<text text-anchor=\"start\" x=\"4063\" y=\"-1435.8\" font-family=\"Helvetica,sans-Serif\" font-size=\"14.00\" fill=\"#000000\">value = [2, 2]</text>\n<text text-anchor=\"start\" x=\"4067\" y=\"-1420.8\" font-family=\"Helvetica,sans-Serif\" font-size=\"14.00\" fill=\"#000000\">class = não</text>\n</g>\n<!-- 178&#45;&gt;186 -->\n<g id=\"edge186\" class=\"edge\">\n<title>178&#45;&gt;186</title>\n<path fill=\"none\" stroke=\"#000000\" d=\"M3971.1991,-1531.8796C3991.8089,-1519.9158 4014.2502,-1506.8889 4034.741,-1494.9943\"/>\n<polygon fill=\"#000000\" stroke=\"#000000\" points=\"4036.5009,-1498.0196 4043.3923,-1489.9723 4032.9867,-1491.9657 4036.5009,-1498.0196\"/>\n</g>\n<!-- 180 -->\n<g id=\"node181\" class=\"node\">\n<title>180</title>\n<path fill=\"#88c4ef\" stroke=\"#000000\" d=\"M3898.5,-1377C3898.5,-1377 3804.5,-1377 3804.5,-1377 3798.5,-1377 3792.5,-1371 3792.5,-1365 3792.5,-1365 3792.5,-1306 3792.5,-1306 3792.5,-1300 3798.5,-1294 3804.5,-1294 3804.5,-1294 3898.5,-1294 3898.5,-1294 3904.5,-1294 3910.5,-1300 3910.5,-1306 3910.5,-1306 3910.5,-1365 3910.5,-1365 3910.5,-1371 3904.5,-1377 3898.5,-1377\"/>\n<text text-anchor=\"start\" x=\"3816.5\" y=\"-1361.8\" font-family=\"Helvetica,sans-Serif\" font-size=\"14.00\" fill=\"#000000\">Age ≤ 33.5</text>\n<text text-anchor=\"start\" x=\"3800.5\" y=\"-1346.8\" font-family=\"Helvetica,sans-Serif\" font-size=\"14.00\" fill=\"#000000\">entropy = 0.863</text>\n<text text-anchor=\"start\" x=\"3812\" y=\"-1331.8\" font-family=\"Helvetica,sans-Serif\" font-size=\"14.00\" fill=\"#000000\">samples = 7</text>\n<text text-anchor=\"start\" x=\"3810\" y=\"-1316.8\" font-family=\"Helvetica,sans-Serif\" font-size=\"14.00\" fill=\"#000000\">value = [2, 5]</text>\n<text text-anchor=\"start\" x=\"3815\" y=\"-1301.8\" font-family=\"Helvetica,sans-Serif\" font-size=\"14.00\" fill=\"#000000\">class = sim</text>\n</g>\n<!-- 179&#45;&gt;180 -->\n<g id=\"edge180\" class=\"edge\">\n<title>179&#45;&gt;180</title>\n<path fill=\"none\" stroke=\"#000000\" d=\"M3882.7119,-1412.8796C3879.2971,-1404.4136 3875.6675,-1395.4153 3872.137,-1386.6626\"/>\n<polygon fill=\"#000000\" stroke=\"#000000\" points=\"3875.3464,-1385.2628 3868.3597,-1377.2981 3868.8547,-1387.8813 3875.3464,-1385.2628\"/>\n</g>\n<!-- 185 -->\n<g id=\"node186\" class=\"node\">\n<title>185</title>\n<path fill=\"#399de5\" stroke=\"#000000\" d=\"M4024,-1369.5C4024,-1369.5 3941,-1369.5 3941,-1369.5 3935,-1369.5 3929,-1363.5 3929,-1357.5 3929,-1357.5 3929,-1313.5 3929,-1313.5 3929,-1307.5 3935,-1301.5 3941,-1301.5 3941,-1301.5 4024,-1301.5 4024,-1301.5 4030,-1301.5 4036,-1307.5 4036,-1313.5 4036,-1313.5 4036,-1357.5 4036,-1357.5 4036,-1363.5 4030,-1369.5 4024,-1369.5\"/>\n<text text-anchor=\"start\" x=\"3940\" y=\"-1354.3\" font-family=\"Helvetica,sans-Serif\" font-size=\"14.00\" fill=\"#000000\">entropy = 0.0</text>\n<text text-anchor=\"start\" x=\"3938.5\" y=\"-1339.3\" font-family=\"Helvetica,sans-Serif\" font-size=\"14.00\" fill=\"#000000\">samples = 27</text>\n<text text-anchor=\"start\" x=\"3937\" y=\"-1324.3\" font-family=\"Helvetica,sans-Serif\" font-size=\"14.00\" fill=\"#000000\">value = [0, 27]</text>\n<text text-anchor=\"start\" x=\"3946\" y=\"-1309.3\" font-family=\"Helvetica,sans-Serif\" font-size=\"14.00\" fill=\"#000000\">class = sim</text>\n</g>\n<!-- 179&#45;&gt;185 -->\n<g id=\"edge185\" class=\"edge\">\n<title>179&#45;&gt;185</title>\n<path fill=\"none\" stroke=\"#000000\" d=\"M3928.5294,-1412.8796C3936.3523,-1401.6636 3944.827,-1389.5131 3952.6917,-1378.2372\"/>\n<polygon fill=\"#000000\" stroke=\"#000000\" points=\"3955.716,-1380.0192 3958.5661,-1369.8149 3949.9746,-1376.0147 3955.716,-1380.0192\"/>\n</g>\n<!-- 181 -->\n<g id=\"node182\" class=\"node\">\n<title>181</title>\n<path fill=\"#f2c09c\" stroke=\"#000000\" d=\"M3917,-1258C3917,-1258 3786,-1258 3786,-1258 3780,-1258 3774,-1252 3774,-1246 3774,-1246 3774,-1187 3774,-1187 3774,-1181 3780,-1175 3786,-1175 3786,-1175 3917,-1175 3917,-1175 3923,-1175 3929,-1181 3929,-1187 3929,-1187 3929,-1246 3929,-1246 3929,-1252 3923,-1258 3917,-1258\"/>\n<text text-anchor=\"start\" x=\"3782\" y=\"-1242.8\" font-family=\"Helvetica,sans-Serif\" font-size=\"14.00\" fill=\"#000000\">SkinThickness ≤ 15.0</text>\n<text text-anchor=\"start\" x=\"3800.5\" y=\"-1227.8\" font-family=\"Helvetica,sans-Serif\" font-size=\"14.00\" fill=\"#000000\">entropy = 0.918</text>\n<text text-anchor=\"start\" x=\"3812\" y=\"-1212.8\" font-family=\"Helvetica,sans-Serif\" font-size=\"14.00\" fill=\"#000000\">samples = 3</text>\n<text text-anchor=\"start\" x=\"3810\" y=\"-1197.8\" font-family=\"Helvetica,sans-Serif\" font-size=\"14.00\" fill=\"#000000\">value = [2, 1]</text>\n<text text-anchor=\"start\" x=\"3814\" y=\"-1182.8\" font-family=\"Helvetica,sans-Serif\" font-size=\"14.00\" fill=\"#000000\">class = não</text>\n</g>\n<!-- 180&#45;&gt;181 -->\n<g id=\"edge181\" class=\"edge\">\n<title>180&#45;&gt;181</title>\n<path fill=\"none\" stroke=\"#000000\" d=\"M3851.5,-1293.8796C3851.5,-1285.6838 3851.5,-1276.9891 3851.5,-1268.5013\"/>\n<polygon fill=\"#000000\" stroke=\"#000000\" points=\"3855.0001,-1268.298 3851.5,-1258.2981 3848.0001,-1268.2981 3855.0001,-1268.298\"/>\n</g>\n<!-- 184 -->\n<g id=\"node185\" class=\"node\">\n<title>184</title>\n<path fill=\"#399de5\" stroke=\"#000000\" d=\"M4036,-1250.5C4036,-1250.5 3959,-1250.5 3959,-1250.5 3953,-1250.5 3947,-1244.5 3947,-1238.5 3947,-1238.5 3947,-1194.5 3947,-1194.5 3947,-1188.5 3953,-1182.5 3959,-1182.5 3959,-1182.5 4036,-1182.5 4036,-1182.5 4042,-1182.5 4048,-1188.5 4048,-1194.5 4048,-1194.5 4048,-1238.5 4048,-1238.5 4048,-1244.5 4042,-1250.5 4036,-1250.5\"/>\n<text text-anchor=\"start\" x=\"3955\" y=\"-1235.3\" font-family=\"Helvetica,sans-Serif\" font-size=\"14.00\" fill=\"#000000\">entropy = 0.0</text>\n<text text-anchor=\"start\" x=\"3958\" y=\"-1220.3\" font-family=\"Helvetica,sans-Serif\" font-size=\"14.00\" fill=\"#000000\">samples = 4</text>\n<text text-anchor=\"start\" x=\"3956\" y=\"-1205.3\" font-family=\"Helvetica,sans-Serif\" font-size=\"14.00\" fill=\"#000000\">value = [0, 4]</text>\n<text text-anchor=\"start\" x=\"3961\" y=\"-1190.3\" font-family=\"Helvetica,sans-Serif\" font-size=\"14.00\" fill=\"#000000\">class = sim</text>\n</g>\n<!-- 180&#45;&gt;184 -->\n<g id=\"edge184\" class=\"edge\">\n<title>180&#45;&gt;184</title>\n<path fill=\"none\" stroke=\"#000000\" d=\"M3902.5637,-1293.8796C3917.134,-1282.0038 3932.9896,-1269.0804 3947.4958,-1257.2568\"/>\n<polygon fill=\"#000000\" stroke=\"#000000\" points=\"3949.8592,-1259.8459 3955.3993,-1250.8149 3945.4366,-1254.4199 3949.8592,-1259.8459\"/>\n</g>\n<!-- 182 -->\n<g id=\"node183\" class=\"node\">\n<title>182</title>\n<path fill=\"#399de5\" stroke=\"#000000\" d=\"M3885,-1131.5C3885,-1131.5 3808,-1131.5 3808,-1131.5 3802,-1131.5 3796,-1125.5 3796,-1119.5 3796,-1119.5 3796,-1075.5 3796,-1075.5 3796,-1069.5 3802,-1063.5 3808,-1063.5 3808,-1063.5 3885,-1063.5 3885,-1063.5 3891,-1063.5 3897,-1069.5 3897,-1075.5 3897,-1075.5 3897,-1119.5 3897,-1119.5 3897,-1125.5 3891,-1131.5 3885,-1131.5\"/>\n<text text-anchor=\"start\" x=\"3804\" y=\"-1116.3\" font-family=\"Helvetica,sans-Serif\" font-size=\"14.00\" fill=\"#000000\">entropy = 0.0</text>\n<text text-anchor=\"start\" x=\"3807\" y=\"-1101.3\" font-family=\"Helvetica,sans-Serif\" font-size=\"14.00\" fill=\"#000000\">samples = 1</text>\n<text text-anchor=\"start\" x=\"3805\" y=\"-1086.3\" font-family=\"Helvetica,sans-Serif\" font-size=\"14.00\" fill=\"#000000\">value = [0, 1]</text>\n<text text-anchor=\"start\" x=\"3810\" y=\"-1071.3\" font-family=\"Helvetica,sans-Serif\" font-size=\"14.00\" fill=\"#000000\">class = sim</text>\n</g>\n<!-- 181&#45;&gt;182 -->\n<g id=\"edge182\" class=\"edge\">\n<title>181&#45;&gt;182</title>\n<path fill=\"none\" stroke=\"#000000\" d=\"M3849.7512,-1174.8796C3849.3031,-1164.2134 3848.8194,-1152.7021 3848.3656,-1141.9015\"/>\n<polygon fill=\"#000000\" stroke=\"#000000\" points=\"3851.8586,-1141.6592 3847.9418,-1131.8149 3844.8648,-1141.9531 3851.8586,-1141.6592\"/>\n</g>\n<!-- 183 -->\n<g id=\"node184\" class=\"node\">\n<title>183</title>\n<path fill=\"#e58139\" stroke=\"#000000\" d=\"M4004,-1131.5C4004,-1131.5 3927,-1131.5 3927,-1131.5 3921,-1131.5 3915,-1125.5 3915,-1119.5 3915,-1119.5 3915,-1075.5 3915,-1075.5 3915,-1069.5 3921,-1063.5 3927,-1063.5 3927,-1063.5 4004,-1063.5 4004,-1063.5 4010,-1063.5 4016,-1069.5 4016,-1075.5 4016,-1075.5 4016,-1119.5 4016,-1119.5 4016,-1125.5 4010,-1131.5 4004,-1131.5\"/>\n<text text-anchor=\"start\" x=\"3923\" y=\"-1116.3\" font-family=\"Helvetica,sans-Serif\" font-size=\"14.00\" fill=\"#000000\">entropy = 0.0</text>\n<text text-anchor=\"start\" x=\"3926\" y=\"-1101.3\" font-family=\"Helvetica,sans-Serif\" font-size=\"14.00\" fill=\"#000000\">samples = 2</text>\n<text text-anchor=\"start\" x=\"3924\" y=\"-1086.3\" font-family=\"Helvetica,sans-Serif\" font-size=\"14.00\" fill=\"#000000\">value = [2, 0]</text>\n<text text-anchor=\"start\" x=\"3928\" y=\"-1071.3\" font-family=\"Helvetica,sans-Serif\" font-size=\"14.00\" fill=\"#000000\">class = não</text>\n</g>\n<!-- 181&#45;&gt;183 -->\n<g id=\"edge183\" class=\"edge\">\n<title>181&#45;&gt;183</title>\n<path fill=\"none\" stroke=\"#000000\" d=\"M3891.3717,-1174.8796C3902.4324,-1163.3337 3914.4418,-1150.7976 3925.5094,-1139.2446\"/>\n<polygon fill=\"#000000\" stroke=\"#000000\" points=\"3928.2365,-1141.4573 3932.6269,-1131.8149 3923.1817,-1136.6149 3928.2365,-1141.4573\"/>\n</g>\n<!-- 187 -->\n<g id=\"node188\" class=\"node\">\n<title>187</title>\n<path fill=\"#399de5\" stroke=\"#000000\" d=\"M4143,-1369.5C4143,-1369.5 4066,-1369.5 4066,-1369.5 4060,-1369.5 4054,-1363.5 4054,-1357.5 4054,-1357.5 4054,-1313.5 4054,-1313.5 4054,-1307.5 4060,-1301.5 4066,-1301.5 4066,-1301.5 4143,-1301.5 4143,-1301.5 4149,-1301.5 4155,-1307.5 4155,-1313.5 4155,-1313.5 4155,-1357.5 4155,-1357.5 4155,-1363.5 4149,-1369.5 4143,-1369.5\"/>\n<text text-anchor=\"start\" x=\"4062\" y=\"-1354.3\" font-family=\"Helvetica,sans-Serif\" font-size=\"14.00\" fill=\"#000000\">entropy = 0.0</text>\n<text text-anchor=\"start\" x=\"4065\" y=\"-1339.3\" font-family=\"Helvetica,sans-Serif\" font-size=\"14.00\" fill=\"#000000\">samples = 2</text>\n<text text-anchor=\"start\" x=\"4063\" y=\"-1324.3\" font-family=\"Helvetica,sans-Serif\" font-size=\"14.00\" fill=\"#000000\">value = [0, 2]</text>\n<text text-anchor=\"start\" x=\"4068\" y=\"-1309.3\" font-family=\"Helvetica,sans-Serif\" font-size=\"14.00\" fill=\"#000000\">class = sim</text>\n</g>\n<!-- 186&#45;&gt;187 -->\n<g id=\"edge187\" class=\"edge\">\n<title>186&#45;&gt;187</title>\n<path fill=\"none\" stroke=\"#000000\" d=\"M4104.5,-1412.8796C4104.5,-1402.2134 4104.5,-1390.7021 4104.5,-1379.9015\"/>\n<polygon fill=\"#000000\" stroke=\"#000000\" points=\"4108.0001,-1379.8149 4104.5,-1369.8149 4101.0001,-1379.815 4108.0001,-1379.8149\"/>\n</g>\n<!-- 188 -->\n<g id=\"node189\" class=\"node\">\n<title>188</title>\n<path fill=\"#e58139\" stroke=\"#000000\" d=\"M4262,-1369.5C4262,-1369.5 4185,-1369.5 4185,-1369.5 4179,-1369.5 4173,-1363.5 4173,-1357.5 4173,-1357.5 4173,-1313.5 4173,-1313.5 4173,-1307.5 4179,-1301.5 4185,-1301.5 4185,-1301.5 4262,-1301.5 4262,-1301.5 4268,-1301.5 4274,-1307.5 4274,-1313.5 4274,-1313.5 4274,-1357.5 4274,-1357.5 4274,-1363.5 4268,-1369.5 4262,-1369.5\"/>\n<text text-anchor=\"start\" x=\"4181\" y=\"-1354.3\" font-family=\"Helvetica,sans-Serif\" font-size=\"14.00\" fill=\"#000000\">entropy = 0.0</text>\n<text text-anchor=\"start\" x=\"4184\" y=\"-1339.3\" font-family=\"Helvetica,sans-Serif\" font-size=\"14.00\" fill=\"#000000\">samples = 2</text>\n<text text-anchor=\"start\" x=\"4182\" y=\"-1324.3\" font-family=\"Helvetica,sans-Serif\" font-size=\"14.00\" fill=\"#000000\">value = [2, 0]</text>\n<text text-anchor=\"start\" x=\"4186\" y=\"-1309.3\" font-family=\"Helvetica,sans-Serif\" font-size=\"14.00\" fill=\"#000000\">class = não</text>\n</g>\n<!-- 186&#45;&gt;188 -->\n<g id=\"edge188\" class=\"edge\">\n<title>186&#45;&gt;188</title>\n<path fill=\"none\" stroke=\"#000000\" d=\"M4146.1204,-1412.8796C4157.7763,-1401.2237 4170.4413,-1388.5587 4182.0852,-1376.9148\"/>\n<polygon fill=\"#000000\" stroke=\"#000000\" points=\"4184.5889,-1379.3609 4189.1851,-1369.8149 4179.6391,-1374.4111 4184.5889,-1379.3609\"/>\n</g>\n</g>\n</svg>\n"
          },
          "metadata": {
            "tags": []
          },
          "execution_count": 13
        }
      ]
    },
    {
      "cell_type": "markdown",
      "metadata": {
        "id": "m_He-igs5eaq",
        "colab_type": "text"
      },
      "source": [
        "# Transformando a árvore de decisão em PDF:"
      ]
    },
    {
      "cell_type": "code",
      "metadata": {
        "id": "szccoDshEoV9",
        "colab_type": "code",
        "outputId": "d27797e2-d713-44be-d4e2-5dcaa3396c42",
        "colab": {
          "base_uri": "https://localhost:8080/",
          "height": 35
        }
      },
      "source": [
        "from graphviz import render\n",
        "\n",
        "graph.render('diabetes_decision_tree.gv', view=True)  \n",
        "'diabetes_decision_tree.gv.pdf'"
      ],
      "execution_count": 0,
      "outputs": [
        {
          "output_type": "execute_result",
          "data": {
            "text/plain": [
              "'diabetes_decision_tree.gv.pdf'"
            ]
          },
          "metadata": {
            "tags": []
          },
          "execution_count": 230
        }
      ]
    },
    {
      "cell_type": "markdown",
      "metadata": {
        "id": "h82ONex15lGV",
        "colab_type": "text"
      },
      "source": [
        "# Verificando as importâncias das features: "
      ]
    },
    {
      "cell_type": "code",
      "metadata": {
        "id": "FOPPHg75HIl9",
        "colab_type": "code",
        "outputId": "75858593-d1df-4e5c-80ab-986ed1e7971d",
        "colab": {
          "base_uri": "https://localhost:8080/",
          "height": 109
        }
      },
      "source": [
        "print(dt.feature_importances_)\n",
        "print(x.columns)"
      ],
      "execution_count": 0,
      "outputs": [
        {
          "output_type": "stream",
          "text": [
            "[0.06235585 0.34113702 0.07718405 0.10376129 0.05388275 0.13878104\n",
            " 0.06854331 0.15435468]\n",
            "Index(['Pregnancies', 'Glucose', 'BloodPressure', 'SkinThickness', 'Insulin',\n",
            "       'BMI', 'DiabetesPedigreeFunction', 'Age'],\n",
            "      dtype='object')\n"
          ],
          "name": "stdout"
        }
      ]
    },
    {
      "cell_type": "markdown",
      "metadata": {
        "id": "kJzUC1DPqyxK",
        "colab_type": "text"
      },
      "source": [
        "# Matriz de Confusão do modelo:"
      ]
    },
    {
      "cell_type": "code",
      "metadata": {
        "id": "kGmskyN6n9xm",
        "colab_type": "code",
        "colab": {}
      },
      "source": [
        "from sklearn.metrics import plot_confusion_matrix, plot_roc_curve, plot_precision_recall_curve, classification_report"
      ],
      "execution_count": 0,
      "outputs": []
    },
    {
      "cell_type": "code",
      "metadata": {
        "id": "VKETrodr1Tl6",
        "colab_type": "code",
        "outputId": "9f762c74-4fe0-426b-8aa5-00f19840526d",
        "colab": {
          "base_uri": "https://localhost:8080/",
          "height": 513
        }
      },
      "source": [
        "f, ax = plt.subplots (1,1,figsize = (15,8))\n",
        "\n",
        "plot_confusion_matrix (dt, x_test,y_test, ax = ax,cmap = plt.cm.Blues,values_format='.4g')\n",
        "\n",
        "ax.set_title ('Matriz de Confusão')\n",
        "\n",
        "plt.show()"
      ],
      "execution_count": 0,
      "outputs": [
        {
          "output_type": "display_data",
          "data": {
            "image/png": "[encoded data removed]",
            "text/plain": [
              "<Figure size 1080x576 with 2 Axes>"
            ]
          },
          "metadata": {
            "tags": [],
            "needs_background": "light"
          }
        }
      ]
    },
    {
      "cell_type": "markdown",
      "metadata": {
        "id": "9EuQDbPbmzlq",
        "colab_type": "text"
      },
      "source": [
        "Por meio da matriz de confusão é possível perceber que: \n",
        "\n",
        "* O modelo predisse corretamente que 90 mulheres têm diabetes, mas errou ao predizer que 33 tinham diabtes, sendo que elas não tinham. \n",
        "\n",
        "* O modelo predisse corretamente que 48 mulheres tinham diabetes, mas errou ao predizer que 21 não tinham diabetes, sendo que elas tinham. "
      ]
    },
    {
      "cell_type": "markdown",
      "metadata": {
        "id": "qVJMVZP6n00p",
        "colab_type": "text"
      },
      "source": [
        "# Como verificar quanto meu modelo acertou no total? \n",
        "\n",
        "* A métrica que diz quanto que o modelo acertou no total é a acurácia, para calculá-la é necessário somar os acertos do modelo e dividir pelo tamanho do dataset de teste (192, neste caso):"
      ]
    },
    {
      "cell_type": "code",
      "metadata": {
        "id": "dR3pdEBQn6u5",
        "colab_type": "code",
        "outputId": "40e544ac-4821-49d6-f121-a3c79dc66b73",
        "colab": {
          "base_uri": "https://localhost:8080/",
          "height": 35
        }
      },
      "source": [
        "# Acurácia: \n",
        "\n",
        "(90 + 48) / (90 + 48 + 33 + 21)"
      ],
      "execution_count": 0,
      "outputs": [
        {
          "output_type": "execute_result",
          "data": {
            "text/plain": [
              "0.71875"
            ]
          },
          "metadata": {
            "tags": []
          },
          "execution_count": 30
        }
      ]
    },
    {
      "cell_type": "markdown",
      "metadata": {
        "id": "dqlWcxANpWGQ",
        "colab_type": "text"
      },
      "source": [
        "A acurácia do modelo foi de, aproximadamente, 72%."
      ]
    },
    {
      "cell_type": "markdown",
      "metadata": {
        "id": "uWVsyMjHpj9w",
        "colab_type": "text"
      },
      "source": [
        "# Como verificar a precisão do modelo? \n",
        "\n",
        "Outra métrica interessante é a precisão do modelo:\n",
        "\n",
        "* Acerto de mulheres que não têm diabetes: 81%"
      ]
    },
    {
      "cell_type": "code",
      "metadata": {
        "id": "07r6QtSZqEfA",
        "colab_type": "code",
        "outputId": "5a49d420-49a6-4f31-cec4-7bf308e830ee",
        "colab": {
          "base_uri": "https://localhost:8080/",
          "height": 35
        }
      },
      "source": [
        "90 / (90 + 21)"
      ],
      "execution_count": 0,
      "outputs": [
        {
          "output_type": "execute_result",
          "data": {
            "text/plain": [
              "0.8108108108108109"
            ]
          },
          "metadata": {
            "tags": []
          },
          "execution_count": 31
        }
      ]
    },
    {
      "cell_type": "markdown",
      "metadata": {
        "id": "x9QCJh6Cq9n9",
        "colab_type": "text"
      },
      "source": [
        "* Acerto de mulheres que têm diabetes: 59%"
      ]
    },
    {
      "cell_type": "code",
      "metadata": {
        "id": "FH6SrWLFrAFV",
        "colab_type": "code",
        "outputId": "5463f8aa-7551-49b0-f6f4-4d5867d0cd50",
        "colab": {
          "base_uri": "https://localhost:8080/",
          "height": 35
        }
      },
      "source": [
        "48 / (48 + 33)"
      ],
      "execution_count": 0,
      "outputs": [
        {
          "output_type": "execute_result",
          "data": {
            "text/plain": [
              "0.5925925925925926"
            ]
          },
          "metadata": {
            "tags": []
          },
          "execution_count": 32
        }
      ]
    },
    {
      "cell_type": "markdown",
      "metadata": {
        "id": "b7Wq2aoDrKWO",
        "colab_type": "text"
      },
      "source": [
        "# Verificando o modelo versus realidade, também conhecido como recall ou sesibilidade do modelo: \n",
        "\n",
        "* De todas as mulheres que não têm diabetes, quantas eu previ corretamente? 73%"
      ]
    },
    {
      "cell_type": "code",
      "metadata": {
        "id": "n0ZxDoQqrhvn",
        "colab_type": "code",
        "outputId": "eea8563d-0f84-4029-afbf-19b397b2ddd3",
        "colab": {
          "base_uri": "https://localhost:8080/",
          "height": 35
        }
      },
      "source": [
        "90 / (90 + 33)"
      ],
      "execution_count": 0,
      "outputs": [
        {
          "output_type": "execute_result",
          "data": {
            "text/plain": [
              "0.7317073170731707"
            ]
          },
          "metadata": {
            "tags": []
          },
          "execution_count": 33
        }
      ]
    },
    {
      "cell_type": "markdown",
      "metadata": {
        "id": "3fY-NcDAro16",
        "colab_type": "text"
      },
      "source": [
        "* De todas as mulheres que têm diabetes, quantas eu previ corretamente? 69% "
      ]
    },
    {
      "cell_type": "code",
      "metadata": {
        "id": "Nn7pJyO2r7Vz",
        "colab_type": "code",
        "outputId": "a8c04142-a578-468d-8f1e-570397eebb1d",
        "colab": {
          "base_uri": "https://localhost:8080/",
          "height": 35
        }
      },
      "source": [
        "48 / (48 + 21)"
      ],
      "execution_count": 0,
      "outputs": [
        {
          "output_type": "execute_result",
          "data": {
            "text/plain": [
              "0.6956521739130435"
            ]
          },
          "metadata": {
            "tags": []
          },
          "execution_count": 34
        }
      ]
    },
    {
      "cell_type": "markdown",
      "metadata": {
        "id": "vi6ToWoZsbrK",
        "colab_type": "text"
      },
      "source": [
        "# Por meio do report do modelo, é possível verificar estas métricas também: "
      ]
    },
    {
      "cell_type": "code",
      "metadata": {
        "id": "GeR0Zpdp4KOZ",
        "colab_type": "code",
        "outputId": "42d81de6-6b1b-45ea-c514-0e9a8dedfee0",
        "colab": {
          "base_uri": "https://localhost:8080/",
          "height": 182
        }
      },
      "source": [
        "print(classification_report(y_test,dt.predict(x_test)))"
      ],
      "execution_count": 0,
      "outputs": [
        {
          "output_type": "stream",
          "text": [
            "              precision    recall  f1-score   support\n",
            "\n",
            "           0       0.81      0.73      0.77       123\n",
            "           1       0.59      0.70      0.64        69\n",
            "\n",
            "    accuracy                           0.72       192\n",
            "   macro avg       0.70      0.71      0.70       192\n",
            "weighted avg       0.73      0.72      0.72       192\n",
            "\n"
          ],
          "name": "stdout"
        }
      ]
    },
    {
      "cell_type": "markdown",
      "metadata": {
        "id": "47GkMaqctwPE",
        "colab_type": "text"
      },
      "source": [
        "# Tendo em vista que a acurácia do modelo foi de 72%, decidiu-se por testar o dataset no Random Forest, que também é um modelo de classificação."
      ]
    },
    {
      "cell_type": "markdown",
      "metadata": {
        "id": "tF8WCI7SCsPK",
        "colab_type": "text"
      },
      "source": [
        "# **Aplicação do Modelo Random Forest:**"
      ]
    },
    {
      "cell_type": "markdown",
      "metadata": {
        "id": "6PbYraleu6cO",
        "colab_type": "text"
      },
      "source": [
        "Importando a biblioteca necessária:"
      ]
    },
    {
      "cell_type": "code",
      "metadata": {
        "id": "OicthUussk8a",
        "colab_type": "code",
        "colab": {}
      },
      "source": [
        "from sklearn.ensemble import RandomForestClassifier"
      ],
      "execution_count": 0,
      "outputs": []
    },
    {
      "cell_type": "markdown",
      "metadata": {
        "id": "lpUIcWG8Mcz5",
        "colab_type": "text"
      },
      "source": [
        "# Dividindo o x e o y:"
      ]
    },
    {
      "cell_type": "code",
      "metadata": {
        "id": "ovd6TI2TMhyQ",
        "colab_type": "code",
        "colab": {}
      },
      "source": [
        "xrf = df.drop(['Outcome'],axis=1)\n",
        "\n",
        "yrf = df['Outcome']"
      ],
      "execution_count": 0,
      "outputs": []
    },
    {
      "cell_type": "markdown",
      "metadata": {
        "id": "lwRwnmnMM35C",
        "colab_type": "text"
      },
      "source": [
        "# Dividindo o dataset em treino e teste:"
      ]
    },
    {
      "cell_type": "code",
      "metadata": {
        "id": "n3FFiXORMxWp",
        "colab_type": "code",
        "colab": {}
      },
      "source": [
        "xrf_train, xrf_test, yrf_train, yrf_test = train_test_split (xrf, yrf, test_size = 0.25, random_state = 42)"
      ],
      "execution_count": 0,
      "outputs": []
    },
    {
      "cell_type": "markdown",
      "metadata": {
        "id": "FyCjd7LEu94S",
        "colab_type": "text"
      },
      "source": [
        "# Treinando o modelo na Random Forest: "
      ]
    },
    {
      "cell_type": "code",
      "metadata": {
        "id": "i18U3agsu1bd",
        "colab_type": "code",
        "outputId": "9b2717ca-17c0-4c76-c570-9fa4428390ea",
        "colab": {
          "base_uri": "https://localhost:8080/",
          "height": 164
        }
      },
      "source": [
        "rf = RandomForestClassifier(n_estimators=100, random_state=42)\n",
        "\n",
        "rf.fit(xrf_train, yrf_train)"
      ],
      "execution_count": 0,
      "outputs": [
        {
          "output_type": "execute_result",
          "data": {
            "text/plain": [
              "RandomForestClassifier(bootstrap=True, ccp_alpha=0.0, class_weight=None,\n",
              "                       criterion='gini', max_depth=None, max_features='auto',\n",
              "                       max_leaf_nodes=None, max_samples=None,\n",
              "                       min_impurity_decrease=0.0, min_impurity_split=None,\n",
              "                       min_samples_leaf=1, min_samples_split=2,\n",
              "                       min_weight_fraction_leaf=0.0, n_estimators=100,\n",
              "                       n_jobs=None, oob_score=False, random_state=42, verbose=0,\n",
              "                       warm_start=False)"
            ]
          },
          "metadata": {
            "tags": []
          },
          "execution_count": 249
        }
      ]
    },
    {
      "cell_type": "markdown",
      "metadata": {
        "id": "1GP4DUn1vs5K",
        "colab_type": "text"
      },
      "source": [
        "# Verificando a Matriz de Confusão com a Random Forest: "
      ]
    },
    {
      "cell_type": "code",
      "metadata": {
        "id": "JaDO-6Tlv1CY",
        "colab_type": "code",
        "outputId": "97be9f11-bf72-4ff8-e4a7-3f41f84de4ab",
        "colab": {
          "base_uri": "https://localhost:8080/",
          "height": 513
        }
      },
      "source": [
        "f, ax = plt.subplots (1,1,figsize = (15,8))\n",
        "\n",
        "plot_confusion_matrix (rf, xrf_test,yrf_test, ax = ax,cmap = plt.cm.Blues,values_format='.4g')\n",
        "\n",
        "ax.set_title ('Matriz de Confusão')\n",
        "\n",
        "plt.show()"
      ],
      "execution_count": 0,
      "outputs": [
        {
          "output_type": "display_data",
          "data": {
            "image/png": "[encoded data removed]",
            "text/plain": [
              "<Figure size 1080x576 with 2 Axes>"
            ]
          },
          "metadata": {
            "tags": [],
            "needs_background": "light"
          }
        }
      ]
    },
    {
      "cell_type": "markdown",
      "metadata": {
        "id": "hlZLO5rlFa-v",
        "colab_type": "text"
      },
      "source": [
        "Por meio da matriz de confusão é possível perceber que:\n",
        "\n",
        "* O modelo predisse corretamente que 97 mulheres têm diabetes, mas errou ao predizer que 26 tinham diabtes, sendo que elas não tinham.\n",
        "\n",
        "* O modelo predisse corretamente que 48 mulheres tinham diabetes, mas errou ao predizer que 21 não tinham diabetes, sendo que elas tinham.\n",
        "\n"
      ]
    },
    {
      "cell_type": "markdown",
      "metadata": {
        "id": "KKWpLHjbvTzv",
        "colab_type": "text"
      },
      "source": [
        "# Verificando os resultados do report do modelo:"
      ]
    },
    {
      "cell_type": "code",
      "metadata": {
        "id": "O8LWj0GNvHQJ",
        "colab_type": "code",
        "outputId": "756ddc3a-f169-4f32-ec48-1da67a9bc9c9",
        "colab": {
          "base_uri": "https://localhost:8080/",
          "height": 182
        }
      },
      "source": [
        "print(classification_report(yrf_test, rf.predict(xrf_test)))"
      ],
      "execution_count": 0,
      "outputs": [
        {
          "output_type": "stream",
          "text": [
            "              precision    recall  f1-score   support\n",
            "\n",
            "           0       0.82      0.79      0.80       123\n",
            "           1       0.65      0.70      0.67        69\n",
            "\n",
            "    accuracy                           0.76       192\n",
            "   macro avg       0.74      0.74      0.74       192\n",
            "weighted avg       0.76      0.76      0.76       192\n",
            "\n"
          ],
          "name": "stdout"
        }
      ]
    },
    {
      "cell_type": "markdown",
      "metadata": {
        "id": "mPKR4a1_GXFc",
        "colab_type": "text"
      },
      "source": [
        "# Verificando o report:\n",
        "\n",
        "# Quanto que o modelo acertou no total? \n",
        "\n",
        "* A métrica que diz quanto que o modelo acertou no total é a acurácia, pelo report a acurácia do modelo foi de 76%.\n",
        "\n",
        "# Como verificar a precisão do modelo?\n",
        "\n",
        "* Outra métrica interessante é a precisão do modelo:\n",
        "\n",
        "    * Acerto de mulheres que não têm diabetes: 82%\n",
        "    * Acerto de mulheres que têm diabetes: 65%\n",
        "  \n",
        "    * Pode-se perceber que a precisão de mulheres que têm diabetes foi maior no modelo de Random Forest que no modelo de Decision Tree.\n",
        "\n",
        "# Verificando o modelo versus realidade, também conhecido como recall ou sesibilidade do modelo:\n",
        "\n",
        "* De todas as mulheres que não têm diabetes, quantas eu previ corretamente? 79%\n",
        "* De todas as mulheres que têm diabetes, quantas eu previ corretamente? 70%\n",
        "\n",
        "# Verificando o F1-Score:\n",
        "\n",
        "* Trata-se da média entre precisão e sensibilidade, quanto mais perto de 1, melhor o resultado:\n",
        "\n",
        "    * F1-Score de mulheres que não têm diabetes: 80%\n",
        "    * F1-Score de mulheres que têm diabetes: 67%\n"
      ]
    },
    {
      "cell_type": "markdown",
      "metadata": {
        "id": "-b3gwENGDltM",
        "colab_type": "text"
      },
      "source": [
        "# **Conclusões:**\n",
        "\n",
        "* O dataset está dividido entre 500 mulheres que têm diabetes e 268 que não têm.\n",
        "* Ao verificar se mulheres que tiveram mais gestações são as que mais tiveram diabetes, percebeu-se que apenas 230 mulheres que tiveram gestações apresentaram diabetes.\n",
        "* Ao verificar o número de mulheres que tiveram gestações e não apresentam diabetes, obteve-se o número de 427. \n",
        "* Dentre as mulheres que não estiveram gestantes e apresentaram diabetes, tem-se 38.\n",
        "* Verificando a quantidade de mulheres que não estiveram gestantes e não apresentaram diabetes, obteve-se a quantidade de 73 mulheres.\n",
        "* Ao supor que mulheres que estiveram gestantes e têm mais de 30 anos, obteve-se apenas o número de 167 mulheres, enquanto o número de mulheres que estiveram gestantes e também têm 30 anos mas não apresentam diabetes é de 161.\n",
        "* Ao verificar a pressão arterial de mulheres que têm diabetes e de mulheres que não a têm, pôde-se perceber que, em média, mulheres que têm diabetes tendem a ter a pressão arterial mais alta do que mulheres que não a têm. \n",
        "* Verificando o índice de massa corporal de mulheres que têm diabetes e de mulheres que não a têm, percebeu-se que mulheres que têm a doença têm, em média, um índice de massa corporal maior que as mulheres que não têm diabetes.\n",
        "* Verificando a correlação entre percebeu-se que: Pregnancies, Blood Pressure, Skin Thickness, Insulin, BMI, Diabetes Pedigree Function, Age e Pregnant têm uma correlação considerada baixa mas positiva com a variável resposta (Outcome) e a variável que apresentou a correlação mais forte foi a Glucose.\n",
        "* Tendo em vista toda essa exploração dos dados, decidiu-se por modelar o dataset com a Decision Tree, que é um modelo de classificado, pois, vale mencionar, o objetivo desta análise é classificar uma pessoa em: 0 – não apresenta diabetes, 1 – apresenta diabetes. \n",
        "* Ao rodar o modelo, ele apresentou uma acurácia de 72%;\n",
        "\t*  Uma precisão de 81% em mulheres que não têm diabetes e de 59% em mulheres que têm diabetes. \n",
        "\t*  Um recall de 73% nas mulheres que não têm diabetes e de 70% nas mulheres que têm.\n",
        "* Tendo em vista que a acurácia da Decision Tree foi de 72%, decidiu-se por aplicar o modelo de Random Forest para verificar se obteria métricas melhores.\n",
        "* Ao rodar o modelo de Random Forest, a acurácia obtida foi maior, de 76%, além disso as outras métricas também tiveram resultados superiores. \n"
      ]
    }
  ]
}